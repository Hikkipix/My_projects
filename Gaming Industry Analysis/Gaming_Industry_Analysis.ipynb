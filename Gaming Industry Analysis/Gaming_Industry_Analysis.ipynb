{
  "nbformat": 4,
  "nbformat_minor": 0,
  "metadata": {
    "ExecuteTimeLog": [
      {
        "duration": 1697,
        "start_time": "2021-06-09T08:08:54.241Z"
      },
      {
        "duration": 201,
        "start_time": "2021-06-09T08:08:55.941Z"
      },
      {
        "duration": 25,
        "start_time": "2021-06-09T08:08:56.145Z"
      },
      {
        "duration": 17,
        "start_time": "2021-06-09T08:08:56.173Z"
      },
      {
        "duration": 40,
        "start_time": "2021-06-09T08:08:56.192Z"
      },
      {
        "duration": 33,
        "start_time": "2021-06-09T08:08:56.234Z"
      },
      {
        "duration": 4,
        "start_time": "2021-06-09T08:08:56.269Z"
      },
      {
        "duration": 8,
        "start_time": "2021-06-09T08:08:56.277Z"
      },
      {
        "duration": 41,
        "start_time": "2021-06-09T08:08:56.288Z"
      },
      {
        "duration": 8,
        "start_time": "2021-06-09T08:08:56.332Z"
      },
      {
        "duration": 8,
        "start_time": "2021-06-09T08:08:56.342Z"
      },
      {
        "duration": 8,
        "start_time": "2021-06-09T08:08:56.353Z"
      },
      {
        "duration": 58,
        "start_time": "2021-06-09T08:08:56.364Z"
      },
      {
        "duration": 7,
        "start_time": "2021-06-09T08:08:56.425Z"
      },
      {
        "duration": 8,
        "start_time": "2021-06-09T08:08:56.435Z"
      },
      {
        "duration": 815,
        "start_time": "2021-06-09T08:08:56.446Z"
      },
      {
        "duration": 637,
        "start_time": "2021-06-09T08:08:57.264Z"
      },
      {
        "duration": 2348,
        "start_time": "2021-06-09T08:08:57.904Z"
      },
      {
        "duration": 15,
        "start_time": "2021-06-09T08:09:00.255Z"
      },
      {
        "duration": 499,
        "start_time": "2021-06-09T08:09:00.272Z"
      },
      {
        "duration": 721,
        "start_time": "2021-06-09T08:09:00.774Z"
      },
      {
        "duration": 13,
        "start_time": "2021-06-09T08:09:01.497Z"
      },
      {
        "duration": 606,
        "start_time": "2021-06-09T08:09:01.527Z"
      },
      {
        "duration": 607,
        "start_time": "2021-06-09T08:09:02.136Z"
      },
      {
        "duration": 751,
        "start_time": "2021-06-09T08:09:02.746Z"
      },
      {
        "duration": 773,
        "start_time": "2021-06-09T08:09:03.499Z"
      },
      {
        "duration": 9,
        "start_time": "2021-06-09T08:09:04.275Z"
      },
      {
        "duration": 466,
        "start_time": "2021-06-09T08:09:04.287Z"
      },
      {
        "duration": 450,
        "start_time": "2021-06-09T08:09:04.756Z"
      },
      {
        "duration": 866,
        "start_time": "2021-06-09T08:09:05.208Z"
      },
      {
        "duration": 5,
        "start_time": "2021-06-09T08:09:06.077Z"
      },
      {
        "duration": 340,
        "start_time": "2021-06-09T08:09:06.084Z"
      },
      {
        "duration": 5121,
        "start_time": "2021-06-09T08:09:06.426Z"
      },
      {
        "duration": 690,
        "start_time": "2021-06-09T08:09:11.549Z"
      },
      {
        "duration": 6,
        "start_time": "2021-06-09T08:09:12.242Z"
      },
      {
        "duration": 978,
        "start_time": "2021-06-09T08:09:12.251Z"
      },
      {
        "duration": 1049,
        "start_time": "2021-06-09T08:09:13.231Z"
      },
      {
        "duration": 4,
        "start_time": "2021-06-09T08:09:14.282Z"
      },
      {
        "duration": 15,
        "start_time": "2021-06-09T08:09:14.288Z"
      },
      {
        "duration": 1022,
        "start_time": "2021-06-09T08:09:14.305Z"
      },
      {
        "duration": 22,
        "start_time": "2021-06-09T08:09:15.329Z"
      },
      {
        "duration": 25,
        "start_time": "2021-06-09T08:09:15.354Z"
      },
      {
        "duration": 6,
        "start_time": "2021-06-09T08:09:15.381Z"
      },
      {
        "duration": 44,
        "start_time": "2021-06-09T08:09:15.390Z"
      },
      {
        "duration": 9,
        "start_time": "2021-06-09T08:34:41.292Z"
      },
      {
        "duration": 595,
        "start_time": "2021-06-09T08:34:44.021Z"
      },
      {
        "duration": 607,
        "start_time": "2021-06-09T08:34:48.528Z"
      },
      {
        "duration": 799,
        "start_time": "2021-06-09T08:34:54.179Z"
      },
      {
        "duration": 820,
        "start_time": "2021-06-09T08:34:57.260Z"
      },
      {
        "duration": 4,
        "start_time": "2021-06-09T08:35:34.530Z"
      },
      {
        "duration": 202,
        "start_time": "2021-06-09T08:35:34.540Z"
      },
      {
        "duration": 23,
        "start_time": "2021-06-09T08:35:34.745Z"
      },
      {
        "duration": 21,
        "start_time": "2021-06-09T08:35:34.771Z"
      },
      {
        "duration": 61,
        "start_time": "2021-06-09T08:35:34.795Z"
      },
      {
        "duration": 34,
        "start_time": "2021-06-09T08:35:34.858Z"
      },
      {
        "duration": 29,
        "start_time": "2021-06-09T08:35:34.895Z"
      },
      {
        "duration": 8,
        "start_time": "2021-06-09T08:35:34.927Z"
      },
      {
        "duration": 37,
        "start_time": "2021-06-09T08:35:34.939Z"
      },
      {
        "duration": 8,
        "start_time": "2021-06-09T08:35:34.979Z"
      },
      {
        "duration": 7,
        "start_time": "2021-06-09T08:35:35.024Z"
      },
      {
        "duration": 8,
        "start_time": "2021-06-09T08:35:35.033Z"
      },
      {
        "duration": 34,
        "start_time": "2021-06-09T08:35:35.043Z"
      },
      {
        "duration": 6,
        "start_time": "2021-06-09T08:35:35.079Z"
      },
      {
        "duration": 39,
        "start_time": "2021-06-09T08:35:35.087Z"
      },
      {
        "duration": 781,
        "start_time": "2021-06-09T08:35:35.129Z"
      },
      {
        "duration": 755,
        "start_time": "2021-06-09T08:35:35.913Z"
      },
      {
        "duration": 1225,
        "start_time": "2021-06-09T08:35:36.670Z"
      },
      {
        "duration": 27,
        "start_time": "2021-06-09T08:35:37.898Z"
      },
      {
        "duration": 621,
        "start_time": "2021-06-09T08:35:37.928Z"
      },
      {
        "duration": 573,
        "start_time": "2021-06-09T08:35:38.551Z"
      },
      {
        "duration": 20,
        "start_time": "2021-06-09T08:35:39.127Z"
      },
      {
        "duration": 1186,
        "start_time": "2021-06-09T08:35:39.150Z"
      },
      {
        "duration": 607,
        "start_time": "2021-06-09T08:35:40.340Z"
      },
      {
        "duration": 782,
        "start_time": "2021-06-09T08:35:40.950Z"
      },
      {
        "duration": 805,
        "start_time": "2021-06-09T08:35:41.735Z"
      },
      {
        "duration": 8,
        "start_time": "2021-06-09T08:35:42.542Z"
      },
      {
        "duration": 818,
        "start_time": "2021-06-09T08:35:42.553Z"
      },
      {
        "duration": 630,
        "start_time": "2021-06-09T08:35:43.374Z"
      },
      {
        "duration": 944,
        "start_time": "2021-06-09T08:35:44.006Z"
      },
      {
        "duration": 6,
        "start_time": "2021-06-09T08:35:44.952Z"
      },
      {
        "duration": 392,
        "start_time": "2021-06-09T08:35:44.960Z"
      },
      {
        "duration": 7292,
        "start_time": "2021-06-09T08:35:45.355Z"
      },
      {
        "duration": 580,
        "start_time": "2021-06-09T08:35:52.649Z"
      },
      {
        "duration": 7,
        "start_time": "2021-06-09T08:35:53.231Z"
      },
      {
        "duration": 978,
        "start_time": "2021-06-09T08:35:53.240Z"
      },
      {
        "duration": 1145,
        "start_time": "2021-06-09T08:35:54.224Z"
      },
      {
        "duration": 3,
        "start_time": "2021-06-09T08:35:55.371Z"
      },
      {
        "duration": 16,
        "start_time": "2021-06-09T08:35:55.377Z"
      },
      {
        "duration": 1032,
        "start_time": "2021-06-09T08:35:55.395Z"
      },
      {
        "duration": 24,
        "start_time": "2021-06-09T08:35:56.430Z"
      },
      {
        "duration": 29,
        "start_time": "2021-06-09T08:35:56.457Z"
      },
      {
        "duration": 10,
        "start_time": "2021-06-09T08:35:56.489Z"
      },
      {
        "duration": 38,
        "start_time": "2021-06-09T08:35:56.502Z"
      },
      {
        "duration": 1433,
        "start_time": "2021-06-10T10:18:38.127Z"
      },
      {
        "duration": 248,
        "start_time": "2021-06-10T10:18:39.563Z"
      },
      {
        "duration": 26,
        "start_time": "2021-06-10T10:18:39.813Z"
      },
      {
        "duration": 16,
        "start_time": "2021-06-10T10:18:39.842Z"
      },
      {
        "duration": 69,
        "start_time": "2021-06-10T10:18:39.860Z"
      },
      {
        "duration": 33,
        "start_time": "2021-06-10T10:18:39.931Z"
      },
      {
        "duration": 4,
        "start_time": "2021-06-10T10:18:39.967Z"
      },
      {
        "duration": 7,
        "start_time": "2021-06-10T10:18:40.002Z"
      },
      {
        "duration": 39,
        "start_time": "2021-06-10T10:18:40.012Z"
      },
      {
        "duration": 8,
        "start_time": "2021-06-10T10:18:40.054Z"
      },
      {
        "duration": 38,
        "start_time": "2021-06-10T10:18:40.065Z"
      },
      {
        "duration": 16,
        "start_time": "2021-06-10T10:18:40.106Z"
      },
      {
        "duration": 55,
        "start_time": "2021-06-10T10:18:40.125Z"
      },
      {
        "duration": 9,
        "start_time": "2021-06-10T10:18:40.182Z"
      },
      {
        "duration": 10,
        "start_time": "2021-06-10T10:18:40.194Z"
      },
      {
        "duration": 647,
        "start_time": "2021-06-10T10:18:40.206Z"
      },
      {
        "duration": 716,
        "start_time": "2021-06-10T10:18:40.856Z"
      },
      {
        "duration": 1957,
        "start_time": "2021-06-10T10:18:41.576Z"
      },
      {
        "duration": 14,
        "start_time": "2021-06-10T10:18:43.536Z"
      },
      {
        "duration": 737,
        "start_time": "2021-06-10T10:18:43.552Z"
      },
      {
        "duration": 496,
        "start_time": "2021-06-10T10:18:44.292Z"
      },
      {
        "duration": 24,
        "start_time": "2021-06-10T10:18:44.791Z"
      },
      {
        "duration": 621,
        "start_time": "2021-06-10T10:18:44.823Z"
      },
      {
        "duration": 600,
        "start_time": "2021-06-10T10:18:45.447Z"
      },
      {
        "duration": 731,
        "start_time": "2021-06-10T10:18:46.050Z"
      },
      {
        "duration": 1014,
        "start_time": "2021-06-10T10:18:46.783Z"
      },
      {
        "duration": 10,
        "start_time": "2021-06-10T10:18:47.799Z"
      },
      {
        "duration": 603,
        "start_time": "2021-06-10T10:18:47.812Z"
      },
      {
        "duration": 587,
        "start_time": "2021-06-10T10:18:48.417Z"
      },
      {
        "duration": 1004,
        "start_time": "2021-06-10T10:18:49.006Z"
      },
      {
        "duration": 6,
        "start_time": "2021-06-10T10:18:50.013Z"
      },
      {
        "duration": 332,
        "start_time": "2021-06-10T10:18:50.021Z"
      },
      {
        "duration": 3201,
        "start_time": "2021-06-10T10:18:50.355Z"
      },
      {
        "duration": 592,
        "start_time": "2021-06-10T10:18:53.558Z"
      },
      {
        "duration": 6,
        "start_time": "2021-06-10T10:18:54.154Z"
      },
      {
        "duration": 957,
        "start_time": "2021-06-10T10:18:54.162Z"
      },
      {
        "duration": 1156,
        "start_time": "2021-06-10T10:18:55.122Z"
      },
      {
        "duration": 5,
        "start_time": "2021-06-10T10:18:56.281Z"
      },
      {
        "duration": 11,
        "start_time": "2021-06-10T10:18:56.302Z"
      },
      {
        "duration": 934,
        "start_time": "2021-06-10T10:18:56.316Z"
      },
      {
        "duration": 21,
        "start_time": "2021-06-10T10:18:57.253Z"
      },
      {
        "duration": 43,
        "start_time": "2021-06-10T10:18:57.276Z"
      },
      {
        "duration": 12,
        "start_time": "2021-06-10T10:18:57.321Z"
      },
      {
        "duration": 21,
        "start_time": "2021-06-10T10:18:57.335Z"
      },
      {
        "duration": 11,
        "start_time": "2021-06-10T10:18:57.359Z"
      },
      {
        "duration": 1159,
        "start_time": "2021-06-11T10:16:30.891Z"
      },
      {
        "duration": 126,
        "start_time": "2021-06-11T10:16:32.052Z"
      },
      {
        "duration": 17,
        "start_time": "2021-06-11T10:16:32.180Z"
      },
      {
        "duration": 11,
        "start_time": "2021-06-11T10:16:32.199Z"
      },
      {
        "duration": 25,
        "start_time": "2021-06-11T10:16:32.212Z"
      },
      {
        "duration": 21,
        "start_time": "2021-06-11T10:16:32.238Z"
      },
      {
        "duration": 3,
        "start_time": "2021-06-11T10:16:32.285Z"
      },
      {
        "duration": 14,
        "start_time": "2021-06-11T10:16:32.290Z"
      },
      {
        "duration": 11,
        "start_time": "2021-06-11T10:16:32.306Z"
      },
      {
        "duration": 6,
        "start_time": "2021-06-11T10:16:32.318Z"
      },
      {
        "duration": 7,
        "start_time": "2021-06-11T10:16:32.326Z"
      },
      {
        "duration": 17,
        "start_time": "2021-06-11T10:16:32.335Z"
      },
      {
        "duration": 9,
        "start_time": "2021-06-11T10:16:32.353Z"
      },
      {
        "duration": 40,
        "start_time": "2021-06-11T10:16:32.363Z"
      },
      {
        "duration": 5,
        "start_time": "2021-06-11T10:16:32.405Z"
      },
      {
        "duration": 639,
        "start_time": "2021-06-11T10:16:32.412Z"
      },
      {
        "duration": 782,
        "start_time": "2021-06-11T10:16:33.052Z"
      },
      {
        "duration": 371,
        "start_time": "2021-06-11T10:22:42.407Z"
      },
      {
        "duration": 3,
        "start_time": "2021-06-11T10:24:10.280Z"
      },
      {
        "duration": 119,
        "start_time": "2021-06-11T10:24:10.286Z"
      },
      {
        "duration": 15,
        "start_time": "2021-06-11T10:24:10.407Z"
      },
      {
        "duration": 18,
        "start_time": "2021-06-11T10:24:10.424Z"
      },
      {
        "duration": 47,
        "start_time": "2021-06-11T10:24:10.444Z"
      },
      {
        "duration": 24,
        "start_time": "2021-06-11T10:24:10.493Z"
      },
      {
        "duration": 3,
        "start_time": "2021-06-11T10:24:10.519Z"
      },
      {
        "duration": 7,
        "start_time": "2021-06-11T10:24:10.524Z"
      },
      {
        "duration": 7,
        "start_time": "2021-06-11T10:24:10.534Z"
      },
      {
        "duration": 47,
        "start_time": "2021-06-11T10:24:10.543Z"
      },
      {
        "duration": 7,
        "start_time": "2021-06-11T10:24:10.591Z"
      },
      {
        "duration": 5,
        "start_time": "2021-06-11T10:24:10.599Z"
      },
      {
        "duration": 5,
        "start_time": "2021-06-11T10:24:10.606Z"
      },
      {
        "duration": 27,
        "start_time": "2021-06-11T10:24:10.613Z"
      },
      {
        "duration": 5,
        "start_time": "2021-06-11T10:24:10.642Z"
      },
      {
        "duration": 726,
        "start_time": "2021-06-11T10:24:10.649Z"
      },
      {
        "duration": 832,
        "start_time": "2021-06-11T10:24:11.385Z"
      },
      {
        "duration": 617,
        "start_time": "2021-06-11T10:24:12.219Z"
      },
      {
        "duration": 1394,
        "start_time": "2021-06-11T10:24:12.838Z"
      },
      {
        "duration": 11,
        "start_time": "2021-06-11T10:24:14.234Z"
      },
      {
        "duration": 448,
        "start_time": "2021-06-11T10:24:14.246Z"
      },
      {
        "duration": 493,
        "start_time": "2021-06-11T10:24:14.695Z"
      },
      {
        "duration": 292,
        "start_time": "2021-06-11T10:24:15.190Z"
      },
      {
        "duration": 299,
        "start_time": "2021-06-11T10:24:15.486Z"
      },
      {
        "duration": 400,
        "start_time": "2021-06-11T10:24:15.787Z"
      },
      {
        "duration": 398,
        "start_time": "2021-06-11T10:24:16.189Z"
      },
      {
        "duration": 6,
        "start_time": "2021-06-11T10:24:16.589Z"
      },
      {
        "duration": 375,
        "start_time": "2021-06-11T10:24:16.597Z"
      },
      {
        "duration": 396,
        "start_time": "2021-06-11T10:24:16.974Z"
      },
      {
        "duration": 699,
        "start_time": "2021-06-11T10:24:17.372Z"
      },
      {
        "duration": 12,
        "start_time": "2021-06-11T10:24:18.073Z"
      },
      {
        "duration": 259,
        "start_time": "2021-06-11T10:24:18.086Z"
      },
      {
        "duration": 2258,
        "start_time": "2021-06-11T10:24:18.346Z"
      },
      {
        "duration": 323,
        "start_time": "2021-06-11T10:24:20.606Z"
      },
      {
        "duration": 667,
        "start_time": "2021-06-11T10:24:20.930Z"
      },
      {
        "duration": 686,
        "start_time": "2021-06-11T10:24:21.599Z"
      },
      {
        "duration": 3,
        "start_time": "2021-06-11T10:24:22.286Z"
      },
      {
        "duration": 9,
        "start_time": "2021-06-11T10:24:22.291Z"
      },
      {
        "duration": 655,
        "start_time": "2021-06-11T10:24:22.302Z"
      },
      {
        "duration": 10,
        "start_time": "2021-06-11T10:24:22.958Z"
      },
      {
        "duration": 18,
        "start_time": "2021-06-11T10:24:22.970Z"
      },
      {
        "duration": 9,
        "start_time": "2021-06-11T10:24:22.990Z"
      },
      {
        "duration": 5,
        "start_time": "2021-06-11T10:24:23.000Z"
      },
      {
        "duration": 9,
        "start_time": "2021-06-11T10:28:28.162Z"
      },
      {
        "duration": 16,
        "start_time": "2021-06-11T10:28:38.480Z"
      },
      {
        "duration": 136,
        "start_time": "2021-06-11T10:28:59.635Z"
      },
      {
        "duration": 275,
        "start_time": "2021-06-11T10:29:22.338Z"
      },
      {
        "duration": 10,
        "start_time": "2021-06-11T10:29:31.808Z"
      },
      {
        "duration": 346,
        "start_time": "2021-06-11T10:30:02.715Z"
      },
      {
        "duration": 6,
        "start_time": "2021-06-11T10:30:05.102Z"
      },
      {
        "duration": 8,
        "start_time": "2021-06-11T10:30:10.040Z"
      },
      {
        "duration": 9,
        "start_time": "2021-06-11T10:30:20.389Z"
      },
      {
        "duration": 34,
        "start_time": "2021-06-11T10:30:50.773Z"
      },
      {
        "duration": 274,
        "start_time": "2021-06-11T10:31:10.791Z"
      },
      {
        "duration": 417,
        "start_time": "2021-06-11T10:31:20.370Z"
      },
      {
        "duration": 328,
        "start_time": "2021-06-11T10:31:24.597Z"
      },
      {
        "duration": 371,
        "start_time": "2021-06-11T10:31:35.505Z"
      },
      {
        "duration": 350,
        "start_time": "2021-06-11T10:32:03.614Z"
      },
      {
        "duration": 3284,
        "start_time": "2021-06-11T10:39:17.589Z"
      },
      {
        "duration": 3281,
        "start_time": "2021-06-11T10:39:30.058Z"
      },
      {
        "duration": 3214,
        "start_time": "2021-06-11T10:40:54.615Z"
      },
      {
        "duration": 3194,
        "start_time": "2021-06-11T10:41:06.692Z"
      },
      {
        "duration": 3174,
        "start_time": "2021-06-11T10:41:16.584Z"
      },
      {
        "duration": 3115,
        "start_time": "2021-06-11T10:41:26.759Z"
      },
      {
        "duration": 3233,
        "start_time": "2021-06-11T10:42:28.317Z"
      },
      {
        "duration": 3318,
        "start_time": "2021-06-11T10:43:35.411Z"
      },
      {
        "duration": 3083,
        "start_time": "2021-06-11T10:43:44.082Z"
      },
      {
        "duration": 3065,
        "start_time": "2021-06-11T10:44:09.573Z"
      },
      {
        "duration": 3335,
        "start_time": "2021-06-11T10:44:18.740Z"
      },
      {
        "duration": 3283,
        "start_time": "2021-06-11T10:44:54.460Z"
      },
      {
        "duration": 61,
        "start_time": "2021-06-11T10:46:43.320Z"
      },
      {
        "duration": 3113,
        "start_time": "2021-06-11T10:46:47.342Z"
      },
      {
        "duration": 3449,
        "start_time": "2021-06-11T10:46:57.211Z"
      },
      {
        "duration": 3141,
        "start_time": "2021-06-11T10:47:10.979Z"
      },
      {
        "duration": 3036,
        "start_time": "2021-06-11T10:49:22.322Z"
      },
      {
        "duration": 1738,
        "start_time": "2021-06-11T10:49:46.835Z"
      },
      {
        "duration": 3326,
        "start_time": "2021-06-11T10:49:55.154Z"
      },
      {
        "duration": 3178,
        "start_time": "2021-06-11T10:50:07.349Z"
      },
      {
        "duration": 1801,
        "start_time": "2021-06-11T19:51:48.323Z"
      },
      {
        "duration": 128,
        "start_time": "2021-06-11T19:51:50.127Z"
      },
      {
        "duration": 29,
        "start_time": "2021-06-11T19:51:50.258Z"
      },
      {
        "duration": 25,
        "start_time": "2021-06-11T19:51:50.290Z"
      },
      {
        "duration": 39,
        "start_time": "2021-06-11T19:51:50.318Z"
      },
      {
        "duration": 71,
        "start_time": "2021-06-11T19:51:50.360Z"
      },
      {
        "duration": 5,
        "start_time": "2021-06-11T19:51:50.434Z"
      },
      {
        "duration": 11,
        "start_time": "2021-06-11T19:51:50.444Z"
      },
      {
        "duration": 13,
        "start_time": "2021-06-11T19:51:50.459Z"
      },
      {
        "duration": 11,
        "start_time": "2021-06-11T19:51:50.510Z"
      },
      {
        "duration": 8,
        "start_time": "2021-06-11T19:51:50.524Z"
      },
      {
        "duration": 8,
        "start_time": "2021-06-11T19:51:50.534Z"
      },
      {
        "duration": 7,
        "start_time": "2021-06-11T19:51:50.545Z"
      },
      {
        "duration": 76,
        "start_time": "2021-06-11T19:51:50.555Z"
      },
      {
        "duration": 7,
        "start_time": "2021-06-11T19:51:50.633Z"
      },
      {
        "duration": 971,
        "start_time": "2021-06-11T19:51:50.642Z"
      },
      {
        "duration": 1021,
        "start_time": "2021-06-11T19:51:51.615Z"
      },
      {
        "duration": 599,
        "start_time": "2021-06-11T19:51:52.639Z"
      },
      {
        "duration": 1932,
        "start_time": "2021-06-11T19:51:53.241Z"
      },
      {
        "duration": 39,
        "start_time": "2021-06-11T19:51:55.176Z"
      },
      {
        "duration": 821,
        "start_time": "2021-06-11T19:51:55.218Z"
      },
      {
        "duration": 512,
        "start_time": "2021-06-11T19:51:56.041Z"
      },
      {
        "duration": 672,
        "start_time": "2021-06-11T19:51:56.557Z"
      },
      {
        "duration": 650,
        "start_time": "2021-06-11T19:51:57.233Z"
      },
      {
        "duration": 695,
        "start_time": "2021-06-11T19:51:57.886Z"
      },
      {
        "duration": 632,
        "start_time": "2021-06-11T19:51:58.583Z"
      },
      {
        "duration": 522,
        "start_time": "2021-06-11T19:51:59.217Z"
      },
      {
        "duration": 9,
        "start_time": "2021-06-11T19:51:59.741Z"
      },
      {
        "duration": 521,
        "start_time": "2021-06-11T19:51:59.752Z"
      },
      {
        "duration": 511,
        "start_time": "2021-06-11T19:52:00.276Z"
      },
      {
        "duration": 932,
        "start_time": "2021-06-11T19:52:00.789Z"
      },
      {
        "duration": 5,
        "start_time": "2021-06-11T19:52:01.724Z"
      },
      {
        "duration": 398,
        "start_time": "2021-06-11T19:52:01.731Z"
      },
      {
        "duration": 4249,
        "start_time": "2021-06-11T19:52:02.131Z"
      },
      {
        "duration": 405,
        "start_time": "2021-06-11T19:52:06.382Z"
      },
      {
        "duration": 245,
        "start_time": "2021-06-11T19:52:06.789Z"
      },
      {
        "duration": 1236,
        "start_time": "2021-06-11T19:52:07.038Z"
      },
      {
        "duration": 1065,
        "start_time": "2021-06-11T19:52:08.277Z"
      },
      {
        "duration": 5,
        "start_time": "2021-06-11T19:52:09.345Z"
      },
      {
        "duration": 15,
        "start_time": "2021-06-11T19:52:09.353Z"
      },
      {
        "duration": 1063,
        "start_time": "2021-06-11T19:52:09.371Z"
      },
      {
        "duration": 13,
        "start_time": "2021-06-11T19:52:10.436Z"
      },
      {
        "duration": 8,
        "start_time": "2021-06-11T19:52:10.451Z"
      },
      {
        "duration": 17,
        "start_time": "2021-06-11T19:52:10.461Z"
      },
      {
        "duration": 32,
        "start_time": "2021-06-11T19:52:10.481Z"
      }
    ],
    "colab": {
      "name": "Gaming Industry Analysis.ipynb",
      "provenance": [],
      "collapsed_sections": []
    },
    "kernelspec": {
      "display_name": "Python 3",
      "language": "python",
      "name": "python3"
    },
    "language_info": {
      "codemirror_mode": {
        "name": "ipython",
        "version": 3
      },
      "file_extension": ".py",
      "mimetype": "text/x-python",
      "name": "python",
      "nbconvert_exporter": "python",
      "pygments_lexer": "ipython3",
      "version": "3.7.8"
    },
    "toc": {
      "base_numbering": 1,
      "nav_menu": {},
      "number_sections": true,
      "sideBar": true,
      "skip_h1_title": true,
      "title_cell": "Table of Contents",
      "title_sidebar": "Contents",
      "toc_cell": false,
      "toc_position": {
        "height": "calc(100% - 180px)",
        "left": "10px",
        "top": "150px",
        "width": "259px"
      },
      "toc_section_display": true,
      "toc_window_display": true
    }
  },
  "cells": [
    {
      "cell_type": "markdown",
      "metadata": {
        "id": "nDiFzKF1phOA"
      },
      "source": [
        "<b>Импортируем библиотеки:</b>"
      ]
    },
    {
      "cell_type": "code",
      "metadata": {
        "id": "obd9dywCphOB"
      },
      "source": [
        "import pandas as pd\n",
        "import numpy as np\n",
        "import matplotlib.pyplot as plt\n",
        "from scipy.stats import ttest_ind\n",
        "import seaborn as sns"
      ],
      "execution_count": 1,
      "outputs": []
    },
    {
      "cell_type": "markdown",
      "metadata": {
        "id": "N1BxEGdmphOC"
      },
      "source": [
        "<br/><a name=\"1.\"></a>\n",
        "## Шаг 1. Ознакомление с данными\n",
        "<font size=\"2\">([к содержанию](#0.0))</font>"
      ]
    },
    {
      "cell_type": "markdown",
      "metadata": {
        "id": "BFyHpckXphOD"
      },
      "source": [
        "Загружаем данные:"
      ]
    },
    {
      "cell_type": "code",
      "metadata": {
        "id": "lKcpSmy4phOD"
      },
      "source": [
        "games = pd.read_csv('games.csv')"
      ],
      "execution_count": 2,
      "outputs": []
    },
    {
      "cell_type": "code",
      "metadata": {
        "colab": {
          "base_uri": "https://localhost:8080/",
          "height": 359
        },
        "id": "bcQT1XtjphOD",
        "outputId": "8711ca12-5d7c-4e25-b308-516640b30e73"
      },
      "source": [
        "games.head(10)"
      ],
      "execution_count": 3,
      "outputs": [
        {
          "output_type": "execute_result",
          "data": {
            "text/html": [
              "<div>\n",
              "<style scoped>\n",
              "    .dataframe tbody tr th:only-of-type {\n",
              "        vertical-align: middle;\n",
              "    }\n",
              "\n",
              "    .dataframe tbody tr th {\n",
              "        vertical-align: top;\n",
              "    }\n",
              "\n",
              "    .dataframe thead th {\n",
              "        text-align: right;\n",
              "    }\n",
              "</style>\n",
              "<table border=\"1\" class=\"dataframe\">\n",
              "  <thead>\n",
              "    <tr style=\"text-align: right;\">\n",
              "      <th></th>\n",
              "      <th>Name</th>\n",
              "      <th>Platform</th>\n",
              "      <th>Year_of_Release</th>\n",
              "      <th>Genre</th>\n",
              "      <th>NA_sales</th>\n",
              "      <th>EU_sales</th>\n",
              "      <th>JP_sales</th>\n",
              "      <th>Other_sales</th>\n",
              "      <th>Critic_Score</th>\n",
              "      <th>User_Score</th>\n",
              "      <th>Rating</th>\n",
              "    </tr>\n",
              "  </thead>\n",
              "  <tbody>\n",
              "    <tr>\n",
              "      <th>0</th>\n",
              "      <td>Wii Sports</td>\n",
              "      <td>Wii</td>\n",
              "      <td>2006.0</td>\n",
              "      <td>Sports</td>\n",
              "      <td>41.36</td>\n",
              "      <td>28.96</td>\n",
              "      <td>3.77</td>\n",
              "      <td>8.45</td>\n",
              "      <td>76.0</td>\n",
              "      <td>8</td>\n",
              "      <td>E</td>\n",
              "    </tr>\n",
              "    <tr>\n",
              "      <th>1</th>\n",
              "      <td>Super Mario Bros.</td>\n",
              "      <td>NES</td>\n",
              "      <td>1985.0</td>\n",
              "      <td>Platform</td>\n",
              "      <td>29.08</td>\n",
              "      <td>3.58</td>\n",
              "      <td>6.81</td>\n",
              "      <td>0.77</td>\n",
              "      <td>NaN</td>\n",
              "      <td>NaN</td>\n",
              "      <td>NaN</td>\n",
              "    </tr>\n",
              "    <tr>\n",
              "      <th>2</th>\n",
              "      <td>Mario Kart Wii</td>\n",
              "      <td>Wii</td>\n",
              "      <td>2008.0</td>\n",
              "      <td>Racing</td>\n",
              "      <td>15.68</td>\n",
              "      <td>12.76</td>\n",
              "      <td>3.79</td>\n",
              "      <td>3.29</td>\n",
              "      <td>82.0</td>\n",
              "      <td>8.3</td>\n",
              "      <td>E</td>\n",
              "    </tr>\n",
              "    <tr>\n",
              "      <th>3</th>\n",
              "      <td>Wii Sports Resort</td>\n",
              "      <td>Wii</td>\n",
              "      <td>2009.0</td>\n",
              "      <td>Sports</td>\n",
              "      <td>15.61</td>\n",
              "      <td>10.93</td>\n",
              "      <td>3.28</td>\n",
              "      <td>2.95</td>\n",
              "      <td>80.0</td>\n",
              "      <td>8</td>\n",
              "      <td>E</td>\n",
              "    </tr>\n",
              "    <tr>\n",
              "      <th>4</th>\n",
              "      <td>Pokemon Red/Pokemon Blue</td>\n",
              "      <td>GB</td>\n",
              "      <td>1996.0</td>\n",
              "      <td>Role-Playing</td>\n",
              "      <td>11.27</td>\n",
              "      <td>8.89</td>\n",
              "      <td>10.22</td>\n",
              "      <td>1.00</td>\n",
              "      <td>NaN</td>\n",
              "      <td>NaN</td>\n",
              "      <td>NaN</td>\n",
              "    </tr>\n",
              "    <tr>\n",
              "      <th>5</th>\n",
              "      <td>Tetris</td>\n",
              "      <td>GB</td>\n",
              "      <td>1989.0</td>\n",
              "      <td>Puzzle</td>\n",
              "      <td>23.20</td>\n",
              "      <td>2.26</td>\n",
              "      <td>4.22</td>\n",
              "      <td>0.58</td>\n",
              "      <td>NaN</td>\n",
              "      <td>NaN</td>\n",
              "      <td>NaN</td>\n",
              "    </tr>\n",
              "    <tr>\n",
              "      <th>6</th>\n",
              "      <td>New Super Mario Bros.</td>\n",
              "      <td>DS</td>\n",
              "      <td>2006.0</td>\n",
              "      <td>Platform</td>\n",
              "      <td>11.28</td>\n",
              "      <td>9.14</td>\n",
              "      <td>6.50</td>\n",
              "      <td>2.88</td>\n",
              "      <td>89.0</td>\n",
              "      <td>8.5</td>\n",
              "      <td>E</td>\n",
              "    </tr>\n",
              "    <tr>\n",
              "      <th>7</th>\n",
              "      <td>Wii Play</td>\n",
              "      <td>Wii</td>\n",
              "      <td>2006.0</td>\n",
              "      <td>Misc</td>\n",
              "      <td>13.96</td>\n",
              "      <td>9.18</td>\n",
              "      <td>2.93</td>\n",
              "      <td>2.84</td>\n",
              "      <td>58.0</td>\n",
              "      <td>6.6</td>\n",
              "      <td>E</td>\n",
              "    </tr>\n",
              "    <tr>\n",
              "      <th>8</th>\n",
              "      <td>New Super Mario Bros. Wii</td>\n",
              "      <td>Wii</td>\n",
              "      <td>2009.0</td>\n",
              "      <td>Platform</td>\n",
              "      <td>14.44</td>\n",
              "      <td>6.94</td>\n",
              "      <td>4.70</td>\n",
              "      <td>2.24</td>\n",
              "      <td>87.0</td>\n",
              "      <td>8.4</td>\n",
              "      <td>E</td>\n",
              "    </tr>\n",
              "    <tr>\n",
              "      <th>9</th>\n",
              "      <td>Duck Hunt</td>\n",
              "      <td>NES</td>\n",
              "      <td>1984.0</td>\n",
              "      <td>Shooter</td>\n",
              "      <td>26.93</td>\n",
              "      <td>0.63</td>\n",
              "      <td>0.28</td>\n",
              "      <td>0.47</td>\n",
              "      <td>NaN</td>\n",
              "      <td>NaN</td>\n",
              "      <td>NaN</td>\n",
              "    </tr>\n",
              "  </tbody>\n",
              "</table>\n",
              "</div>"
            ],
            "text/plain": [
              "                        Name Platform  ...  User_Score Rating\n",
              "0                 Wii Sports      Wii  ...           8      E\n",
              "1          Super Mario Bros.      NES  ...         NaN    NaN\n",
              "2             Mario Kart Wii      Wii  ...         8.3      E\n",
              "3          Wii Sports Resort      Wii  ...           8      E\n",
              "4   Pokemon Red/Pokemon Blue       GB  ...         NaN    NaN\n",
              "5                     Tetris       GB  ...         NaN    NaN\n",
              "6      New Super Mario Bros.       DS  ...         8.5      E\n",
              "7                   Wii Play      Wii  ...         6.6      E\n",
              "8  New Super Mario Bros. Wii      Wii  ...         8.4      E\n",
              "9                  Duck Hunt      NES  ...         NaN    NaN\n",
              "\n",
              "[10 rows x 11 columns]"
            ]
          },
          "metadata": {},
          "execution_count": 3
        }
      ]
    },
    {
      "cell_type": "markdown",
      "metadata": {
        "id": "SWPKg3TXphOE"
      },
      "source": [
        "В последних столбцах есть пропуски, узнаем о пропусках по всему датафрейму.<br/>\n",
        "Посмотрим общую информацию о датафрейме:"
      ]
    },
    {
      "cell_type": "markdown",
      "metadata": {
        "id": "enBuA66jphOF"
      },
      "source": [
        "<br/><a name=\"1.1.\"></a>\n",
        "<b>1.1. Общая информация о датафрейме.</b><br/>\n",
        "<font size=\"2\">([к содержанию](#0.0))</font>"
      ]
    },
    {
      "cell_type": "code",
      "metadata": {
        "colab": {
          "base_uri": "https://localhost:8080/"
        },
        "id": "QW7jvv6SphOF",
        "scrolled": false,
        "outputId": "4759098f-cf8e-4cf2-98e2-1db6cfbc3c89"
      },
      "source": [
        "games.info()"
      ],
      "execution_count": 4,
      "outputs": [
        {
          "output_type": "stream",
          "name": "stdout",
          "text": [
            "<class 'pandas.core.frame.DataFrame'>\n",
            "RangeIndex: 16715 entries, 0 to 16714\n",
            "Data columns (total 11 columns):\n",
            " #   Column           Non-Null Count  Dtype  \n",
            "---  ------           --------------  -----  \n",
            " 0   Name             16713 non-null  object \n",
            " 1   Platform         16715 non-null  object \n",
            " 2   Year_of_Release  16446 non-null  float64\n",
            " 3   Genre            16713 non-null  object \n",
            " 4   NA_sales         16715 non-null  float64\n",
            " 5   EU_sales         16715 non-null  float64\n",
            " 6   JP_sales         16715 non-null  float64\n",
            " 7   Other_sales      16715 non-null  float64\n",
            " 8   Critic_Score     8137 non-null   float64\n",
            " 9   User_Score       10014 non-null  object \n",
            " 10  Rating           9949 non-null   object \n",
            "dtypes: float64(6), object(5)\n",
            "memory usage: 1.4+ MB\n"
          ]
        }
      ]
    },
    {
      "cell_type": "markdown",
      "metadata": {
        "id": "-tmaGN8xphOF"
      },
      "source": [
        "Действительно, их очень много в столбцах Critic_Score,\tUser_Score,\tRating."
      ]
    },
    {
      "cell_type": "markdown",
      "metadata": {
        "id": "m6Ak6iXHphOF"
      },
      "source": [
        "<br/><a name=\"1.2.\"></a>\n",
        "<b>1.2. В каких столбцах меняем типы данных.</b><br/>\n",
        "<font size=\"2\">([к содержанию](#0.0))</font>\n",
        "* <b>user_score</b> - сейчас у столбца тип <b>object</b> - поменяем на <b>'float'</b>.\n",
        "<br/>\n",
        "В остальных столбцах кажется всё в порядке."
      ]
    },
    {
      "cell_type": "markdown",
      "metadata": {
        "id": "io7SoX49phOG"
      },
      "source": [
        "<br/><a name=\"1.3.\"></a>\n",
        "<b>1.3. Информация о пропусках, методы их заполнения.</b><br/>\n",
        "<font size=\"2\">([к содержанию](#0.0))</font>"
      ]
    },
    {
      "cell_type": "markdown",
      "metadata": {
        "id": "z9gtaw4ephOG"
      },
      "source": [
        "Узнаем, сколько пропусков всего:"
      ]
    },
    {
      "cell_type": "code",
      "metadata": {
        "colab": {
          "base_uri": "https://localhost:8080/",
          "height": 407
        },
        "id": "ucao7TcxphOG",
        "outputId": "e186cc6a-45e0-42c8-a39a-f72aff899b07"
      },
      "source": [
        "total_games = games.isnull().sum().sort_values(ascending = False)\n",
        "percent_games = (games.isnull().sum() / games.isnull().count()*100).sort_values(ascending=False)\n",
        "missing_games = pd.concat([total_games, percent_games], axis = 1, keys = ['Количество пропусков', 'Доля в %'])\n",
        "missing_games['Тип данных признака'] = games.dtypes\n",
        "display (missing_games)\n",
        "percent_missing = percent_games.sum()/ len(missing_games)\n",
        "print(\"Средняя доля пропущеных значений:{:.2f}\".format(percent_missing))"
      ],
      "execution_count": 5,
      "outputs": [
        {
          "output_type": "display_data",
          "data": {
            "text/html": [
              "<div>\n",
              "<style scoped>\n",
              "    .dataframe tbody tr th:only-of-type {\n",
              "        vertical-align: middle;\n",
              "    }\n",
              "\n",
              "    .dataframe tbody tr th {\n",
              "        vertical-align: top;\n",
              "    }\n",
              "\n",
              "    .dataframe thead th {\n",
              "        text-align: right;\n",
              "    }\n",
              "</style>\n",
              "<table border=\"1\" class=\"dataframe\">\n",
              "  <thead>\n",
              "    <tr style=\"text-align: right;\">\n",
              "      <th></th>\n",
              "      <th>Количество пропусков</th>\n",
              "      <th>Доля в %</th>\n",
              "      <th>Тип данных признака</th>\n",
              "    </tr>\n",
              "  </thead>\n",
              "  <tbody>\n",
              "    <tr>\n",
              "      <th>Critic_Score</th>\n",
              "      <td>8578</td>\n",
              "      <td>51.319174</td>\n",
              "      <td>float64</td>\n",
              "    </tr>\n",
              "    <tr>\n",
              "      <th>Rating</th>\n",
              "      <td>6766</td>\n",
              "      <td>40.478612</td>\n",
              "      <td>object</td>\n",
              "    </tr>\n",
              "    <tr>\n",
              "      <th>User_Score</th>\n",
              "      <td>6701</td>\n",
              "      <td>40.089740</td>\n",
              "      <td>object</td>\n",
              "    </tr>\n",
              "    <tr>\n",
              "      <th>Year_of_Release</th>\n",
              "      <td>269</td>\n",
              "      <td>1.609333</td>\n",
              "      <td>float64</td>\n",
              "    </tr>\n",
              "    <tr>\n",
              "      <th>Genre</th>\n",
              "      <td>2</td>\n",
              "      <td>0.011965</td>\n",
              "      <td>object</td>\n",
              "    </tr>\n",
              "    <tr>\n",
              "      <th>Name</th>\n",
              "      <td>2</td>\n",
              "      <td>0.011965</td>\n",
              "      <td>object</td>\n",
              "    </tr>\n",
              "    <tr>\n",
              "      <th>Other_sales</th>\n",
              "      <td>0</td>\n",
              "      <td>0.000000</td>\n",
              "      <td>float64</td>\n",
              "    </tr>\n",
              "    <tr>\n",
              "      <th>JP_sales</th>\n",
              "      <td>0</td>\n",
              "      <td>0.000000</td>\n",
              "      <td>float64</td>\n",
              "    </tr>\n",
              "    <tr>\n",
              "      <th>EU_sales</th>\n",
              "      <td>0</td>\n",
              "      <td>0.000000</td>\n",
              "      <td>float64</td>\n",
              "    </tr>\n",
              "    <tr>\n",
              "      <th>NA_sales</th>\n",
              "      <td>0</td>\n",
              "      <td>0.000000</td>\n",
              "      <td>float64</td>\n",
              "    </tr>\n",
              "    <tr>\n",
              "      <th>Platform</th>\n",
              "      <td>0</td>\n",
              "      <td>0.000000</td>\n",
              "      <td>object</td>\n",
              "    </tr>\n",
              "  </tbody>\n",
              "</table>\n",
              "</div>"
            ],
            "text/plain": [
              "                 Количество пропусков   Доля в % Тип данных признака\n",
              "Critic_Score                     8578  51.319174             float64\n",
              "Rating                           6766  40.478612              object\n",
              "User_Score                       6701  40.089740              object\n",
              "Year_of_Release                   269   1.609333             float64\n",
              "Genre                               2   0.011965              object\n",
              "Name                                2   0.011965              object\n",
              "Other_sales                         0   0.000000             float64\n",
              "JP_sales                            0   0.000000             float64\n",
              "EU_sales                            0   0.000000             float64\n",
              "NA_sales                            0   0.000000             float64\n",
              "Platform                            0   0.000000              object"
            ]
          },
          "metadata": {}
        },
        {
          "output_type": "stream",
          "name": "stdout",
          "text": [
            "Средняя доля пропущеных значений:12.14\n"
          ]
        }
      ]
    },
    {
      "cell_type": "markdown",
      "metadata": {
        "id": "oi1rC5b4phOH"
      },
      "source": [
        "Как заметили ранее по столбцам <b>critic_score</b>, <b>rating</b> и <b>user_score</b> значительная часть данных отсутствует. Среднее значение количества пропусков по столбцам равно 12%.<br/><br/>\n",
        "Как поступим:\n",
        "* <b>critic_score</b> - <b>оценка критиков </b> - есть вероятность, что по играм просто нет информации об отзывах. Заполнить пропуски исходя из отзывов пользователей (которых тоже не много) или по группировке жанра - некорректно, все игры оригинальны (сюжет, механика и тд) и по сути никак не связаны между собой. Однако, для дальнейшей обработки, будет удобнее заполнить пропуски рейтингом -1 (так мы никогда не спутаем эти отзывы, даже если у других игр будет оценка 0);\n",
        "* <b>rating</b> - <b>рейтинг от  ESRB</b> - хоть это и старый рейтинг, однако не все игры (в силу своей малоизвестности для агенства) могли поучавствовать в нём. Заполнять на основе \"соседей\" тоже мало смысла. Просто подставим в пропуски \"No ESRB\";<br/>\n",
        "* <b>user_score</b> - заполним -1, так как сколько бы игр не было, игроки могли не поиграть или не успеть поиграть в них, чтобы оставить отзыв.<br/>\n",
        "\n",
        "Остальные столбцы (Year_of_Release, Genre и Name) имеют не много пропусков. Заполнить чем-то средним тоже не получится, не на что опереться. Данных достаточно для анализа. Поэтому оставляем как есть."
      ]
    },
    {
      "cell_type": "markdown",
      "metadata": {
        "id": "txQAvKoWphOH"
      },
      "source": [
        "Проверим, совпадают ли пропуски по последним трём столбцам между собой:"
      ]
    },
    {
      "cell_type": "code",
      "metadata": {
        "colab": {
          "base_uri": "https://localhost:8080/",
          "height": 420
        },
        "id": "bRU0R-RephOI",
        "outputId": "4f83b91e-f71d-4820-e8f3-211c26d23c70"
      },
      "source": [
        "games[(games['Critic_Score'].isnull()) & (games['Rating'].isnull()) &\n",
        "                 (games['User_Score'].isnull())]"
      ],
      "execution_count": 6,
      "outputs": [
        {
          "output_type": "execute_result",
          "data": {
            "text/html": [
              "<div>\n",
              "<style scoped>\n",
              "    .dataframe tbody tr th:only-of-type {\n",
              "        vertical-align: middle;\n",
              "    }\n",
              "\n",
              "    .dataframe tbody tr th {\n",
              "        vertical-align: top;\n",
              "    }\n",
              "\n",
              "    .dataframe thead th {\n",
              "        text-align: right;\n",
              "    }\n",
              "</style>\n",
              "<table border=\"1\" class=\"dataframe\">\n",
              "  <thead>\n",
              "    <tr style=\"text-align: right;\">\n",
              "      <th></th>\n",
              "      <th>Name</th>\n",
              "      <th>Platform</th>\n",
              "      <th>Year_of_Release</th>\n",
              "      <th>Genre</th>\n",
              "      <th>NA_sales</th>\n",
              "      <th>EU_sales</th>\n",
              "      <th>JP_sales</th>\n",
              "      <th>Other_sales</th>\n",
              "      <th>Critic_Score</th>\n",
              "      <th>User_Score</th>\n",
              "      <th>Rating</th>\n",
              "    </tr>\n",
              "  </thead>\n",
              "  <tbody>\n",
              "    <tr>\n",
              "      <th>1</th>\n",
              "      <td>Super Mario Bros.</td>\n",
              "      <td>NES</td>\n",
              "      <td>1985.0</td>\n",
              "      <td>Platform</td>\n",
              "      <td>29.08</td>\n",
              "      <td>3.58</td>\n",
              "      <td>6.81</td>\n",
              "      <td>0.77</td>\n",
              "      <td>NaN</td>\n",
              "      <td>NaN</td>\n",
              "      <td>NaN</td>\n",
              "    </tr>\n",
              "    <tr>\n",
              "      <th>4</th>\n",
              "      <td>Pokemon Red/Pokemon Blue</td>\n",
              "      <td>GB</td>\n",
              "      <td>1996.0</td>\n",
              "      <td>Role-Playing</td>\n",
              "      <td>11.27</td>\n",
              "      <td>8.89</td>\n",
              "      <td>10.22</td>\n",
              "      <td>1.00</td>\n",
              "      <td>NaN</td>\n",
              "      <td>NaN</td>\n",
              "      <td>NaN</td>\n",
              "    </tr>\n",
              "    <tr>\n",
              "      <th>5</th>\n",
              "      <td>Tetris</td>\n",
              "      <td>GB</td>\n",
              "      <td>1989.0</td>\n",
              "      <td>Puzzle</td>\n",
              "      <td>23.20</td>\n",
              "      <td>2.26</td>\n",
              "      <td>4.22</td>\n",
              "      <td>0.58</td>\n",
              "      <td>NaN</td>\n",
              "      <td>NaN</td>\n",
              "      <td>NaN</td>\n",
              "    </tr>\n",
              "    <tr>\n",
              "      <th>9</th>\n",
              "      <td>Duck Hunt</td>\n",
              "      <td>NES</td>\n",
              "      <td>1984.0</td>\n",
              "      <td>Shooter</td>\n",
              "      <td>26.93</td>\n",
              "      <td>0.63</td>\n",
              "      <td>0.28</td>\n",
              "      <td>0.47</td>\n",
              "      <td>NaN</td>\n",
              "      <td>NaN</td>\n",
              "      <td>NaN</td>\n",
              "    </tr>\n",
              "    <tr>\n",
              "      <th>10</th>\n",
              "      <td>Nintendogs</td>\n",
              "      <td>DS</td>\n",
              "      <td>2005.0</td>\n",
              "      <td>Simulation</td>\n",
              "      <td>9.05</td>\n",
              "      <td>10.95</td>\n",
              "      <td>1.93</td>\n",
              "      <td>2.74</td>\n",
              "      <td>NaN</td>\n",
              "      <td>NaN</td>\n",
              "      <td>NaN</td>\n",
              "    </tr>\n",
              "    <tr>\n",
              "      <th>...</th>\n",
              "      <td>...</td>\n",
              "      <td>...</td>\n",
              "      <td>...</td>\n",
              "      <td>...</td>\n",
              "      <td>...</td>\n",
              "      <td>...</td>\n",
              "      <td>...</td>\n",
              "      <td>...</td>\n",
              "      <td>...</td>\n",
              "      <td>...</td>\n",
              "      <td>...</td>\n",
              "    </tr>\n",
              "    <tr>\n",
              "      <th>16710</th>\n",
              "      <td>Samurai Warriors: Sanada Maru</td>\n",
              "      <td>PS3</td>\n",
              "      <td>2016.0</td>\n",
              "      <td>Action</td>\n",
              "      <td>0.00</td>\n",
              "      <td>0.00</td>\n",
              "      <td>0.01</td>\n",
              "      <td>0.00</td>\n",
              "      <td>NaN</td>\n",
              "      <td>NaN</td>\n",
              "      <td>NaN</td>\n",
              "    </tr>\n",
              "    <tr>\n",
              "      <th>16711</th>\n",
              "      <td>LMA Manager 2007</td>\n",
              "      <td>X360</td>\n",
              "      <td>2006.0</td>\n",
              "      <td>Sports</td>\n",
              "      <td>0.00</td>\n",
              "      <td>0.01</td>\n",
              "      <td>0.00</td>\n",
              "      <td>0.00</td>\n",
              "      <td>NaN</td>\n",
              "      <td>NaN</td>\n",
              "      <td>NaN</td>\n",
              "    </tr>\n",
              "    <tr>\n",
              "      <th>16712</th>\n",
              "      <td>Haitaka no Psychedelica</td>\n",
              "      <td>PSV</td>\n",
              "      <td>2016.0</td>\n",
              "      <td>Adventure</td>\n",
              "      <td>0.00</td>\n",
              "      <td>0.00</td>\n",
              "      <td>0.01</td>\n",
              "      <td>0.00</td>\n",
              "      <td>NaN</td>\n",
              "      <td>NaN</td>\n",
              "      <td>NaN</td>\n",
              "    </tr>\n",
              "    <tr>\n",
              "      <th>16713</th>\n",
              "      <td>Spirits &amp; Spells</td>\n",
              "      <td>GBA</td>\n",
              "      <td>2003.0</td>\n",
              "      <td>Platform</td>\n",
              "      <td>0.01</td>\n",
              "      <td>0.00</td>\n",
              "      <td>0.00</td>\n",
              "      <td>0.00</td>\n",
              "      <td>NaN</td>\n",
              "      <td>NaN</td>\n",
              "      <td>NaN</td>\n",
              "    </tr>\n",
              "    <tr>\n",
              "      <th>16714</th>\n",
              "      <td>Winning Post 8 2016</td>\n",
              "      <td>PSV</td>\n",
              "      <td>2016.0</td>\n",
              "      <td>Simulation</td>\n",
              "      <td>0.00</td>\n",
              "      <td>0.00</td>\n",
              "      <td>0.01</td>\n",
              "      <td>0.00</td>\n",
              "      <td>NaN</td>\n",
              "      <td>NaN</td>\n",
              "      <td>NaN</td>\n",
              "    </tr>\n",
              "  </tbody>\n",
              "</table>\n",
              "<p>6621 rows × 11 columns</p>\n",
              "</div>"
            ],
            "text/plain": [
              "                                Name Platform  ...  User_Score Rating\n",
              "1                  Super Mario Bros.      NES  ...         NaN    NaN\n",
              "4           Pokemon Red/Pokemon Blue       GB  ...         NaN    NaN\n",
              "5                             Tetris       GB  ...         NaN    NaN\n",
              "9                          Duck Hunt      NES  ...         NaN    NaN\n",
              "10                        Nintendogs       DS  ...         NaN    NaN\n",
              "...                              ...      ...  ...         ...    ...\n",
              "16710  Samurai Warriors: Sanada Maru      PS3  ...         NaN    NaN\n",
              "16711               LMA Manager 2007     X360  ...         NaN    NaN\n",
              "16712        Haitaka no Psychedelica      PSV  ...         NaN    NaN\n",
              "16713               Spirits & Spells      GBA  ...         NaN    NaN\n",
              "16714            Winning Post 8 2016      PSV  ...         NaN    NaN\n",
              "\n",
              "[6621 rows x 11 columns]"
            ]
          },
          "metadata": {},
          "execution_count": 6
        }
      ]
    },
    {
      "cell_type": "markdown",
      "metadata": {
        "id": "LUt25kRxphOI"
      },
      "source": [
        "В самом деле. Причём есть как малоизвестные, так и культовые, как Super Mario Bros."
      ]
    },
    {
      "cell_type": "markdown",
      "metadata": {
        "id": "rUdduayephOI"
      },
      "source": [
        "<hr style=\"border: 1px solid #000;\"> \n",
        "\n",
        "\n",
        "## Шаг 2. Подготовка данных<a name=\"2.\"></a>\n",
        "<font size=\"2\">([к содержанию](#0.0))</font>"
      ]
    },
    {
      "cell_type": "markdown",
      "metadata": {
        "id": "7XznOZQ1phOI"
      },
      "source": [
        "<br/><a name=\"2.1.\"></a>\n",
        "<b>2.1. Приведем названия столбцов к нижнему регистру:</b><br/>\n",
        "<font size=\"2\">([к содержанию](#0.0))</font>"
      ]
    },
    {
      "cell_type": "code",
      "metadata": {
        "id": "xZjhulvlphOJ"
      },
      "source": [
        "games.columns = games.columns.str.lower()"
      ],
      "execution_count": 7,
      "outputs": []
    },
    {
      "cell_type": "markdown",
      "metadata": {
        "id": "PlHxnXISphOJ"
      },
      "source": [
        "<br/><a name=\"2.2.\"></a>\n",
        "<b>2.2. Изменение типа данных по столбцу user_score</b>.<br/>\n",
        "<font size=\"2\">([к содержанию](#0.0))</font>"
      ]
    },
    {
      "cell_type": "markdown",
      "metadata": {
        "id": "GEC4WTSxphOJ"
      },
      "source": [
        "Посмотрим на уникальные значения столбца <b>user_score</b>. Проверим, не встречается ли там ещё что-либо."
      ]
    },
    {
      "cell_type": "code",
      "metadata": {
        "colab": {
          "base_uri": "https://localhost:8080/"
        },
        "id": "yxYLPOWZphOJ",
        "scrolled": false,
        "outputId": "5b37fbfb-be75-4a06-f84b-a269af6fc17b"
      },
      "source": [
        "games['user_score'].unique()"
      ],
      "execution_count": 8,
      "outputs": [
        {
          "output_type": "execute_result",
          "data": {
            "text/plain": [
              "array(['8', nan, '8.3', '8.5', '6.6', '8.4', '8.6', '7.7', '6.3', '7.4',\n",
              "       '8.2', '9', '7.9', '8.1', '8.7', '7.1', '3.4', '5.3', '4.8', '3.2',\n",
              "       '8.9', '6.4', '7.8', '7.5', '2.6', '7.2', '9.2', '7', '7.3', '4.3',\n",
              "       '7.6', '5.7', '5', '9.1', '6.5', 'tbd', '8.8', '6.9', '9.4', '6.8',\n",
              "       '6.1', '6.7', '5.4', '4', '4.9', '4.5', '9.3', '6.2', '4.2', '6',\n",
              "       '3.7', '4.1', '5.8', '5.6', '5.5', '4.4', '4.6', '5.9', '3.9',\n",
              "       '3.1', '2.9', '5.2', '3.3', '4.7', '5.1', '3.5', '2.5', '1.9', '3',\n",
              "       '2.7', '2.2', '2', '9.5', '2.1', '3.6', '2.8', '1.8', '3.8', '0',\n",
              "       '1.6', '9.6', '2.4', '1.7', '1.1', '0.3', '1.5', '0.7', '1.2',\n",
              "       '2.3', '0.5', '1.3', '0.2', '0.6', '1.4', '0.9', '1', '9.7'],\n",
              "      dtype=object)"
            ]
          },
          "metadata": {},
          "execution_count": 8
        }
      ]
    },
    {
      "cell_type": "markdown",
      "metadata": {
        "id": "-2ZPte1jphOK"
      },
      "source": [
        "Помимо пропусков, видим <b>\"tbd\"</b>. Посмотрим, сколько их там таких:"
      ]
    },
    {
      "cell_type": "code",
      "metadata": {
        "colab": {
          "base_uri": "https://localhost:8080/"
        },
        "id": "_PbKVsj3phOK",
        "outputId": "f6f2540c-1c24-4379-e167-2242cfcede80"
      },
      "source": [
        "sum(games[games['user_score'] == 'tbd'].count())"
      ],
      "execution_count": 9,
      "outputs": [
        {
          "output_type": "execute_result",
          "data": {
            "text/plain": [
              "25224"
            ]
          },
          "metadata": {},
          "execution_count": 9
        }
      ]
    },
    {
      "cell_type": "markdown",
      "metadata": {
        "id": "JZgjf1bOphOK"
      },
      "source": [
        "250224 строки с таким значением.<br/><br/> \n",
        "Поискав в интернетах узнаём, что это аббревиатура от <b>To Be Determined</b> – обозначение для игры, которые не имеют достаточного количество отзывов (менее 4) для подсчета рейтинга пользователей и его публикации (вот и ещё один фактор, почему могут быть NAN - недостаточно оценок для конкретного балла).<br/>\n",
        "Можно предположить, что часть игры выходит для тех платформ и локаций, где пользователи в силу особенностей (например языковых) не могут оставить отзыв на англоязычных сайтах по отзывам."
      ]
    },
    {
      "cell_type": "markdown",
      "metadata": {
        "id": "KJjtdaX4phOK"
      },
      "source": [
        "Заменим и NaN, и 'tbd' в таком случае на значение -1 и приведем значения столбца к числовому типу:"
      ]
    },
    {
      "cell_type": "code",
      "metadata": {
        "id": "KBBKJKHmphOL"
      },
      "source": [
        "games['user_score'] = games['user_score'].replace('tbd', np.NaN)\n",
        "games['user_score'] = games['user_score'].astype('float')"
      ],
      "execution_count": 10,
      "outputs": []
    },
    {
      "cell_type": "markdown",
      "metadata": {
        "id": "I_ST8nciphOL"
      },
      "source": [
        "<br/><a name=\"2.3.\"></a>\n",
        "<b>2.3. Обработка пропусков</b>:<br/>\n",
        "<font size=\"2\">([к содержанию](#0.0))</font>"
      ]
    },
    {
      "cell_type": "markdown",
      "metadata": {
        "id": "1HdpL4DmphOM"
      },
      "source": [
        "У нас к обработке столбцы <b>critic_score</b> и <b>user_score</b> - заполним пропуски значением -1."
      ]
    },
    {
      "cell_type": "code",
      "metadata": {
        "id": "FIDduO4IphOM"
      },
      "source": [
        "games['critic_score'] = games['critic_score'].fillna(-1)\n",
        "games['user_score'] = games['user_score'].fillna(-1)"
      ],
      "execution_count": 11,
      "outputs": []
    },
    {
      "cell_type": "code",
      "metadata": {
        "colab": {
          "base_uri": "https://localhost:8080/"
        },
        "id": "9Udallm5phOM",
        "outputId": "1d70755c-2ecb-4e61-8737-7a6cd72ac588"
      },
      "source": [
        "print('Количество пропусков в столбце critic_score - {}'.format(games['critic_score'].isnull().sum()))\n",
        "print('Количество пропусков в столбце user_score - {}'.format(games['user_score'].isnull().sum()))"
      ],
      "execution_count": 12,
      "outputs": [
        {
          "output_type": "stream",
          "name": "stdout",
          "text": [
            "Количество пропусков в столбце critic_score - 0\n",
            "Количество пропусков в столбце user_score - 0\n"
          ]
        }
      ]
    },
    {
      "cell_type": "markdown",
      "metadata": {
        "id": "IEuSU71qAdwg"
      },
      "source": [
        "Заменим NaN в столбце Rating на \"No_ESRB\":"
      ]
    },
    {
      "cell_type": "code",
      "metadata": {
        "id": "-IGrxNV_AdYn"
      },
      "source": [
        "games['rating'] = games['rating'].replace(np.NaN, \"No_ESRB\")"
      ],
      "execution_count": 13,
      "outputs": []
    },
    {
      "cell_type": "markdown",
      "metadata": {
        "id": "q1JotiG0phON"
      },
      "source": [
        "Посмотрим ещё раз на статистику по пропускам:"
      ]
    },
    {
      "cell_type": "code",
      "metadata": {
        "colab": {
          "base_uri": "https://localhost:8080/",
          "height": 407
        },
        "id": "zt5IRosMphON",
        "outputId": "b9f9afef-2de8-4a06-f90f-260bc1520b97"
      },
      "source": [
        "total_games2 = games.isnull().sum().sort_values(ascending = False)\n",
        "percent_games2 = (games.isnull().sum() / games.isnull().count()*100).sort_values(ascending=False)\n",
        "missing_games2 = pd.concat([total_games2, percent_games2], axis = 1, keys = ['Количество пропусков', 'Доля в %'])\n",
        "missing_games2['Тип данных признака'] = games.dtypes\n",
        "display (missing_games2)\n",
        "percent_missing2 = percent_games2.sum()/ len(missing_games2)\n",
        "print(\"Средняя доля пропущеных значений:{:.2f}\".format(percent_missing2))"
      ],
      "execution_count": 14,
      "outputs": [
        {
          "output_type": "display_data",
          "data": {
            "text/html": [
              "<div>\n",
              "<style scoped>\n",
              "    .dataframe tbody tr th:only-of-type {\n",
              "        vertical-align: middle;\n",
              "    }\n",
              "\n",
              "    .dataframe tbody tr th {\n",
              "        vertical-align: top;\n",
              "    }\n",
              "\n",
              "    .dataframe thead th {\n",
              "        text-align: right;\n",
              "    }\n",
              "</style>\n",
              "<table border=\"1\" class=\"dataframe\">\n",
              "  <thead>\n",
              "    <tr style=\"text-align: right;\">\n",
              "      <th></th>\n",
              "      <th>Количество пропусков</th>\n",
              "      <th>Доля в %</th>\n",
              "      <th>Тип данных признака</th>\n",
              "    </tr>\n",
              "  </thead>\n",
              "  <tbody>\n",
              "    <tr>\n",
              "      <th>year_of_release</th>\n",
              "      <td>269</td>\n",
              "      <td>1.609333</td>\n",
              "      <td>float64</td>\n",
              "    </tr>\n",
              "    <tr>\n",
              "      <th>genre</th>\n",
              "      <td>2</td>\n",
              "      <td>0.011965</td>\n",
              "      <td>object</td>\n",
              "    </tr>\n",
              "    <tr>\n",
              "      <th>name</th>\n",
              "      <td>2</td>\n",
              "      <td>0.011965</td>\n",
              "      <td>object</td>\n",
              "    </tr>\n",
              "    <tr>\n",
              "      <th>rating</th>\n",
              "      <td>0</td>\n",
              "      <td>0.000000</td>\n",
              "      <td>object</td>\n",
              "    </tr>\n",
              "    <tr>\n",
              "      <th>user_score</th>\n",
              "      <td>0</td>\n",
              "      <td>0.000000</td>\n",
              "      <td>float64</td>\n",
              "    </tr>\n",
              "    <tr>\n",
              "      <th>critic_score</th>\n",
              "      <td>0</td>\n",
              "      <td>0.000000</td>\n",
              "      <td>float64</td>\n",
              "    </tr>\n",
              "    <tr>\n",
              "      <th>other_sales</th>\n",
              "      <td>0</td>\n",
              "      <td>0.000000</td>\n",
              "      <td>float64</td>\n",
              "    </tr>\n",
              "    <tr>\n",
              "      <th>jp_sales</th>\n",
              "      <td>0</td>\n",
              "      <td>0.000000</td>\n",
              "      <td>float64</td>\n",
              "    </tr>\n",
              "    <tr>\n",
              "      <th>eu_sales</th>\n",
              "      <td>0</td>\n",
              "      <td>0.000000</td>\n",
              "      <td>float64</td>\n",
              "    </tr>\n",
              "    <tr>\n",
              "      <th>na_sales</th>\n",
              "      <td>0</td>\n",
              "      <td>0.000000</td>\n",
              "      <td>float64</td>\n",
              "    </tr>\n",
              "    <tr>\n",
              "      <th>platform</th>\n",
              "      <td>0</td>\n",
              "      <td>0.000000</td>\n",
              "      <td>object</td>\n",
              "    </tr>\n",
              "  </tbody>\n",
              "</table>\n",
              "</div>"
            ],
            "text/plain": [
              "                 Количество пропусков  Доля в % Тип данных признака\n",
              "year_of_release                   269  1.609333             float64\n",
              "genre                               2  0.011965              object\n",
              "name                                2  0.011965              object\n",
              "rating                              0  0.000000              object\n",
              "user_score                          0  0.000000             float64\n",
              "critic_score                        0  0.000000             float64\n",
              "other_sales                         0  0.000000             float64\n",
              "jp_sales                            0  0.000000             float64\n",
              "eu_sales                            0  0.000000             float64\n",
              "na_sales                            0  0.000000             float64\n",
              "platform                            0  0.000000              object"
            ]
          },
          "metadata": {}
        },
        {
          "output_type": "stream",
          "name": "stdout",
          "text": [
            "Средняя доля пропущеных значений:0.15\n"
          ]
        }
      ]
    },
    {
      "cell_type": "markdown",
      "metadata": {
        "id": "3I__NPKuphOO"
      },
      "source": [
        "Другое дело - средний процент незаполненности данных равен 0,15%."
      ]
    },
    {
      "cell_type": "markdown",
      "metadata": {
        "id": "YqPMzz_fphOO"
      },
      "source": [
        "<br/><a name=\"2.4.\"></a>\n",
        "<b>2.4. Для удобства выведем общую сумму продаж по всем регионам 'sales_total'</b>:<br/>\n",
        "<font size=\"2\">([к содержанию](#0.0))</font>"
      ]
    },
    {
      "cell_type": "code",
      "metadata": {
        "id": "ZSsNXNZlphOO"
      },
      "source": [
        "games['sales_total'] = games[['na_sales','eu_sales','jp_sales','other_sales']].sum(axis=1)"
      ],
      "execution_count": 15,
      "outputs": []
    },
    {
      "cell_type": "markdown",
      "metadata": {
        "id": "yqljep1CphOO"
      },
      "source": [
        "<hr style=\"border: 1px solid #000;\">\n",
        "\n",
        "<br/><a name=\"3.\"></a>\n",
        "## Шаг 3. Исследовательский анализ данных<a name=\"2.\"></a>\n",
        "<font size=\"2\">([к содержанию](#0.0))</font>"
      ]
    },
    {
      "cell_type": "markdown",
      "metadata": {
        "id": "o0TZkIXDphOP"
      },
      "source": [
        "<br/><a name=\"3.1.\"></a>\n",
        "<b>3.1. Посмотрим на количество выпущенных игр по годам</b>:<br/>\n",
        "<font size=\"2\">([к содержанию](#0.0))</font>"
      ]
    },
    {
      "cell_type": "markdown",
      "metadata": {
        "id": "lna4w1ZtphOQ"
      },
      "source": [
        "Посмотрим на число выпущенных игр по годам:"
      ]
    },
    {
      "cell_type": "code",
      "metadata": {
        "colab": {
          "base_uri": "https://localhost:8080/",
          "height": 562
        },
        "id": "s5-CHAAtphOQ",
        "outputId": "76af345c-f7a2-431d-e1d2-b23e47183b92"
      },
      "source": [
        "plt.title('График выхода игр по годам', fontweight=\"bold\", color='k', fontsize=16)\n",
        "plt.style.use('seaborn-pastel')\n",
        "games.groupby('year_of_release')['platform'].count().plot(grid=True, kind= 'bar', figsize=(30, 8))\n",
        "plt.xlabel(\"год выпуска\", fontsize=14, fontweight=\"bold\")\n",
        "plt.ylabel(\"количество\", fontsize=14, fontweight=\"bold\")"
      ],
      "execution_count": 16,
      "outputs": [
        {
          "output_type": "execute_result",
          "data": {
            "text/plain": [
              "Text(0, 0.5, 'количество')"
            ]
          },
          "metadata": {},
          "execution_count": 16
        },
        {
          "output_type": "display_data",
          "data": {
            "image/png": "[encoded data removed]",
            "text/plain": [
              "<Figure size 2160x576 with 1 Axes>"
            ]
          },
          "metadata": {
            "needs_background": "light"
          }
        }
      ]
    },
    {
      "cell_type": "markdown",
      "metadata": {
        "id": "bqJOBW_GphOQ"
      },
      "source": [
        "Как ПК так и консоли существовали давно, видим на графике год 1980. Тогда технологии были заточены прямо под работу в текстовых редакторах и кодовых программах (про компьютер) либо было недостаточно мощностей (у консоли). Видим скачок с 1994 года и планомерный рост, что наглядно демонстрирует зависимость технологий (графика и мощности), отсюда и выпуск игр, более сложных и интересных. Все мы кстати помним, что легендарная первая PS и Nintendo64 вышли примерно в это время. После 2012 продажи идут на спад. Разберёмся почему так. Казалось в детстве, много игр не бывает."
      ]
    },
    {
      "cell_type": "markdown",
      "metadata": {
        "id": "nC6SdsG9EebW"
      },
      "source": [
        "Проверим эту теорию:"
      ]
    },
    {
      "cell_type": "code",
      "metadata": {
        "colab": {
          "base_uri": "https://localhost:8080/",
          "height": 562
        },
        "id": "wKt_plg8C_y7",
        "outputId": "f063216a-e6c7-413e-9e48-3c13e942bf6d"
      },
      "source": [
        "\n",
        "games.query('1998 >year_of_release > 1990').pivot_table(index='year_of_release', columns='platform', values='sales_total', aggfunc='count').plot(grid=True, kind= 'bar', figsize=(25, 8))\n",
        "plt.title('График выхода игр по годам, укрупнение', fontweight=\"bold\", color='k', fontsize=16)\n",
        "plt.xlabel(\"год выпуска\", fontsize=14, fontweight=\"bold\")\n",
        "plt.ylabel(\"количество\", fontsize=14, fontweight=\"bold\")"
      ],
      "execution_count": 17,
      "outputs": [
        {
          "output_type": "execute_result",
          "data": {
            "text/plain": [
              "Text(0, 0.5, 'количество')"
            ]
          },
          "metadata": {},
          "execution_count": 17
        },
        {
          "output_type": "display_data",
          "data": {
            "image/png": "[encoded data removed]",
            "text/plain": [
              "<Figure size 1800x576 with 1 Axes>"
            ]
          },
          "metadata": {
            "needs_background": "light"
          }
        }
      ]
    },
    {
      "cell_type": "markdown",
      "metadata": {
        "id": "vS8xuLYIEhg9"
      },
      "source": [
        "Что и требовалось доказать :) Плойка и Нинтендо как пионеры – всегда на передовой! И не стоит забывать о старичках, как 3DO – пик продаж игр для неё пришёлся как раз на это время. А мы идём дальше."
      ]
    },
    {
      "cell_type": "markdown",
      "metadata": {
        "id": "tdo_5c3aphOQ"
      },
      "source": [
        "<br/><a name=\"3.2.\"></a>\n",
        "<b>3.2. Количество выпущенных игр по платформам</b>.<br/>\n",
        "<font size=\"2\">([к содержанию](#0.0))</font>"
      ]
    },
    {
      "cell_type": "markdown",
      "metadata": {
        "id": "BeA9R_E0phOR"
      },
      "source": [
        "Посмотрим на количество игр в разрезе по платформам:"
      ]
    },
    {
      "cell_type": "code",
      "metadata": {
        "colab": {
          "base_uri": "https://localhost:8080/",
          "height": 537
        },
        "id": "CMhrK79FphOR",
        "outputId": "09cc59f5-620c-4d3e-e970-f18627e857b4"
      },
      "source": [
        "plt.title('Сумма всех игр с разбивкой по платформам', fontweight=\"bold\", color='k', fontsize=16)\n",
        "plt.style.use('seaborn-pastel')\n",
        "games.groupby('platform')['sales_total'].sum().sort_values().plot(grid=True, kind= 'barh', figsize=(10, 8))\n",
        "plt.xlabel(\"Количество игр\", fontsize=14, fontweight=\"bold\")\n",
        "plt.ylabel(\"Игровые платформы\", fontsize=14, fontweight=\"bold\")"
      ],
      "execution_count": 18,
      "outputs": [
        {
          "output_type": "execute_result",
          "data": {
            "text/plain": [
              "Text(0, 0.5, 'Игровые платформы')"
            ]
          },
          "metadata": {},
          "execution_count": 18
        },
        {
          "output_type": "display_data",
          "data": {
            "image/png": "[encoded data removed]",
            "text/plain": [
              "<Figure size 720x576 with 1 Axes>"
            ]
          },
          "metadata": {
            "needs_background": "light"
          }
        }
      ]
    },
    {
      "cell_type": "markdown",
      "metadata": {
        "id": "IS8abl-LphOR"
      },
      "source": [
        "Топ-6 долгожителей и лидеров таков: PS2, X360, PS3, Wii, DS, PS.\n",
        "Хочется подчеркнуть, что тут заметна взаимосвязь от продаж по годам. Другими словами, платформы, чей расцвет пришёлся на потребительский ажиотаж вокруг игровой индустрии (2001 - 2011) сумели удержаться в топе, не смотря на то, что к 2016 году уже не актуальны. И наоборот, платформы, которые по сути нового поколения (продажи игр для PS3 в отличие от PS2) уже не успели к буму и собирают тот спрос, который остался на исходе, снижающийся.  "
      ]
    },
    {
      "cell_type": "markdown",
      "metadata": {
        "id": "GQS2ybnPphOR"
      },
      "source": [
        "<br/><a name=\"3.3.\"></a>\n",
        "<b>3.3. Динамика продаж игр по платформам</b>.<br/>\n",
        "<font size=\"2\">([к содержанию](#0.0))</font>"
      ]
    },
    {
      "cell_type": "markdown",
      "metadata": {
        "id": "J9Bh_zDlphOS"
      },
      "source": [
        "Узнаем, как менялись продажи по платформам на заданном отрезке. Выделим топ игровых платформ. Попробуем узнать срок жизни платформы и проследим динамику их развития в прошлом и чуть поближе."
      ]
    },
    {
      "cell_type": "markdown",
      "metadata": {
        "id": "nIZ97RFdphOT"
      },
      "source": [
        "<br/><a name=\"3.3.1.\"></a>\n",
        "<b>3.3.1. График динамики продаж по годам по каждой платформе.</b></br><br/>\n",
        "<font size=\"2\">([к содержанию](#0.0))</font>"
      ]
    },
    {
      "cell_type": "code",
      "metadata": {
        "colab": {
          "base_uri": "https://localhost:8080/",
          "height": 541
        },
        "id": "5uMo7qhYphOS",
        "scrolled": false,
        "outputId": "9ca8d927-7f66-41f2-ede8-d1b5b57934d6"
      },
      "source": [
        "import plotly.express as px\n",
        "fig = px.line(games.pivot_table(index = ['year_of_release', 'platform'], values = 'sales_total', aggfunc = 'sum').reset_index(),\n",
        "             x = 'year_of_release', y = 'sales_total', color = 'platform', title='Динамика продаж по годам'\n",
        ")\n",
        "\n",
        "fig.show()"
      ],
      "execution_count": 19,
      "outputs": [
        {
          "output_type": "display_data",
          "data": {
            "text/html": [
              "<html>\n",
              "<head><meta charset=\"utf-8\" /></head>\n",
              "<body>\n",
              "    <div>\n",
              "            <script src=\"https://cdnjs.cloudflare.com/ajax/libs/mathjax/2.7.5/MathJax.js?config=TeX-AMS-MML_SVG\"></script><script type=\"text/javascript\">if (window.MathJax) {MathJax.Hub.Config({SVG: {font: \"STIX-Web\"}});}</script>\n",
              "                <script type=\"text/javascript\">window.PlotlyConfig = {MathJaxConfig: 'local'};</script>\n",
              "        <script src=\"https://cdn.plot.ly/plotly-latest.min.js\"></script>    \n",
              "            <div id=\"83568280-df7b-4717-a371-fd01d2128ce8\" class=\"plotly-graph-div\" style=\"height:525px; width:100%;\"></div>\n",
              "            <script type=\"text/javascript\">\n",
              "                \n",
              "                    window.PLOTLYENV=window.PLOTLYENV || {};\n",
              "                    \n",
              "                if (document.getElementById(\"83568280-df7b-4717-a371-fd01d2128ce8\")) {\n",
              "                    Plotly.newPlot(\n",
              "                        '83568280-df7b-4717-a371-fd01d2128ce8',\n",
              "                        [{\"hoverlabel\": {\"namelength\": 0}, \"hovertemplate\": \"platform=2600<br>year_of_release=%{x}<br>sales_total=%{y}\", \"legendgroup\": \"platform=2600\", \"line\": {\"color\": \"#636efa\", \"dash\": \"solid\"}, \"mode\": \"lines\", \"name\": \"platform=2600\", \"showlegend\": true, \"type\": \"scatter\", \"x\": [1980.0, 1981.0, 1982.0, 1983.0, 1984.0, 1985.0, 1986.0, 1987.0, 1988.0, 1989.0], \"xaxis\": \"x\", \"y\": [11.379999999999999, 35.68, 28.880000000000003, 5.840000000000001, 0.27, 0.44999999999999996, 0.67, 1.9400000000000002, 0.74, 0.6300000000000001], \"yaxis\": \"y\"}, {\"hoverlabel\": {\"namelength\": 0}, \"hovertemplate\": \"platform=NES<br>year_of_release=%{x}<br>sales_total=%{y}\", \"legendgroup\": \"platform=NES\", \"line\": {\"color\": \"#EF553B\", \"dash\": \"solid\"}, \"mode\": \"lines\", \"name\": \"platform=NES\", \"showlegend\": true, \"type\": \"scatter\", \"x\": [1983.0, 1984.0, 1985.0, 1986.0, 1987.0, 1988.0, 1989.0, 1990.0, 1991.0, 1992.0, 1993.0, 1994.0], \"xaxis\": \"x\", \"y\": [10.959999999999999, 50.08000000000001, 53.44, 36.41, 19.759999999999998, 45.010000000000005, 7.849999999999999, 15.73, 6.11, 1.9800000000000002, 3.61, 0.11], \"yaxis\": \"y\"}, {\"hoverlabel\": {\"namelength\": 0}, \"hovertemplate\": \"platform=DS<br>year_of_release=%{x}<br>sales_total=%{y}\", \"legendgroup\": \"platform=DS\", \"line\": {\"color\": \"#00cc96\", \"dash\": \"solid\"}, \"mode\": \"lines\", \"name\": \"platform=DS\", \"showlegend\": true, \"type\": \"scatter\", \"x\": [1985.0, 2004.0, 2005.0, 2006.0, 2007.0, 2008.0, 2009.0, 2010.0, 2011.0, 2012.0, 2013.0], \"xaxis\": \"x\", \"y\": [0.02, 17.269999999999996, 130.14000000000013, 119.80999999999999, 146.9400000000003, 145.31000000000074, 119.54000000000009, 85.02, 26.179999999999996, 11.009999999999996, 1.54], \"yaxis\": \"y\"}, {\"hoverlabel\": {\"namelength\": 0}, \"hovertemplate\": \"platform=PC<br>year_of_release=%{x}<br>sales_total=%{y}\", \"legendgroup\": \"platform=PC\", \"line\": {\"color\": \"#ab63fa\", \"dash\": \"solid\"}, \"mode\": \"lines\", \"name\": \"platform=PC\", \"showlegend\": true, \"type\": \"scatter\", \"x\": [1985.0, 1988.0, 1992.0, 1994.0, 1995.0, 1996.0, 1997.0, 1998.0, 1999.0, 2000.0, 2001.0, 2002.0, 2003.0, 2004.0, 2005.0, 2006.0, 2007.0, 2008.0, 2009.0, 2010.0, 2011.0, 2012.0, 2013.0, 2014.0, 2015.0, 2016.0], \"xaxis\": \"x\", \"y\": [0.04, 0.03, 3.0300000000000002, 12.870000000000001, 4.22, 10.58, 11.27, 3.26, 4.739999999999999, 4.659999999999998, 5.469999999999999, 8.569999999999997, 8.839999999999991, 10.389999999999995, 4.369999999999995, 2.849999999999998, 9.279999999999987, 12.41999999999998, 16.910000000000025, 24.28000000000002, 35.03000000000001, 23.21999999999999, 12.379999999999997, 13.279999999999994, 8.51999999999999, 5.249999999999997], \"yaxis\": \"y\"}, {\"hoverlabel\": {\"namelength\": 0}, \"hovertemplate\": \"platform=GB<br>year_of_release=%{x}<br>sales_total=%{y}\", \"legendgroup\": \"platform=GB\", \"line\": {\"color\": \"#FFA15A\", \"dash\": \"solid\"}, \"mode\": \"lines\", \"name\": \"platform=GB\", \"showlegend\": true, \"type\": \"scatter\", \"x\": [1988.0, 1989.0, 1990.0, 1991.0, 1992.0, 1994.0, 1995.0, 1996.0, 1997.0, 1998.0, 1999.0, 2000.0, 2001.0], \"xaxis\": \"x\", \"y\": [1.43, 64.97, 4.89, 5.57, 25.49, 12.18, 3.5999999999999996, 36.03000000000001, 6.370000000000001, 26.9, 38.0, 19.759999999999998, 9.24], \"yaxis\": \"y\"}, {\"hoverlabel\": {\"namelength\": 0}, \"hovertemplate\": \"platform=GEN<br>year_of_release=%{x}<br>sales_total=%{y}\", \"legendgroup\": \"platform=GEN\", \"line\": {\"color\": \"#19d3f3\", \"dash\": \"solid\"}, \"mode\": \"lines\", \"name\": \"platform=GEN\", \"showlegend\": true, \"type\": \"scatter\", \"x\": [1990.0, 1991.0, 1992.0, 1993.0, 1994.0], \"xaxis\": \"x\", \"y\": [2.6, 4.33, 12.640000000000002, 3.069999999999999, 8.129999999999997], \"yaxis\": \"y\"}, {\"hoverlabel\": {\"namelength\": 0}, \"hovertemplate\": \"platform=SNES<br>year_of_release=%{x}<br>sales_total=%{y}\", \"legendgroup\": \"platform=SNES\", \"line\": {\"color\": \"#FF6692\", \"dash\": \"solid\"}, \"mode\": \"lines\", \"name\": \"platform=SNES\", \"showlegend\": true, \"type\": \"scatter\", \"x\": [1990.0, 1991.0, 1992.0, 1993.0, 1994.0, 1995.0, 1996.0, 1997.0, 1998.0, 1999.0], \"xaxis\": \"x\", \"y\": [26.15, 16.220000000000002, 32.98, 40.02000000000001, 35.08, 32.2, 15.919999999999996, 0.99, 0.22000000000000003, 0.26], \"yaxis\": \"y\"}, {\"hoverlabel\": {\"namelength\": 0}, \"hovertemplate\": \"platform=GG<br>year_of_release=%{x}<br>sales_total=%{y}\", \"legendgroup\": \"platform=GG\", \"line\": {\"color\": \"#B6E880\", \"dash\": \"solid\"}, \"mode\": \"lines\", \"name\": \"platform=GG\", \"showlegend\": true, \"type\": \"scatter\", \"x\": [1992.0], \"xaxis\": \"x\", \"y\": [0.04], \"yaxis\": \"y\"}, {\"hoverlabel\": {\"namelength\": 0}, \"hovertemplate\": \"platform=NG<br>year_of_release=%{x}<br>sales_total=%{y}\", \"legendgroup\": \"platform=NG\", \"line\": {\"color\": \"#FF97FF\", \"dash\": \"solid\"}, \"mode\": \"lines\", \"name\": \"platform=NG\", \"showlegend\": true, \"type\": \"scatter\", \"x\": [1993.0, 1994.0, 1995.0, 1996.0], \"xaxis\": \"x\", \"y\": [0.21000000000000002, 0.7999999999999999, 0.33000000000000007, 0.1], \"yaxis\": \"y\"}, {\"hoverlabel\": {\"namelength\": 0}, \"hovertemplate\": \"platform=SCD<br>year_of_release=%{x}<br>sales_total=%{y}\", \"legendgroup\": \"platform=SCD\", \"line\": {\"color\": \"#FECB52\", \"dash\": \"solid\"}, \"mode\": \"lines\", \"name\": \"platform=SCD\", \"showlegend\": true, \"type\": \"scatter\", \"x\": [1993.0, 1994.0], \"xaxis\": \"x\", \"y\": [1.5, 0.36], \"yaxis\": \"y\"}, {\"hoverlabel\": {\"namelength\": 0}, \"hovertemplate\": \"platform=3DO<br>year_of_release=%{x}<br>sales_total=%{y}\", \"legendgroup\": \"platform=3DO\", \"line\": {\"color\": \"#636efa\", \"dash\": \"solid\"}, \"mode\": \"lines\", \"name\": \"platform=3DO\", \"showlegend\": true, \"type\": \"scatter\", \"x\": [1994.0, 1995.0], \"xaxis\": \"x\", \"y\": [0.02, 0.08], \"yaxis\": \"y\"}, {\"hoverlabel\": {\"namelength\": 0}, \"hovertemplate\": \"platform=PS<br>year_of_release=%{x}<br>sales_total=%{y}\", \"legendgroup\": \"platform=PS\", \"line\": {\"color\": \"#EF553B\", \"dash\": \"solid\"}, \"mode\": \"lines\", \"name\": \"platform=PS\", \"showlegend\": true, \"type\": \"scatter\", \"x\": [1994.0, 1995.0, 1996.0, 1997.0, 1998.0, 1999.0, 2000.0, 2001.0, 2002.0, 2003.0], \"xaxis\": \"x\", \"y\": [6.029999999999999, 35.96, 94.69999999999989, 136.16999999999996, 169.49000000000004, 144.53000000000046, 96.36999999999993, 35.59000000000001, 6.669999999999998, 2.0700000000000003], \"yaxis\": \"y\"}, {\"hoverlabel\": {\"namelength\": 0}, \"hovertemplate\": \"platform=SAT<br>year_of_release=%{x}<br>sales_total=%{y}\", \"legendgroup\": \"platform=SAT\", \"line\": {\"color\": \"#00cc96\", \"dash\": \"solid\"}, \"mode\": \"lines\", \"name\": \"platform=SAT\", \"showlegend\": true, \"type\": \"scatter\", \"x\": [1994.0, 1995.0, 1996.0, 1997.0, 1998.0, 1999.0], \"xaxis\": \"x\", \"y\": [3.6500000000000004, 11.57, 7.69, 6.7700000000000005, 3.819999999999999, 0.09], \"yaxis\": \"y\"}, {\"hoverlabel\": {\"namelength\": 0}, \"hovertemplate\": \"platform=TG16<br>year_of_release=%{x}<br>sales_total=%{y}\", \"legendgroup\": \"platform=TG16\", \"line\": {\"color\": \"#ab63fa\", \"dash\": \"solid\"}, \"mode\": \"lines\", \"name\": \"platform=TG16\", \"showlegend\": true, \"type\": \"scatter\", \"x\": [1995.0], \"xaxis\": \"x\", \"y\": [0.16], \"yaxis\": \"y\"}, {\"hoverlabel\": {\"namelength\": 0}, \"hovertemplate\": \"platform=N64<br>year_of_release=%{x}<br>sales_total=%{y}\", \"legendgroup\": \"platform=N64\", \"line\": {\"color\": \"#FFA15A\", \"dash\": \"solid\"}, \"mode\": \"lines\", \"name\": \"platform=N64\", \"showlegend\": true, \"type\": \"scatter\", \"x\": [1996.0, 1997.0, 1998.0, 1999.0, 2000.0, 2001.0, 2002.0], \"xaxis\": \"x\", \"y\": [34.1, 39.499999999999986, 49.24000000000002, 57.86999999999999, 33.96999999999999, 3.2500000000000004, 0.08], \"yaxis\": \"y\"}, {\"hoverlabel\": {\"namelength\": 0}, \"hovertemplate\": \"platform=PCFX<br>year_of_release=%{x}<br>sales_total=%{y}\", \"legendgroup\": \"platform=PCFX\", \"line\": {\"color\": \"#19d3f3\", \"dash\": \"solid\"}, \"mode\": \"lines\", \"name\": \"platform=PCFX\", \"showlegend\": true, \"type\": \"scatter\", \"x\": [1996.0], \"xaxis\": \"x\", \"y\": [0.03], \"yaxis\": \"y\"}, {\"hoverlabel\": {\"namelength\": 0}, \"hovertemplate\": \"platform=DC<br>year_of_release=%{x}<br>sales_total=%{y}\", \"legendgroup\": \"platform=DC\", \"line\": {\"color\": \"#FF6692\", \"dash\": \"solid\"}, \"mode\": \"lines\", \"name\": \"platform=DC\", \"showlegend\": true, \"type\": \"scatter\", \"x\": [1998.0, 1999.0, 2000.0, 2001.0, 2002.0, 2007.0, 2008.0], \"xaxis\": \"x\", \"y\": [3.3800000000000003, 5.159999999999999, 5.989999999999998, 1.07, 0.29, 0.02, 0.04], \"yaxis\": \"y\"}, {\"hoverlabel\": {\"namelength\": 0}, \"hovertemplate\": \"platform=WS<br>year_of_release=%{x}<br>sales_total=%{y}\", \"legendgroup\": \"platform=WS\", \"line\": {\"color\": \"#B6E880\", \"dash\": \"solid\"}, \"mode\": \"lines\", \"name\": \"platform=WS\", \"showlegend\": true, \"type\": \"scatter\", \"x\": [1999.0, 2000.0, 2001.0], \"xaxis\": \"x\", \"y\": [0.46, 0.68, 0.28], \"yaxis\": \"y\"}, {\"hoverlabel\": {\"namelength\": 0}, \"hovertemplate\": \"platform=GBA<br>year_of_release=%{x}<br>sales_total=%{y}\", \"legendgroup\": \"platform=GBA\", \"line\": {\"color\": \"#FF97FF\", \"dash\": \"solid\"}, \"mode\": \"lines\", \"name\": \"platform=GBA\", \"showlegend\": true, \"type\": \"scatter\", \"x\": [2000.0, 2001.0, 2002.0, 2003.0, 2004.0, 2005.0, 2006.0, 2007.0], \"xaxis\": \"x\", \"y\": [0.07, 61.52999999999999, 74.16000000000012, 56.66999999999993, 77.91000000000005, 33.86000000000001, 5.280000000000001, 3.3999999999999995], \"yaxis\": \"y\"}, {\"hoverlabel\": {\"namelength\": 0}, \"hovertemplate\": \"platform=PS2<br>year_of_release=%{x}<br>sales_total=%{y}\", \"legendgroup\": \"platform=PS2\", \"line\": {\"color\": \"#FECB52\", \"dash\": \"solid\"}, \"mode\": \"lines\", \"name\": \"platform=PS2\", \"showlegend\": true, \"type\": \"scatter\", \"x\": [2000.0, 2001.0, 2002.0, 2003.0, 2004.0, 2005.0, 2006.0, 2007.0, 2008.0, 2009.0, 2010.0, 2011.0], \"xaxis\": \"x\", \"y\": [39.170000000000016, 166.43000000000012, 205.37999999999997, 184.30999999999986, 211.80999999999992, 160.6600000000002, 103.41999999999989, 75.99000000000001, 53.90000000000004, 26.400000000000006, 5.639999999999996, 0.45], \"yaxis\": \"y\"}, {\"hoverlabel\": {\"namelength\": 0}, \"hovertemplate\": \"platform=XB<br>year_of_release=%{x}<br>sales_total=%{y}\", \"legendgroup\": \"platform=XB\", \"line\": {\"color\": \"#636efa\", \"dash\": \"solid\"}, \"mode\": \"lines\", \"name\": \"platform=XB\", \"showlegend\": true, \"type\": \"scatter\", \"x\": [2000.0, 2001.0, 2002.0, 2003.0, 2004.0, 2005.0, 2006.0, 2007.0, 2008.0], \"xaxis\": \"x\", \"y\": [0.99, 22.259999999999994, 48.01000000000002, 55.040000000000006, 65.42000000000004, 49.08000000000003, 10.03999999999999, 0.55, 0.18000000000000002], \"yaxis\": \"y\"}, {\"hoverlabel\": {\"namelength\": 0}, \"hovertemplate\": \"platform=GC<br>year_of_release=%{x}<br>sales_total=%{y}\", \"legendgroup\": \"platform=GC\", \"line\": {\"color\": \"#EF553B\", \"dash\": \"solid\"}, \"mode\": \"lines\", \"name\": \"platform=GC\", \"showlegend\": true, \"type\": \"scatter\", \"x\": [2001.0, 2002.0, 2003.0, 2004.0, 2005.0, 2006.0, 2007.0], \"xaxis\": \"x\", \"y\": [26.34, 51.809999999999995, 50.609999999999964, 28.81999999999999, 27.619999999999976, 11.26, 0.27], \"yaxis\": \"y\"}, {\"hoverlabel\": {\"namelength\": 0}, \"hovertemplate\": \"platform=PSP<br>year_of_release=%{x}<br>sales_total=%{y}\", \"legendgroup\": \"platform=PSP\", \"line\": {\"color\": \"#00cc96\", \"dash\": \"solid\"}, \"mode\": \"lines\", \"name\": \"platform=PSP\", \"showlegend\": true, \"type\": \"scatter\", \"x\": [2004.0, 2005.0, 2006.0, 2007.0, 2008.0, 2009.0, 2010.0, 2011.0, 2012.0, 2013.0, 2014.0, 2015.0], \"xaxis\": \"x\", \"y\": [7.06, 43.83999999999999, 55.32000000000003, 46.930000000000014, 34.55000000000005, 37.780000000000044, 35.04000000000007, 17.820000000000014, 7.68999999999999, 3.139999999999996, 0.24000000000000005, 0.12000000000000001], \"yaxis\": \"y\"}, {\"hoverlabel\": {\"namelength\": 0}, \"hovertemplate\": \"platform=X360<br>year_of_release=%{x}<br>sales_total=%{y}\", \"legendgroup\": \"platform=X360\", \"line\": {\"color\": \"#ab63fa\", \"dash\": \"solid\"}, \"mode\": \"lines\", \"name\": \"platform=X360\", \"showlegend\": true, \"type\": \"scatter\", \"x\": [2005.0, 2006.0, 2007.0, 2008.0, 2009.0, 2010.0, 2011.0, 2012.0, 2013.0, 2014.0, 2015.0, 2016.0], \"xaxis\": \"x\", \"y\": [8.25, 51.62, 95.41000000000001, 135.26000000000005, 120.29, 170.02999999999992, 143.8400000000003, 99.7400000000001, 88.58000000000008, 34.739999999999995, 11.959999999999997, 1.5200000000000002], \"yaxis\": \"y\"}, {\"hoverlabel\": {\"namelength\": 0}, \"hovertemplate\": \"platform=PS3<br>year_of_release=%{x}<br>sales_total=%{y}\", \"legendgroup\": \"platform=PS3\", \"line\": {\"color\": \"#FFA15A\", \"dash\": \"solid\"}, \"mode\": \"lines\", \"name\": \"platform=PS3\", \"showlegend\": true, \"type\": \"scatter\", \"x\": [2006.0, 2007.0, 2008.0, 2009.0, 2010.0, 2011.0, 2012.0, 2013.0, 2014.0, 2015.0, 2016.0], \"xaxis\": \"x\", \"y\": [20.960000000000004, 73.19000000000001, 118.52000000000001, 130.9300000000001, 142.17000000000004, 156.7800000000001, 107.36000000000001, 113.24999999999999, 47.76000000000002, 16.820000000000007, 3.5999999999999988], \"yaxis\": \"y\"}, {\"hoverlabel\": {\"namelength\": 0}, \"hovertemplate\": \"platform=Wii<br>year_of_release=%{x}<br>sales_total=%{y}\", \"legendgroup\": \"platform=Wii\", \"line\": {\"color\": \"#19d3f3\", \"dash\": \"solid\"}, \"mode\": \"lines\", \"name\": \"platform=Wii\", \"showlegend\": true, \"type\": \"scatter\", \"x\": [2006.0, 2007.0, 2008.0, 2009.0, 2010.0, 2011.0, 2012.0, 2013.0, 2014.0, 2015.0, 2016.0], \"xaxis\": \"x\", \"y\": [137.14999999999992, 152.76999999999998, 171.31999999999996, 206.97000000000028, 127.95, 59.65000000000003, 21.710000000000008, 8.59, 3.75, 1.14, 0.18], \"yaxis\": \"y\"}, {\"hoverlabel\": {\"namelength\": 0}, \"hovertemplate\": \"platform=3DS<br>year_of_release=%{x}<br>sales_total=%{y}\", \"legendgroup\": \"platform=3DS\", \"line\": {\"color\": \"#FF6692\", \"dash\": \"solid\"}, \"mode\": \"lines\", \"name\": \"platform=3DS\", \"showlegend\": true, \"type\": \"scatter\", \"x\": [2011.0, 2012.0, 2013.0, 2014.0, 2015.0, 2016.0], \"xaxis\": \"x\", \"y\": [63.2, 51.36000000000002, 56.57, 43.76000000000003, 27.78, 15.13999999999999], \"yaxis\": \"y\"}, {\"hoverlabel\": {\"namelength\": 0}, \"hovertemplate\": \"platform=PSV<br>year_of_release=%{x}<br>sales_total=%{y}\", \"legendgroup\": \"platform=PSV\", \"line\": {\"color\": \"#B6E880\", \"dash\": \"solid\"}, \"mode\": \"lines\", \"name\": \"platform=PSV\", \"showlegend\": true, \"type\": \"scatter\", \"x\": [2011.0, 2012.0, 2013.0, 2014.0, 2015.0, 2016.0], \"xaxis\": \"x\", \"y\": [4.629999999999998, 16.190000000000005, 10.589999999999995, 11.899999999999988, 6.249999999999988, 4.249999999999992], \"yaxis\": \"y\"}, {\"hoverlabel\": {\"namelength\": 0}, \"hovertemplate\": \"platform=WiiU<br>year_of_release=%{x}<br>sales_total=%{y}\", \"legendgroup\": \"platform=WiiU\", \"line\": {\"color\": \"#FF97FF\", \"dash\": \"solid\"}, \"mode\": \"lines\", \"name\": \"platform=WiiU\", \"showlegend\": true, \"type\": \"scatter\", \"x\": [2012.0, 2013.0, 2014.0, 2015.0, 2016.0], \"xaxis\": \"x\", \"y\": [17.559999999999995, 21.65, 22.029999999999994, 16.35000000000001, 4.6000000000000005], \"yaxis\": \"y\"}, {\"hoverlabel\": {\"namelength\": 0}, \"hovertemplate\": \"platform=PS4<br>year_of_release=%{x}<br>sales_total=%{y}\", \"legendgroup\": \"platform=PS4\", \"line\": {\"color\": \"#FECB52\", \"dash\": \"solid\"}, \"mode\": \"lines\", \"name\": \"platform=PS4\", \"showlegend\": true, \"type\": \"scatter\", \"x\": [2013.0, 2014.0, 2015.0, 2016.0], \"xaxis\": \"x\", \"y\": [25.990000000000002, 99.99999999999996, 118.90000000000008, 69.25000000000001], \"yaxis\": \"y\"}, {\"hoverlabel\": {\"namelength\": 0}, \"hovertemplate\": \"platform=XOne<br>year_of_release=%{x}<br>sales_total=%{y}\", \"legendgroup\": \"platform=XOne\", \"line\": {\"color\": \"#636efa\", \"dash\": \"solid\"}, \"mode\": \"lines\", \"name\": \"platform=XOne\", \"showlegend\": true, \"type\": \"scatter\", \"x\": [2013.0, 2014.0, 2015.0, 2016.0], \"xaxis\": \"x\", \"y\": [18.959999999999994, 54.06999999999999, 60.14000000000002, 26.15000000000002], \"yaxis\": \"y\"}],\n",
              "                        {\"legend\": {\"tracegroupgap\": 0}, \"template\": {\"data\": {\"bar\": [{\"error_x\": {\"color\": \"#2a3f5f\"}, \"error_y\": {\"color\": \"#2a3f5f\"}, \"marker\": {\"line\": {\"color\": \"#E5ECF6\", \"width\": 0.5}}, \"type\": \"bar\"}], \"barpolar\": [{\"marker\": {\"line\": {\"color\": \"#E5ECF6\", \"width\": 0.5}}, \"type\": \"barpolar\"}], \"carpet\": [{\"aaxis\": {\"endlinecolor\": \"#2a3f5f\", \"gridcolor\": \"white\", \"linecolor\": \"white\", \"minorgridcolor\": \"white\", \"startlinecolor\": \"#2a3f5f\"}, \"baxis\": {\"endlinecolor\": \"#2a3f5f\", \"gridcolor\": \"white\", \"linecolor\": \"white\", \"minorgridcolor\": \"white\", \"startlinecolor\": \"#2a3f5f\"}, \"type\": \"carpet\"}], \"choropleth\": [{\"colorbar\": {\"outlinewidth\": 0, \"ticks\": \"\"}, \"type\": \"choropleth\"}], \"contour\": [{\"colorbar\": {\"outlinewidth\": 0, \"ticks\": \"\"}, \"colorscale\": [[0.0, \"#0d0887\"], [0.1111111111111111, \"#46039f\"], [0.2222222222222222, \"#7201a8\"], [0.3333333333333333, \"#9c179e\"], [0.4444444444444444, \"#bd3786\"], [0.5555555555555556, \"#d8576b\"], [0.6666666666666666, \"#ed7953\"], [0.7777777777777778, \"#fb9f3a\"], [0.8888888888888888, \"#fdca26\"], [1.0, \"#f0f921\"]], \"type\": \"contour\"}], \"contourcarpet\": [{\"colorbar\": {\"outlinewidth\": 0, \"ticks\": \"\"}, \"type\": \"contourcarpet\"}], \"heatmap\": [{\"colorbar\": {\"outlinewidth\": 0, \"ticks\": \"\"}, \"colorscale\": [[0.0, \"#0d0887\"], [0.1111111111111111, \"#46039f\"], [0.2222222222222222, \"#7201a8\"], [0.3333333333333333, \"#9c179e\"], [0.4444444444444444, \"#bd3786\"], [0.5555555555555556, \"#d8576b\"], [0.6666666666666666, \"#ed7953\"], [0.7777777777777778, \"#fb9f3a\"], [0.8888888888888888, \"#fdca26\"], [1.0, \"#f0f921\"]], \"type\": \"heatmap\"}], \"heatmapgl\": [{\"colorbar\": {\"outlinewidth\": 0, \"ticks\": \"\"}, \"colorscale\": [[0.0, \"#0d0887\"], [0.1111111111111111, \"#46039f\"], [0.2222222222222222, \"#7201a8\"], [0.3333333333333333, \"#9c179e\"], [0.4444444444444444, \"#bd3786\"], [0.5555555555555556, \"#d8576b\"], [0.6666666666666666, \"#ed7953\"], [0.7777777777777778, \"#fb9f3a\"], [0.8888888888888888, \"#fdca26\"], [1.0, \"#f0f921\"]], \"type\": \"heatmapgl\"}], \"histogram\": [{\"marker\": {\"colorbar\": {\"outlinewidth\": 0, \"ticks\": \"\"}}, \"type\": \"histogram\"}], \"histogram2d\": [{\"colorbar\": {\"outlinewidth\": 0, \"ticks\": \"\"}, \"colorscale\": [[0.0, \"#0d0887\"], [0.1111111111111111, \"#46039f\"], [0.2222222222222222, \"#7201a8\"], [0.3333333333333333, \"#9c179e\"], [0.4444444444444444, \"#bd3786\"], [0.5555555555555556, \"#d8576b\"], [0.6666666666666666, \"#ed7953\"], [0.7777777777777778, \"#fb9f3a\"], [0.8888888888888888, \"#fdca26\"], [1.0, \"#f0f921\"]], \"type\": \"histogram2d\"}], \"histogram2dcontour\": [{\"colorbar\": {\"outlinewidth\": 0, \"ticks\": \"\"}, \"colorscale\": [[0.0, \"#0d0887\"], [0.1111111111111111, \"#46039f\"], [0.2222222222222222, \"#7201a8\"], [0.3333333333333333, \"#9c179e\"], [0.4444444444444444, \"#bd3786\"], [0.5555555555555556, \"#d8576b\"], [0.6666666666666666, \"#ed7953\"], [0.7777777777777778, \"#fb9f3a\"], [0.8888888888888888, \"#fdca26\"], [1.0, \"#f0f921\"]], \"type\": \"histogram2dcontour\"}], \"mesh3d\": [{\"colorbar\": {\"outlinewidth\": 0, \"ticks\": \"\"}, \"type\": \"mesh3d\"}], \"parcoords\": [{\"line\": {\"colorbar\": {\"outlinewidth\": 0, \"ticks\": \"\"}}, \"type\": \"parcoords\"}], \"pie\": [{\"automargin\": true, \"type\": \"pie\"}], \"scatter\": [{\"marker\": {\"colorbar\": {\"outlinewidth\": 0, \"ticks\": \"\"}}, \"type\": \"scatter\"}], \"scatter3d\": [{\"line\": {\"colorbar\": {\"outlinewidth\": 0, \"ticks\": \"\"}}, \"marker\": {\"colorbar\": {\"outlinewidth\": 0, \"ticks\": \"\"}}, \"type\": \"scatter3d\"}], \"scattercarpet\": [{\"marker\": {\"colorbar\": {\"outlinewidth\": 0, \"ticks\": \"\"}}, \"type\": \"scattercarpet\"}], \"scattergeo\": [{\"marker\": {\"colorbar\": {\"outlinewidth\": 0, \"ticks\": \"\"}}, \"type\": \"scattergeo\"}], \"scattergl\": [{\"marker\": {\"colorbar\": {\"outlinewidth\": 0, \"ticks\": \"\"}}, \"type\": \"scattergl\"}], \"scattermapbox\": [{\"marker\": {\"colorbar\": {\"outlinewidth\": 0, \"ticks\": \"\"}}, \"type\": \"scattermapbox\"}], \"scatterpolar\": [{\"marker\": {\"colorbar\": {\"outlinewidth\": 0, \"ticks\": \"\"}}, \"type\": \"scatterpolar\"}], \"scatterpolargl\": [{\"marker\": {\"colorbar\": {\"outlinewidth\": 0, \"ticks\": \"\"}}, \"type\": \"scatterpolargl\"}], \"scatterternary\": [{\"marker\": {\"colorbar\": {\"outlinewidth\": 0, \"ticks\": \"\"}}, \"type\": \"scatterternary\"}], \"surface\": [{\"colorbar\": {\"outlinewidth\": 0, \"ticks\": \"\"}, \"colorscale\": [[0.0, \"#0d0887\"], [0.1111111111111111, \"#46039f\"], [0.2222222222222222, \"#7201a8\"], [0.3333333333333333, \"#9c179e\"], [0.4444444444444444, \"#bd3786\"], [0.5555555555555556, \"#d8576b\"], [0.6666666666666666, \"#ed7953\"], [0.7777777777777778, \"#fb9f3a\"], [0.8888888888888888, \"#fdca26\"], [1.0, \"#f0f921\"]], \"type\": \"surface\"}], \"table\": [{\"cells\": {\"fill\": {\"color\": \"#EBF0F8\"}, \"line\": {\"color\": \"white\"}}, \"header\": {\"fill\": {\"color\": \"#C8D4E3\"}, \"line\": {\"color\": \"white\"}}, \"type\": \"table\"}]}, \"layout\": {\"annotationdefaults\": {\"arrowcolor\": \"#2a3f5f\", \"arrowhead\": 0, \"arrowwidth\": 1}, \"coloraxis\": {\"colorbar\": {\"outlinewidth\": 0, \"ticks\": \"\"}}, \"colorscale\": {\"diverging\": [[0, \"#8e0152\"], [0.1, \"#c51b7d\"], [0.2, \"#de77ae\"], [0.3, \"#f1b6da\"], [0.4, \"#fde0ef\"], [0.5, \"#f7f7f7\"], [0.6, \"#e6f5d0\"], [0.7, \"#b8e186\"], [0.8, \"#7fbc41\"], [0.9, \"#4d9221\"], [1, \"#276419\"]], \"sequential\": [[0.0, \"#0d0887\"], [0.1111111111111111, \"#46039f\"], [0.2222222222222222, \"#7201a8\"], [0.3333333333333333, \"#9c179e\"], [0.4444444444444444, \"#bd3786\"], [0.5555555555555556, \"#d8576b\"], [0.6666666666666666, \"#ed7953\"], [0.7777777777777778, \"#fb9f3a\"], [0.8888888888888888, \"#fdca26\"], [1.0, \"#f0f921\"]], \"sequentialminus\": [[0.0, \"#0d0887\"], [0.1111111111111111, \"#46039f\"], [0.2222222222222222, \"#7201a8\"], [0.3333333333333333, \"#9c179e\"], [0.4444444444444444, \"#bd3786\"], [0.5555555555555556, \"#d8576b\"], [0.6666666666666666, \"#ed7953\"], [0.7777777777777778, \"#fb9f3a\"], [0.8888888888888888, \"#fdca26\"], [1.0, \"#f0f921\"]]}, \"colorway\": [\"#636efa\", \"#EF553B\", \"#00cc96\", \"#ab63fa\", \"#FFA15A\", \"#19d3f3\", \"#FF6692\", \"#B6E880\", \"#FF97FF\", \"#FECB52\"], \"font\": {\"color\": \"#2a3f5f\"}, \"geo\": {\"bgcolor\": \"white\", \"lakecolor\": \"white\", \"landcolor\": \"#E5ECF6\", \"showlakes\": true, \"showland\": true, \"subunitcolor\": \"white\"}, \"hoverlabel\": {\"align\": \"left\"}, \"hovermode\": \"closest\", \"mapbox\": {\"style\": \"light\"}, \"paper_bgcolor\": \"white\", \"plot_bgcolor\": \"#E5ECF6\", \"polar\": {\"angularaxis\": {\"gridcolor\": \"white\", \"linecolor\": \"white\", \"ticks\": \"\"}, \"bgcolor\": \"#E5ECF6\", \"radialaxis\": {\"gridcolor\": \"white\", \"linecolor\": \"white\", \"ticks\": \"\"}}, \"scene\": {\"xaxis\": {\"backgroundcolor\": \"#E5ECF6\", \"gridcolor\": \"white\", \"gridwidth\": 2, \"linecolor\": \"white\", \"showbackground\": true, \"ticks\": \"\", \"zerolinecolor\": \"white\"}, \"yaxis\": {\"backgroundcolor\": \"#E5ECF6\", \"gridcolor\": \"white\", \"gridwidth\": 2, \"linecolor\": \"white\", \"showbackground\": true, \"ticks\": \"\", \"zerolinecolor\": \"white\"}, \"zaxis\": {\"backgroundcolor\": \"#E5ECF6\", \"gridcolor\": \"white\", \"gridwidth\": 2, \"linecolor\": \"white\", \"showbackground\": true, \"ticks\": \"\", \"zerolinecolor\": \"white\"}}, \"shapedefaults\": {\"line\": {\"color\": \"#2a3f5f\"}}, \"ternary\": {\"aaxis\": {\"gridcolor\": \"white\", \"linecolor\": \"white\", \"ticks\": \"\"}, \"baxis\": {\"gridcolor\": \"white\", \"linecolor\": \"white\", \"ticks\": \"\"}, \"bgcolor\": \"#E5ECF6\", \"caxis\": {\"gridcolor\": \"white\", \"linecolor\": \"white\", \"ticks\": \"\"}}, \"title\": {\"x\": 0.05}, \"xaxis\": {\"automargin\": true, \"gridcolor\": \"white\", \"linecolor\": \"white\", \"ticks\": \"\", \"title\": {\"standoff\": 15}, \"zerolinecolor\": \"white\", \"zerolinewidth\": 2}, \"yaxis\": {\"automargin\": true, \"gridcolor\": \"white\", \"linecolor\": \"white\", \"ticks\": \"\", \"title\": {\"standoff\": 15}, \"zerolinecolor\": \"white\", \"zerolinewidth\": 2}}}, \"title\": {\"text\": \"\\u0414\\u0438\\u043d\\u0430\\u043c\\u0438\\u043a\\u0430 \\u043f\\u0440\\u043e\\u0434\\u0430\\u0436 \\u043f\\u043e \\u0433\\u043e\\u0434\\u0430\\u043c\"}, \"xaxis\": {\"anchor\": \"y\", \"domain\": [0.0, 1.0], \"title\": {\"text\": \"year_of_release\"}}, \"yaxis\": {\"anchor\": \"x\", \"domain\": [0.0, 1.0], \"title\": {\"text\": \"sales_total\"}}},\n",
              "                        {\"responsive\": true}\n",
              "                    ).then(function(){\n",
              "                            \n",
              "var gd = document.getElementById('83568280-df7b-4717-a371-fd01d2128ce8');\n",
              "var x = new MutationObserver(function (mutations, observer) {{\n",
              "        var display = window.getComputedStyle(gd).display;\n",
              "        if (!display || display === 'none') {{\n",
              "            console.log([gd, 'removed!']);\n",
              "            Plotly.purge(gd);\n",
              "            observer.disconnect();\n",
              "        }}\n",
              "}});\n",
              "\n",
              "// Listen for the removal of the full notebook cells\n",
              "var notebookContainer = gd.closest('#notebook-container');\n",
              "if (notebookContainer) {{\n",
              "    x.observe(notebookContainer, {childList: true});\n",
              "}}\n",
              "\n",
              "// Listen for the clearing of the current output cell\n",
              "var outputEl = gd.closest('.output');\n",
              "if (outputEl) {{\n",
              "    x.observe(outputEl, {childList: true});\n",
              "}}\n",
              "\n",
              "                        })\n",
              "                };\n",
              "                \n",
              "            </script>\n",
              "        </div>\n",
              "</body>\n",
              "</html>"
            ]
          },
          "metadata": {}
        }
      ]
    },
    {
      "cell_type": "markdown",
      "metadata": {
        "id": "lsZ1kiabphOU"
      },
      "source": [
        "Посмотрим на топ платформ по продажам:"
      ]
    },
    {
      "cell_type": "code",
      "metadata": {
        "colab": {
          "base_uri": "https://localhost:8080/",
          "height": 390
        },
        "id": "1f69nRx2phOU",
        "outputId": "e93a2491-8ffb-47f1-9aeb-cdd9490f3cbd"
      },
      "source": [
        "games.groupby('platform')['sales_total'].sum().to_frame('sales_total').sort_values(by='sales_total', ascending=False).head(10)"
      ],
      "execution_count": 20,
      "outputs": [
        {
          "output_type": "execute_result",
          "data": {
            "text/html": [
              "<div>\n",
              "<style scoped>\n",
              "    .dataframe tbody tr th:only-of-type {\n",
              "        vertical-align: middle;\n",
              "    }\n",
              "\n",
              "    .dataframe tbody tr th {\n",
              "        vertical-align: top;\n",
              "    }\n",
              "\n",
              "    .dataframe thead th {\n",
              "        text-align: right;\n",
              "    }\n",
              "</style>\n",
              "<table border=\"1\" class=\"dataframe\">\n",
              "  <thead>\n",
              "    <tr style=\"text-align: right;\">\n",
              "      <th></th>\n",
              "      <th>sales_total</th>\n",
              "    </tr>\n",
              "    <tr>\n",
              "      <th>platform</th>\n",
              "      <th></th>\n",
              "    </tr>\n",
              "  </thead>\n",
              "  <tbody>\n",
              "    <tr>\n",
              "      <th>PS2</th>\n",
              "      <td>1255.77</td>\n",
              "    </tr>\n",
              "    <tr>\n",
              "      <th>X360</th>\n",
              "      <td>971.42</td>\n",
              "    </tr>\n",
              "    <tr>\n",
              "      <th>PS3</th>\n",
              "      <td>939.65</td>\n",
              "    </tr>\n",
              "    <tr>\n",
              "      <th>Wii</th>\n",
              "      <td>907.51</td>\n",
              "    </tr>\n",
              "    <tr>\n",
              "      <th>DS</th>\n",
              "      <td>806.12</td>\n",
              "    </tr>\n",
              "    <tr>\n",
              "      <th>PS</th>\n",
              "      <td>730.86</td>\n",
              "    </tr>\n",
              "    <tr>\n",
              "      <th>GBA</th>\n",
              "      <td>317.85</td>\n",
              "    </tr>\n",
              "    <tr>\n",
              "      <th>PS4</th>\n",
              "      <td>314.14</td>\n",
              "    </tr>\n",
              "    <tr>\n",
              "      <th>PSP</th>\n",
              "      <td>294.05</td>\n",
              "    </tr>\n",
              "    <tr>\n",
              "      <th>PC</th>\n",
              "      <td>259.52</td>\n",
              "    </tr>\n",
              "  </tbody>\n",
              "</table>\n",
              "</div>"
            ],
            "text/plain": [
              "          sales_total\n",
              "platform             \n",
              "PS2           1255.77\n",
              "X360           971.42\n",
              "PS3            939.65\n",
              "Wii            907.51\n",
              "DS             806.12\n",
              "PS             730.86\n",
              "GBA            317.85\n",
              "PS4            314.14\n",
              "PSP            294.05\n",
              "PC             259.52"
            ]
          },
          "metadata": {},
          "execution_count": 20
        }
      ]
    },
    {
      "cell_type": "markdown",
      "metadata": {
        "id": "0jLhH_2TphOV"
      },
      "source": [
        "<br/><a name=\"3.3.2.\"></a>\n",
        "<b>3.3.2. График динамики продаж по годам по топ-6 платформ:</b></br><br/>\n",
        "<font size=\"2\">([к содержанию](#0.0))</font>"
      ]
    },
    {
      "cell_type": "code",
      "metadata": {
        "colab": {
          "base_uri": "https://localhost:8080/",
          "height": 541
        },
        "id": "zqcUE2FFphOV",
        "outputId": "03c98341-3058-4da8-9449-0a88d2d25549"
      },
      "source": [
        "fig = px.line(games.query('platform == \"PS2\" or platform == \"X360\" or platform == \"PS3\" or platform == \"Wii\" or platform == \"DS\" or platform == \"PS\"').pivot_table(index = ['year_of_release', 'platform'], values = 'sales_total', aggfunc = 'sum').reset_index(),\n",
        "             x = 'year_of_release', y = 'sales_total', color = 'platform', title='Динамика продаж по годам топ-6 платформ')\n",
        "fig.show()"
      ],
      "execution_count": 21,
      "outputs": [
        {
          "output_type": "display_data",
          "data": {
            "text/html": [
              "<html>\n",
              "<head><meta charset=\"utf-8\" /></head>\n",
              "<body>\n",
              "    <div>\n",
              "            <script src=\"https://cdnjs.cloudflare.com/ajax/libs/mathjax/2.7.5/MathJax.js?config=TeX-AMS-MML_SVG\"></script><script type=\"text/javascript\">if (window.MathJax) {MathJax.Hub.Config({SVG: {font: \"STIX-Web\"}});}</script>\n",
              "                <script type=\"text/javascript\">window.PlotlyConfig = {MathJaxConfig: 'local'};</script>\n",
              "        <script src=\"https://cdn.plot.ly/plotly-latest.min.js\"></script>    \n",
              "            <div id=\"75db472e-6504-4d69-81ab-e123ff7ce455\" class=\"plotly-graph-div\" style=\"height:525px; width:100%;\"></div>\n",
              "            <script type=\"text/javascript\">\n",
              "                \n",
              "                    window.PLOTLYENV=window.PLOTLYENV || {};\n",
              "                    \n",
              "                if (document.getElementById(\"75db472e-6504-4d69-81ab-e123ff7ce455\")) {\n",
              "                    Plotly.newPlot(\n",
              "                        '75db472e-6504-4d69-81ab-e123ff7ce455',\n",
              "                        [{\"hoverlabel\": {\"namelength\": 0}, \"hovertemplate\": \"platform=DS<br>year_of_release=%{x}<br>sales_total=%{y}\", \"legendgroup\": \"platform=DS\", \"line\": {\"color\": \"#636efa\", \"dash\": \"solid\"}, \"mode\": \"lines\", \"name\": \"platform=DS\", \"showlegend\": true, \"type\": \"scatter\", \"x\": [1985.0, 2004.0, 2005.0, 2006.0, 2007.0, 2008.0, 2009.0, 2010.0, 2011.0, 2012.0, 2013.0], \"xaxis\": \"x\", \"y\": [0.02, 17.269999999999996, 130.14000000000013, 119.80999999999999, 146.9400000000003, 145.31000000000074, 119.54000000000009, 85.02, 26.179999999999996, 11.009999999999996, 1.54], \"yaxis\": \"y\"}, {\"hoverlabel\": {\"namelength\": 0}, \"hovertemplate\": \"platform=PS<br>year_of_release=%{x}<br>sales_total=%{y}\", \"legendgroup\": \"platform=PS\", \"line\": {\"color\": \"#EF553B\", \"dash\": \"solid\"}, \"mode\": \"lines\", \"name\": \"platform=PS\", \"showlegend\": true, \"type\": \"scatter\", \"x\": [1994.0, 1995.0, 1996.0, 1997.0, 1998.0, 1999.0, 2000.0, 2001.0, 2002.0, 2003.0], \"xaxis\": \"x\", \"y\": [6.029999999999999, 35.96, 94.69999999999989, 136.16999999999996, 169.49000000000004, 144.53000000000046, 96.36999999999993, 35.59000000000001, 6.669999999999998, 2.0700000000000003], \"yaxis\": \"y\"}, {\"hoverlabel\": {\"namelength\": 0}, \"hovertemplate\": \"platform=PS2<br>year_of_release=%{x}<br>sales_total=%{y}\", \"legendgroup\": \"platform=PS2\", \"line\": {\"color\": \"#00cc96\", \"dash\": \"solid\"}, \"mode\": \"lines\", \"name\": \"platform=PS2\", \"showlegend\": true, \"type\": \"scatter\", \"x\": [2000.0, 2001.0, 2002.0, 2003.0, 2004.0, 2005.0, 2006.0, 2007.0, 2008.0, 2009.0, 2010.0, 2011.0], \"xaxis\": \"x\", \"y\": [39.170000000000016, 166.43000000000012, 205.37999999999997, 184.30999999999986, 211.80999999999992, 160.6600000000002, 103.41999999999989, 75.99000000000001, 53.90000000000004, 26.400000000000006, 5.639999999999996, 0.45], \"yaxis\": \"y\"}, {\"hoverlabel\": {\"namelength\": 0}, \"hovertemplate\": \"platform=X360<br>year_of_release=%{x}<br>sales_total=%{y}\", \"legendgroup\": \"platform=X360\", \"line\": {\"color\": \"#ab63fa\", \"dash\": \"solid\"}, \"mode\": \"lines\", \"name\": \"platform=X360\", \"showlegend\": true, \"type\": \"scatter\", \"x\": [2005.0, 2006.0, 2007.0, 2008.0, 2009.0, 2010.0, 2011.0, 2012.0, 2013.0, 2014.0, 2015.0, 2016.0], \"xaxis\": \"x\", \"y\": [8.25, 51.62, 95.41000000000001, 135.26000000000005, 120.29, 170.02999999999992, 143.8400000000003, 99.7400000000001, 88.58000000000008, 34.739999999999995, 11.959999999999997, 1.5200000000000002], \"yaxis\": \"y\"}, {\"hoverlabel\": {\"namelength\": 0}, \"hovertemplate\": \"platform=PS3<br>year_of_release=%{x}<br>sales_total=%{y}\", \"legendgroup\": \"platform=PS3\", \"line\": {\"color\": \"#FFA15A\", \"dash\": \"solid\"}, \"mode\": \"lines\", \"name\": \"platform=PS3\", \"showlegend\": true, \"type\": \"scatter\", \"x\": [2006.0, 2007.0, 2008.0, 2009.0, 2010.0, 2011.0, 2012.0, 2013.0, 2014.0, 2015.0, 2016.0], \"xaxis\": \"x\", \"y\": [20.960000000000004, 73.19000000000001, 118.52000000000001, 130.9300000000001, 142.17000000000004, 156.7800000000001, 107.36000000000001, 113.24999999999999, 47.76000000000002, 16.820000000000007, 3.5999999999999988], \"yaxis\": \"y\"}, {\"hoverlabel\": {\"namelength\": 0}, \"hovertemplate\": \"platform=Wii<br>year_of_release=%{x}<br>sales_total=%{y}\", \"legendgroup\": \"platform=Wii\", \"line\": {\"color\": \"#19d3f3\", \"dash\": \"solid\"}, \"mode\": \"lines\", \"name\": \"platform=Wii\", \"showlegend\": true, \"type\": \"scatter\", \"x\": [2006.0, 2007.0, 2008.0, 2009.0, 2010.0, 2011.0, 2012.0, 2013.0, 2014.0, 2015.0, 2016.0], \"xaxis\": \"x\", \"y\": [137.14999999999992, 152.76999999999998, 171.31999999999996, 206.97000000000028, 127.95, 59.65000000000003, 21.710000000000008, 8.59, 3.75, 1.14, 0.18], \"yaxis\": \"y\"}],\n",
              "                        {\"legend\": {\"tracegroupgap\": 0}, \"template\": {\"data\": {\"bar\": [{\"error_x\": {\"color\": \"#2a3f5f\"}, \"error_y\": {\"color\": \"#2a3f5f\"}, \"marker\": {\"line\": {\"color\": \"#E5ECF6\", \"width\": 0.5}}, \"type\": \"bar\"}], \"barpolar\": [{\"marker\": {\"line\": {\"color\": \"#E5ECF6\", \"width\": 0.5}}, \"type\": \"barpolar\"}], \"carpet\": [{\"aaxis\": {\"endlinecolor\": \"#2a3f5f\", \"gridcolor\": \"white\", \"linecolor\": \"white\", \"minorgridcolor\": \"white\", \"startlinecolor\": \"#2a3f5f\"}, \"baxis\": {\"endlinecolor\": \"#2a3f5f\", \"gridcolor\": \"white\", \"linecolor\": \"white\", \"minorgridcolor\": \"white\", \"startlinecolor\": \"#2a3f5f\"}, \"type\": \"carpet\"}], \"choropleth\": [{\"colorbar\": {\"outlinewidth\": 0, \"ticks\": \"\"}, \"type\": \"choropleth\"}], \"contour\": [{\"colorbar\": {\"outlinewidth\": 0, \"ticks\": \"\"}, \"colorscale\": [[0.0, \"#0d0887\"], [0.1111111111111111, \"#46039f\"], [0.2222222222222222, \"#7201a8\"], [0.3333333333333333, \"#9c179e\"], [0.4444444444444444, \"#bd3786\"], [0.5555555555555556, \"#d8576b\"], [0.6666666666666666, \"#ed7953\"], [0.7777777777777778, \"#fb9f3a\"], [0.8888888888888888, \"#fdca26\"], [1.0, \"#f0f921\"]], \"type\": \"contour\"}], \"contourcarpet\": [{\"colorbar\": {\"outlinewidth\": 0, \"ticks\": \"\"}, \"type\": \"contourcarpet\"}], \"heatmap\": [{\"colorbar\": {\"outlinewidth\": 0, \"ticks\": \"\"}, \"colorscale\": [[0.0, \"#0d0887\"], [0.1111111111111111, \"#46039f\"], [0.2222222222222222, \"#7201a8\"], [0.3333333333333333, \"#9c179e\"], [0.4444444444444444, \"#bd3786\"], [0.5555555555555556, \"#d8576b\"], [0.6666666666666666, \"#ed7953\"], [0.7777777777777778, \"#fb9f3a\"], [0.8888888888888888, \"#fdca26\"], [1.0, \"#f0f921\"]], \"type\": \"heatmap\"}], \"heatmapgl\": [{\"colorbar\": {\"outlinewidth\": 0, \"ticks\": \"\"}, \"colorscale\": [[0.0, \"#0d0887\"], [0.1111111111111111, \"#46039f\"], [0.2222222222222222, \"#7201a8\"], [0.3333333333333333, \"#9c179e\"], [0.4444444444444444, \"#bd3786\"], [0.5555555555555556, \"#d8576b\"], [0.6666666666666666, \"#ed7953\"], [0.7777777777777778, \"#fb9f3a\"], [0.8888888888888888, \"#fdca26\"], [1.0, \"#f0f921\"]], \"type\": \"heatmapgl\"}], \"histogram\": [{\"marker\": {\"colorbar\": {\"outlinewidth\": 0, \"ticks\": \"\"}}, \"type\": \"histogram\"}], \"histogram2d\": [{\"colorbar\": {\"outlinewidth\": 0, \"ticks\": \"\"}, \"colorscale\": [[0.0, \"#0d0887\"], [0.1111111111111111, \"#46039f\"], [0.2222222222222222, \"#7201a8\"], [0.3333333333333333, \"#9c179e\"], [0.4444444444444444, \"#bd3786\"], [0.5555555555555556, \"#d8576b\"], [0.6666666666666666, \"#ed7953\"], [0.7777777777777778, \"#fb9f3a\"], [0.8888888888888888, \"#fdca26\"], [1.0, \"#f0f921\"]], \"type\": \"histogram2d\"}], \"histogram2dcontour\": [{\"colorbar\": {\"outlinewidth\": 0, \"ticks\": \"\"}, \"colorscale\": [[0.0, \"#0d0887\"], [0.1111111111111111, \"#46039f\"], [0.2222222222222222, \"#7201a8\"], [0.3333333333333333, \"#9c179e\"], [0.4444444444444444, \"#bd3786\"], [0.5555555555555556, \"#d8576b\"], [0.6666666666666666, \"#ed7953\"], [0.7777777777777778, \"#fb9f3a\"], [0.8888888888888888, \"#fdca26\"], [1.0, \"#f0f921\"]], \"type\": \"histogram2dcontour\"}], \"mesh3d\": [{\"colorbar\": {\"outlinewidth\": 0, \"ticks\": \"\"}, \"type\": \"mesh3d\"}], \"parcoords\": [{\"line\": {\"colorbar\": {\"outlinewidth\": 0, \"ticks\": \"\"}}, \"type\": \"parcoords\"}], \"pie\": [{\"automargin\": true, \"type\": \"pie\"}], \"scatter\": [{\"marker\": {\"colorbar\": {\"outlinewidth\": 0, \"ticks\": \"\"}}, \"type\": \"scatter\"}], \"scatter3d\": [{\"line\": {\"colorbar\": {\"outlinewidth\": 0, \"ticks\": \"\"}}, \"marker\": {\"colorbar\": {\"outlinewidth\": 0, \"ticks\": \"\"}}, \"type\": \"scatter3d\"}], \"scattercarpet\": [{\"marker\": {\"colorbar\": {\"outlinewidth\": 0, \"ticks\": \"\"}}, \"type\": \"scattercarpet\"}], \"scattergeo\": [{\"marker\": {\"colorbar\": {\"outlinewidth\": 0, \"ticks\": \"\"}}, \"type\": \"scattergeo\"}], \"scattergl\": [{\"marker\": {\"colorbar\": {\"outlinewidth\": 0, \"ticks\": \"\"}}, \"type\": \"scattergl\"}], \"scattermapbox\": [{\"marker\": {\"colorbar\": {\"outlinewidth\": 0, \"ticks\": \"\"}}, \"type\": \"scattermapbox\"}], \"scatterpolar\": [{\"marker\": {\"colorbar\": {\"outlinewidth\": 0, \"ticks\": \"\"}}, \"type\": \"scatterpolar\"}], \"scatterpolargl\": [{\"marker\": {\"colorbar\": {\"outlinewidth\": 0, \"ticks\": \"\"}}, \"type\": \"scatterpolargl\"}], \"scatterternary\": [{\"marker\": {\"colorbar\": {\"outlinewidth\": 0, \"ticks\": \"\"}}, \"type\": \"scatterternary\"}], \"surface\": [{\"colorbar\": {\"outlinewidth\": 0, \"ticks\": \"\"}, \"colorscale\": [[0.0, \"#0d0887\"], [0.1111111111111111, \"#46039f\"], [0.2222222222222222, \"#7201a8\"], [0.3333333333333333, \"#9c179e\"], [0.4444444444444444, \"#bd3786\"], [0.5555555555555556, \"#d8576b\"], [0.6666666666666666, \"#ed7953\"], [0.7777777777777778, \"#fb9f3a\"], [0.8888888888888888, \"#fdca26\"], [1.0, \"#f0f921\"]], \"type\": \"surface\"}], \"table\": [{\"cells\": {\"fill\": {\"color\": \"#EBF0F8\"}, \"line\": {\"color\": \"white\"}}, \"header\": {\"fill\": {\"color\": \"#C8D4E3\"}, \"line\": {\"color\": \"white\"}}, \"type\": \"table\"}]}, \"layout\": {\"annotationdefaults\": {\"arrowcolor\": \"#2a3f5f\", \"arrowhead\": 0, \"arrowwidth\": 1}, \"coloraxis\": {\"colorbar\": {\"outlinewidth\": 0, \"ticks\": \"\"}}, \"colorscale\": {\"diverging\": [[0, \"#8e0152\"], [0.1, \"#c51b7d\"], [0.2, \"#de77ae\"], [0.3, \"#f1b6da\"], [0.4, \"#fde0ef\"], [0.5, \"#f7f7f7\"], [0.6, \"#e6f5d0\"], [0.7, \"#b8e186\"], [0.8, \"#7fbc41\"], [0.9, \"#4d9221\"], [1, \"#276419\"]], \"sequential\": [[0.0, \"#0d0887\"], [0.1111111111111111, \"#46039f\"], [0.2222222222222222, \"#7201a8\"], [0.3333333333333333, \"#9c179e\"], [0.4444444444444444, \"#bd3786\"], [0.5555555555555556, \"#d8576b\"], [0.6666666666666666, \"#ed7953\"], [0.7777777777777778, \"#fb9f3a\"], [0.8888888888888888, \"#fdca26\"], [1.0, \"#f0f921\"]], \"sequentialminus\": [[0.0, \"#0d0887\"], [0.1111111111111111, \"#46039f\"], [0.2222222222222222, \"#7201a8\"], [0.3333333333333333, \"#9c179e\"], [0.4444444444444444, \"#bd3786\"], [0.5555555555555556, \"#d8576b\"], [0.6666666666666666, \"#ed7953\"], [0.7777777777777778, \"#fb9f3a\"], [0.8888888888888888, \"#fdca26\"], [1.0, \"#f0f921\"]]}, \"colorway\": [\"#636efa\", \"#EF553B\", \"#00cc96\", \"#ab63fa\", \"#FFA15A\", \"#19d3f3\", \"#FF6692\", \"#B6E880\", \"#FF97FF\", \"#FECB52\"], \"font\": {\"color\": \"#2a3f5f\"}, \"geo\": {\"bgcolor\": \"white\", \"lakecolor\": \"white\", \"landcolor\": \"#E5ECF6\", \"showlakes\": true, \"showland\": true, \"subunitcolor\": \"white\"}, \"hoverlabel\": {\"align\": \"left\"}, \"hovermode\": \"closest\", \"mapbox\": {\"style\": \"light\"}, \"paper_bgcolor\": \"white\", \"plot_bgcolor\": \"#E5ECF6\", \"polar\": {\"angularaxis\": {\"gridcolor\": \"white\", \"linecolor\": \"white\", \"ticks\": \"\"}, \"bgcolor\": \"#E5ECF6\", \"radialaxis\": {\"gridcolor\": \"white\", \"linecolor\": \"white\", \"ticks\": \"\"}}, \"scene\": {\"xaxis\": {\"backgroundcolor\": \"#E5ECF6\", \"gridcolor\": \"white\", \"gridwidth\": 2, \"linecolor\": \"white\", \"showbackground\": true, \"ticks\": \"\", \"zerolinecolor\": \"white\"}, \"yaxis\": {\"backgroundcolor\": \"#E5ECF6\", \"gridcolor\": \"white\", \"gridwidth\": 2, \"linecolor\": \"white\", \"showbackground\": true, \"ticks\": \"\", \"zerolinecolor\": \"white\"}, \"zaxis\": {\"backgroundcolor\": \"#E5ECF6\", \"gridcolor\": \"white\", \"gridwidth\": 2, \"linecolor\": \"white\", \"showbackground\": true, \"ticks\": \"\", \"zerolinecolor\": \"white\"}}, \"shapedefaults\": {\"line\": {\"color\": \"#2a3f5f\"}}, \"ternary\": {\"aaxis\": {\"gridcolor\": \"white\", \"linecolor\": \"white\", \"ticks\": \"\"}, \"baxis\": {\"gridcolor\": \"white\", \"linecolor\": \"white\", \"ticks\": \"\"}, \"bgcolor\": \"#E5ECF6\", \"caxis\": {\"gridcolor\": \"white\", \"linecolor\": \"white\", \"ticks\": \"\"}}, \"title\": {\"x\": 0.05}, \"xaxis\": {\"automargin\": true, \"gridcolor\": \"white\", \"linecolor\": \"white\", \"ticks\": \"\", \"title\": {\"standoff\": 15}, \"zerolinecolor\": \"white\", \"zerolinewidth\": 2}, \"yaxis\": {\"automargin\": true, \"gridcolor\": \"white\", \"linecolor\": \"white\", \"ticks\": \"\", \"title\": {\"standoff\": 15}, \"zerolinecolor\": \"white\", \"zerolinewidth\": 2}}}, \"title\": {\"text\": \"\\u0414\\u0438\\u043d\\u0430\\u043c\\u0438\\u043a\\u0430 \\u043f\\u0440\\u043e\\u0434\\u0430\\u0436 \\u043f\\u043e \\u0433\\u043e\\u0434\\u0430\\u043c \\u0442\\u043e\\u043f-6 \\u043f\\u043b\\u0430\\u0442\\u0444\\u043e\\u0440\\u043c\"}, \"xaxis\": {\"anchor\": \"y\", \"domain\": [0.0, 1.0], \"title\": {\"text\": \"year_of_release\"}}, \"yaxis\": {\"anchor\": \"x\", \"domain\": [0.0, 1.0], \"title\": {\"text\": \"sales_total\"}}},\n",
              "                        {\"responsive\": true}\n",
              "                    ).then(function(){\n",
              "                            \n",
              "var gd = document.getElementById('75db472e-6504-4d69-81ab-e123ff7ce455');\n",
              "var x = new MutationObserver(function (mutations, observer) {{\n",
              "        var display = window.getComputedStyle(gd).display;\n",
              "        if (!display || display === 'none') {{\n",
              "            console.log([gd, 'removed!']);\n",
              "            Plotly.purge(gd);\n",
              "            observer.disconnect();\n",
              "        }}\n",
              "}});\n",
              "\n",
              "// Listen for the removal of the full notebook cells\n",
              "var notebookContainer = gd.closest('#notebook-container');\n",
              "if (notebookContainer) {{\n",
              "    x.observe(notebookContainer, {childList: true});\n",
              "}}\n",
              "\n",
              "// Listen for the clearing of the current output cell\n",
              "var outputEl = gd.closest('.output');\n",
              "if (outputEl) {{\n",
              "    x.observe(outputEl, {childList: true});\n",
              "}}\n",
              "\n",
              "                        })\n",
              "                };\n",
              "                \n",
              "            </script>\n",
              "        </div>\n",
              "</body>\n",
              "</html>"
            ]
          },
          "metadata": {}
        }
      ]
    },
    {
      "cell_type": "markdown",
      "metadata": {
        "id": "zKs0VkICphOV"
      },
      "source": [
        "Вывод:<br/>\n",
        "В целом продолжительность жизни игровой платформы колеблется от 5 до 25 лет. Медианая продолжительность для топовых консолей около 10 лет. Можно отметить как с ростом игровых запросов и прогресса количество платформ увеличивалось а их жизненный цикл уменьшался, хотя есть и долгожители, продажи от игр которых принесли разработчикам приличные деньги, например DS (вы только гляньте).\n",
        "\n",
        "Годы жизни для топа:\n",
        "* PS - с 1994 года до 2003;\n",
        "* PS2 - с 2000 до 2011 года;\n",
        "* PS3 - с 2006 по сей день;\n",
        "* DS - вышла в 1985, затем затишье, как будто пользовалась популярность вне нашего датасета, а с 2004 уже виден взрыв статистики и по сей день живёт;\n",
        "* Wii - с 2006 по сей день.\n",
        "* Wii - с 2006 по сей день.\n",
        "\n",
        "Как и отметили ранее, медиана по топу установилась где-то на 10-ке. "
      ]
    },
    {
      "cell_type": "markdown",
      "metadata": {
        "id": "kg3qLY56phOW"
      },
      "source": [
        "<br/><a name=\"3.4.\"></a>\n",
        "<b>3.4. Динамика продаж игр в наше время</b>.<br/>\n",
        "<font size=\"2\">([к содержанию](#0.0))</font>"
      ]
    },
    {
      "cell_type": "markdown",
      "metadata": {
        "id": "zhE5RiQ6phOW"
      },
      "source": [
        "Чтобы построить предсказательные модели на 2017 год корректно, выберем актуальный период, за который посмотрим данные по платформам.<br/><br/>\n",
        "Выберем период с 2012 по 2016 год. Потому что:<br/>\n",
        "* после 2012 года произошла стабилизация рынка после взлёта продаж и на отрезке остались наиболее актуальные платформы;\n",
        "* в это год, когда вышли или вот-вот выйдут все популярные консоли если смотреть из новинок;\n",
        "* в этом периоде представлены данные по абсолютно всем самым популярным консолям.\n",
        "\n",
        "Остальной период нас не будет беспокоить в дальнейшем."
      ]
    },
    {
      "cell_type": "markdown",
      "metadata": {
        "id": "f57CjjW-phOW"
      },
      "source": [
        "Посмотрим на динамику продаж по актуальным годам и ответим на вопрос:<br/>\n",
        "Какие платформы лидируют по продажам, растут или падают?<br/><br/>\n",
        "Далее выберем самые богатые и потенциальные платформы."
      ]
    },
    {
      "cell_type": "code",
      "metadata": {
        "colab": {
          "base_uri": "https://localhost:8080/",
          "height": 541
        },
        "id": "B3y0PsfrphOX",
        "outputId": "165511f5-3443-4a80-f277-ac207f060ddc"
      },
      "source": [
        "fig = px.line(games.query('year_of_release >= 2012').pivot_table(index = ['year_of_release', 'platform'], values = 'sales_total', aggfunc = 'sum').reset_index(),\n",
        "             x = 'year_of_release', y = 'sales_total', color = 'platform', title='Динамика продаж прибыльных платформ')\n",
        "fig.show()"
      ],
      "execution_count": 22,
      "outputs": [
        {
          "output_type": "display_data",
          "data": {
            "text/html": [
              "<html>\n",
              "<head><meta charset=\"utf-8\" /></head>\n",
              "<body>\n",
              "    <div>\n",
              "            <script src=\"https://cdnjs.cloudflare.com/ajax/libs/mathjax/2.7.5/MathJax.js?config=TeX-AMS-MML_SVG\"></script><script type=\"text/javascript\">if (window.MathJax) {MathJax.Hub.Config({SVG: {font: \"STIX-Web\"}});}</script>\n",
              "                <script type=\"text/javascript\">window.PlotlyConfig = {MathJaxConfig: 'local'};</script>\n",
              "        <script src=\"https://cdn.plot.ly/plotly-latest.min.js\"></script>    \n",
              "            <div id=\"e05d75d4-d66f-4c10-b236-af9510aee9c3\" class=\"plotly-graph-div\" style=\"height:525px; width:100%;\"></div>\n",
              "            <script type=\"text/javascript\">\n",
              "                \n",
              "                    window.PLOTLYENV=window.PLOTLYENV || {};\n",
              "                    \n",
              "                if (document.getElementById(\"e05d75d4-d66f-4c10-b236-af9510aee9c3\")) {\n",
              "                    Plotly.newPlot(\n",
              "                        'e05d75d4-d66f-4c10-b236-af9510aee9c3',\n",
              "                        [{\"hoverlabel\": {\"namelength\": 0}, \"hovertemplate\": \"platform=3DS<br>year_of_release=%{x}<br>sales_total=%{y}\", \"legendgroup\": \"platform=3DS\", \"line\": {\"color\": \"#636efa\", \"dash\": \"solid\"}, \"mode\": \"lines\", \"name\": \"platform=3DS\", \"showlegend\": true, \"type\": \"scatter\", \"x\": [2012.0, 2013.0, 2014.0, 2015.0, 2016.0], \"xaxis\": \"x\", \"y\": [51.36000000000002, 56.57, 43.76000000000003, 27.78, 15.13999999999999], \"yaxis\": \"y\"}, {\"hoverlabel\": {\"namelength\": 0}, \"hovertemplate\": \"platform=DS<br>year_of_release=%{x}<br>sales_total=%{y}\", \"legendgroup\": \"platform=DS\", \"line\": {\"color\": \"#EF553B\", \"dash\": \"solid\"}, \"mode\": \"lines\", \"name\": \"platform=DS\", \"showlegend\": true, \"type\": \"scatter\", \"x\": [2012.0, 2013.0], \"xaxis\": \"x\", \"y\": [11.009999999999996, 1.54], \"yaxis\": \"y\"}, {\"hoverlabel\": {\"namelength\": 0}, \"hovertemplate\": \"platform=PC<br>year_of_release=%{x}<br>sales_total=%{y}\", \"legendgroup\": \"platform=PC\", \"line\": {\"color\": \"#00cc96\", \"dash\": \"solid\"}, \"mode\": \"lines\", \"name\": \"platform=PC\", \"showlegend\": true, \"type\": \"scatter\", \"x\": [2012.0, 2013.0, 2014.0, 2015.0, 2016.0], \"xaxis\": \"x\", \"y\": [23.21999999999999, 12.379999999999997, 13.279999999999994, 8.51999999999999, 5.249999999999997], \"yaxis\": \"y\"}, {\"hoverlabel\": {\"namelength\": 0}, \"hovertemplate\": \"platform=PS3<br>year_of_release=%{x}<br>sales_total=%{y}\", \"legendgroup\": \"platform=PS3\", \"line\": {\"color\": \"#ab63fa\", \"dash\": \"solid\"}, \"mode\": \"lines\", \"name\": \"platform=PS3\", \"showlegend\": true, \"type\": \"scatter\", \"x\": [2012.0, 2013.0, 2014.0, 2015.0, 2016.0], \"xaxis\": \"x\", \"y\": [107.36000000000001, 113.24999999999999, 47.76000000000002, 16.820000000000007, 3.5999999999999988], \"yaxis\": \"y\"}, {\"hoverlabel\": {\"namelength\": 0}, \"hovertemplate\": \"platform=PSP<br>year_of_release=%{x}<br>sales_total=%{y}\", \"legendgroup\": \"platform=PSP\", \"line\": {\"color\": \"#FFA15A\", \"dash\": \"solid\"}, \"mode\": \"lines\", \"name\": \"platform=PSP\", \"showlegend\": true, \"type\": \"scatter\", \"x\": [2012.0, 2013.0, 2014.0, 2015.0], \"xaxis\": \"x\", \"y\": [7.68999999999999, 3.139999999999996, 0.24000000000000005, 0.12000000000000001], \"yaxis\": \"y\"}, {\"hoverlabel\": {\"namelength\": 0}, \"hovertemplate\": \"platform=PSV<br>year_of_release=%{x}<br>sales_total=%{y}\", \"legendgroup\": \"platform=PSV\", \"line\": {\"color\": \"#19d3f3\", \"dash\": \"solid\"}, \"mode\": \"lines\", \"name\": \"platform=PSV\", \"showlegend\": true, \"type\": \"scatter\", \"x\": [2012.0, 2013.0, 2014.0, 2015.0, 2016.0], \"xaxis\": \"x\", \"y\": [16.190000000000005, 10.589999999999995, 11.899999999999988, 6.249999999999988, 4.249999999999992], \"yaxis\": \"y\"}, {\"hoverlabel\": {\"namelength\": 0}, \"hovertemplate\": \"platform=Wii<br>year_of_release=%{x}<br>sales_total=%{y}\", \"legendgroup\": \"platform=Wii\", \"line\": {\"color\": \"#FF6692\", \"dash\": \"solid\"}, \"mode\": \"lines\", \"name\": \"platform=Wii\", \"showlegend\": true, \"type\": \"scatter\", \"x\": [2012.0, 2013.0, 2014.0, 2015.0, 2016.0], \"xaxis\": \"x\", \"y\": [21.710000000000008, 8.59, 3.75, 1.14, 0.18], \"yaxis\": \"y\"}, {\"hoverlabel\": {\"namelength\": 0}, \"hovertemplate\": \"platform=WiiU<br>year_of_release=%{x}<br>sales_total=%{y}\", \"legendgroup\": \"platform=WiiU\", \"line\": {\"color\": \"#B6E880\", \"dash\": \"solid\"}, \"mode\": \"lines\", \"name\": \"platform=WiiU\", \"showlegend\": true, \"type\": \"scatter\", \"x\": [2012.0, 2013.0, 2014.0, 2015.0, 2016.0], \"xaxis\": \"x\", \"y\": [17.559999999999995, 21.65, 22.029999999999994, 16.35000000000001, 4.6000000000000005], \"yaxis\": \"y\"}, {\"hoverlabel\": {\"namelength\": 0}, \"hovertemplate\": \"platform=X360<br>year_of_release=%{x}<br>sales_total=%{y}\", \"legendgroup\": \"platform=X360\", \"line\": {\"color\": \"#FF97FF\", \"dash\": \"solid\"}, \"mode\": \"lines\", \"name\": \"platform=X360\", \"showlegend\": true, \"type\": \"scatter\", \"x\": [2012.0, 2013.0, 2014.0, 2015.0, 2016.0], \"xaxis\": \"x\", \"y\": [99.7400000000001, 88.58000000000008, 34.739999999999995, 11.959999999999997, 1.5200000000000002], \"yaxis\": \"y\"}, {\"hoverlabel\": {\"namelength\": 0}, \"hovertemplate\": \"platform=PS4<br>year_of_release=%{x}<br>sales_total=%{y}\", \"legendgroup\": \"platform=PS4\", \"line\": {\"color\": \"#FECB52\", \"dash\": \"solid\"}, \"mode\": \"lines\", \"name\": \"platform=PS4\", \"showlegend\": true, \"type\": \"scatter\", \"x\": [2013.0, 2014.0, 2015.0, 2016.0], \"xaxis\": \"x\", \"y\": [25.990000000000002, 99.99999999999996, 118.90000000000008, 69.25000000000001], \"yaxis\": \"y\"}, {\"hoverlabel\": {\"namelength\": 0}, \"hovertemplate\": \"platform=XOne<br>year_of_release=%{x}<br>sales_total=%{y}\", \"legendgroup\": \"platform=XOne\", \"line\": {\"color\": \"#636efa\", \"dash\": \"solid\"}, \"mode\": \"lines\", \"name\": \"platform=XOne\", \"showlegend\": true, \"type\": \"scatter\", \"x\": [2013.0, 2014.0, 2015.0, 2016.0], \"xaxis\": \"x\", \"y\": [18.959999999999994, 54.06999999999999, 60.14000000000002, 26.15000000000002], \"yaxis\": \"y\"}],\n",
              "                        {\"legend\": {\"tracegroupgap\": 0}, \"template\": {\"data\": {\"bar\": [{\"error_x\": {\"color\": \"#2a3f5f\"}, \"error_y\": {\"color\": \"#2a3f5f\"}, \"marker\": {\"line\": {\"color\": \"#E5ECF6\", \"width\": 0.5}}, \"type\": \"bar\"}], \"barpolar\": [{\"marker\": {\"line\": {\"color\": \"#E5ECF6\", \"width\": 0.5}}, \"type\": \"barpolar\"}], \"carpet\": [{\"aaxis\": {\"endlinecolor\": \"#2a3f5f\", \"gridcolor\": \"white\", \"linecolor\": \"white\", \"minorgridcolor\": \"white\", \"startlinecolor\": \"#2a3f5f\"}, \"baxis\": {\"endlinecolor\": \"#2a3f5f\", \"gridcolor\": \"white\", \"linecolor\": \"white\", \"minorgridcolor\": \"white\", \"startlinecolor\": \"#2a3f5f\"}, \"type\": \"carpet\"}], \"choropleth\": [{\"colorbar\": {\"outlinewidth\": 0, \"ticks\": \"\"}, \"type\": \"choropleth\"}], \"contour\": [{\"colorbar\": {\"outlinewidth\": 0, \"ticks\": \"\"}, \"colorscale\": [[0.0, \"#0d0887\"], [0.1111111111111111, \"#46039f\"], [0.2222222222222222, \"#7201a8\"], [0.3333333333333333, \"#9c179e\"], [0.4444444444444444, \"#bd3786\"], [0.5555555555555556, \"#d8576b\"], [0.6666666666666666, \"#ed7953\"], [0.7777777777777778, \"#fb9f3a\"], [0.8888888888888888, \"#fdca26\"], [1.0, \"#f0f921\"]], \"type\": \"contour\"}], \"contourcarpet\": [{\"colorbar\": {\"outlinewidth\": 0, \"ticks\": \"\"}, \"type\": \"contourcarpet\"}], \"heatmap\": [{\"colorbar\": {\"outlinewidth\": 0, \"ticks\": \"\"}, \"colorscale\": [[0.0, \"#0d0887\"], [0.1111111111111111, \"#46039f\"], [0.2222222222222222, \"#7201a8\"], [0.3333333333333333, \"#9c179e\"], [0.4444444444444444, \"#bd3786\"], [0.5555555555555556, \"#d8576b\"], [0.6666666666666666, \"#ed7953\"], [0.7777777777777778, \"#fb9f3a\"], [0.8888888888888888, \"#fdca26\"], [1.0, \"#f0f921\"]], \"type\": \"heatmap\"}], \"heatmapgl\": [{\"colorbar\": {\"outlinewidth\": 0, \"ticks\": \"\"}, \"colorscale\": [[0.0, \"#0d0887\"], [0.1111111111111111, \"#46039f\"], [0.2222222222222222, \"#7201a8\"], [0.3333333333333333, \"#9c179e\"], [0.4444444444444444, \"#bd3786\"], [0.5555555555555556, \"#d8576b\"], [0.6666666666666666, \"#ed7953\"], [0.7777777777777778, \"#fb9f3a\"], [0.8888888888888888, \"#fdca26\"], [1.0, \"#f0f921\"]], \"type\": \"heatmapgl\"}], \"histogram\": [{\"marker\": {\"colorbar\": {\"outlinewidth\": 0, \"ticks\": \"\"}}, \"type\": \"histogram\"}], \"histogram2d\": [{\"colorbar\": {\"outlinewidth\": 0, \"ticks\": \"\"}, \"colorscale\": [[0.0, \"#0d0887\"], [0.1111111111111111, \"#46039f\"], [0.2222222222222222, \"#7201a8\"], [0.3333333333333333, \"#9c179e\"], [0.4444444444444444, \"#bd3786\"], [0.5555555555555556, \"#d8576b\"], [0.6666666666666666, \"#ed7953\"], [0.7777777777777778, \"#fb9f3a\"], [0.8888888888888888, \"#fdca26\"], [1.0, \"#f0f921\"]], \"type\": \"histogram2d\"}], \"histogram2dcontour\": [{\"colorbar\": {\"outlinewidth\": 0, \"ticks\": \"\"}, \"colorscale\": [[0.0, \"#0d0887\"], [0.1111111111111111, \"#46039f\"], [0.2222222222222222, \"#7201a8\"], [0.3333333333333333, \"#9c179e\"], [0.4444444444444444, \"#bd3786\"], [0.5555555555555556, \"#d8576b\"], [0.6666666666666666, \"#ed7953\"], [0.7777777777777778, \"#fb9f3a\"], [0.8888888888888888, \"#fdca26\"], [1.0, \"#f0f921\"]], \"type\": \"histogram2dcontour\"}], \"mesh3d\": [{\"colorbar\": {\"outlinewidth\": 0, \"ticks\": \"\"}, \"type\": \"mesh3d\"}], \"parcoords\": [{\"line\": {\"colorbar\": {\"outlinewidth\": 0, \"ticks\": \"\"}}, \"type\": \"parcoords\"}], \"pie\": [{\"automargin\": true, \"type\": \"pie\"}], \"scatter\": [{\"marker\": {\"colorbar\": {\"outlinewidth\": 0, \"ticks\": \"\"}}, \"type\": \"scatter\"}], \"scatter3d\": [{\"line\": {\"colorbar\": {\"outlinewidth\": 0, \"ticks\": \"\"}}, \"marker\": {\"colorbar\": {\"outlinewidth\": 0, \"ticks\": \"\"}}, \"type\": \"scatter3d\"}], \"scattercarpet\": [{\"marker\": {\"colorbar\": {\"outlinewidth\": 0, \"ticks\": \"\"}}, \"type\": \"scattercarpet\"}], \"scattergeo\": [{\"marker\": {\"colorbar\": {\"outlinewidth\": 0, \"ticks\": \"\"}}, \"type\": \"scattergeo\"}], \"scattergl\": [{\"marker\": {\"colorbar\": {\"outlinewidth\": 0, \"ticks\": \"\"}}, \"type\": \"scattergl\"}], \"scattermapbox\": [{\"marker\": {\"colorbar\": {\"outlinewidth\": 0, \"ticks\": \"\"}}, \"type\": \"scattermapbox\"}], \"scatterpolar\": [{\"marker\": {\"colorbar\": {\"outlinewidth\": 0, \"ticks\": \"\"}}, \"type\": \"scatterpolar\"}], \"scatterpolargl\": [{\"marker\": {\"colorbar\": {\"outlinewidth\": 0, \"ticks\": \"\"}}, \"type\": \"scatterpolargl\"}], \"scatterternary\": [{\"marker\": {\"colorbar\": {\"outlinewidth\": 0, \"ticks\": \"\"}}, \"type\": \"scatterternary\"}], \"surface\": [{\"colorbar\": {\"outlinewidth\": 0, \"ticks\": \"\"}, \"colorscale\": [[0.0, \"#0d0887\"], [0.1111111111111111, \"#46039f\"], [0.2222222222222222, \"#7201a8\"], [0.3333333333333333, \"#9c179e\"], [0.4444444444444444, \"#bd3786\"], [0.5555555555555556, \"#d8576b\"], [0.6666666666666666, \"#ed7953\"], [0.7777777777777778, \"#fb9f3a\"], [0.8888888888888888, \"#fdca26\"], [1.0, \"#f0f921\"]], \"type\": \"surface\"}], \"table\": [{\"cells\": {\"fill\": {\"color\": \"#EBF0F8\"}, \"line\": {\"color\": \"white\"}}, \"header\": {\"fill\": {\"color\": \"#C8D4E3\"}, \"line\": {\"color\": \"white\"}}, \"type\": \"table\"}]}, \"layout\": {\"annotationdefaults\": {\"arrowcolor\": \"#2a3f5f\", \"arrowhead\": 0, \"arrowwidth\": 1}, \"coloraxis\": {\"colorbar\": {\"outlinewidth\": 0, \"ticks\": \"\"}}, \"colorscale\": {\"diverging\": [[0, \"#8e0152\"], [0.1, \"#c51b7d\"], [0.2, \"#de77ae\"], [0.3, \"#f1b6da\"], [0.4, \"#fde0ef\"], [0.5, \"#f7f7f7\"], [0.6, \"#e6f5d0\"], [0.7, \"#b8e186\"], [0.8, \"#7fbc41\"], [0.9, \"#4d9221\"], [1, \"#276419\"]], \"sequential\": [[0.0, \"#0d0887\"], [0.1111111111111111, \"#46039f\"], [0.2222222222222222, \"#7201a8\"], [0.3333333333333333, \"#9c179e\"], [0.4444444444444444, \"#bd3786\"], [0.5555555555555556, \"#d8576b\"], [0.6666666666666666, \"#ed7953\"], [0.7777777777777778, \"#fb9f3a\"], [0.8888888888888888, \"#fdca26\"], [1.0, \"#f0f921\"]], \"sequentialminus\": [[0.0, \"#0d0887\"], [0.1111111111111111, \"#46039f\"], [0.2222222222222222, \"#7201a8\"], [0.3333333333333333, \"#9c179e\"], [0.4444444444444444, \"#bd3786\"], [0.5555555555555556, \"#d8576b\"], [0.6666666666666666, \"#ed7953\"], [0.7777777777777778, \"#fb9f3a\"], [0.8888888888888888, \"#fdca26\"], [1.0, \"#f0f921\"]]}, \"colorway\": [\"#636efa\", \"#EF553B\", \"#00cc96\", \"#ab63fa\", \"#FFA15A\", \"#19d3f3\", \"#FF6692\", \"#B6E880\", \"#FF97FF\", \"#FECB52\"], \"font\": {\"color\": \"#2a3f5f\"}, \"geo\": {\"bgcolor\": \"white\", \"lakecolor\": \"white\", \"landcolor\": \"#E5ECF6\", \"showlakes\": true, \"showland\": true, \"subunitcolor\": \"white\"}, \"hoverlabel\": {\"align\": \"left\"}, \"hovermode\": \"closest\", \"mapbox\": {\"style\": \"light\"}, \"paper_bgcolor\": \"white\", \"plot_bgcolor\": \"#E5ECF6\", \"polar\": {\"angularaxis\": {\"gridcolor\": \"white\", \"linecolor\": \"white\", \"ticks\": \"\"}, \"bgcolor\": \"#E5ECF6\", \"radialaxis\": {\"gridcolor\": \"white\", \"linecolor\": \"white\", \"ticks\": \"\"}}, \"scene\": {\"xaxis\": {\"backgroundcolor\": \"#E5ECF6\", \"gridcolor\": \"white\", \"gridwidth\": 2, \"linecolor\": \"white\", \"showbackground\": true, \"ticks\": \"\", \"zerolinecolor\": \"white\"}, \"yaxis\": {\"backgroundcolor\": \"#E5ECF6\", \"gridcolor\": \"white\", \"gridwidth\": 2, \"linecolor\": \"white\", \"showbackground\": true, \"ticks\": \"\", \"zerolinecolor\": \"white\"}, \"zaxis\": {\"backgroundcolor\": \"#E5ECF6\", \"gridcolor\": \"white\", \"gridwidth\": 2, \"linecolor\": \"white\", \"showbackground\": true, \"ticks\": \"\", \"zerolinecolor\": \"white\"}}, \"shapedefaults\": {\"line\": {\"color\": \"#2a3f5f\"}}, \"ternary\": {\"aaxis\": {\"gridcolor\": \"white\", \"linecolor\": \"white\", \"ticks\": \"\"}, \"baxis\": {\"gridcolor\": \"white\", \"linecolor\": \"white\", \"ticks\": \"\"}, \"bgcolor\": \"#E5ECF6\", \"caxis\": {\"gridcolor\": \"white\", \"linecolor\": \"white\", \"ticks\": \"\"}}, \"title\": {\"x\": 0.05}, \"xaxis\": {\"automargin\": true, \"gridcolor\": \"white\", \"linecolor\": \"white\", \"ticks\": \"\", \"title\": {\"standoff\": 15}, \"zerolinecolor\": \"white\", \"zerolinewidth\": 2}, \"yaxis\": {\"automargin\": true, \"gridcolor\": \"white\", \"linecolor\": \"white\", \"ticks\": \"\", \"title\": {\"standoff\": 15}, \"zerolinecolor\": \"white\", \"zerolinewidth\": 2}}}, \"title\": {\"text\": \"\\u0414\\u0438\\u043d\\u0430\\u043c\\u0438\\u043a\\u0430 \\u043f\\u0440\\u043e\\u0434\\u0430\\u0436 \\u043f\\u0440\\u0438\\u0431\\u044b\\u043b\\u044c\\u043d\\u044b\\u0445 \\u043f\\u043b\\u0430\\u0442\\u0444\\u043e\\u0440\\u043c\"}, \"xaxis\": {\"anchor\": \"y\", \"domain\": [0.0, 1.0], \"title\": {\"text\": \"year_of_release\"}}, \"yaxis\": {\"anchor\": \"x\", \"domain\": [0.0, 1.0], \"title\": {\"text\": \"sales_total\"}}},\n",
              "                        {\"responsive\": true}\n",
              "                    ).then(function(){\n",
              "                            \n",
              "var gd = document.getElementById('e05d75d4-d66f-4c10-b236-af9510aee9c3');\n",
              "var x = new MutationObserver(function (mutations, observer) {{\n",
              "        var display = window.getComputedStyle(gd).display;\n",
              "        if (!display || display === 'none') {{\n",
              "            console.log([gd, 'removed!']);\n",
              "            Plotly.purge(gd);\n",
              "            observer.disconnect();\n",
              "        }}\n",
              "}});\n",
              "\n",
              "// Listen for the removal of the full notebook cells\n",
              "var notebookContainer = gd.closest('#notebook-container');\n",
              "if (notebookContainer) {{\n",
              "    x.observe(notebookContainer, {childList: true});\n",
              "}}\n",
              "\n",
              "// Listen for the clearing of the current output cell\n",
              "var outputEl = gd.closest('.output');\n",
              "if (outputEl) {{\n",
              "    x.observe(outputEl, {childList: true});\n",
              "}}\n",
              "\n",
              "                        })\n",
              "                };\n",
              "                \n",
              "            </script>\n",
              "        </div>\n",
              "</body>\n",
              "</html>"
            ]
          },
          "metadata": {}
        }
      ]
    },
    {
      "cell_type": "markdown",
      "metadata": {
        "id": "pxdKXBIIphOX"
      },
      "source": [
        "На конец 2016 года лидируют по продажам следующие платформы:\n",
        "* <b>PS4</b>;\n",
        "* <b>Xone</b>;\n",
        "* <b>PS3</b>;\n",
        "* <b>3DS</b>;\n",
        "* <b>WiiU</b>.\n",
        "\n",
        "Это топ-5. Видно, что конкуренция и гонка технологий большая, отсюда резкие сокращения дистанций по продажам во времени между новым поколением консолей и старичками. Причем, исходя из данных, количество продаж игр, выпущенных на каждую из прибыльных платформ, снижается. Таким образом, можно сказать, что весь рынок игр падает.\n",
        "\n",
        "Стоит отметить динамику продаж игр на PC, которая тоже начала снижаться после 2013 года. Ранее на графиках мы видели, что продажи пусть и небольшие но аудитория стабильно платит за продукт. Не стоит забывать и о пиратстве, которое обделяет разработчиков и не стимулирует рост качества в играх. Нельзя с уверенностью сказать, что с появлением мобильных игр (если можно провести аналогию с телефоном, который тоже изначально не был предназначен для игр), продажи будут расти. Если только платформа вступит в симбиоз с VR играми и предложит уникальное развлечение. Потенциал в этом есть, посмотрим, что будет дальше :)"
      ]
    },
    {
      "cell_type": "markdown",
      "metadata": {
        "id": "RoHAFr2dphOX"
      },
      "source": [
        "<br/><a name=\"3.5.\"></a>\n",
        "<b>3.5. Boxplot по глобальным продажам игр и с разбивкой по платформам</b>.<br/>\n",
        "<font size=\"2\">([к содержанию](#0.0))</font>"
      ]
    },
    {
      "cell_type": "markdown",
      "metadata": {
        "id": "tZGBalRtphOY"
      },
      "source": [
        "Построим график «ящик с усами» по глобальным продажам каждой игры и разбивкой по платформам. Опишем результат."
      ]
    },
    {
      "cell_type": "markdown",
      "metadata": {
        "id": "VGb8iAKwphOY"
      },
      "source": [
        "<br/><a name=\"3.5.1.\"></a>\n",
        "<b>3.5.1. Boxplot по глобальным продажам игр</b>.<br/>\n",
        "<font size=\"2\">([к содержанию](#0.0))</font>"
      ]
    },
    {
      "cell_type": "code",
      "metadata": {
        "colab": {
          "base_uri": "https://localhost:8080/",
          "height": 558
        },
        "id": "u9mu4mj7phOY",
        "outputId": "2f143f1a-b5fc-48cb-e2b7-9719311e6e4b"
      },
      "source": [
        "games_new = games.query('year_of_release >= 2012').copy()\n",
        "games_new.boxplot(column='sales_total', fontsize=25, figsize=(20,8),\n",
        "                                         boxprops=dict(linestyle='-', linewidth=5),\n",
        "                                         medianprops=dict(linestyle='-', linewidth=5),\n",
        "                                         whiskerprops=dict(linestyle='-', linewidth=5),\n",
        "                                         capprops=dict(linestyle='-', linewidth=5), \n",
        "                                         notch=True).set_title('Boxplot по глобальным продажам игр', fontsize=25, fontweight='bold')\n",
        "plt.xlabel(\"Продажи\", fontsize=14, fontweight=\"bold\")"
      ],
      "execution_count": 23,
      "outputs": [
        {
          "output_type": "execute_result",
          "data": {
            "text/plain": [
              "Text(0.5, 0, 'Продажи')"
            ]
          },
          "metadata": {},
          "execution_count": 23
        },
        {
          "output_type": "display_data",
          "data": {
            "image/png": "[encoded data removed]",
            "text/plain": [
              "<Figure size 1440x576 with 1 Axes>"
            ]
          },
          "metadata": {
            "needs_background": "light"
          }
        }
      ]
    },
    {
      "cell_type": "markdown",
      "metadata": {
        "id": "aFFia6h5phOZ"
      },
      "source": [
        "Посмотрим ближе:"
      ]
    },
    {
      "cell_type": "code",
      "metadata": {
        "colab": {
          "base_uri": "https://localhost:8080/",
          "height": 558
        },
        "id": "fKHyeOm0phOZ",
        "outputId": "4428b926-4800-479b-d2b4-d96c18240ecd"
      },
      "source": [
        "games_new.boxplot(column='sales_total', fontsize=25, figsize=(20,8),\n",
        "                                         boxprops=dict(linestyle='-', linewidth=5),\n",
        "                                         medianprops=dict(linestyle='-', linewidth=5),\n",
        "                                         whiskerprops=dict(linestyle='-', linewidth=5),\n",
        "                                         capprops=dict(linestyle='-', linewidth=5), \n",
        "                                         notch=True).set_ylim([0,3])\n",
        "plt.xlabel(\"Продажи\", fontsize=14, fontweight=\"bold\")\n",
        "plt.title('Boxplot по глобальным продажам игр', fontsize=25, fontweight='bold') "
      ],
      "execution_count": 24,
      "outputs": [
        {
          "output_type": "execute_result",
          "data": {
            "text/plain": [
              "Text(0.5, 1.0, 'Boxplot по глобальным продажам игр')"
            ]
          },
          "metadata": {},
          "execution_count": 24
        },
        {
          "output_type": "display_data",
          "data": {
            "image/png": "[encoded data removed]",
            "text/plain": [
              "<Figure size 1440x576 with 1 Axes>"
            ]
          },
          "metadata": {
            "needs_background": "light"
          }
        }
      ]
    },
    {
      "cell_type": "markdown",
      "metadata": {
        "id": "WXRXcQkIphOZ"
      },
      "source": [
        "В среднем, продажи игр составляют до 1 млн долларов. Медиана - 0,2 миллиона долларов. Не сказать, что это много."
      ]
    },
    {
      "cell_type": "markdown",
      "metadata": {
        "id": "jpLJWRZrphOZ"
      },
      "source": [
        "<br/><a name=\"3.5.2.\"></a>\n",
        "<b>3.5.2. Boxplot по самым кассовым платформам нашего времени</b>.<br/>\n",
        "<font size=\"2\">([к содержанию](#0.0))</font>"
      ]
    },
    {
      "cell_type": "code",
      "metadata": {
        "colab": {
          "base_uri": "https://localhost:8080/",
          "height": 643
        },
        "id": "vhpeKr_PphOa",
        "outputId": "9710e232-fbc6-4b03-ae19-e026461859ae"
      },
      "source": [
        "top_platforms = games_new.query('platform == \"PS4\" or platform == \"XOne\" or platform == \"PS3\" or platform == \"WiiU\" or platform == \"3DS\"')\n",
        "top_platforms.boxplot('sales_total', by='platform', fontsize=25, figsize=(20,8),                                         \n",
        "                                         boxprops=dict(linestyle='-', linewidth=5),\n",
        "                                         medianprops=dict(linestyle='-', linewidth=5),\n",
        "                                         whiskerprops=dict(linestyle='-', linewidth=5),\n",
        "                                         capprops=dict(linestyle='-', linewidth=5), \n",
        "                                         notch=True)\n",
        "plt.title('Boxplot продаж по топовым платформам', fontsize=25, fontweight='bold') \n",
        "plt.xlabel(\"Платформы\", fontsize=14, fontweight=\"bold\")"
      ],
      "execution_count": 25,
      "outputs": [
        {
          "output_type": "stream",
          "name": "stderr",
          "text": [
            "/usr/local/lib/python3.7/dist-packages/numpy/core/_asarray.py:83: VisibleDeprecationWarning:\n",
            "\n",
            "Creating an ndarray from ragged nested sequences (which is a list-or-tuple of lists-or-tuples-or ndarrays with different lengths or shapes) is deprecated. If you meant to do this, you must specify 'dtype=object' when creating the ndarray\n",
            "\n"
          ]
        },
        {
          "output_type": "execute_result",
          "data": {
            "text/plain": [
              "Text(0.5, 0, 'Платформы')"
            ]
          },
          "metadata": {},
          "execution_count": 25
        },
        {
          "output_type": "display_data",
          "data": {
            "image/png": "[encoded data removed]",
            "text/plain": [
              "<Figure size 1440x576 with 1 Axes>"
            ]
          },
          "metadata": {
            "needs_background": "light"
          }
        }
      ]
    },
    {
      "cell_type": "markdown",
      "metadata": {
        "id": "gPgtR7REphOa"
      },
      "source": [
        "Посмотрим ближе:"
      ]
    },
    {
      "cell_type": "code",
      "metadata": {
        "colab": {
          "base_uri": "https://localhost:8080/",
          "height": 643
        },
        "id": "WabkB_jlphOa",
        "outputId": "018e1b63-95d4-488f-d32b-952a60766fd7"
      },
      "source": [
        "top_platforms.boxplot('sales_total', by='platform', fontsize=25, figsize=(20,8),                                         \n",
        "                                         boxprops=dict(linestyle='-', linewidth=5),\n",
        "                                         medianprops=dict(linestyle='-', linewidth=5),\n",
        "                                         whiskerprops=dict(linestyle='-', linewidth=5),\n",
        "                                         capprops=dict(linestyle='-', linewidth=5), \n",
        "                                         notch=True).set_ylim([0,3])\n",
        "plt.title('Boxplot продаж по топовым платформам', fontsize=25, fontweight='bold') \n",
        "plt.xlabel(\"Платформы\", fontsize=14, fontweight=\"bold\")"
      ],
      "execution_count": 26,
      "outputs": [
        {
          "output_type": "stream",
          "name": "stderr",
          "text": [
            "/usr/local/lib/python3.7/dist-packages/numpy/core/_asarray.py:83: VisibleDeprecationWarning:\n",
            "\n",
            "Creating an ndarray from ragged nested sequences (which is a list-or-tuple of lists-or-tuples-or ndarrays with different lengths or shapes) is deprecated. If you meant to do this, you must specify 'dtype=object' when creating the ndarray\n",
            "\n"
          ]
        },
        {
          "output_type": "execute_result",
          "data": {
            "text/plain": [
              "Text(0.5, 0, 'Платформы')"
            ]
          },
          "metadata": {},
          "execution_count": 26
        },
        {
          "output_type": "display_data",
          "data": {
            "image/png": "[encoded data removed]",
            "text/plain": [
              "<Figure size 1440x576 with 1 Axes>"
            ]
          },
          "metadata": {
            "needs_background": "light"
          }
        }
      ]
    },
    {
      "cell_type": "code",
      "metadata": {
        "colab": {
          "base_uri": "https://localhost:8080/",
          "height": 556
        },
        "id": "74h5xt4K0o3V",
        "outputId": "f34e8c0e-c088-4c73-cd91-3fa4554f5c42"
      },
      "source": [
        "# КОД РЕВЬЮЕРА\n",
        "import warnings\n",
        "warnings.filterwarnings('ignore') # Игнорирую предупреждения.\n",
        "\n",
        "top7_actual = list(games_new.groupby('platform')['sales_total'].sum().to_frame('sales_total').sort_values(by='sales_total', ascending=False).head(7).index)\n",
        "\n",
        "games_new.query('platform in @top7_actual').boxplot(by='platform', column='sales_total', figsize=(10,8))\n",
        "plt.ylim(0,4)"
      ],
      "execution_count": 27,
      "outputs": [
        {
          "output_type": "execute_result",
          "data": {
            "text/plain": [
              "(0.0, 4.0)"
            ]
          },
          "metadata": {},
          "execution_count": 27
        },
        {
          "output_type": "display_data",
          "data": {
            "image/png": "[encoded data removed]",
            "text/plain": [
              "<Figure size 720x576 with 1 Axes>"
            ]
          },
          "metadata": {
            "needs_background": "light"
          }
        }
      ]
    },
    {
      "cell_type": "markdown",
      "metadata": {
        "id": "She92EKOphOa"
      },
      "source": [
        "Выделяются как наиболее прибыльные: PS4 и XOne; так и совсем ещё маленькие, как 3DS с медианой около 0,2 млн долларов. \n",
        "Верхняя граница предела, за которыми уже определяются аномалии, у PS3 - на уровне 1,4 млн долларов; 3DS - 0,7 млн долларов; PS4 - 1,7 млн долларов; WiiU - 1,2 млн долларов; XOne - 1,55 млн долларов;<br/>\n",
        "У остальных - от 1 до 1,5 миллионов долларов.<br/>\n",
        "Медиана по топовым платформам варьируется от 0,2 до 0,25 млн долларов прибыли за игру.<br/>\n",
        "\n"
      ]
    },
    {
      "cell_type": "markdown",
      "metadata": {
        "id": "acVcshiqphOb"
      },
      "source": [
        "<br/><a name=\"3.6.\"></a>\n",
        "<b>3.6. Влияние отзывов пользователей и критиков на продажи</b>.<br/>\n",
        "<font size=\"2\">([к содержанию](#0.0))</font>"
      ]
    },
    {
      "cell_type": "markdown",
      "metadata": {
        "id": "27vXCfiRphOb"
      },
      "source": [
        "За образец возьмем самую топовую  платформу  - PS4. Конечно, она не так давно на рынке, однако, на конец 2016 года она является одной из самых популярных игровых платформ."
      ]
    },
    {
      "cell_type": "code",
      "metadata": {
        "id": "y0IIBWDpphOb"
      },
      "source": [
        "games_ps4 = games[(games['platform'] == 'PS4') & (games['critic_score'] > 0)].copy()"
      ],
      "execution_count": 28,
      "outputs": []
    },
    {
      "cell_type": "markdown",
      "metadata": {
        "id": "Srt_ImqdphOb"
      },
      "source": [
        "<br/><a name=\"3.6.1.\"></a>\n",
        "<b>3.6.1. Диаграмма рассеяния зависимости общей суммы продаж игры от отзывов критиков</b>:<br/>\n",
        "<font size=\"2\">([к содержанию](#0.0))</font>"
      ]
    },
    {
      "cell_type": "code",
      "metadata": {
        "colab": {
          "base_uri": "https://localhost:8080/",
          "height": 427
        },
        "id": "8fSWYQi3phOb",
        "outputId": "a65665bc-6fd5-4e47-c9e5-5de589494551"
      },
      "source": [
        "from matplotlib.axes._axes import _log as matplotlib_axes_logger\n",
        "\n",
        "games_ps4 = games_new[(games_new['platform'] == 'PS4') & (games_new['critic_score'] > 0)].copy()\n",
        "games_ps4.plot(kind='scatter', x='critic_score', y='sales_total', ec='black', figsize=(10,6))\n",
        "plt.title('Зависимость общей суммы продаж игры от отзывов критиков', fontweight=\"bold\", color='k', fontsize=16)\n",
        "plt.xlabel(\"Отзывы критиков\", fontsize=14, fontweight=\"bold\")\n",
        "plt.ylabel(\"Продажи\", fontsize=14, fontweight=\"bold\")"
      ],
      "execution_count": 29,
      "outputs": [
        {
          "output_type": "execute_result",
          "data": {
            "text/plain": [
              "Text(0, 0.5, 'Продажи')"
            ]
          },
          "metadata": {},
          "execution_count": 29
        },
        {
          "output_type": "display_data",
          "data": {
            "image/png": "[encoded data removed]",
            "text/plain": [
              "<Figure size 720x432 with 1 Axes>"
            ]
          },
          "metadata": {
            "needs_background": "light"
          }
        }
      ]
    },
    {
      "cell_type": "markdown",
      "metadata": {
        "id": "EQf7oAiPphOc"
      },
      "source": [
        "С увеличением среднего рейтинга критиков увеличивается и средний уровень выручки с продажи игр, что логично: чем качественнее игра, тем больше денег она приносит разработчику и издателю."
      ]
    },
    {
      "cell_type": "markdown",
      "metadata": {
        "id": "VbQafk0mphOc"
      },
      "source": [
        "Теперь от отзывов пользователей:"
      ]
    },
    {
      "cell_type": "code",
      "metadata": {
        "colab": {
          "base_uri": "https://localhost:8080/",
          "height": 427
        },
        "id": "FwvUmB1WphOc",
        "outputId": "33d89fcb-b9e5-4ca2-8e7c-3212a255c7f9"
      },
      "source": [
        "games_ps4 = games_new[(games_new['platform'] == 'PS4') & (games_new['user_score'] > 0)].copy()\n",
        "games_ps4.plot(kind='scatter', x='user_score', y='sales_total', ec='black', figsize=(10,6))\n",
        "plt.title('Зависимость общей суммы продаж игры от отзывов пользователей', fontweight=\"bold\", color='k', fontsize=16)\n",
        "plt.xlabel(\"Отзывы пользователей\", fontsize=14, fontweight=\"bold\")\n",
        "plt.ylabel(\"Продажи\", fontsize=14, fontweight=\"bold\")"
      ],
      "execution_count": 30,
      "outputs": [
        {
          "output_type": "execute_result",
          "data": {
            "text/plain": [
              "Text(0, 0.5, 'Продажи')"
            ]
          },
          "metadata": {},
          "execution_count": 30
        },
        {
          "output_type": "display_data",
          "data": {
            "image/png": "[encoded data removed]",
            "text/plain": [
              "<Figure size 720x432 with 1 Axes>"
            ]
          },
          "metadata": {
            "needs_background": "light"
          }
        }
      ]
    },
    {
      "cell_type": "markdown",
      "metadata": {
        "id": "2HS3utaCphOc"
      },
      "source": [
        "Видна обратная зависимость – рейтинг пользователей не велик, но тем не менее игра собирает большие деньги. Такое случается с игроками, когда сработал маркетинг и реклама. Игроки на энтузиазме покупают игру, ожидания слишком высоки и так легче расстроится и принести разработчикам прибыль, а затем поставить игре плохую оченку."
      ]
    },
    {
      "cell_type": "markdown",
      "metadata": {
        "id": "d_CFsHuephOd"
      },
      "source": [
        "<br/><a name=\"3.6.2.\"></a>\n",
        "<b>3.6.2. Матрица корреляции</b>:<br/>\n",
        "<font size=\"2\">([к содержанию](#0.0))</font>"
      ]
    },
    {
      "cell_type": "code",
      "metadata": {
        "colab": {
          "base_uri": "https://localhost:8080/",
          "height": 643
        },
        "id": "tdqbFcJZphOd",
        "outputId": "ea3dae23-a088-4327-b863-91e1d61b136f"
      },
      "source": [
        "plt.figure(figsize=(9,9))\n",
        "sns.heatmap(games_ps4.corr(), annot=True, cmap=\"Blues\", fmt='.2f', annot_kws={'size':16})\n",
        "plt.title(\"Матрица корреляции\", fontsize = 18)\n"
      ],
      "execution_count": 31,
      "outputs": [
        {
          "output_type": "execute_result",
          "data": {
            "text/plain": [
              "Text(0.5, 1.0, 'Матрица корреляции')"
            ]
          },
          "metadata": {},
          "execution_count": 31
        },
        {
          "output_type": "display_data",
          "data": {
            "image/png": "[encoded data removed]",
            "text/plain": [
              "<Figure size 648x648 with 2 Axes>"
            ]
          },
          "metadata": {
            "needs_background": "light"
          }
        }
      ]
    },
    {
      "cell_type": "markdown",
      "metadata": {
        "id": "apqBfoDUphOd"
      },
      "source": [
        "Выделим нужные нам данные:"
      ]
    },
    {
      "cell_type": "code",
      "metadata": {
        "id": "44txhfYYphOd"
      },
      "source": [
        "games_ps4_filtered = games_ps4[['sales_total' ,'critic_score', 'user_score']]"
      ],
      "execution_count": 32,
      "outputs": []
    },
    {
      "cell_type": "code",
      "metadata": {
        "colab": {
          "base_uri": "https://localhost:8080/",
          "height": 247
        },
        "id": "vpsyWVQSphOe",
        "outputId": "ae7b243d-28bf-4aa5-db76-dfe6dc6fbc4b"
      },
      "source": [
        "plt.figure(figsize=(1,3))\n",
        "sns.heatmap(games_ps4_filtered.corr()[['sales_total']].sort_values(by='sales_total', ascending=False), cmap=\"Blues\", \n",
        "            annot=True, annot_kws={'size':15})\n",
        "plt.title(\"Корреляция продаж\", fontsize = 15)"
      ],
      "execution_count": 33,
      "outputs": [
        {
          "output_type": "execute_result",
          "data": {
            "text/plain": [
              "Text(0.5, 1.0, 'Корреляция продаж')"
            ]
          },
          "metadata": {},
          "execution_count": 33
        },
        {
          "output_type": "display_data",
          "data": {
            "image/png": "[encoded data removed]",
            "text/plain": [
              "<Figure size 72x216 with 2 Axes>"
            ]
          },
          "metadata": {
            "needs_background": "light"
          }
        }
      ]
    },
    {
      "cell_type": "markdown",
      "metadata": {
        "id": "hS9zYNn-phOe"
      },
      "source": [
        "Сильнее всего на конечную стоимость влияет оценка критиков. В обратном порядке влияет - оценка пользователей."
      ]
    },
    {
      "cell_type": "markdown",
      "metadata": {
        "id": "8pC79qxZphOe"
      },
      "source": [
        "<br/><a name=\"3.6.3.\"></a>\n",
        "<b>3.6.3. Данные по корреляции по топовым платформам:</b><br/>\n",
        "<font size=\"2\">([к содержанию](#0.0))</font>"
      ]
    },
    {
      "cell_type": "code",
      "metadata": {
        "colab": {
          "base_uri": "https://localhost:8080/",
          "height": 570
        },
        "id": "tcptPlBNphOf",
        "outputId": "914ae410-81a7-4565-90d2-5532850e51a3"
      },
      "source": [
        "top_platforms = ['PS4', 'XOne', 'PS3', 'WiiU', '3DS', 'X360']\n",
        "\n",
        "rows = len(top_platforms) // 2\n",
        "cols = 2\n",
        "fig, axes = plt.subplots(rows, cols, figsize=(15,8.5))\n",
        "count = 0\n",
        "for r in range(rows):\n",
        "    for c in range(cols):\n",
        "        curr_platform = top_platforms[count]\n",
        "        df_prep = games_new[(games_new['platform'] == curr_platform) & (games_new['user_score'] > 0)].copy()\n",
        "        df_filtered = df_prep[['sales_total' ,'critic_score', 'user_score']].rename({'sales_total': 'Продажи', 'critic_score': 'Оценка критиков', 'user_score': 'Оценка пользователей'}, axis=1)\n",
        "        sns.set(font_scale=1.0)\n",
        "        ax = sns.heatmap(df_filtered.corr()[['Продажи']].sort_values(by='Продажи', ascending=False), \n",
        "                         cmap=\"Blues\", annot=True, annot_kws={'size':15}, ax=axes[r,c])\n",
        "        ax.set_title(curr_platform, fontsize=20)\n",
        "        ax.set_yticklabels(ax.get_yticklabels(), rotation=0)\n",
        "        plt.tight_layout(pad=3)\n",
        "        count += 1\n",
        " "
      ],
      "execution_count": 34,
      "outputs": [
        {
          "output_type": "display_data",
          "data": {
            "image/png": "[encoded data removed]",
            "text/plain": [
              "<Figure size 1080x612 with 12 Axes>"
            ]
          },
          "metadata": {
            "needs_background": "light"
          }
        }
      ]
    },
    {
      "cell_type": "markdown",
      "metadata": {
        "id": "kk2PUzSNphOf"
      },
      "source": [
        "В корреляции по отзывам критиков более менее совпадают с общей у платформ <b>PS4, XOne</b> и <b>WiiU</b>. Меньше всего у **3DS**, **X360** и **PS3**.<br/>\n",
        "\n",
        "В корреляции по отзывам пользователей выделяются <b>3DS</b> и <b>WiiU</b> у которой корреляция самая большая, видимо сказывается уровень экспертной оценки азиатских игроков, что \"определяет\" конечную выручку продукта сильнее, чем оценка критиков. Остальные платформы имеют либо незначительную зависимость, либо вовсе отрицательную."
      ]
    },
    {
      "cell_type": "markdown",
      "metadata": {
        "id": "tOHj0izAphOg"
      },
      "source": [
        "<br/><a name=\"3.7.\"></a>\n",
        "<b>3.7. Распределение игр по жанрам</b>.<br/>\n",
        "<font size=\"2\">([к содержанию](#0.0))</font>"
      ]
    },
    {
      "cell_type": "markdown",
      "metadata": {
        "id": "-bccaIIEphOg"
      },
      "source": [
        "Нарисуем столбчатую диаграмму с количеством и общей суммой продаж и расскажем о самых прибыльных жанрах, а потом посмотрим на особенности жанров с высокими и низкими продажами."
      ]
    },
    {
      "cell_type": "code",
      "metadata": {
        "colab": {
          "base_uri": "https://localhost:8080/",
          "height": 541
        },
        "id": "wzk7ihoXAvzI",
        "outputId": "da0394f8-f9a5-48d5-d73f-a0221ea34b2d"
      },
      "source": [
        "import plotly.graph_objects as go\n",
        "pivot = games_new.groupby('genre').agg({'name': 'count', 'sales_total': 'sum'}).sort_values(by='name', ascending=True)\n",
        "list_genres = games_new.groupby('genre').agg({'name': 'count', 'sales_total': 'sum'}).sort_values(by='name', ascending=True).index.tolist()\n",
        "\n",
        "fig = go.Figure()\n",
        "fig.add_trace(go.Bar(x=list_genres,\n",
        "                y=pivot['name'],\n",
        "                name='Количество продаж',\n",
        "                marker_color='rgb(55, 83, 109)'\n",
        "                ))\n",
        "fig.add_trace(go.Bar(x=list_genres,\n",
        "                y=pivot['sales_total'],\n",
        "                name='Общая сумма продаж',\n",
        "                marker_color='rgb(26, 118, 255)'\n",
        "                ))\n",
        "\n",
        "fig.update_layout(\n",
        "    title='Распределение продаж по жанрам',\n",
        "    xaxis_tickfont_size=20,\n",
        "    yaxis=dict(\n",
        "        title='Продажи',\n",
        "        titlefont_size=16,\n",
        "        tickfont_size=14,\n",
        "    ),\n",
        "    legend=dict(\n",
        "        x=0,\n",
        "        y=1.0,\n",
        "        bgcolor='rgba(255, 255, 255, 0)',\n",
        "        bordercolor='rgba(255, 255, 255, 0)'\n",
        "    ),\n",
        "    barmode='group',\n",
        "    bargap=0.15,\n",
        "    bargroupgap=0.1 \n",
        ")\n",
        "fig.show()"
      ],
      "execution_count": 35,
      "outputs": [
        {
          "output_type": "display_data",
          "data": {
            "text/html": [
              "<html>\n",
              "<head><meta charset=\"utf-8\" /></head>\n",
              "<body>\n",
              "    <div>\n",
              "            <script src=\"https://cdnjs.cloudflare.com/ajax/libs/mathjax/2.7.5/MathJax.js?config=TeX-AMS-MML_SVG\"></script><script type=\"text/javascript\">if (window.MathJax) {MathJax.Hub.Config({SVG: {font: \"STIX-Web\"}});}</script>\n",
              "                <script type=\"text/javascript\">window.PlotlyConfig = {MathJaxConfig: 'local'};</script>\n",
              "        <script src=\"https://cdn.plot.ly/plotly-latest.min.js\"></script>    \n",
              "            <div id=\"0a4f96f5-a882-4ae0-8b21-aff8b247d77a\" class=\"plotly-graph-div\" style=\"height:525px; width:100%;\"></div>\n",
              "            <script type=\"text/javascript\">\n",
              "                \n",
              "                    window.PLOTLYENV=window.PLOTLYENV || {};\n",
              "                    \n",
              "                if (document.getElementById(\"0a4f96f5-a882-4ae0-8b21-aff8b247d77a\")) {\n",
              "                    Plotly.newPlot(\n",
              "                        '0a4f96f5-a882-4ae0-8b21-aff8b247d77a',\n",
              "                        [{\"marker\": {\"color\": \"rgb(55, 83, 109)\"}, \"name\": \"\\u041a\\u043e\\u043b\\u0438\\u0447\\u0435\\u0441\\u0442\\u0432\\u043e \\u043f\\u0440\\u043e\\u0434\\u0430\\u0436\", \"type\": \"bar\", \"x\": [\"Puzzle\", \"Strategy\", \"Simulation\", \"Platform\", \"Fighting\", \"Racing\", \"Misc\", \"Shooter\", \"Sports\", \"Adventure\", \"Role-Playing\", \"Action\"], \"y\": [28, 71, 80, 85, 109, 115, 192, 235, 268, 302, 370, 1031]}, {\"marker\": {\"color\": \"rgb(26, 118, 255)\"}, \"name\": \"\\u041e\\u0431\\u0449\\u0430\\u044f \\u0441\\u0443\\u043c\\u043c\\u0430 \\u043f\\u0440\\u043e\\u0434\\u0430\\u0436\", \"type\": \"bar\", \"x\": [\"Puzzle\", \"Strategy\", \"Simulation\", \"Platform\", \"Fighting\", \"Racing\", \"Misc\", \"Shooter\", \"Sports\", \"Adventure\", \"Role-Playing\", \"Action\"], \"y\": [4.889999999999995, 13.339999999999996, 35.120000000000005, 61.0, 44.490000000000016, 53.49999999999997, 85.04000000000008, 304.7300000000001, 181.06999999999988, 29.430000000000092, 192.80000000000024, 441.1199999999965]}],\n",
              "                        {\"bargap\": 0.15, \"bargroupgap\": 0.1, \"barmode\": \"group\", \"legend\": {\"bgcolor\": \"rgba(255, 255, 255, 0)\", \"bordercolor\": \"rgba(255, 255, 255, 0)\", \"x\": 0, \"y\": 1.0}, \"template\": {\"data\": {\"bar\": [{\"error_x\": {\"color\": \"#2a3f5f\"}, \"error_y\": {\"color\": \"#2a3f5f\"}, \"marker\": {\"line\": {\"color\": \"#E5ECF6\", \"width\": 0.5}}, \"type\": \"bar\"}], \"barpolar\": [{\"marker\": {\"line\": {\"color\": \"#E5ECF6\", \"width\": 0.5}}, \"type\": \"barpolar\"}], \"carpet\": [{\"aaxis\": {\"endlinecolor\": \"#2a3f5f\", \"gridcolor\": \"white\", \"linecolor\": \"white\", \"minorgridcolor\": \"white\", \"startlinecolor\": \"#2a3f5f\"}, \"baxis\": {\"endlinecolor\": \"#2a3f5f\", \"gridcolor\": \"white\", \"linecolor\": \"white\", \"minorgridcolor\": \"white\", \"startlinecolor\": \"#2a3f5f\"}, \"type\": \"carpet\"}], \"choropleth\": [{\"colorbar\": {\"outlinewidth\": 0, \"ticks\": \"\"}, \"type\": \"choropleth\"}], \"contour\": [{\"colorbar\": {\"outlinewidth\": 0, \"ticks\": \"\"}, \"colorscale\": [[0.0, \"#0d0887\"], [0.1111111111111111, \"#46039f\"], [0.2222222222222222, \"#7201a8\"], [0.3333333333333333, \"#9c179e\"], [0.4444444444444444, \"#bd3786\"], [0.5555555555555556, \"#d8576b\"], [0.6666666666666666, \"#ed7953\"], [0.7777777777777778, \"#fb9f3a\"], [0.8888888888888888, \"#fdca26\"], [1.0, \"#f0f921\"]], \"type\": \"contour\"}], \"contourcarpet\": [{\"colorbar\": {\"outlinewidth\": 0, \"ticks\": \"\"}, \"type\": \"contourcarpet\"}], \"heatmap\": [{\"colorbar\": {\"outlinewidth\": 0, \"ticks\": \"\"}, \"colorscale\": [[0.0, \"#0d0887\"], [0.1111111111111111, \"#46039f\"], [0.2222222222222222, \"#7201a8\"], [0.3333333333333333, \"#9c179e\"], [0.4444444444444444, \"#bd3786\"], [0.5555555555555556, \"#d8576b\"], [0.6666666666666666, \"#ed7953\"], [0.7777777777777778, \"#fb9f3a\"], [0.8888888888888888, \"#fdca26\"], [1.0, \"#f0f921\"]], \"type\": \"heatmap\"}], \"heatmapgl\": [{\"colorbar\": {\"outlinewidth\": 0, \"ticks\": \"\"}, \"colorscale\": [[0.0, \"#0d0887\"], [0.1111111111111111, \"#46039f\"], [0.2222222222222222, \"#7201a8\"], [0.3333333333333333, \"#9c179e\"], [0.4444444444444444, \"#bd3786\"], [0.5555555555555556, \"#d8576b\"], [0.6666666666666666, \"#ed7953\"], [0.7777777777777778, \"#fb9f3a\"], [0.8888888888888888, \"#fdca26\"], [1.0, \"#f0f921\"]], \"type\": \"heatmapgl\"}], \"histogram\": [{\"marker\": {\"colorbar\": {\"outlinewidth\": 0, \"ticks\": \"\"}}, \"type\": \"histogram\"}], \"histogram2d\": [{\"colorbar\": {\"outlinewidth\": 0, \"ticks\": \"\"}, \"colorscale\": [[0.0, \"#0d0887\"], [0.1111111111111111, \"#46039f\"], [0.2222222222222222, \"#7201a8\"], [0.3333333333333333, \"#9c179e\"], [0.4444444444444444, \"#bd3786\"], [0.5555555555555556, \"#d8576b\"], [0.6666666666666666, \"#ed7953\"], [0.7777777777777778, \"#fb9f3a\"], [0.8888888888888888, \"#fdca26\"], [1.0, \"#f0f921\"]], \"type\": \"histogram2d\"}], \"histogram2dcontour\": [{\"colorbar\": {\"outlinewidth\": 0, \"ticks\": \"\"}, \"colorscale\": [[0.0, \"#0d0887\"], [0.1111111111111111, \"#46039f\"], [0.2222222222222222, \"#7201a8\"], [0.3333333333333333, \"#9c179e\"], [0.4444444444444444, \"#bd3786\"], [0.5555555555555556, \"#d8576b\"], [0.6666666666666666, \"#ed7953\"], [0.7777777777777778, \"#fb9f3a\"], [0.8888888888888888, \"#fdca26\"], [1.0, \"#f0f921\"]], \"type\": \"histogram2dcontour\"}], \"mesh3d\": [{\"colorbar\": {\"outlinewidth\": 0, \"ticks\": \"\"}, \"type\": \"mesh3d\"}], \"parcoords\": [{\"line\": {\"colorbar\": {\"outlinewidth\": 0, \"ticks\": \"\"}}, \"type\": \"parcoords\"}], \"pie\": [{\"automargin\": true, \"type\": \"pie\"}], \"scatter\": [{\"marker\": {\"colorbar\": {\"outlinewidth\": 0, \"ticks\": \"\"}}, \"type\": \"scatter\"}], \"scatter3d\": [{\"line\": {\"colorbar\": {\"outlinewidth\": 0, \"ticks\": \"\"}}, \"marker\": {\"colorbar\": {\"outlinewidth\": 0, \"ticks\": \"\"}}, \"type\": \"scatter3d\"}], \"scattercarpet\": [{\"marker\": {\"colorbar\": {\"outlinewidth\": 0, \"ticks\": \"\"}}, \"type\": \"scattercarpet\"}], \"scattergeo\": [{\"marker\": {\"colorbar\": {\"outlinewidth\": 0, \"ticks\": \"\"}}, \"type\": \"scattergeo\"}], \"scattergl\": [{\"marker\": {\"colorbar\": {\"outlinewidth\": 0, \"ticks\": \"\"}}, \"type\": \"scattergl\"}], \"scattermapbox\": [{\"marker\": {\"colorbar\": {\"outlinewidth\": 0, \"ticks\": \"\"}}, \"type\": \"scattermapbox\"}], \"scatterpolar\": [{\"marker\": {\"colorbar\": {\"outlinewidth\": 0, \"ticks\": \"\"}}, \"type\": \"scatterpolar\"}], \"scatterpolargl\": [{\"marker\": {\"colorbar\": {\"outlinewidth\": 0, \"ticks\": \"\"}}, \"type\": \"scatterpolargl\"}], \"scatterternary\": [{\"marker\": {\"colorbar\": {\"outlinewidth\": 0, \"ticks\": \"\"}}, \"type\": \"scatterternary\"}], \"surface\": [{\"colorbar\": {\"outlinewidth\": 0, \"ticks\": \"\"}, \"colorscale\": [[0.0, \"#0d0887\"], [0.1111111111111111, \"#46039f\"], [0.2222222222222222, \"#7201a8\"], [0.3333333333333333, \"#9c179e\"], [0.4444444444444444, \"#bd3786\"], [0.5555555555555556, \"#d8576b\"], [0.6666666666666666, \"#ed7953\"], [0.7777777777777778, \"#fb9f3a\"], [0.8888888888888888, \"#fdca26\"], [1.0, \"#f0f921\"]], \"type\": \"surface\"}], \"table\": [{\"cells\": {\"fill\": {\"color\": \"#EBF0F8\"}, \"line\": {\"color\": \"white\"}}, \"header\": {\"fill\": {\"color\": \"#C8D4E3\"}, \"line\": {\"color\": \"white\"}}, \"type\": \"table\"}]}, \"layout\": {\"annotationdefaults\": {\"arrowcolor\": \"#2a3f5f\", \"arrowhead\": 0, \"arrowwidth\": 1}, \"coloraxis\": {\"colorbar\": {\"outlinewidth\": 0, \"ticks\": \"\"}}, \"colorscale\": {\"diverging\": [[0, \"#8e0152\"], [0.1, \"#c51b7d\"], [0.2, \"#de77ae\"], [0.3, \"#f1b6da\"], [0.4, \"#fde0ef\"], [0.5, \"#f7f7f7\"], [0.6, \"#e6f5d0\"], [0.7, \"#b8e186\"], [0.8, \"#7fbc41\"], [0.9, \"#4d9221\"], [1, \"#276419\"]], \"sequential\": [[0.0, \"#0d0887\"], [0.1111111111111111, \"#46039f\"], [0.2222222222222222, \"#7201a8\"], [0.3333333333333333, \"#9c179e\"], [0.4444444444444444, \"#bd3786\"], [0.5555555555555556, \"#d8576b\"], [0.6666666666666666, \"#ed7953\"], [0.7777777777777778, \"#fb9f3a\"], [0.8888888888888888, \"#fdca26\"], [1.0, \"#f0f921\"]], \"sequentialminus\": [[0.0, \"#0d0887\"], [0.1111111111111111, \"#46039f\"], [0.2222222222222222, \"#7201a8\"], [0.3333333333333333, \"#9c179e\"], [0.4444444444444444, \"#bd3786\"], [0.5555555555555556, \"#d8576b\"], [0.6666666666666666, \"#ed7953\"], [0.7777777777777778, \"#fb9f3a\"], [0.8888888888888888, \"#fdca26\"], [1.0, \"#f0f921\"]]}, \"colorway\": [\"#636efa\", \"#EF553B\", \"#00cc96\", \"#ab63fa\", \"#FFA15A\", \"#19d3f3\", \"#FF6692\", \"#B6E880\", \"#FF97FF\", \"#FECB52\"], \"font\": {\"color\": \"#2a3f5f\"}, \"geo\": {\"bgcolor\": \"white\", \"lakecolor\": \"white\", \"landcolor\": \"#E5ECF6\", \"showlakes\": true, \"showland\": true, \"subunitcolor\": \"white\"}, \"hoverlabel\": {\"align\": \"left\"}, \"hovermode\": \"closest\", \"mapbox\": {\"style\": \"light\"}, \"paper_bgcolor\": \"white\", \"plot_bgcolor\": \"#E5ECF6\", \"polar\": {\"angularaxis\": {\"gridcolor\": \"white\", \"linecolor\": \"white\", \"ticks\": \"\"}, \"bgcolor\": \"#E5ECF6\", \"radialaxis\": {\"gridcolor\": \"white\", \"linecolor\": \"white\", \"ticks\": \"\"}}, \"scene\": {\"xaxis\": {\"backgroundcolor\": \"#E5ECF6\", \"gridcolor\": \"white\", \"gridwidth\": 2, \"linecolor\": \"white\", \"showbackground\": true, \"ticks\": \"\", \"zerolinecolor\": \"white\"}, \"yaxis\": {\"backgroundcolor\": \"#E5ECF6\", \"gridcolor\": \"white\", \"gridwidth\": 2, \"linecolor\": \"white\", \"showbackground\": true, \"ticks\": \"\", \"zerolinecolor\": \"white\"}, \"zaxis\": {\"backgroundcolor\": \"#E5ECF6\", \"gridcolor\": \"white\", \"gridwidth\": 2, \"linecolor\": \"white\", \"showbackground\": true, \"ticks\": \"\", \"zerolinecolor\": \"white\"}}, \"shapedefaults\": {\"line\": {\"color\": \"#2a3f5f\"}}, \"ternary\": {\"aaxis\": {\"gridcolor\": \"white\", \"linecolor\": \"white\", \"ticks\": \"\"}, \"baxis\": {\"gridcolor\": \"white\", \"linecolor\": \"white\", \"ticks\": \"\"}, \"bgcolor\": \"#E5ECF6\", \"caxis\": {\"gridcolor\": \"white\", \"linecolor\": \"white\", \"ticks\": \"\"}}, \"title\": {\"x\": 0.05}, \"xaxis\": {\"automargin\": true, \"gridcolor\": \"white\", \"linecolor\": \"white\", \"ticks\": \"\", \"title\": {\"standoff\": 15}, \"zerolinecolor\": \"white\", \"zerolinewidth\": 2}, \"yaxis\": {\"automargin\": true, \"gridcolor\": \"white\", \"linecolor\": \"white\", \"ticks\": \"\", \"title\": {\"standoff\": 15}, \"zerolinecolor\": \"white\", \"zerolinewidth\": 2}}}, \"title\": {\"text\": \"\\u0420\\u0430\\u0441\\u043f\\u0440\\u0435\\u0434\\u0435\\u043b\\u0435\\u043d\\u0438\\u0435 \\u043f\\u0440\\u043e\\u0434\\u0430\\u0436 \\u043f\\u043e \\u0436\\u0430\\u043d\\u0440\\u0430\\u043c\"}, \"xaxis\": {\"tickfont\": {\"size\": 20}}, \"yaxis\": {\"tickfont\": {\"size\": 14}, \"title\": {\"font\": {\"size\": 16}, \"text\": \"\\u041f\\u0440\\u043e\\u0434\\u0430\\u0436\\u0438\"}}},\n",
              "                        {\"responsive\": true}\n",
              "                    ).then(function(){\n",
              "                            \n",
              "var gd = document.getElementById('0a4f96f5-a882-4ae0-8b21-aff8b247d77a');\n",
              "var x = new MutationObserver(function (mutations, observer) {{\n",
              "        var display = window.getComputedStyle(gd).display;\n",
              "        if (!display || display === 'none') {{\n",
              "            console.log([gd, 'removed!']);\n",
              "            Plotly.purge(gd);\n",
              "            observer.disconnect();\n",
              "        }}\n",
              "}});\n",
              "\n",
              "// Listen for the removal of the full notebook cells\n",
              "var notebookContainer = gd.closest('#notebook-container');\n",
              "if (notebookContainer) {{\n",
              "    x.observe(notebookContainer, {childList: true});\n",
              "}}\n",
              "\n",
              "// Listen for the clearing of the current output cell\n",
              "var outputEl = gd.closest('.output');\n",
              "if (outputEl) {{\n",
              "    x.observe(outputEl, {childList: true});\n",
              "}}\n",
              "\n",
              "                        })\n",
              "                };\n",
              "                \n",
              "            </script>\n",
              "        </div>\n",
              "</body>\n",
              "</html>"
            ]
          },
          "metadata": {}
        }
      ]
    },
    {
      "cell_type": "markdown",
      "metadata": {
        "id": "8F8LqCQAphOg"
      },
      "source": [
        "Больше всего игр жанра <b>Action</b>. За ними идут ролевые игры. Причем даже учитывая то, что ролевой жанр заметно меньше на рынке (на треть от <b>Action</b>). Далее странный мув от приключенческого жанра и его дисбаланс по прибыли, кажется кто-то сильно дёшево стоит, чего не скажешь о шутерах, которые стараются компенсировать изо всех сил пиратство (так как Шутеры преимущественно выходят на PC).\n",
        "\n",
        "\n",
        "Опишем отдельно топ по количеству проданных копий и продажам.<br/><br/>\n",
        "\n",
        "<b>Количество проданных копий:</b>\n",
        "1. <b>Action</b>\n",
        "2. <b>Ролевые игры</b>\n",
        "3. **Приключения**\n",
        "4. **Спортивные**\n",
        "5. **Шутеры**\n",
        "\n",
        "\n",
        "...<b>аутсайдеры</b> - игры, которые требуют усидчивости:<br/><br/>\n",
        "1. **Паззлы**\n",
        "2. **Стратегии**\n",
        "3. **Симуляторы**\n",
        "4. **Платформеные**\n",
        "5. **Файтинги**\n",
        "\n",
        "<b>Продажи:</b>\n",
        "1. <b>Action</b>\n",
        "2. <b>Шутеры</b>\n",
        "3. <b>Ролевые</b>\n",
        "4. **Спортивные**\n",
        "5. **Аркады**\n",
        "\n",
        "...<b>аутсайдеры</b>:<br/>\n",
        "1. **Пазлы**<br/>\n",
        "2. **Стратегии**<br/>\n",
        "3. **Приключения**"
      ]
    },
    {
      "cell_type": "markdown",
      "metadata": {
        "id": "3HZIPk5lCFHa"
      },
      "source": [
        "Рассмотрим детальнее продажи в разрезе жанров по медиане и среднему значению. Чтобы приблизится к пониманию: игры в каких жанрах дороже и кто вытягивает продажи за счёт проданных копий."
      ]
    },
    {
      "cell_type": "code",
      "metadata": {
        "colab": {
          "base_uri": "https://localhost:8080/",
          "height": 541
        },
        "id": "MFLuCfEzDNVw",
        "outputId": "50c49ec7-f9bd-4f2d-806d-f55954efb8af"
      },
      "source": [
        "pivot3 = games_new.groupby('genre').agg({'sales_total': 'mean'}).sort_values(by='sales_total', ascending=True)\n",
        "pivot2 = games_new.groupby('genre').agg({'sales_total': 'median'}).sort_values(by='sales_total', ascending=True)\n",
        "list_genres3 = games_new.groupby('genre').agg({'sales_total': 'mean'}).sort_values(by='sales_total', ascending=True).index.tolist()\n",
        "list_genres2 = games_new.groupby('genre').agg({'sales_total': 'median'}).sort_values(by='sales_total', ascending=True).index.tolist()\n",
        "\n",
        "fig2 = go.Figure()\n",
        "fig2.add_trace(go.Bar(x=list_genres2,\n",
        "                y=pivot2['sales_total'],\n",
        "                name='Медианный показатель продаж',\n",
        "                marker_color='rgb(70, 187, 200)'\n",
        "                ))\n",
        "fig2.add_trace(go.Bar(x=list_genres3,\n",
        "                y=pivot3['sales_total'],\n",
        "                name='Средний показатель продаж',\n",
        "                marker_color='rgb(200, 30, 50)'\n",
        "                ))\n",
        "fig2.update_layout(\n",
        "    title='Статистика продаж по жанрам',\n",
        "    xaxis_tickfont_size=20,\n",
        "    yaxis=dict(\n",
        "        title='Продажи',\n",
        "        titlefont_size=16,\n",
        "        tickfont_size=14,\n",
        "    ),\n",
        "    legend=dict(\n",
        "        x=0,\n",
        "        y=1.0,\n",
        "        bgcolor='rgba(255, 255, 255, 0)',\n",
        "        bordercolor='rgba(255, 255, 255, 0)'\n",
        "    ),\n",
        "    barmode='group',\n",
        "    bargap=0.15,\n",
        "    bargroupgap=0.1 \n",
        ")\n",
        "fig2.show()"
      ],
      "execution_count": 36,
      "outputs": [
        {
          "output_type": "display_data",
          "data": {
            "text/html": [
              "<html>\n",
              "<head><meta charset=\"utf-8\" /></head>\n",
              "<body>\n",
              "    <div>\n",
              "            <script src=\"https://cdnjs.cloudflare.com/ajax/libs/mathjax/2.7.5/MathJax.js?config=TeX-AMS-MML_SVG\"></script><script type=\"text/javascript\">if (window.MathJax) {MathJax.Hub.Config({SVG: {font: \"STIX-Web\"}});}</script>\n",
              "                <script type=\"text/javascript\">window.PlotlyConfig = {MathJaxConfig: 'local'};</script>\n",
              "        <script src=\"https://cdn.plot.ly/plotly-latest.min.js\"></script>    \n",
              "            <div id=\"92d4e8f6-e93d-4b74-9106-e5d67f2e4dc2\" class=\"plotly-graph-div\" style=\"height:525px; width:100%;\"></div>\n",
              "            <script type=\"text/javascript\">\n",
              "                \n",
              "                    window.PLOTLYENV=window.PLOTLYENV || {};\n",
              "                    \n",
              "                if (document.getElementById(\"92d4e8f6-e93d-4b74-9106-e5d67f2e4dc2\")) {\n",
              "                    Plotly.newPlot(\n",
              "                        '92d4e8f6-e93d-4b74-9106-e5d67f2e4dc2',\n",
              "                        [{\"marker\": {\"color\": \"rgb(70, 187, 200)\"}, \"name\": \"\\u041c\\u0435\\u0434\\u0438\\u0430\\u043d\\u043d\\u044b\\u0439 \\u043f\\u043e\\u043a\\u0430\\u0437\\u0430\\u0442\\u0435\\u043b\\u044c \\u043f\\u0440\\u043e\\u0434\\u0430\\u0436\", \"type\": \"bar\", \"x\": [\"Adventure\", \"Puzzle\", \"Strategy\", \"Action\", \"Misc\", \"Simulation\", \"Fighting\", \"Racing\", \"Role-Playing\", \"Platform\", \"Sports\", \"Shooter\"], \"y\": [0.03, 0.045, 0.08, 0.12, 0.12, 0.12, 0.13, 0.13999999999999999, 0.14, 0.21, 0.24000000000000002, 0.44]}, {\"marker\": {\"color\": \"rgb(200, 30, 50)\"}, \"name\": \"\\u0421\\u0440\\u0435\\u0434\\u043d\\u0438\\u0439 \\u043f\\u043e\\u043a\\u0430\\u0437\\u0430\\u0442\\u0435\\u043b\\u044c \\u043f\\u0440\\u043e\\u0434\\u0430\\u0436\", \"type\": \"bar\", \"x\": [\"Adventure\", \"Puzzle\", \"Strategy\", \"Fighting\", \"Action\", \"Simulation\", \"Misc\", \"Racing\", \"Role-Playing\", \"Sports\", \"Platform\", \"Shooter\"], \"y\": [0.09745033112582811, 0.17464285714285696, 0.18788732394366192, 0.40816513761467904, 0.4278564500484932, 0.43900000000000006, 0.44291666666666707, 0.4652173913043476, 0.5210810810810818, 0.6756343283582085, 0.7176470588235294, 1.2967234042553195]}],\n",
              "                        {\"bargap\": 0.15, \"bargroupgap\": 0.1, \"barmode\": \"group\", \"legend\": {\"bgcolor\": \"rgba(255, 255, 255, 0)\", \"bordercolor\": \"rgba(255, 255, 255, 0)\", \"x\": 0, \"y\": 1.0}, \"template\": {\"data\": {\"bar\": [{\"error_x\": {\"color\": \"#2a3f5f\"}, \"error_y\": {\"color\": \"#2a3f5f\"}, \"marker\": {\"line\": {\"color\": \"#E5ECF6\", \"width\": 0.5}}, \"type\": \"bar\"}], \"barpolar\": [{\"marker\": {\"line\": {\"color\": \"#E5ECF6\", \"width\": 0.5}}, \"type\": \"barpolar\"}], \"carpet\": [{\"aaxis\": {\"endlinecolor\": \"#2a3f5f\", \"gridcolor\": \"white\", \"linecolor\": \"white\", \"minorgridcolor\": \"white\", \"startlinecolor\": \"#2a3f5f\"}, \"baxis\": {\"endlinecolor\": \"#2a3f5f\", \"gridcolor\": \"white\", \"linecolor\": \"white\", \"minorgridcolor\": \"white\", \"startlinecolor\": \"#2a3f5f\"}, \"type\": \"carpet\"}], \"choropleth\": [{\"colorbar\": {\"outlinewidth\": 0, \"ticks\": \"\"}, \"type\": \"choropleth\"}], \"contour\": [{\"colorbar\": {\"outlinewidth\": 0, \"ticks\": \"\"}, \"colorscale\": [[0.0, \"#0d0887\"], [0.1111111111111111, \"#46039f\"], [0.2222222222222222, \"#7201a8\"], [0.3333333333333333, \"#9c179e\"], [0.4444444444444444, \"#bd3786\"], [0.5555555555555556, \"#d8576b\"], [0.6666666666666666, \"#ed7953\"], [0.7777777777777778, \"#fb9f3a\"], [0.8888888888888888, \"#fdca26\"], [1.0, \"#f0f921\"]], \"type\": \"contour\"}], \"contourcarpet\": [{\"colorbar\": {\"outlinewidth\": 0, \"ticks\": \"\"}, \"type\": \"contourcarpet\"}], \"heatmap\": [{\"colorbar\": {\"outlinewidth\": 0, \"ticks\": \"\"}, \"colorscale\": [[0.0, \"#0d0887\"], [0.1111111111111111, \"#46039f\"], [0.2222222222222222, \"#7201a8\"], [0.3333333333333333, \"#9c179e\"], [0.4444444444444444, \"#bd3786\"], [0.5555555555555556, \"#d8576b\"], [0.6666666666666666, \"#ed7953\"], [0.7777777777777778, \"#fb9f3a\"], [0.8888888888888888, \"#fdca26\"], [1.0, \"#f0f921\"]], \"type\": \"heatmap\"}], \"heatmapgl\": [{\"colorbar\": {\"outlinewidth\": 0, \"ticks\": \"\"}, \"colorscale\": [[0.0, \"#0d0887\"], [0.1111111111111111, \"#46039f\"], [0.2222222222222222, \"#7201a8\"], [0.3333333333333333, \"#9c179e\"], [0.4444444444444444, \"#bd3786\"], [0.5555555555555556, \"#d8576b\"], [0.6666666666666666, \"#ed7953\"], [0.7777777777777778, \"#fb9f3a\"], [0.8888888888888888, \"#fdca26\"], [1.0, \"#f0f921\"]], \"type\": \"heatmapgl\"}], \"histogram\": [{\"marker\": {\"colorbar\": {\"outlinewidth\": 0, \"ticks\": \"\"}}, \"type\": \"histogram\"}], \"histogram2d\": [{\"colorbar\": {\"outlinewidth\": 0, \"ticks\": \"\"}, \"colorscale\": [[0.0, \"#0d0887\"], [0.1111111111111111, \"#46039f\"], [0.2222222222222222, \"#7201a8\"], [0.3333333333333333, \"#9c179e\"], [0.4444444444444444, \"#bd3786\"], [0.5555555555555556, \"#d8576b\"], [0.6666666666666666, \"#ed7953\"], [0.7777777777777778, \"#fb9f3a\"], [0.8888888888888888, \"#fdca26\"], [1.0, \"#f0f921\"]], \"type\": \"histogram2d\"}], \"histogram2dcontour\": [{\"colorbar\": {\"outlinewidth\": 0, \"ticks\": \"\"}, \"colorscale\": [[0.0, \"#0d0887\"], [0.1111111111111111, \"#46039f\"], [0.2222222222222222, \"#7201a8\"], [0.3333333333333333, \"#9c179e\"], [0.4444444444444444, \"#bd3786\"], [0.5555555555555556, \"#d8576b\"], [0.6666666666666666, \"#ed7953\"], [0.7777777777777778, \"#fb9f3a\"], [0.8888888888888888, \"#fdca26\"], [1.0, \"#f0f921\"]], \"type\": \"histogram2dcontour\"}], \"mesh3d\": [{\"colorbar\": {\"outlinewidth\": 0, \"ticks\": \"\"}, \"type\": \"mesh3d\"}], \"parcoords\": [{\"line\": {\"colorbar\": {\"outlinewidth\": 0, \"ticks\": \"\"}}, \"type\": \"parcoords\"}], \"pie\": [{\"automargin\": true, \"type\": \"pie\"}], \"scatter\": [{\"marker\": {\"colorbar\": {\"outlinewidth\": 0, \"ticks\": \"\"}}, \"type\": \"scatter\"}], \"scatter3d\": [{\"line\": {\"colorbar\": {\"outlinewidth\": 0, \"ticks\": \"\"}}, \"marker\": {\"colorbar\": {\"outlinewidth\": 0, \"ticks\": \"\"}}, \"type\": \"scatter3d\"}], \"scattercarpet\": [{\"marker\": {\"colorbar\": {\"outlinewidth\": 0, \"ticks\": \"\"}}, \"type\": \"scattercarpet\"}], \"scattergeo\": [{\"marker\": {\"colorbar\": {\"outlinewidth\": 0, \"ticks\": \"\"}}, \"type\": \"scattergeo\"}], \"scattergl\": [{\"marker\": {\"colorbar\": {\"outlinewidth\": 0, \"ticks\": \"\"}}, \"type\": \"scattergl\"}], \"scattermapbox\": [{\"marker\": {\"colorbar\": {\"outlinewidth\": 0, \"ticks\": \"\"}}, \"type\": \"scattermapbox\"}], \"scatterpolar\": [{\"marker\": {\"colorbar\": {\"outlinewidth\": 0, \"ticks\": \"\"}}, \"type\": \"scatterpolar\"}], \"scatterpolargl\": [{\"marker\": {\"colorbar\": {\"outlinewidth\": 0, \"ticks\": \"\"}}, \"type\": \"scatterpolargl\"}], \"scatterternary\": [{\"marker\": {\"colorbar\": {\"outlinewidth\": 0, \"ticks\": \"\"}}, \"type\": \"scatterternary\"}], \"surface\": [{\"colorbar\": {\"outlinewidth\": 0, \"ticks\": \"\"}, \"colorscale\": [[0.0, \"#0d0887\"], [0.1111111111111111, \"#46039f\"], [0.2222222222222222, \"#7201a8\"], [0.3333333333333333, \"#9c179e\"], [0.4444444444444444, \"#bd3786\"], [0.5555555555555556, \"#d8576b\"], [0.6666666666666666, \"#ed7953\"], [0.7777777777777778, \"#fb9f3a\"], [0.8888888888888888, \"#fdca26\"], [1.0, \"#f0f921\"]], \"type\": \"surface\"}], \"table\": [{\"cells\": {\"fill\": {\"color\": \"#EBF0F8\"}, \"line\": {\"color\": \"white\"}}, \"header\": {\"fill\": {\"color\": \"#C8D4E3\"}, \"line\": {\"color\": \"white\"}}, \"type\": \"table\"}]}, \"layout\": {\"annotationdefaults\": {\"arrowcolor\": \"#2a3f5f\", \"arrowhead\": 0, \"arrowwidth\": 1}, \"coloraxis\": {\"colorbar\": {\"outlinewidth\": 0, \"ticks\": \"\"}}, \"colorscale\": {\"diverging\": [[0, \"#8e0152\"], [0.1, \"#c51b7d\"], [0.2, \"#de77ae\"], [0.3, \"#f1b6da\"], [0.4, \"#fde0ef\"], [0.5, \"#f7f7f7\"], [0.6, \"#e6f5d0\"], [0.7, \"#b8e186\"], [0.8, \"#7fbc41\"], [0.9, \"#4d9221\"], [1, \"#276419\"]], \"sequential\": [[0.0, \"#0d0887\"], [0.1111111111111111, \"#46039f\"], [0.2222222222222222, \"#7201a8\"], [0.3333333333333333, \"#9c179e\"], [0.4444444444444444, \"#bd3786\"], [0.5555555555555556, \"#d8576b\"], [0.6666666666666666, \"#ed7953\"], [0.7777777777777778, \"#fb9f3a\"], [0.8888888888888888, \"#fdca26\"], [1.0, \"#f0f921\"]], \"sequentialminus\": [[0.0, \"#0d0887\"], [0.1111111111111111, \"#46039f\"], [0.2222222222222222, \"#7201a8\"], [0.3333333333333333, \"#9c179e\"], [0.4444444444444444, \"#bd3786\"], [0.5555555555555556, \"#d8576b\"], [0.6666666666666666, \"#ed7953\"], [0.7777777777777778, \"#fb9f3a\"], [0.8888888888888888, \"#fdca26\"], [1.0, \"#f0f921\"]]}, \"colorway\": [\"#636efa\", \"#EF553B\", \"#00cc96\", \"#ab63fa\", \"#FFA15A\", \"#19d3f3\", \"#FF6692\", \"#B6E880\", \"#FF97FF\", \"#FECB52\"], \"font\": {\"color\": \"#2a3f5f\"}, \"geo\": {\"bgcolor\": \"white\", \"lakecolor\": \"white\", \"landcolor\": \"#E5ECF6\", \"showlakes\": true, \"showland\": true, \"subunitcolor\": \"white\"}, \"hoverlabel\": {\"align\": \"left\"}, \"hovermode\": \"closest\", \"mapbox\": {\"style\": \"light\"}, \"paper_bgcolor\": \"white\", \"plot_bgcolor\": \"#E5ECF6\", \"polar\": {\"angularaxis\": {\"gridcolor\": \"white\", \"linecolor\": \"white\", \"ticks\": \"\"}, \"bgcolor\": \"#E5ECF6\", \"radialaxis\": {\"gridcolor\": \"white\", \"linecolor\": \"white\", \"ticks\": \"\"}}, \"scene\": {\"xaxis\": {\"backgroundcolor\": \"#E5ECF6\", \"gridcolor\": \"white\", \"gridwidth\": 2, \"linecolor\": \"white\", \"showbackground\": true, \"ticks\": \"\", \"zerolinecolor\": \"white\"}, \"yaxis\": {\"backgroundcolor\": \"#E5ECF6\", \"gridcolor\": \"white\", \"gridwidth\": 2, \"linecolor\": \"white\", \"showbackground\": true, \"ticks\": \"\", \"zerolinecolor\": \"white\"}, \"zaxis\": {\"backgroundcolor\": \"#E5ECF6\", \"gridcolor\": \"white\", \"gridwidth\": 2, \"linecolor\": \"white\", \"showbackground\": true, \"ticks\": \"\", \"zerolinecolor\": \"white\"}}, \"shapedefaults\": {\"line\": {\"color\": \"#2a3f5f\"}}, \"ternary\": {\"aaxis\": {\"gridcolor\": \"white\", \"linecolor\": \"white\", \"ticks\": \"\"}, \"baxis\": {\"gridcolor\": \"white\", \"linecolor\": \"white\", \"ticks\": \"\"}, \"bgcolor\": \"#E5ECF6\", \"caxis\": {\"gridcolor\": \"white\", \"linecolor\": \"white\", \"ticks\": \"\"}}, \"title\": {\"x\": 0.05}, \"xaxis\": {\"automargin\": true, \"gridcolor\": \"white\", \"linecolor\": \"white\", \"ticks\": \"\", \"title\": {\"standoff\": 15}, \"zerolinecolor\": \"white\", \"zerolinewidth\": 2}, \"yaxis\": {\"automargin\": true, \"gridcolor\": \"white\", \"linecolor\": \"white\", \"ticks\": \"\", \"title\": {\"standoff\": 15}, \"zerolinecolor\": \"white\", \"zerolinewidth\": 2}}}, \"title\": {\"text\": \"\\u0421\\u0442\\u0430\\u0442\\u0438\\u0441\\u0442\\u0438\\u043a\\u0430 \\u043f\\u0440\\u043e\\u0434\\u0430\\u0436 \\u043f\\u043e \\u0436\\u0430\\u043d\\u0440\\u0430\\u043c\"}, \"xaxis\": {\"tickfont\": {\"size\": 20}}, \"yaxis\": {\"tickfont\": {\"size\": 14}, \"title\": {\"font\": {\"size\": 16}, \"text\": \"\\u041f\\u0440\\u043e\\u0434\\u0430\\u0436\\u0438\"}}},\n",
              "                        {\"responsive\": true}\n",
              "                    ).then(function(){\n",
              "                            \n",
              "var gd = document.getElementById('92d4e8f6-e93d-4b74-9106-e5d67f2e4dc2');\n",
              "var x = new MutationObserver(function (mutations, observer) {{\n",
              "        var display = window.getComputedStyle(gd).display;\n",
              "        if (!display || display === 'none') {{\n",
              "            console.log([gd, 'removed!']);\n",
              "            Plotly.purge(gd);\n",
              "            observer.disconnect();\n",
              "        }}\n",
              "}});\n",
              "\n",
              "// Listen for the removal of the full notebook cells\n",
              "var notebookContainer = gd.closest('#notebook-container');\n",
              "if (notebookContainer) {{\n",
              "    x.observe(notebookContainer, {childList: true});\n",
              "}}\n",
              "\n",
              "// Listen for the clearing of the current output cell\n",
              "var outputEl = gd.closest('.output');\n",
              "if (outputEl) {{\n",
              "    x.observe(outputEl, {childList: true});\n",
              "}}\n",
              "\n",
              "                        })\n",
              "                };\n",
              "                \n",
              "            </script>\n",
              "        </div>\n",
              "</body>\n",
              "</html>"
            ]
          },
          "metadata": {}
        }
      ]
    },
    {
      "cell_type": "markdown",
      "metadata": {
        "id": "s2tYalEcGib4"
      },
      "source": [
        "**Топ показателей продаж:**\n",
        "1. Шутеры: средняя - 1.3 млн, медианна - 0.44 млн; \n",
        "2. Спортивные: средняя - 0.67 млн, медианна - 0.24 млн;\n",
        "3. Платформеры: средняя - 0.71 млн, медианна - 0.21 млн;\n",
        "4. Ролевые: средняя - 0.52 млн, медианна - 0.14 млн;\n",
        "5. Гонки: средняя - 0.46 млн, медианна - 0.14 млн.\n",
        "\n",
        "Учитывая общий показатель продаж и количество проданных копий на прошлом графике - характеристика жанров с точки зрения производства, маркетинга  открывается любопытная:\n",
        "\n",
        "- В целом индустрия стремится породить бэстселлеры, ведь только он принесёт много денег. Отсюда и такой большой разброс по всем жанрам в сравнении медианы и среднего (есть небольшое число игры, собирающих большую долю продаж);\n",
        "- Шутеры как жанр лидируют с точки зрения количества выпущенных игр и продаж, так как статистика по среднему и медиане выше, а общая сумма продаж единственная из всех жанров, обгоняет число проданных игр. То есть как ни крути, заниматься разработкой в этом жанре и производить шутаны – выгодно, даже если пиратство где-то рядом, можно позволить дополнительный отдел по защите от взлома :)\n",
        "- Аномалия у жанра Экшен. Учитывая медиану и статистику на прошлом графике, тут нужно открывать конвеерный завод, чтобы выйти в плюс (ах, если бы можно было посмотреть на экономику глубже и был бы столбец с затратами на производство каждой игры...). Проданных игр больше, чем у всех остальных, продажи небольшие, отсюда и медианное значение низкое. И среднее не блещет, хотя разница с медианной такая же, как и у всех, значит ещё остались тягачи (Ассасин, ГТА, Бэтмен - приветы), но это капля в море, по сравнению с множеством посредственных игр этого жанра, которые, вероятно, еле выходят в ноль.\n",
        "- Странная ситуация с приключениями, вероятно они не так дороги в разработке отсюда и цена может быть низкой, что позволяет выпускать приличное число игр но довольствоваться в среднем небольшими (а в случае с медианой - мизерными) продажами. \n",
        "\n",
        "\n",
        "В остальном по разнице среднего и медианы видно, что у всех жанров есть передовые игры, которые забирают большую долю продаж а остальная часть довольствуется на порядок меньшей долей.\n"
      ]
    },
    {
      "cell_type": "markdown",
      "metadata": {
        "id": "v99jjKKQphOh"
      },
      "source": [
        "<hr style=\"border: 1px solid #000;\">\n",
        "\n",
        "<br/><a name=\"4.\"></a>\n",
        "## Шаг 4. Портрет пользователя регионов NA, EU, JP\n",
        "<font size=\"2\">([к содержанию](#0.0))</font>"
      ]
    },
    {
      "cell_type": "markdown",
      "metadata": {
        "id": "E02toRhdphOh"
      },
      "source": [
        "Определим для пользователя каждого региона (NA, EU, JP):\n",
        "* самые популярные платформы (топ-5), опишем различия в долях продаж;\n",
        "* самые популярные жанры (топ-5), поясним разницу;\n",
        "* определим, влияет ли рейтинг ESRB на продажи в отдельном регионе."
      ]
    },
    {
      "cell_type": "markdown",
      "metadata": {
        "id": "Dp50gaSSphOi"
      },
      "source": [
        "<br/><a name=\"4.2.\"></a>\n",
        "<b>4.2. Определение самых популярных платформ в заданных регионах:</b>.<br/>\n",
        "<font size=\"2\">([к содержанию](#0.0))</font>"
      ]
    },
    {
      "cell_type": "code",
      "metadata": {
        "colab": {
          "base_uri": "https://localhost:8080/",
          "height": 433
        },
        "id": "wCwJ3WiWu2Ve",
        "outputId": "bd23269b-ab27-4f18-fcf6-9f103c7c413c"
      },
      "source": [
        "fig, axes = plt.subplots(1, 3, figsize=(25,6))\n",
        "games_new.pivot_table(\n",
        "               index=[\"platform\"],\n",
        "               values=[\"na_sales\"], aggfunc=np.sum).sort_values(by=[\"na_sales\"], ascending=False)[:5].plot(kind='bar', ec='black', title='North America Sales', \n",
        "                   fontsize=18, color=None, rot=20, ax=axes[0])\n",
        "games_new.pivot_table(\n",
        "               index=[\"platform\"],\n",
        "               values=['eu_sales'], aggfunc=np.sum).sort_values(by=['eu_sales'], ascending=False)[:5].plot(kind='bar', ec='black', title='Europe Sales', \n",
        "                   fontsize=18, color='grey', rot=20, ax=axes[1])\n",
        "games_new.pivot_table(\n",
        "               index=[\"platform\"],\n",
        "               values=['jp_sales'], aggfunc=np.sum).sort_values(by=['jp_sales'], ascending=False)[:5].plot(kind='bar', ec='black', title='Japan Sales',\n",
        "                   fontsize=18, color='red', rot=20, ax=axes[2])        \n",
        "fig.show()                 "
      ],
      "execution_count": 37,
      "outputs": [
        {
          "output_type": "display_data",
          "data": {
            "image/png": "[encoded data removed]",
            "text/plain": [
              "<Figure size 1800x432 with 3 Axes>"
            ]
          },
          "metadata": {}
        }
      ]
    },
    {
      "cell_type": "markdown",
      "metadata": {
        "id": "fayVB2NkphOi"
      },
      "source": [
        "В <b>Северной Америке</b> имеют бешеную популярность на равне с приставкой прошлого поколения <b>X360</b> ещё и новички <b>PS4</b>. Далее в обратной последовательности старичок-новичок <b>PS3</b> и <b>XOne</b>. Не набрала ещё большой популярности <b>3DS</b>.\n",
        "\n",
        "В <b>Европе</b> очевидным лидером являются платформы **PS**. **Иксбоксы** не на столько пользуются спросом, как и малыш **3DS** <br/>\n",
        "\n",
        "В <b>Японии</b>, как обычно, всё наоборот. Лидер - <b>3DS</b>. За ними американские **PS3**, **PSV** и **PS4**. Далее японская **WiiU**."
      ]
    },
    {
      "cell_type": "markdown",
      "metadata": {
        "id": "4EhRa--LphOj"
      },
      "source": [
        "<br/><a name=\"4.3.\"></a>\n",
        "<b>4.3. Определение самых популярных жанров в заданных регионах:</b><br/>\n",
        "<font size=\"2\">([к содержанию](#0.0))</font>"
      ]
    },
    {
      "cell_type": "code",
      "metadata": {
        "colab": {
          "base_uri": "https://localhost:8080/",
          "height": 454
        },
        "id": "JGlbYu5MphOj",
        "outputId": "b6c22b65-1613-434d-806c-ce2df2b8cb36"
      },
      "source": [
        "fig, axes = plt.subplots(1, 3, figsize=(25,6))\n",
        "\n",
        "games_new.pivot_table(\n",
        "               index=[\"genre\"],\n",
        "               values=[\"na_sales\"], aggfunc=np.sum).sort_values(by=[\"na_sales\"], ascending=False)[:5].plot(kind='bar', ec='black', title='North America Sales', \n",
        "                   fontsize=18, color=None, rot=20, ax=axes[0])\n",
        "games_new.pivot_table(\n",
        "               index=[\"genre\"],\n",
        "               values=['eu_sales'], aggfunc=np.sum).sort_values(by=['eu_sales'], ascending=False)[:5].plot(kind='bar', ec='black', title='Europe Sales', \n",
        "                   fontsize=18, color='grey', rot=20,ax=axes[1])\n",
        "games_new.pivot_table(\n",
        "               index=[\"genre\"],\n",
        "               values=['jp_sales'], aggfunc=np.sum).sort_values(by=['jp_sales'], ascending=False)[:5].plot(kind='bar', ec='black', title='Japan Sales',\n",
        "                   fontsize=18, color='red', rot=20, ax=axes[2])   \n",
        "fig.show()"
      ],
      "execution_count": 38,
      "outputs": [
        {
          "output_type": "display_data",
          "data": {
            "image/png": "[encoded data removed]",
            "text/plain": [
              "<Figure size 1800x432 with 3 Axes>"
            ]
          },
          "metadata": {}
        }
      ]
    },
    {
      "cell_type": "markdown",
      "metadata": {
        "id": "HNWosFANphOj"
      },
      "source": [
        "В <b>Северной Америке</b> и <b>Европе</b> вкусы практически не отличимы: и там, и там играют в жанре <b>экшнов</b>, <b>шутеров</b>, <b>спортивных</b> и <b>ролевых</b> игр. В <b> Северной Америке</b> больше играют в <b>аркады</b>, в Европе же чаще выбирают <b>гонки</b>.<br/><br/>\n",
        "\n",
        "В <b>Японии</b> вкус отличается - на первом месте <b>ролевые игры</b> и <b>экшны</b> с небольшим отставанием. Далее <b>аркадные</b>, <b>симуляторы</b> и <b>файтинги</b>."
      ]
    },
    {
      "cell_type": "markdown",
      "metadata": {
        "id": "_Yrg18HUphOj"
      },
      "source": [
        "<br/><a name=\"4.4.\"></a>\n",
        "<b>4.4. Влияние рейтинга ESRB на продажи в отдельном регионе</b>.<br/>\n",
        "<font size=\"2\">([к содержанию](#0.0))</font>"
      ]
    },
    {
      "cell_type": "markdown",
      "metadata": {
        "id": "WG51aM2jphOj"
      },
      "source": [
        "Добавим новый столбец в основной датафрейм с разъяснением, какая буква рейтинга что означает:"
      ]
    },
    {
      "cell_type": "markdown",
      "metadata": {
        "id": "LrjEWD9j0o3e"
      },
      "source": [
        "<div class=\"alert alert-warning\" style=\"border-radius: 15px; box-shadow: 4px 4px 4px; border: 1px solid\">\n",
        "<и> Комментарий ревьюера 3</и>\n",
        "    \n",
        "Здесь необходимо рассмотреть также и отсутствующий возрастной рейтинг, предварительно заменив его на маркерное значение. Эта задача является отличным примером того, что даже пропущенные значения могут нести в себе важную информацию. \n",
        "</div>"
      ]
    },
    {
      "cell_type": "code",
      "metadata": {
        "id": "U_N5NjYRphOk"
      },
      "source": [
        "ESRB_dict = {'E': 'Для всех', 'M': '> 17 лет', 'T': '13-19 лет', 'E10+': '>10 лет', 'No_ESRB': 'Вне рейтинга', 'K-A': 'Для всех(устар.)'}"
      ],
      "execution_count": 39,
      "outputs": []
    },
    {
      "cell_type": "code",
      "metadata": {
        "id": "38m1qzbTphOk"
      },
      "source": [
        "games_new['ESRB_description'] = games_new[games_new['rating'].notnull()]['rating'].map(ESRB_dict)"
      ],
      "execution_count": 40,
      "outputs": []
    },
    {
      "cell_type": "markdown",
      "metadata": {
        "id": "v3uBoRGrphOk"
      },
      "source": [
        "Посмотрим на продажи игр по рейтингу:"
      ]
    },
    {
      "cell_type": "code",
      "metadata": {
        "colab": {
          "base_uri": "https://localhost:8080/",
          "height": 460
        },
        "id": "LD54I1-cphOk",
        "outputId": "9dec158a-5e0f-41c5-a6e6-8044a5f2101c"
      },
      "source": [
        "fig, axes = plt.subplots(1, 3, figsize=(25,6))\n",
        "\n",
        "games_new.pivot_table(\n",
        "               index=[\"ESRB_description\"],\n",
        "               values=[\"na_sales\"], aggfunc=np.sum).sort_values(by=[\"na_sales\"], ascending=False)[:5].plot(kind='bar', ec='black', title='North America Sales', \n",
        "                   fontsize=18, color=None, rot=20, ax=axes[0])\n",
        "games_new.pivot_table(\n",
        "               index=[\"ESRB_description\"],\n",
        "               values=['eu_sales'], aggfunc=np.sum).sort_values(by=['eu_sales'], ascending=False)[:5].plot(kind='bar', ec='black', title='Europe Sales', \n",
        "                   fontsize=18, color='grey', rot=20,ax=axes[1])\n",
        "games_new.pivot_table(\n",
        "               index=[\"ESRB_description\"],\n",
        "               values=['jp_sales'], aggfunc=np.sum).sort_values(by=['jp_sales'], ascending=False)[:5].plot(kind='bar', ec='black', title='Japan Sales',\n",
        "                   fontsize=18, color='red', rot=20, ax=axes[2])   \n",
        "fig.show()"
      ],
      "execution_count": 41,
      "outputs": [
        {
          "output_type": "display_data",
          "data": {
            "image/png": "[encoded data removed]",
            "text/plain": [
              "<Figure size 1800x432 with 3 Axes>"
            ]
          },
          "metadata": {}
        }
      ]
    },
    {
      "cell_type": "markdown",
      "metadata": {
        "id": "OQUiuIJqphOk"
      },
      "source": [
        "В <b>Северной Америке</b> и в <b>Европе</b> картина практически одинаковая. Большая часть выручки получено с игр с рейтингом <b>\"для лиц старше 17 лет\"</b>, далее с рейтингом <b>\"Для всех\"</b>, <b>\"Вне рейтинга\"</b>, <b> \"для лиц старше 10 лет\"</b> и **\"старше 13-19 лет\"**.<br/><br/>\n",
        "В <b>Японии</b> опять не так. Первое место - <b>\"Вне рейтинга\"</b>, далее <b>\"Для всех\"</b>, а на третьем - пятом месте игры для лиц <b>от 13 до 19 лет</b>, <b>\"для лиц старше 17 лет\"</b> и <b> \"для лиц старше 10 лет\"</b>.\n",
        "\n",
        "Что можно сказать про игры вне рейтинга. Они действительно занимают лидерство в Японии, что подтверждает теорию о необходимости найти локальные рейтинговые агенства и узнать подробнее, отчего нету. Возможно сам институт классификации игр не развит в Японии для отечественного разработчика, также игры без рейтинга в силу своей непопулярности/маленькой аудитории не рассматриваются рейтинговыми агенствами на западе в том числе, так как мы видим, что похожее число продаж по внерейтинговым играм есть и там. Вероятно это одни и те же игры (если смотреть по жанрам, то топ Японии - ролевые игры и экшн, они могли легко проникнуть на запад, ведь там тоже эти жанры в топе и пользуются популярностью)."
      ]
    },
    {
      "cell_type": "markdown",
      "metadata": {
        "id": "CIGzNThOphOl"
      },
      "source": [
        "<hr style=\"border: 1px solid #000;\">\n",
        "\n",
        "<br/><a name=\"5.\"></a>\n",
        "## Шаг 5. Проверка гипотез\n",
        "<font size=\"2\">([к содержанию](#0.0))</font>"
      ]
    },
    {
      "cell_type": "markdown",
      "metadata": {
        "id": "raXv1COjphOl"
      },
      "source": [
        "<font size=\"3\"><b>Гипотезы</b>:</font>\n",
        "* средние пользовательские рейтинги платформ <b>Xbox One</b> и <b>PC</b> одинаковые;\n",
        "* средние пользовательские рейтинги жанров <b>Action</b> и <b>Sports</b> разные."
      ]
    },
    {
      "cell_type": "markdown",
      "metadata": {
        "id": "3-gqgbPRphOl"
      },
      "source": [
        "По причине того, что выборки независимы между собой, для проверки гипотез будем использовать <b>t-критерий Стьюдента</b>.\n",
        "\n",
        "Пороговое значение установим как alpha = 0.05"
      ]
    },
    {
      "cell_type": "markdown",
      "metadata": {
        "id": "NHY8Bt6tphOl"
      },
      "source": [
        "<br/><a name=\"5.1.\"></a>\n",
        "<b>5.1. Гипотеза № 1</b>:<br/>\n",
        "<b>средние пользовательские рейтинги платформ Xbox One и PC одинаковые</b>.\n",
        "<font size=\"2\">([к содержанию](#0.0))</font>"
      ]
    },
    {
      "cell_type": "markdown",
      "metadata": {
        "id": "-PG0TQ_AphOl"
      },
      "source": [
        "<b>Н0 (нулевая гипотеза)</b> - средние пользовательские рейтинги платформ <b>Xbox One</b> и <b>PC</b> одинаковые.<br/>\n",
        "<b>Н1 (альтернативная гипотеза)</b> - средние пользовательские рейтинги платформ <b>Xbox One</b> и <b>PC</b> отличаются между собой."
      ]
    },
    {
      "cell_type": "code",
      "metadata": {
        "colab": {
          "base_uri": "https://localhost:8080/"
        },
        "id": "sX9UvUqlphOm",
        "outputId": "26a17802-6aa0-442c-b4bc-479e12813573"
      },
      "source": [
        "xbox_one_ratings = games_new[(games_new['platform'] == 'XOne') & (games_new['user_score'] > 0)]['user_score']\n",
        "pc_ratings = games_new[(games_new['platform'] == 'PC') & (games_new['user_score'] > 0)]['user_score']\n",
        "stat, p = ttest_ind(xbox_one_ratings, pc_ratings)\n",
        "\n",
        "print('t = {}\\np-value = {:.10e}'.format(stat, p))\n",
        "print('\\nПороговое значение alpha = 0.05')"
      ],
      "execution_count": 42,
      "outputs": [
        {
          "output_type": "stream",
          "name": "stdout",
          "text": [
            "t = 0.5930304646661256\n",
            "p-value = 5.5350805006e-01\n",
            "\n",
            "Пороговое значение alpha = 0.05\n"
          ]
        }
      ]
    },
    {
      "cell_type": "markdown",
      "metadata": {
        "id": "bViiq5PWphOm"
      },
      "source": [
        "Не можем отвергнуть нулевую гипотезу.<br/>\n",
        "Верно следующее утверждение: <b>средние пользовательские рейтинги платформ Xbox One и PC одинаковые.</b><br/><br/>\n",
        "Посмотрим наглядно:"
      ]
    },
    {
      "cell_type": "markdown",
      "metadata": {
        "id": "mtdiDele0o3h"
      },
      "source": [
        "<div class=\"alert alert-success\" style=\"border-radius: 15px; box-shadow: 4px 4px 4px; border: 1px solid\">\n",
        "<b> Комментарий ревьюера 3</b>\n",
        "    \n",
        "А разницу между ними считаем случайной. \n",
        "</div>"
      ]
    },
    {
      "cell_type": "code",
      "metadata": {
        "colab": {
          "base_uri": "https://localhost:8080/"
        },
        "id": "uJaTTpPyphOm",
        "outputId": "e76f3e51-5ad1-432e-ffce-52bdb9876406"
      },
      "source": [
        "print('Средняя оценка пользователей игр для платформы Xbox One  - {:.2f}'.format(xbox_one_ratings.mean()))\n",
        "print('Средняя оценка пользователей игр для платформы PC - {:.2f}'.format(pc_ratings.mean()))"
      ],
      "execution_count": 43,
      "outputs": [
        {
          "output_type": "stream",
          "name": "stdout",
          "text": [
            "Средняя оценка пользователей игр для платформы Xbox One  - 6.52\n",
            "Средняя оценка пользователей игр для платформы PC - 6.43\n"
          ]
        }
      ]
    },
    {
      "cell_type": "markdown",
      "metadata": {
        "id": "it7XEJe7phOn"
      },
      "source": [
        "Действительно, хоть Xbox получает в среднем чуть большую оценку по отзывам, тем не менее оченка у PC находится недалеко."
      ]
    },
    {
      "cell_type": "markdown",
      "metadata": {
        "id": "bKwYP3jRphOn"
      },
      "source": [
        "<br/><a name=\"5.2.\"></a>\n",
        "<b>5.2. Гипотеза № 2</b>:<br/>\n",
        "<b>средние пользовательские рейтинги жанров Action и Sports разные</b>.<br/>\n",
        "<font size=\"2\">([к содержанию](#0.0))</font>"
      ]
    },
    {
      "cell_type": "markdown",
      "metadata": {
        "id": "VZrUAfRQphOn"
      },
      "source": [
        "<b>Н0 (нулевая гипотеза)</b> - средние пользовательские рейтинги жанров <b>Action</b> и <b>Sports</b> одинаковые.<br/>\n",
        "<b>Н1 (альтернативная гипотеза)</b> - средние пользовательские рейтинги жанров <b>Action</b> и <b>Sports</b> отличаются между собой."
      ]
    },
    {
      "cell_type": "code",
      "metadata": {
        "colab": {
          "base_uri": "https://localhost:8080/"
        },
        "id": "Ap1Mn0QXphOn",
        "outputId": "b319d057-f575-410e-b6de-6fe77d245e55"
      },
      "source": [
        "action_ratings = games_new[(games_new['genre'] == 'Action') & (games_new['user_score'] > 0)]['user_score']\n",
        "sport_ratings = games_new[(games_new['genre'] == 'Sports') & (games_new['user_score'] > 0)]['user_score']\n",
        "stat, p = ttest_ind(action_ratings, pc_ratings)\n",
        "\n",
        "print('t = {}\\np-value = {:.4f}'.format(stat, p))\n",
        "print('\\nПороговое значение alpha = 0.05')"
      ],
      "execution_count": 44,
      "outputs": [
        {
          "output_type": "stream",
          "name": "stdout",
          "text": [
            "t = 3.2960799450660034\n",
            "p-value = 0.0010\n",
            "\n",
            "Пороговое значение alpha = 0.05\n"
          ]
        }
      ]
    },
    {
      "cell_type": "markdown",
      "metadata": {
        "id": "OMalsNl7phOo"
      },
      "source": [
        "Смело отклоняем нулевую гипотезу.<br/>\n",
        "Таким образом, верно утверждение, что средние пользовательские рейтинги жанров **Action** и **Sports** отличаются между собой."
      ]
    },
    {
      "cell_type": "code",
      "metadata": {
        "colab": {
          "base_uri": "https://localhost:8080/"
        },
        "id": "MQtxkRzW7FDL",
        "outputId": "d1a648e3-1028-4bcf-8f39-60a041af9022"
      },
      "source": [
        "print('Средняя оценка пользователей игр для платформы Xbox One  - {:.2f}'.format(action_ratings.mean()))\n",
        "print('Средняя оценка пользователей игр для платформы PC - {:.2f}'.format(sport_ratings.mean()))"
      ],
      "execution_count": 45,
      "outputs": [
        {
          "output_type": "stream",
          "name": "stdout",
          "text": [
            "Средняя оценка пользователей игр для платформы Xbox One  - 6.83\n",
            "Средняя оценка пользователей игр для платформы PC - 5.46\n"
          ]
        }
      ]
    },
    {
      "cell_type": "markdown",
      "metadata": {
        "id": "mL4kyuRVphOo"
      },
      "source": [
        "<hr style=\"border: 1px solid #000;\">\n",
        "\n",
        "<br/><a name=\"6.\"></a>\n",
        "## Шаг 6. Общий вывод\n",
        "<font size=\"2\">([к содержанию](#0.0))</font>"
      ]
    },
    {
      "cell_type": "markdown",
      "metadata": {
        "id": "r_z8t3hVRxvI"
      },
      "source": [
        "<b>По проверке гипотез удалось выяснить следующее :</b> \n",
        "- средние пользовательские рейтинги жанров Action и Sports отличаются между собой.\n",
        "- средние пользовательские рейтинги платформ Xbox One и PC одинаковые."
      ]
    },
    {
      "cell_type": "markdown",
      "metadata": {
        "id": "nHqnCyTqphOo"
      },
      "source": [
        "<b>По проведенному анализу:</b> \n",
        "- самое сильное влияние на итоговую выручку оказывают, в большинстве случаев, оценки критиков (кроме платформы **WiiU**). Оценки пользователей таким \"влиянием\" на выручку похвастаться не могут(кроме опять же платформы **WiiU**). Важно найти больше до этого неизвестных источников данных (по отзывам и прибыли) среди азиатского сегмента.\n",
        "\n",
        "**Были найдены наиболее прибыльные жанры, консоли и найдены пути решения для игр с отсутствующим рейтингом:**\n",
        "- Жанры: Шутеры, Спортивные, Экшен. По соотношению количества игр к объёмам продаж лидируют шутеры (с приятным лидерством по средней и медиане среди всех жанров), золодая середина у спортивных и берёт количеством игр жанр экшона.\n",
        "- Консоли: Семейство PS3-PS4, Иксбоксы X360 - XOne, японский тигр - 3DS, который ещё себя покажет. Иксбоксы конечно останутся на уровне, так как концепция Майкрософт целится в массового потребителя и его стандартные запросы. А вот с платформами PS на западе может произойти тоже, что и в Японии - 3DS их обгонит, просто нужно время, это конечно не случится за год.\n",
        "- По рейтингу: игры для лиц старше 17 лет, Для всех и вне рейтинга. Первое место с рейтингом от 17 лет вероятно занимают бестселлеры, которые тянут за счёт качественного сюжета, естественно с элементами жестокости и насилия, за это мы их и любим, но детям нельзя. Середина у игр для всех – понятно, что чем рейтинг свободнее, тем проще продать игру, ведь её может купить кто угодно. Вне рейтинга – игры около экшона и ролевого жанра, преимущественно японского производства на азиатских платформах, что не так распространено на западе, но есть задел выяснить, почему им не дают рейтинг покопавшись у местных дистрибьюторов и агенств."
      ]
    },
    {
      "cell_type": "markdown",
      "metadata": {
        "id": "JkTRuUN3phOp"
      },
      "source": [
        "<b>В целом про положение дел в игровой индустрии:</b> \n",
        "\n",
        "- Отчасти, за счёт перехода к мобильным играм (и настолкам may be) индустрия вступает в кризис (падение продаж у всех платформ), который уже сокращает средние показатели продаж за одну игру, хотя работать в некоторых жанрах (Шутеры) ещё можно. В остальном если ты хочешь конкурировать за свой кусок в продажах, традиционно, займи свою нишу – сокращай затраты на разработку и довольствуйся медианным значением от продаж, либо будь в тренде, адаптируйся и вкладывай в игровые франшизы, работай над концепцией и самый дорогой вариант – проработай игру до мелочей, сделай их не много, но качественно и лучше чем у всех остальных, сколько бы это ни стоило, создай из игры бренд и прислушивайся к своей аудитории. \n",
        "\n",
        "- Рынок немного сократится и очиститься от мелких фирм и неконкурентных платформ в будущем, но будет жить дальше, трансформируясь во что-то в симбиозе с другими устройствами и сервисами (мобильные, VR, кластеры онлайн-сервисов).А пока этого не случилось и новых решений нет, будут дальше появляться и исчезать всё новые и новые поколения консолей, цикл которых будет сокращаться (интересно, до какой степени можно ускориться, как айфоны что ли). Выживет тот, кто сможет позволить себе большие проекты и спешлы, что в целом актуально у игроков, с выходом в экосистему (привет, Гейб), либо максимально дешёвые в производстве и на выходе бесплатные игры, которые будут монетизироваться как-то за счёт рекламы и тд.\n",
        "\n",
        "- Датасет не учитывает объёмы продаж индустрии VR (<a href=\"https://old.computerra.ru/2004/529/204447/\"> 15 млрд. на секундочку уже в 2016 году</a>) и в частности игр из этой области и \"шлемов\", а так же стриминговых сервисов и другого игрового контента. Рекомендую сравнить их результаты по годам и возможно это и есть перетекание капитала и пользовательского спроса."
      ]
    }
  ]
}