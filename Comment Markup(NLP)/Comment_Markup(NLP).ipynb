{
  "nbformat": 4,
  "nbformat_minor": 0,
  "metadata": {
    "colab": {
      "name": "Comment Markup(NLP).ipynb",
      "provenance": [],
      "collapsed_sections": []
    },
    "kernelspec": {
      "display_name": "Python 3",
      "language": "python",
      "name": "python3"
    },
    "language_info": {
      "codemirror_mode": {
        "name": "ipython",
        "version": 3
      },
      "file_extension": ".py",
      "mimetype": "text/x-python",
      "name": "python",
      "nbconvert_exporter": "python",
      "pygments_lexer": "ipython3",
      "version": "3.7.8"
    },
    "toc": {
      "base_numbering": 1,
      "nav_menu": {},
      "number_sections": true,
      "sideBar": true,
      "skip_h1_title": true,
      "title_cell": "Содержание",
      "title_sidebar": "Contents",
      "toc_cell": true,
      "toc_position": {
        "height": "calc(100% - 180px)",
        "left": "10px",
        "top": "150px",
        "width": "302.391px"
      },
      "toc_section_display": true,
      "toc_window_display": false
    }
  },
  "cells": [
    {
      "cell_type": "markdown",
      "metadata": {
        "id": "fO24aG3ktu-v"
      },
      "source": [
        "## Подготовка"
      ]
    },
    {
      "cell_type": "markdown",
      "metadata": {
        "id": "smUV8xt3_LKM"
      },
      "source": [
        "Загрузка библиотек и первый взгляд на данные"
      ]
    },
    {
      "cell_type": "code",
      "metadata": {
        "id": "jUJ0FdYJxNm5"
      },
      "source": [
        "import pandas as pd\n",
        "import numpy as np\n",
        "import nltk\n",
        "import re\n",
        "import matplotlib.pyplot as plt\n",
        "from tqdm import tqdm\n",
        "import seaborn as sns\n",
        "from sklearn.metrics import f1_score\n",
        "from sklearn.model_selection import train_test_split\n",
        "from sklearn.model_selection import GridSearchCV\n",
        "from sklearn.linear_model import LogisticRegression\n",
        "from sklearn.ensemble import RandomForestClassifier\n",
        "from sklearn.svm import SVC\n",
        "from sklearn.feature_extraction.text import TfidfVectorizer\n",
        "from sklearn.feature_extraction.text import CountVectorizer \n",
        "\n",
        "\n",
        "from nltk.corpus import stopwords\n",
        "from nltk.stem import WordNetLemmatizer \n",
        "nltk.download('stopwords')\n",
        "nltk.download('wordnet')\n",
        "nltk.download('punkt')\n",
        "stop_words = stopwords.words('english')\n",
        "\n",
        "pd.set_option('display.max_colwidth', 1000)"
      ],
      "execution_count": null,
      "outputs": []
    },
    {
      "cell_type": "code",
      "metadata": {
        "id": "O90yd78qxN1_"
      },
      "source": [
        "df = pd.read_csv('toxic_comments.csv')\n",
        "df.info()"
      ],
      "execution_count": null,
      "outputs": []
    },
    {
      "cell_type": "code",
      "metadata": {
        "colab": {
          "base_uri": "https://localhost:8080/",
          "height": 238
        },
        "id": "26RoUC8pxOEC",
        "outputId": "a4f095a9-60ba-4116-e531-a0fb031ee440"
      },
      "source": [
        "display(df.head())"
      ],
      "execution_count": null,
      "outputs": [
        {
          "data": {},
          "metadata": {},
          "output_type": "display_data"
        }
      ]
    },
    {
      "cell_type": "code",
      "metadata": {
        "id": "JkNkZXvAxOSf"
      },
      "source": [
        "print(f\"Количество дубликатов: {df.duplicated().sum()}\")"
      ],
      "execution_count": null,
      "outputs": []
    },
    {
      "cell_type": "code",
      "metadata": {
        "id": "fjbOZ2AWxOie"
      },
      "source": [
        "print(f\"Баланс классов:\", df['toxic'].value_counts())"
      ],
      "execution_count": null,
      "outputs": []
    },
    {
      "cell_type": "code",
      "metadata": {
        "colab": {
          "base_uri": "https://localhost:8080/",
          "height": 296
        },
        "id": "d64ebbAhxOw5",
        "scrolled": true,
        "outputId": "b1193b8d-81f3-4941-b9e3-906a79a9e171"
      },
      "source": [
        "sns.countplot(x = 'toxic', data = df)"
      ],
      "execution_count": null,
      "outputs": [
        {
          "data": {},
          "execution_count": 6,
          "metadata": {},
          "output_type": "execute_result"
        },
        {
          "data": {
            "image/png": "[encoded data removed]"
          },
          "metadata": {
            "needs_background": "light"
          },
          "output_type": "display_data"
        }
      ]
    },
    {
      "cell_type": "markdown",
      "metadata": {
        "id": "L4mohvR6-R2h"
      },
      "source": [
        "Напишем класс реализующий все этапы предобработки и классификацию комментариев"
      ]
    },
    {
      "cell_type": "code",
      "metadata": {
        "id": "Ll5Qptgsb-Gt"
      },
      "source": [
        "class WikiCL():\n",
        "\n",
        "# Инициализируем классификацию комментариев\n",
        "\n",
        "    def __init__(self,\n",
        "                 models_and_params: list,\n",
        "                 score: str,\n",
        "                 solvers: list,\n",
        "                 stop_words,\n",
        "                 start_frame,\n",
        "                 target_column,\n",
        "                 data_column):\n",
        "      \n",
        "        # Запуск передаваемых параметров\n",
        "        self.models_and_params = models_and_params\n",
        "        self.score = score\n",
        "        self.solvers = solvers\n",
        "        self.stop_words = stop_words\n",
        "        self.start_frame = start_frame\n",
        "        self.target_column = target_column\n",
        "        self.data_column = data_column\n",
        "        self.lemm_corpus = None\n",
        "        self.splited_data = None\n",
        "        self.vect = None\n",
        "        self.max_score = -1\n",
        "        self.best_model = None\n",
        "\n",
        "        # Функция разделяет датафрейм на три выборки: тренировочную, валидационную и тестовую\n",
        "    def spl(self):\n",
        "\n",
        "        presplited_data = train_test_split(self.lemm_corpus,\n",
        "                                           self.start_frame[self.target_column],\n",
        "                                           test_size = 0.2,random_state = 42)\n",
        "        \n",
        "        splited_data_w_val = train_test_split(presplited_data[1],\n",
        "                                              presplited_data[3],\n",
        "                                              test_size = 0.5,random_state = 42)\n",
        "        \n",
        "        self.splited_data = [presplited_data[0],\n",
        "                             splited_data_w_val[0],\n",
        "                             splited_data_w_val[1],\n",
        "                             presplited_data[2],\n",
        "                             splited_data_w_val[2],\n",
        "                             splited_data_w_val[3]]\n",
        "\n",
        "    # Лемматизация слов корпуса\n",
        "    def lemm(self):\n",
        "        # Инициализация лемматизатора\n",
        "        lemmatizer = WordNetLemmatizer()\n",
        "         # Лемматизация корпуса\n",
        "        self.lemm_corpus = self.corpus.apply(lambda sentence: \" \".join([lemmatizer.lemmatize(w,\"n\") for w in nltk.word_tokenize(sentence)]))\n",
        "\n",
        "    # Очистка слов корпуса от лишних символов    \n",
        "    def corp_cl(self):\n",
        "         # Выделение корпуса для дальнейшего анализа\n",
        "        corpus = self.start_frame[self.data_column]\n",
        "        # Очистка корпуса от лишних символов\n",
        "        self.corpus = corpus.apply(lambda sentence: re.sub(r'[^a-zA-Z]',' ',sentence))\n",
        "\n",
        "     # Векторизация слов корпуса   \n",
        "    def vector_list(self):\n",
        "        # Создание словаря со словарями, которые хранят в себе векторизованные данные от разных векторизаторов \n",
        "        self.vect = {str(i()):{} for i in self.solvers}\n",
        "        # Векторизация данных разными методами\n",
        "        for vectorizer in self.solvers:\n",
        "            # Инициализация векторизатора и установка стоп-слов\n",
        "            vector = vectorizer(stop_words = self.stop_words)\n",
        "            # Обучение и трансформация на обучающей выборке\n",
        "            self.vect[str(vectorizer())]['train_data'] = vector.fit_transform(self.splited_data[0])\n",
        "            self.vect[str(vectorizer())]['train_target'] = self.splited_data[3]\n",
        "            # Трансформация тестовой выборки\n",
        "            self.vect[str(vectorizer())]['test_data'] = vector.transform(self.splited_data[1])\n",
        "            self.vect[str(vectorizer())]['test_target'] = self.splited_data[4]\n",
        "            # Трансформация валидационной выборки\n",
        "            self.vect[str(vectorizer())]['valid_data'] = vector.transform(self.splited_data[2])\n",
        "            self.vect[str(vectorizer())]['valid_target'] = self.splited_data[5]\n",
        "            \n",
        "    # Инициализируем предобработку данных и после тренируем на них все переданные модели\n",
        "    def fit(self):\n",
        "      # Инициализация предобработки \n",
        "        self.corp_cl()\n",
        "        print(\"Step one done\")\n",
        "        self.lemm()\n",
        "        print(\"Two step done\")\n",
        "        self.spl()\n",
        "        print(\"Three step done\")\n",
        "        self.vector_list()\n",
        "        print(\"Four step done\")\n",
        "\n",
        "        # Инициализация словаря\n",
        "        self.result = {str(name):{} for name,_ in self.models_and_params}\n",
        "        print(\"Model training and search for maximum score started\")\n",
        "        # Перебор всех моделей\n",
        "        for model, params in tqdm(self.models_and_params):\n",
        "            # Перебор всех векторизаторов\n",
        "            for vectorizer, data in tqdm(self.vect.items(),desc = str(model)):\n",
        "                # Инициализация внутреннего словаря\n",
        "                self.result[str(model)][str(vectorizer)] = {}\n",
        "                # Инициализация грида\n",
        "                self.result[str(model)][str(vectorizer)][\"grid_object\"] = GridSearchCV(model,params,cv = 3,scoring=self.score)\n",
        "                # Тренировка грида\n",
        "                self.result[str(model)][str(vectorizer)][\"grid_object\"].fit(self.vect[str(vectorizer)]['train_data'],\n",
        "                                                                            self.vect[str(vectorizer)]['train_target'])\n",
        "                # Сохранение лучшей модели\n",
        "                self.result[str(model)][str(vectorizer)][\"best_model\"] = self.result[str(model)][str(vectorizer)][\"grid_object\"].best_estimator_\n",
        "                # Сохранение лучшего скора на разных выборках\n",
        "                self.result[str(model)][str(vectorizer)][\"best_score_train\"] = self.result[str(model)][str(vectorizer)][\"grid_object\"].best_score_\n",
        "                self.result[str(model)][str(vectorizer)][\"best_score_valid\"] = f1_score(self.vect[str(vectorizer)]['valid_target'],\n",
        "                                                                                        self.result[str(model)][str(vectorizer)][\"best_model\"].predict(self.vect[str(vectorizer)]['valid_data']))\n",
        "                \n",
        "                self.result[str(model)][str(vectorizer)][\"best_score_test\"] = f1_score(self.vect[str(vectorizer)]['test_target'],\n",
        "                                                                                       self.result[str(model)][str(vectorizer)][\"best_model\"].predict(self.vect[str(vectorizer)]['test_data']))\n",
        "                # Поиск максимального скора на валидационной выборке\n",
        "                if self.result[str(model)][str(vectorizer)][\"best_score_valid\"] > self.max_score:\n",
        "                    self.max_score = self.result[str(model)][str(vectorizer)][\"best_score_test\"]\n",
        "                    self.best_model = self.result[str(model)][str(vectorizer)][\"best_model\"]\n",
        "                    \n",
        "        return {\"max_score\":self.max_score,\"best_model\":self.best_model}\n",
        "    # Функцией выведем результаты обучения\n",
        "    def get_info(self):\n",
        "        print(\"Finish result\")\n",
        "        return self.results_1\n"
      ],
      "execution_count": null,
      "outputs": []
    },
    {
      "cell_type": "markdown",
      "metadata": {
        "id": "bvSs0X81NfCX"
      },
      "source": [
        "Вывод\n",
        "\n",
        "При подготовке данных для обучения самое важное это предобработка. Чтобы модель хорошо обучилась мы создали кластер функций внутри класса.\n",
        "\n",
        "- Заложили необходимые параметры которые понадобяться при вычислении и выводе результатов.\n",
        "- Добавили функцию, которая делит на выборки датафрейм.\n",
        "- Написали функцию лемматизации комментариев и добавили корпус для очистки от мусора.\n",
        "- Без векторов мы не сможем обучить модель, поэтому добавили функцию векторизации и создали словарь под это.\n",
        "- Так же дали возможность обучаться моделям на выборке с перебором всех векторов\n",
        "- Натренировали Гридсёрч\n",
        "- И далее, так как нам нужны лучшие результаты и модель – сохранили их в переменной\n",
        "- Теперь осталось только включить и увидим результат\n"
      ]
    },
    {
      "cell_type": "markdown",
      "metadata": {
        "id": "wbjrvHUStu-w"
      },
      "source": [
        "## Обучение"
      ]
    },
    {
      "cell_type": "markdown",
      "metadata": {
        "id": "QGG4jTg__-ZD"
      },
      "source": [
        "Обозначим наши параметры для моделей"
      ]
    },
    {
      "cell_type": "code",
      "metadata": {
        "id": "Dp2kgDRvTzlp"
      },
      "source": [
        "reg_parameters = {\"max_iter\":[1000,2000,100], \"C\":[1.0,0.10,0.01]}\n",
        "forest_parameters = {\"n_estimators\":[40,200,20],\"max_depth\":[2,10]}"
      ],
      "execution_count": null,
      "outputs": []
    },
    {
      "cell_type": "markdown",
      "metadata": {
        "id": "J4ET5MqeACVN"
      },
      "source": [
        "Запустим процесс и обучим Логистическую регрессию и Случайный лес"
      ]
    },
    {
      "cell_type": "code",
      "metadata": {
        "id": "Uut1TdACT2bx"
      },
      "source": [
        "class_ = WikiCL([(LogisticRegression(random_state = 42,class_weight='balanced',n_jobs = -1),reg_parameters),\n",
        "                 (RandomForestClassifier(random_state = 42,class_weight='balanced',n_jobs = -1),forest_parameters)],\n",
        "                'f1',[TfidfVectorizer,CountVectorizer],stop_words,df,'toxic',\"text\")"
      ],
      "execution_count": null,
      "outputs": []
    },
    {
      "cell_type": "code",
      "metadata": {
        "colab": {
          "base_uri": "https://localhost:8080/"
        },
        "id": "hju0D8r88c1Z",
        "outputId": "f9c2376d-fd67-4926-dcbe-97246e3d56e1"
      },
      "source": [
        "class_.fit()"
      ],
      "execution_count": null,
      "outputs": [
        {
          "data": {},
          "execution_count": 10,
          "metadata": {},
          "output_type": "execute_result"
        }
      ]
    },
    {
      "cell_type": "markdown",
      "metadata": {
        "id": "D5PDlPwh-niU"
      },
      "source": [
        "Вывод\n",
        "\n",
        "На выходе получили лучшую модель, это Логистическая регрессия с результатом F1 - 0.758"
      ]
    },
    {
      "cell_type": "markdown",
      "metadata": {
        "id": "j-geC7o4tu-y"
      },
      "source": [
        "## Выводы"
      ]
    },
    {
      "cell_type": "code",
      "metadata": {
        "colab": {
          "base_uri": "https://localhost:8080/",
          "height": 110
        },
        "id": "ypTMDonakQkS",
        "outputId": "664b4bde-e05c-4a42-f8c7-314eb2f5d29e"
      },
      "source": [
        "report = pd.DataFrame(columns = [\"Value\"],\n",
        "                      index = [\"Best model\",\n",
        "                               \"Best score\"])\n",
        "\n",
        "\n",
        "report.iloc[0] = [\"LogisticRegression\"]\n",
        "report.iloc[1] = [0.75889]\n",
        "display(report)"
      ],
      "execution_count": null,
      "outputs": [
        {
          "data": {},
          "metadata": {},
          "output_type": "display_data"
        }
      ]
    },
    {
      "cell_type": "markdown",
      "metadata": {
        "id": "xy71dxDquI2E"
      },
      "source": [
        "В ходе работы над проектом было сделано:\n",
        "\n",
        "- Подготовленны данные обучения на моделях.\n",
        "- Поделены данные на обучающую, валидационную и тестовою выборку.\n",
        "- Обучены модели и выбраны лучшие из них на валидационной выборке.\n",
        "- Подобраны параметры качества моделей.\n",
        "\n",
        "Мы комплексно подошли к решению проблемы «Викишоп» и нам удалось создать решающий класс под задачу заказчика.\n",
        "\n",
        "Как видно из таблицы, модель LogisticRegression с F1_score - 0.758 показала лучший результат.\n"
      ]
    }
  ]
}