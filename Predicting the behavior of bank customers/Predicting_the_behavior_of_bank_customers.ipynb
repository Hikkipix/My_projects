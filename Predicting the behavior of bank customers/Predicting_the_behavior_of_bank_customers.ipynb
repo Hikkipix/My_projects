{
  "nbformat": 4,
  "nbformat_minor": 0,
  "metadata": {
    "colab": {
      "name": "Predicting the behavior of bank customers.ipynb",
      "provenance": [],
      "collapsed_sections": []
    },
    "kernelspec": {
      "display_name": "Python 3",
      "language": "python",
      "name": "python3"
    },
    "language_info": {
      "codemirror_mode": {
        "name": "ipython",
        "version": 3
      },
      "file_extension": ".py",
      "mimetype": "text/x-python",
      "name": "python",
      "nbconvert_exporter": "python",
      "pygments_lexer": "ipython3",
      "version": "3.7.8"
    },
    "toc": {
      "base_numbering": 1,
      "nav_menu": {},
      "number_sections": true,
      "sideBar": true,
      "skip_h1_title": true,
      "title_cell": "Содержание",
      "title_sidebar": "Contents",
      "toc_cell": true,
      "toc_position": {},
      "toc_section_display": true,
      "toc_window_display": true
    }
  },
  "cells": [
    {
      "cell_type": "markdown",
      "metadata": {
        "id": "tgT_WF_BYx1Q"
      },
      "source": [
        "## Подготовка данных"
      ]
    },
    {
      "cell_type": "markdown",
      "metadata": {
        "id": "kI2pYgoGFor6"
      },
      "source": [
        "### Подключение библиотек"
      ]
    },
    {
      "cell_type": "code",
      "metadata": {
        "id": "pZTb5Hw8Yx1R"
      },
      "source": [
        "import pandas as pd\n",
        "import numpy as np\n",
        "import matplotlib.pyplot as plt\n",
        "import seaborn as sns\n",
        "import itertools\n",
        "from sklearn.linear_model import LogisticRegression\n",
        "from sklearn.ensemble import RandomForestClassifier\n",
        "from sklearn.neighbors import KNeighborsClassifier\n",
        "from sklearn.tree import DecisionTreeClassifier\n",
        "from sklearn.model_selection import train_test_split, KFold, cross_val_score, ShuffleSplit, GridSearchCV\n",
        "from sklearn.preprocessing import StandardScaler, OrdinalEncoder\n",
        "from sklearn.impute import SimpleImputer\n",
        "from sklearn.metrics import accuracy_score, confusion_matrix, f1_score, roc_curve, roc_auc_score, auc, classification_report\n",
        "from sklearn import metrics\n",
        "from sklearn.metrics import mean_squared_error\n",
        "from sklearn.utils import shuffle\n",
        "import warnings\n",
        "warnings.filterwarnings('ignore')\n",
        "from warnings import simplefilter\n",
        "simplefilter(action='ignore', category=FutureWarning)"
      ],
      "execution_count": null,
      "outputs": []
    },
    {
      "cell_type": "markdown",
      "metadata": {
        "id": "RDdGgOesFtRG"
      },
      "source": [
        "### Откроем и изучим файл\n"
      ]
    },
    {
      "cell_type": "code",
      "metadata": {
        "colab": {
          "base_uri": "https://localhost:8080/"
        },
        "id": "JVu6M4GUbtQy",
        "outputId": "46756042-586a-4c7b-f550-e86468411225"
      },
      "source": [
        "data = pd.read_csv('data.csv')\n",
        "data.info()"
      ],
      "execution_count": null,
      "outputs": [
        {
          "name": "stdout",
          "output_type": "stream",
          "text": [
            "<class 'pandas.core.frame.DataFrame'>\n",
            "RangeIndex: 10000 entries, 0 to 9999\n",
            "Data columns (total 14 columns):\n",
            " #   Column           Non-Null Count  Dtype  \n",
            "---  ------           --------------  -----  \n",
            " 0   RowNumber        10000 non-null  int64  \n",
            " 1   CustomerId       10000 non-null  int64  \n",
            " 2   Surname          10000 non-null  object \n",
            " 3   CreditScore      10000 non-null  int64  \n",
            " 4   Geography        10000 non-null  object \n",
            " 5   Gender           10000 non-null  object \n",
            " 6   Age              10000 non-null  int64  \n",
            " 7   Tenure           9091 non-null   float64\n",
            " 8   Balance          10000 non-null  float64\n",
            " 9   NumOfProducts    10000 non-null  int64  \n",
            " 10  HasCrCard        10000 non-null  int64  \n",
            " 11  IsActiveMember   10000 non-null  int64  \n",
            " 12  EstimatedSalary  10000 non-null  float64\n",
            " 13  Exited           10000 non-null  int64  \n",
            "dtypes: float64(3), int64(8), object(3)\n",
            "memory usage: 1.1+ MB\n"
          ]
        }
      ]
    },
    {
      "cell_type": "markdown",
      "metadata": {
        "id": "H8B-EG6wGTtR"
      },
      "source": [
        "В столбце \"Tenure\" есть пропуски"
      ]
    },
    {
      "cell_type": "code",
      "metadata": {
        "colab": {
          "base_uri": "https://localhost:8080/"
        },
        "id": "Ar1zV0xXYx1U",
        "outputId": "b3748167-ffae-4c08-98b1-588af917057b"
      },
      "source": [
        "display(data.describe())"
      ],
      "execution_count": null,
      "outputs": [
        {
          "data": {
            "text/html": [
              "<div>\n",
              "<style scoped>\n",
              "    .dataframe tbody tr th:only-of-type {\n",
              "        vertical-align: middle;\n",
              "    }\n",
              "\n",
              "    .dataframe tbody tr th {\n",
              "        vertical-align: top;\n",
              "    }\n",
              "\n",
              "    .dataframe thead th {\n",
              "        text-align: right;\n",
              "    }\n",
              "</style>\n",
              "<table border=\"1\" class=\"dataframe\">\n",
              "  <thead>\n",
              "    <tr style=\"text-align: right;\">\n",
              "      <th></th>\n",
              "      <th>RowNumber</th>\n",
              "      <th>CustomerId</th>\n",
              "      <th>CreditScore</th>\n",
              "      <th>Age</th>\n",
              "      <th>Tenure</th>\n",
              "      <th>Balance</th>\n",
              "      <th>NumOfProducts</th>\n",
              "      <th>HasCrCard</th>\n",
              "      <th>IsActiveMember</th>\n",
              "      <th>EstimatedSalary</th>\n",
              "      <th>Exited</th>\n",
              "    </tr>\n",
              "  </thead>\n",
              "  <tbody>\n",
              "    <tr>\n",
              "      <th>count</th>\n",
              "      <td>10000.00000</td>\n",
              "      <td>1.000000e+04</td>\n",
              "      <td>10000.000000</td>\n",
              "      <td>10000.000000</td>\n",
              "      <td>9091.000000</td>\n",
              "      <td>10000.000000</td>\n",
              "      <td>10000.000000</td>\n",
              "      <td>10000.00000</td>\n",
              "      <td>10000.000000</td>\n",
              "      <td>10000.000000</td>\n",
              "      <td>10000.000000</td>\n",
              "    </tr>\n",
              "    <tr>\n",
              "      <th>mean</th>\n",
              "      <td>5000.50000</td>\n",
              "      <td>1.569094e+07</td>\n",
              "      <td>650.528800</td>\n",
              "      <td>38.921800</td>\n",
              "      <td>4.997690</td>\n",
              "      <td>76485.889288</td>\n",
              "      <td>1.530200</td>\n",
              "      <td>0.70550</td>\n",
              "      <td>0.515100</td>\n",
              "      <td>100090.239881</td>\n",
              "      <td>0.203700</td>\n",
              "    </tr>\n",
              "    <tr>\n",
              "      <th>std</th>\n",
              "      <td>2886.89568</td>\n",
              "      <td>7.193619e+04</td>\n",
              "      <td>96.653299</td>\n",
              "      <td>10.487806</td>\n",
              "      <td>2.894723</td>\n",
              "      <td>62397.405202</td>\n",
              "      <td>0.581654</td>\n",
              "      <td>0.45584</td>\n",
              "      <td>0.499797</td>\n",
              "      <td>57510.492818</td>\n",
              "      <td>0.402769</td>\n",
              "    </tr>\n",
              "    <tr>\n",
              "      <th>min</th>\n",
              "      <td>1.00000</td>\n",
              "      <td>1.556570e+07</td>\n",
              "      <td>350.000000</td>\n",
              "      <td>18.000000</td>\n",
              "      <td>0.000000</td>\n",
              "      <td>0.000000</td>\n",
              "      <td>1.000000</td>\n",
              "      <td>0.00000</td>\n",
              "      <td>0.000000</td>\n",
              "      <td>11.580000</td>\n",
              "      <td>0.000000</td>\n",
              "    </tr>\n",
              "    <tr>\n",
              "      <th>25%</th>\n",
              "      <td>2500.75000</td>\n",
              "      <td>1.562853e+07</td>\n",
              "      <td>584.000000</td>\n",
              "      <td>32.000000</td>\n",
              "      <td>2.000000</td>\n",
              "      <td>0.000000</td>\n",
              "      <td>1.000000</td>\n",
              "      <td>0.00000</td>\n",
              "      <td>0.000000</td>\n",
              "      <td>51002.110000</td>\n",
              "      <td>0.000000</td>\n",
              "    </tr>\n",
              "    <tr>\n",
              "      <th>50%</th>\n",
              "      <td>5000.50000</td>\n",
              "      <td>1.569074e+07</td>\n",
              "      <td>652.000000</td>\n",
              "      <td>37.000000</td>\n",
              "      <td>5.000000</td>\n",
              "      <td>97198.540000</td>\n",
              "      <td>1.000000</td>\n",
              "      <td>1.00000</td>\n",
              "      <td>1.000000</td>\n",
              "      <td>100193.915000</td>\n",
              "      <td>0.000000</td>\n",
              "    </tr>\n",
              "    <tr>\n",
              "      <th>75%</th>\n",
              "      <td>7500.25000</td>\n",
              "      <td>1.575323e+07</td>\n",
              "      <td>718.000000</td>\n",
              "      <td>44.000000</td>\n",
              "      <td>7.000000</td>\n",
              "      <td>127644.240000</td>\n",
              "      <td>2.000000</td>\n",
              "      <td>1.00000</td>\n",
              "      <td>1.000000</td>\n",
              "      <td>149388.247500</td>\n",
              "      <td>0.000000</td>\n",
              "    </tr>\n",
              "    <tr>\n",
              "      <th>max</th>\n",
              "      <td>10000.00000</td>\n",
              "      <td>1.581569e+07</td>\n",
              "      <td>850.000000</td>\n",
              "      <td>92.000000</td>\n",
              "      <td>10.000000</td>\n",
              "      <td>250898.090000</td>\n",
              "      <td>4.000000</td>\n",
              "      <td>1.00000</td>\n",
              "      <td>1.000000</td>\n",
              "      <td>199992.480000</td>\n",
              "      <td>1.000000</td>\n",
              "    </tr>\n",
              "  </tbody>\n",
              "</table>\n",
              "</div>"
            ],
            "text/plain": [
              "         RowNumber    CustomerId  ...  EstimatedSalary        Exited\n",
              "count  10000.00000  1.000000e+04  ...     10000.000000  10000.000000\n",
              "mean    5000.50000  1.569094e+07  ...    100090.239881      0.203700\n",
              "std     2886.89568  7.193619e+04  ...     57510.492818      0.402769\n",
              "min        1.00000  1.556570e+07  ...        11.580000      0.000000\n",
              "25%     2500.75000  1.562853e+07  ...     51002.110000      0.000000\n",
              "50%     5000.50000  1.569074e+07  ...    100193.915000      0.000000\n",
              "75%     7500.25000  1.575323e+07  ...    149388.247500      0.000000\n",
              "max    10000.00000  1.581569e+07  ...    199992.480000      1.000000\n",
              "\n",
              "[8 rows x 11 columns]"
            ]
          },
          "metadata": {
            "tags": []
          },
          "output_type": "display_data"
        }
      ]
    },
    {
      "cell_type": "markdown",
      "metadata": {
        "id": "_7ulFq3DG8S7"
      },
      "source": [
        "Кажется со статистикой всё в порядке, идём дальше\n"
      ]
    },
    {
      "cell_type": "markdown",
      "metadata": {
        "id": "r0jjta0VHA6f"
      },
      "source": [
        "### Проверим на дубликаты и пропущенные значения\n"
      ]
    },
    {
      "cell_type": "code",
      "metadata": {
        "colab": {
          "base_uri": "https://localhost:8080/"
        },
        "id": "cr6B7e6fb5Ys",
        "outputId": "b54cd788-2bba-42a5-c021-002359cc1bd6"
      },
      "source": [
        "print(\"Дубликаты:\",data.duplicated().sum())"
      ],
      "execution_count": null,
      "outputs": [
        {
          "name": "stdout",
          "output_type": "stream",
          "text": [
            "Дубликаты: 0\n"
          ]
        }
      ]
    },
    {
      "cell_type": "code",
      "metadata": {
        "colab": {
          "base_uri": "https://localhost:8080/"
        },
        "id": "YWoVZmFPHiru",
        "scrolled": true,
        "outputId": "4ce0c019-8223-4d22-f462-31f83ba7f9a1"
      },
      "source": [
        "print(\"Пропуски по столбцам:\",data.isnull().sum())"
      ],
      "execution_count": null,
      "outputs": [
        {
          "name": "stdout",
          "output_type": "stream",
          "text": [
            "Пропуски по столбцам: RowNumber            0\n",
            "CustomerId           0\n",
            "Surname              0\n",
            "CreditScore          0\n",
            "Geography            0\n",
            "Gender               0\n",
            "Age                  0\n",
            "Tenure             909\n",
            "Balance              0\n",
            "NumOfProducts        0\n",
            "HasCrCard            0\n",
            "IsActiveMember       0\n",
            "EstimatedSalary      0\n",
            "Exited               0\n",
            "dtype: int64\n"
          ]
        }
      ]
    },
    {
      "cell_type": "markdown",
      "metadata": {
        "id": "LpVedCu2IQoL"
      },
      "source": [
        "### Посмотрим на текущий коэффициент корреляции"
      ]
    },
    {
      "cell_type": "code",
      "metadata": {
        "colab": {
          "base_uri": "https://localhost:8080/",
          "height": 658
        },
        "id": "99qiyj14cDKx",
        "outputId": "42bfcd1e-cfc1-4395-f493-16fb355cf067"
      },
      "source": [
        "plt.figure(figsize=(9,9))\n",
        "sns.heatmap(data.corr(), annot=True, cmap=\"Blues\", fmt='.2f', annot_kws={'size':16})\n",
        "plt.title(\"Матрица корреляции\", fontsize = 18)"
      ],
      "execution_count": null,
      "outputs": [
        {
          "data": {
            "text/plain": [
              "Text(0.5, 1.0, 'Матрица корреляции')"
            ]
          },
          "execution_count": 1125,
          "metadata": {
            "tags": []
          },
          "output_type": "execute_result"
        },
        {
          "data": {
            "image/png": "[encoded data removed]",
            "text/plain": [
              "<Figure size 648x648 with 2 Axes>"
            ]
          },
          "metadata": {
            "tags": []
          },
          "output_type": "display_data"
        }
      ]
    },
    {
      "cell_type": "markdown",
      "metadata": {
        "id": "8Tmfu2MQLStn"
      },
      "source": [
        "Никакой корреляции нет, значит мы можем заполнить столбец нулевыми значениями"
      ]
    },
    {
      "cell_type": "code",
      "metadata": {
        "colab": {
          "base_uri": "https://localhost:8080/"
        },
        "id": "b7mULTQxLjAA",
        "scrolled": true,
        "outputId": "4b6eaf71-7e5a-472b-c30d-c0e1203e1d81"
      },
      "source": [
        "data_clean = data.copy()\n",
        "data_clean.dropna()\n",
        "data['Tenure'] = data[\"Tenure\"].fillna(0)\n",
        "print(\"Пропуски по столбцам:\",data.isnull().sum())"
      ],
      "execution_count": null,
      "outputs": [
        {
          "name": "stdout",
          "output_type": "stream",
          "text": [
            "Пропуски по столбцам: RowNumber          0\n",
            "CustomerId         0\n",
            "Surname            0\n",
            "CreditScore        0\n",
            "Geography          0\n",
            "Gender             0\n",
            "Age                0\n",
            "Tenure             0\n",
            "Balance            0\n",
            "NumOfProducts      0\n",
            "HasCrCard          0\n",
            "IsActiveMember     0\n",
            "EstimatedSalary    0\n",
            "Exited             0\n",
            "dtype: int64\n"
          ]
        }
      ]
    },
    {
      "cell_type": "markdown",
      "metadata": {
        "id": "mrF2a1gXaB3W"
      },
      "source": [
        "### Удалим столбцы, которые нам не пригодятся"
      ]
    },
    {
      "cell_type": "code",
      "metadata": {
        "id": "EUmT1rxzcWSM"
      },
      "source": [
        "data = data.drop(['RowNumber','CustomerId','Surname'], axis=1)"
      ],
      "execution_count": null,
      "outputs": []
    },
    {
      "cell_type": "markdown",
      "metadata": {
        "id": "wnD41auNaW7D"
      },
      "source": [
        "### Избежим дамми-ловушек"
      ]
    },
    {
      "cell_type": "code",
      "metadata": {
        "id": "16CNZlhmck6n"
      },
      "source": [
        "\n",
        "data = pd.get_dummies(data, drop_first=True)\n"
      ],
      "execution_count": null,
      "outputs": []
    },
    {
      "cell_type": "markdown",
      "metadata": {
        "id": "SIxT-2mka-d9"
      },
      "source": [
        "### Применим стандартизацию"
      ]
    },
    {
      "cell_type": "code",
      "metadata": {
        "colab": {
          "base_uri": "https://localhost:8080/",
          "height": 418
        },
        "id": "SKRGCoB3a3PO",
        "outputId": "1b54e99d-78aa-4b0c-cc62-3b5a8a87067a"
      },
      "source": [
        "scaler = StandardScaler()\n",
        "numeric = ['CreditScore', 'Age', 'Balance', 'EstimatedSalary']\n",
        "scaler.fit(features_train[numeric])\n",
        "features_train[numeric] = scaler.transform(features_train[numeric])\n",
        "features_train"
      ],
      "execution_count": null,
      "outputs": [
        {
          "data": {
            "text/html": [
              "<div>\n",
              "<style scoped>\n",
              "    .dataframe tbody tr th:only-of-type {\n",
              "        vertical-align: middle;\n",
              "    }\n",
              "\n",
              "    .dataframe tbody tr th {\n",
              "        vertical-align: top;\n",
              "    }\n",
              "\n",
              "    .dataframe thead th {\n",
              "        text-align: right;\n",
              "    }\n",
              "</style>\n",
              "<table border=\"1\" class=\"dataframe\">\n",
              "  <thead>\n",
              "    <tr style=\"text-align: right;\">\n",
              "      <th></th>\n",
              "      <th>CreditScore</th>\n",
              "      <th>Age</th>\n",
              "      <th>Tenure</th>\n",
              "      <th>Balance</th>\n",
              "      <th>NumOfProducts</th>\n",
              "      <th>HasCrCard</th>\n",
              "      <th>IsActiveMember</th>\n",
              "      <th>EstimatedSalary</th>\n",
              "      <th>Geography_Germany</th>\n",
              "      <th>Geography_Spain</th>\n",
              "      <th>Gender_Male</th>\n",
              "    </tr>\n",
              "  </thead>\n",
              "  <tbody>\n",
              "    <tr>\n",
              "      <th>8998</th>\n",
              "      <td>0.228325</td>\n",
              "      <td>-0.087870</td>\n",
              "      <td>10.0</td>\n",
              "      <td>0.114666</td>\n",
              "      <td>1</td>\n",
              "      <td>1</td>\n",
              "      <td>0</td>\n",
              "      <td>-0.937639</td>\n",
              "      <td>1</td>\n",
              "      <td>0</td>\n",
              "      <td>0</td>\n",
              "    </tr>\n",
              "    <tr>\n",
              "      <th>1239</th>\n",
              "      <td>-0.857253</td>\n",
              "      <td>-1.031487</td>\n",
              "      <td>7.0</td>\n",
              "      <td>-1.234387</td>\n",
              "      <td>2</td>\n",
              "      <td>1</td>\n",
              "      <td>0</td>\n",
              "      <td>-0.443975</td>\n",
              "      <td>0</td>\n",
              "      <td>0</td>\n",
              "      <td>1</td>\n",
              "    </tr>\n",
              "    <tr>\n",
              "      <th>9247</th>\n",
              "      <td>1.386275</td>\n",
              "      <td>-0.937126</td>\n",
              "      <td>7.0</td>\n",
              "      <td>0.069032</td>\n",
              "      <td>2</td>\n",
              "      <td>1</td>\n",
              "      <td>0</td>\n",
              "      <td>-0.600094</td>\n",
              "      <td>0</td>\n",
              "      <td>1</td>\n",
              "      <td>1</td>\n",
              "    </tr>\n",
              "    <tr>\n",
              "      <th>6514</th>\n",
              "      <td>-0.919286</td>\n",
              "      <td>-1.220211</td>\n",
              "      <td>7.0</td>\n",
              "      <td>-1.234387</td>\n",
              "      <td>2</td>\n",
              "      <td>0</td>\n",
              "      <td>0</td>\n",
              "      <td>-1.616593</td>\n",
              "      <td>0</td>\n",
              "      <td>1</td>\n",
              "      <td>1</td>\n",
              "    </tr>\n",
              "    <tr>\n",
              "      <th>8312</th>\n",
              "      <td>-0.671154</td>\n",
              "      <td>0.761386</td>\n",
              "      <td>6.0</td>\n",
              "      <td>-0.089976</td>\n",
              "      <td>1</td>\n",
              "      <td>1</td>\n",
              "      <td>0</td>\n",
              "      <td>-0.720802</td>\n",
              "      <td>0</td>\n",
              "      <td>0</td>\n",
              "      <td>1</td>\n",
              "    </tr>\n",
              "    <tr>\n",
              "      <th>...</th>\n",
              "      <td>...</td>\n",
              "      <td>...</td>\n",
              "      <td>...</td>\n",
              "      <td>...</td>\n",
              "      <td>...</td>\n",
              "      <td>...</td>\n",
              "      <td>...</td>\n",
              "      <td>...</td>\n",
              "      <td>...</td>\n",
              "      <td>...</td>\n",
              "      <td>...</td>\n",
              "    </tr>\n",
              "    <tr>\n",
              "      <th>1727</th>\n",
              "      <td>0.249003</td>\n",
              "      <td>-0.276593</td>\n",
              "      <td>4.0</td>\n",
              "      <td>-1.234387</td>\n",
              "      <td>2</td>\n",
              "      <td>1</td>\n",
              "      <td>1</td>\n",
              "      <td>-1.667870</td>\n",
              "      <td>0</td>\n",
              "      <td>1</td>\n",
              "      <td>0</td>\n",
              "    </tr>\n",
              "    <tr>\n",
              "      <th>8980</th>\n",
              "      <td>-0.019807</td>\n",
              "      <td>-0.370955</td>\n",
              "      <td>3.0</td>\n",
              "      <td>1.439986</td>\n",
              "      <td>2</td>\n",
              "      <td>1</td>\n",
              "      <td>1</td>\n",
              "      <td>-1.299532</td>\n",
              "      <td>1</td>\n",
              "      <td>0</td>\n",
              "      <td>0</td>\n",
              "    </tr>\n",
              "    <tr>\n",
              "      <th>5566</th>\n",
              "      <td>-0.195567</td>\n",
              "      <td>0.289577</td>\n",
              "      <td>3.0</td>\n",
              "      <td>0.796435</td>\n",
              "      <td>1</td>\n",
              "      <td>0</td>\n",
              "      <td>1</td>\n",
              "      <td>-1.518806</td>\n",
              "      <td>1</td>\n",
              "      <td>0</td>\n",
              "      <td>1</td>\n",
              "    </tr>\n",
              "    <tr>\n",
              "      <th>2414</th>\n",
              "      <td>-0.991658</td>\n",
              "      <td>1.233195</td>\n",
              "      <td>9.0</td>\n",
              "      <td>-1.234387</td>\n",
              "      <td>1</td>\n",
              "      <td>1</td>\n",
              "      <td>0</td>\n",
              "      <td>1.304853</td>\n",
              "      <td>0</td>\n",
              "      <td>0</td>\n",
              "      <td>0</td>\n",
              "    </tr>\n",
              "    <tr>\n",
              "      <th>1839</th>\n",
              "      <td>0.559168</td>\n",
              "      <td>1.421919</td>\n",
              "      <td>9.0</td>\n",
              "      <td>0.657924</td>\n",
              "      <td>1</td>\n",
              "      <td>1</td>\n",
              "      <td>1</td>\n",
              "      <td>1.496545</td>\n",
              "      <td>0</td>\n",
              "      <td>0</td>\n",
              "      <td>1</td>\n",
              "    </tr>\n",
              "  </tbody>\n",
              "</table>\n",
              "<p>5000 rows × 11 columns</p>\n",
              "</div>"
            ],
            "text/plain": [
              "      CreditScore       Age  ...  Geography_Spain  Gender_Male\n",
              "8998     0.228325 -0.087870  ...                0            0\n",
              "1239    -0.857253 -1.031487  ...                0            1\n",
              "9247     1.386275 -0.937126  ...                1            1\n",
              "6514    -0.919286 -1.220211  ...                1            1\n",
              "8312    -0.671154  0.761386  ...                0            1\n",
              "...           ...       ...  ...              ...          ...\n",
              "1727     0.249003 -0.276593  ...                1            0\n",
              "8980    -0.019807 -0.370955  ...                0            0\n",
              "5566    -0.195567  0.289577  ...                0            1\n",
              "2414    -0.991658  1.233195  ...                0            0\n",
              "1839     0.559168  1.421919  ...                0            1\n",
              "\n",
              "[5000 rows x 11 columns]"
            ]
          },
          "execution_count": 1129,
          "metadata": {
            "tags": []
          },
          "output_type": "execute_result"
        }
      ]
    },
    {
      "cell_type": "markdown",
      "metadata": {
        "id": "s8k60MagbfL_"
      },
      "source": [
        "### Создадим тренировочную, тестовую и валидационную выборки:\n",
        "\n",
        "Сначала мы перетасуем весь набор данных (df.sample (frac = 1)), а затем разделим наш набор данных на следующие части:\n",
        "\n",
        "- 50% - обучающий набор;\n",
        "- 25% - валидационный набор;\n",
        "- 25% - тестовый."
      ]
    },
    {
      "cell_type": "code",
      "metadata": {
        "id": "gwxyvqmMcJ9W"
      },
      "source": [
        "train, validate, test = np.split(data.sample(frac=1), [int(.5*len(data)), int(.75*len(data))])"
      ],
      "execution_count": null,
      "outputs": []
    },
    {
      "cell_type": "code",
      "metadata": {
        "colab": {
          "base_uri": "https://localhost:8080/"
        },
        "id": "i3yJ3PmtcntD",
        "outputId": "82f6ce25-746f-450d-ead4-d96ba1f62462"
      },
      "source": [
        "features_valid = validate.drop(['Exited'], axis=1)\n",
        "target_valid = validate['Exited']\n",
        "\n",
        "features_train = train.drop(['Exited'], axis=1)\n",
        "target_train = train['Exited']\n",
        "\n",
        "features_test = test.drop(['Exited'], axis=1)\n",
        "target_test = test['Exited']\n",
        "\n",
        "print('Размер валидационной выборки:', target_valid.shape[0])\n",
        "print('Размер обучающей выборки:', target_train.shape[0])\n",
        "print('Размер тестовой выборки:',target_test.shape[0])"
      ],
      "execution_count": null,
      "outputs": [
        {
          "name": "stdout",
          "output_type": "stream",
          "text": [
            "Размер валидационной выборки: 2500\n",
            "Размер обучающей выборки: 5000\n",
            "Размер тестовой выборки: 2500\n"
          ]
        }
      ]
    },
    {
      "cell_type": "markdown",
      "metadata": {
        "id": "m8izCA8zcqA7"
      },
      "source": [
        "\n",
        "### Вывод:\n",
        "- Изучили датасет\n",
        "- Нашли и заполнили медианой пустые значения в столбце Tenure\n",
        "- Других отклонений по статистике и дубликатов не обнаружили, так же нет взаимосвязей между параметрами\n",
        "- Избавились от ловушек и стандартизировали признаки\n",
        "- Разделили датасет на обучающую, валидационную и тестовую выборки"
      ]
    },
    {
      "cell_type": "markdown",
      "metadata": {
        "id": "KOSTVbhlYx1T"
      },
      "source": [
        "## Исследование задачи"
      ]
    },
    {
      "cell_type": "markdown",
      "metadata": {
        "id": "zsYT0SC2hBHL"
      },
      "source": [
        "### Посмотрим как работает модель решающего дерева без вмешательств. Посчитаем нужные метрики для модели(F-меру и Roc-Auc)"
      ]
    },
    {
      "cell_type": "code",
      "metadata": {
        "colab": {
          "base_uri": "https://localhost:8080/",
          "height": 355
        },
        "id": "KQ1fDQK-iUh-",
        "outputId": "13aacb92-4dbf-43f2-d19a-389f8914a8e7"
      },
      "source": [
        "model = KNeighborsClassifier(n_neighbors = 5)\n",
        "model.fit(features_train,target_train)\n",
        "predictions = model.predict(features_valid)\n",
        "score = accuracy_score(target_valid, predictions)\n",
        "probabilities_valid = model.predict_proba(features_valid)\n",
        "probabilities_one_valid = probabilities_valid[:, 1]\n",
        "\n",
        "fpr, tpr, thresholds = metrics.roc_curve(target_valid, probabilities_one_valid) \n",
        "\n",
        "plt.figure()\n",
        "\n",
        "plt.plot([0, 1], [0, 1], linestyle='--')\n",
        "plt.plot(fpr, tpr)\n",
        "plt.xlim([0.0, 1.0])\n",
        "plt.ylim([0.0, 1.0])\n",
        "plt.xlabel('False Positive Rate')\n",
        "plt.ylabel('True Positive Rate')\n",
        "plt.title('ROC-кривая')\n",
        "plt.show()\n",
        "\n",
        "auc_roc = roc_auc_score(target_valid, probabilities_one_valid)\n",
        "fscore = f1_score(target_valid, predictions)\n",
        "print('Auc-rocs is:',auc_roc)\n",
        "print('F1 is:',fscore)\n",
        "print(\"Accuracy:\", score)"
      ],
      "execution_count": null,
      "outputs": [
        {
          "data": {
            "image/png": "[encoded data removed]",
            "text/plain": [
              "<Figure size 432x288 with 1 Axes>"
            ]
          },
          "metadata": {
            "tags": []
          },
          "output_type": "display_data"
        },
        {
          "name": "stdout",
          "output_type": "stream",
          "text": [
            "Auc-rocs is: 0.519995797337838\n",
            "F1 is: 0.109375\n",
            "Accuracy: 0.772\n"
          ]
        }
      ]
    },
    {
      "cell_type": "markdown",
      "metadata": {
        "id": "l41e28uqhB8W"
      },
      "source": [
        "### Посмотрим как работает модель случайного леса без вмешательств. Посчитаем нужные метрики для модели (F-меру и Roc-Auc)"
      ]
    },
    {
      "cell_type": "code",
      "metadata": {
        "colab": {
          "base_uri": "https://localhost:8080/",
          "height": 355
        },
        "id": "Dq8XA-NzkFMs",
        "scrolled": true,
        "outputId": "fe082eee-e8d6-46c9-aaf7-4ff6ed9da478"
      },
      "source": [
        "model1 = RandomForestClassifier(random_state=12345)\n",
        "model1.fit(features_train, target_train)\n",
        "predictions1 = model1.predict(features_test)\n",
        "score1 = accuracy_score(target_test, predictions1)\n",
        "probabilities_valid1 = model1.predict_proba(features_valid)\n",
        "probabilities_one_valid1 = probabilities_valid1[:, 1]\n",
        "fpr, tpr, thresholds = metrics.roc_curve(target_valid, probabilities_one_valid1) \n",
        "auc_roc = roc_auc_score(target_valid, probabilities_one_valid1)\n",
        "fscore = f1_score(target_valid, predictions1)\n",
        "plt.figure()\n",
        "\n",
        "plt.plot([0, 1], [0, 1], linestyle='--')\n",
        "plt.plot(fpr, tpr)\n",
        "plt.xlim([0.0, 1.0])\n",
        "plt.ylim([0.0, 1.0])\n",
        "plt.xlabel('False Positive Rate')\n",
        "plt.ylabel('True Positive Rate')\n",
        "plt.title('ROC-кривая')\n",
        "plt.show()\n",
        "\n",
        "\n",
        "print('Auc-rocs is:',auc_roc)\n",
        "print('F1 is:',fscore)\n",
        "print(\"Accuracy:\", best_score_f)"
      ],
      "execution_count": null,
      "outputs": [
        {
          "data": {
            "image/png": "[encoded data removed]",
            "text/plain": [
              "<Figure size 432x288 with 1 Axes>"
            ]
          },
          "metadata": {
            "tags": []
          },
          "output_type": "display_data"
        },
        {
          "name": "stdout",
          "output_type": "stream",
          "text": [
            "Auc-rocs is: 0.8559702797202797\n",
            "F1 is: 0.12113720642768849\n",
            "Accuracy: 0.7628\n"
          ]
        }
      ]
    },
    {
      "cell_type": "markdown",
      "metadata": {
        "id": "IsxO-tyZnKHp"
      },
      "source": [
        "Оставляем модель случайного леса. Результаты по F-мере и Auc-rocs немного выше. Попробуем улучшить ситуацию, вдруг получится."
      ]
    },
    {
      "cell_type": "markdown",
      "metadata": {
        "id": "57pfY0utfa_Z"
      },
      "source": [
        "Посмотрим на баланс через случайный лес"
      ]
    },
    {
      "cell_type": "code",
      "metadata": {
        "colab": {
          "base_uri": "https://localhost:8080/",
          "height": 336
        },
        "id": "5kP2KpG_fuT5",
        "scrolled": true,
        "outputId": "7e60467c-bc51-4c4c-93ac-3a7bf3d5fe2a"
      },
      "source": [
        "model2 = RandomForestClassifier(random_state=12345, n_estimators=10, max_depth=None)\n",
        "model2.fit(features_train, target_train)\n",
        "predictions2 = pd.Series(model2.predict(features_valid))\n",
        "class_frequency = predictions2.value_counts(normalize=True)\n",
        "print(class_frequency)\n",
        "class_frequency.plot(kind='bar')\n"
      ],
      "execution_count": null,
      "outputs": [
        {
          "name": "stdout",
          "output_type": "stream",
          "text": [
            "0    0.8904\n",
            "1    0.1096\n",
            "dtype: float64\n"
          ]
        },
        {
          "data": {
            "text/plain": [
              "<matplotlib.axes._subplots.AxesSubplot at 0x7f780e640610>"
            ]
          },
          "execution_count": 1113,
          "metadata": {
            "tags": []
          },
          "output_type": "execute_result"
        },
        {
          "data": {
            "image/png": "[encoded data removed]",
            "text/plain": [
              "<Figure size 432x288 with 1 Axes>"
            ]
          },
          "metadata": {
            "tags": []
          },
          "output_type": "display_data"
        }
      ]
    },
    {
      "cell_type": "markdown",
      "metadata": {
        "id": "swxa19oxYx1V"
      },
      "source": [
        "## Борьба с дисбалансом"
      ]
    },
    {
      "cell_type": "markdown",
      "metadata": {
        "id": "_ZUeqFiRrUtJ"
      },
      "source": [
        "Перебор цикла с class_weight='balanced'"
      ]
    },
    {
      "cell_type": "code",
      "metadata": {
        "colab": {
          "base_uri": "https://localhost:8080/"
        },
        "id": "grU_0oL3rgZO",
        "outputId": "7e085101-cf9a-4a82-dc7b-24639ff70629"
      },
      "source": [
        "for depth,estimator in itertools.product(range(1,30,5), range(1,101,50)):\n",
        "    model3 = RandomForestClassifier(random_state=12345, max_depth=depth, n_estimators=estimator, class_weight='balanced')\n",
        "    model3.fit(features_train, target_train)\n",
        "    predictions3 = model3.predict(features_valid)\n",
        "    score = accuracy_score(predictions3, target_valid)\n",
        "    fscore = f1_score(target_valid, predictions3)\n",
        "    probabilities_valid3 = model3.predict_proba(features_valid)\n",
        "    probabilities_one_valid3 = probabilities_valid3[:, 1]\n",
        "    fpr, tpr, thresholds = metrics.roc_curve(target_valid, probabilities_one_valid3)\n",
        "    auc_roc = roc_auc_score(target_valid, probabilities_one_valid3)\n",
        "    print('Depth: {: >5.0f}       |   Estimators: {:>5.0f}       |   Auc-rocs: {:>5.4f}'.format(depth, estimator,auc_roc))\n",
        "    print('Accuracy: {: >5.4f}   |   F1_Score: {: >5.4f}'.format(score,fscore))\n",
        "    print('------------------------------------------------------')"
      ],
      "execution_count": null,
      "outputs": [
        {
          "name": "stdout",
          "output_type": "stream",
          "text": [
            "Depth:     1       |   Estimators:     1       |   Auc-rocs: 0.5657\n",
            "Accuracy: 0.8164   |   F1_Score: 0.2363\n",
            "------------------------------------------------------\n",
            "Depth:     1       |   Estimators:    51       |   Auc-rocs: 0.7995\n",
            "Accuracy: 0.7296   |   F1_Score: 0.5192\n",
            "------------------------------------------------------\n",
            "Depth:     6       |   Estimators:     1       |   Auc-rocs: 0.7765\n",
            "Accuracy: 0.7648   |   F1_Score: 0.5377\n",
            "------------------------------------------------------\n",
            "Depth:     6       |   Estimators:    51       |   Auc-rocs: 0.8538\n",
            "Accuracy: 0.7956   |   F1_Score: 0.5998\n",
            "------------------------------------------------------\n",
            "Depth:    11       |   Estimators:     1       |   Auc-rocs: 0.7013\n",
            "Accuracy: 0.7632   |   F1_Score: 0.5067\n",
            "------------------------------------------------------\n",
            "Depth:    11       |   Estimators:    51       |   Auc-rocs: 0.8583\n",
            "Accuracy: 0.8524   |   F1_Score: 0.6269\n",
            "------------------------------------------------------\n",
            "Depth:    16       |   Estimators:     1       |   Auc-rocs: 0.6695\n",
            "Accuracy: 0.7864   |   F1_Score: 0.4826\n",
            "------------------------------------------------------\n",
            "Depth:    16       |   Estimators:    51       |   Auc-rocs: 0.8470\n",
            "Accuracy: 0.8544   |   F1_Score: 0.5561\n",
            "------------------------------------------------------\n",
            "Depth:    21       |   Estimators:     1       |   Auc-rocs: 0.6662\n",
            "Accuracy: 0.7824   |   F1_Score: 0.4718\n",
            "------------------------------------------------------\n",
            "Depth:    21       |   Estimators:    51       |   Auc-rocs: 0.8475\n",
            "Accuracy: 0.8544   |   F1_Score: 0.5517\n",
            "------------------------------------------------------\n",
            "Depth:    26       |   Estimators:     1       |   Auc-rocs: 0.6662\n",
            "Accuracy: 0.7824   |   F1_Score: 0.4718\n",
            "------------------------------------------------------\n",
            "Depth:    26       |   Estimators:    51       |   Auc-rocs: 0.8495\n",
            "Accuracy: 0.8524   |   F1_Score: 0.5472\n",
            "------------------------------------------------------\n"
          ]
        }
      ]
    },
    {
      "cell_type": "markdown",
      "metadata": {
        "id": "kMv9JSVFdaM7"
      },
      "source": [
        "F1_score показал результат: 0.6269 и accuracy_score: 0.8524 при глубине 11, Auc-rocs 0.8583 и числе деревьев 51. Попробуем улучшить этот показатель."
      ]
    },
    {
      "cell_type": "markdown",
      "metadata": {
        "id": "WrY84INEw0X6"
      },
      "source": [
        "### Увеличение выборки"
      ]
    },
    {
      "cell_type": "code",
      "metadata": {
        "colab": {
          "base_uri": "https://localhost:8080/"
        },
        "id": "cRO1OfcndX9h",
        "outputId": "01c07f45-ed6c-4964-f253-0d685d9dfb96"
      },
      "source": [
        "def upsampling(features, target, repeat):\n",
        "    features_zeros = features_train[target_train == 0]\n",
        "    features_ones = features_train[target_train == 1]\n",
        "    target_zeros = target_train[target_train == 0]\n",
        "    target_ones = target_train[target_train == 1]\n",
        "\n",
        "    features_upsampled = pd.concat([features_zeros] + [features_ones] * repeat)\n",
        "    target_upsampled = pd.concat([target_zeros] + [target_ones] * repeat)\n",
        "    \n",
        "    features_upsampled, target_upsampled = shuffle(features_upsampled, target_upsampled, random_state=12345)\n",
        "    \n",
        "    return features_upsampled, target_upsampled\n",
        "\n",
        "\n",
        "for repeat in range(1,10,1):\n",
        "    features_upsampled, target_upsampled = upsampling(features_train, target_train, repeat)\n",
        "\n",
        "    model4 = RandomForestClassifier(random_state=12345)\n",
        "    model4.fit(features_upsampled, target_upsampled)\n",
        "    predictions4 = model4.predict(features_valid)\n",
        "    probabilities_valid4 = model4.predict_proba(features_valid)\n",
        "    probabilities_one_valid4 = probabilities_valid4[:, 1]\n",
        "    fpr, tpr, thresholds = metrics.roc_curve(target_valid, probabilities_one_valid4)\n",
        "    print(\"F1_Score: {: >5.3f}  |   Repeats : {: >5.0f}   |   Auc-rocs: {:>5.4f}\".format(f1_score(target_valid, predictions4),repeat,roc_auc_score(target_valid, probabilities_one_valid4)))"
      ],
      "execution_count": null,
      "outputs": [
        {
          "name": "stdout",
          "output_type": "stream",
          "text": [
            "F1_Score: 0.561  |   Repeats :     1   |   Auc-rocs: 0.8571\n",
            "F1_Score: 0.597  |   Repeats :     2   |   Auc-rocs: 0.8551\n",
            "F1_Score: 0.606  |   Repeats :     3   |   Auc-rocs: 0.8540\n",
            "F1_Score: 0.611  |   Repeats :     4   |   Auc-rocs: 0.8528\n",
            "F1_Score: 0.602  |   Repeats :     5   |   Auc-rocs: 0.8561\n",
            "F1_Score: 0.624  |   Repeats :     6   |   Auc-rocs: 0.8523\n",
            "F1_Score: 0.608  |   Repeats :     7   |   Auc-rocs: 0.8503\n",
            "F1_Score: 0.611  |   Repeats :     8   |   Auc-rocs: 0.8519\n",
            "F1_Score: 0.607  |   Repeats :     9   |   Auc-rocs: 0.8514\n"
          ]
        }
      ]
    },
    {
      "cell_type": "markdown",
      "metadata": {
        "id": "PXRB1Kabw5cK"
      },
      "source": [
        "Уменьшение выборки"
      ]
    },
    {
      "cell_type": "code",
      "metadata": {
        "colab": {
          "base_uri": "https://localhost:8080/"
        },
        "id": "IQKopc89dl_v",
        "outputId": "216a9f0d-4c96-4bfd-d1ca-94a610665294"
      },
      "source": [
        "def downsampling(features, target, fraction):\n",
        "    features_zeros = features[target == 0]\n",
        "    features_ones = features[target == 1]\n",
        "    target_zeros = target[target == 0]\n",
        "    target_ones = target[target == 1]\n",
        "\n",
        "    features_downsampled = pd.concat(\n",
        "        [features_zeros.sample(frac=fraction, random_state=12345)] + [features_ones])\n",
        "    target_downsampled = pd.concat(\n",
        "        [target_zeros.sample(frac=fraction, random_state=12345)] + [target_ones])\n",
        "    \n",
        "    features_downsampled, target_downsampled = shuffle(\n",
        "        features_downsampled, target_downsampled, random_state=12345)\n",
        "    \n",
        "    return features_downsampled, target_downsampled\n",
        "\n",
        "for i in np.arange(0.03, 0.31, 0.03):\n",
        "    features_downsampled, target_downsampled = downsampling(features_train, target_train, i)\n",
        "    model5 = RandomForestClassifier(random_state=12345)\n",
        "    model5.fit(features_downsampled, target_downsampled)\n",
        "    predictions5 = model5.predict(features_valid)\n",
        "    probabilities_valid5 = model5.predict_proba(features_valid)\n",
        "    probabilities_one_valid5 = probabilities_valid5[:, 1]\n",
        "\n",
        "    print(\"F1_Score: {: >5.3f}  |  Fractions : {: >5.3f}   |   Auc-rocs: {:>5.4f}\".format(f1_score(target_valid, predictions5), i, roc_auc_score(target_valid, probabilities_one_valid5)))"
      ],
      "execution_count": null,
      "outputs": [
        {
          "name": "stdout",
          "output_type": "stream",
          "text": [
            "F1_Score: 0.366  |  Fractions : 0.030   |   Auc-rocs: 0.7989\n",
            "F1_Score: 0.414  |  Fractions : 0.060   |   Auc-rocs: 0.8281\n",
            "F1_Score: 0.472  |  Fractions : 0.090   |   Auc-rocs: 0.8427\n",
            "F1_Score: 0.501  |  Fractions : 0.120   |   Auc-rocs: 0.8454\n",
            "F1_Score: 0.531  |  Fractions : 0.150   |   Auc-rocs: 0.8464\n",
            "F1_Score: 0.554  |  Fractions : 0.180   |   Auc-rocs: 0.8538\n",
            "F1_Score: 0.555  |  Fractions : 0.210   |   Auc-rocs: 0.8504\n",
            "F1_Score: 0.570  |  Fractions : 0.240   |   Auc-rocs: 0.8501\n",
            "F1_Score: 0.579  |  Fractions : 0.270   |   Auc-rocs: 0.8491\n",
            "F1_Score: 0.585  |  Fractions : 0.300   |   Auc-rocs: 0.8532\n"
          ]
        }
      ]
    },
    {
      "cell_type": "markdown",
      "metadata": {
        "id": "zXKbSiodd085"
      },
      "source": [
        "Вывод:\n",
        "\n",
        "Нашли в цикле лучшие параметры: глубина - 6, количество деревьев - 51. F1 score - 0.6002\n",
        "Улучшение модели не привело к увеличению f1_score :("
      ]
    },
    {
      "cell_type": "markdown",
      "metadata": {
        "id": "x24dldLdYx1X"
      },
      "source": [
        "## Тестирование модели"
      ]
    },
    {
      "cell_type": "markdown",
      "metadata": {
        "id": "A_ydmGla1eAr"
      },
      "source": [
        "Проверим модель на тестовой выборке"
      ]
    },
    {
      "cell_type": "code",
      "metadata": {
        "colab": {
          "base_uri": "https://localhost:8080/"
        },
        "id": "bNPBInyEYx1Y",
        "outputId": "a7d2de2f-8d7d-4123-86cd-324bcc1ac7fb"
      },
      "source": [
        "model6 = RandomForestClassifier(n_estimators = 51, max_depth=6, class_weight='balanced', random_state=12345)\n",
        "model6.fit(features_train, target_train)\n",
        "predicted_valid6 = model6.predict(features_test)\n",
        "accuracy_valid = accuracy_score(predicted_valid6, target_test)\n",
        "print('Accuracy is:', accuracy_valid)\n",
        "print('F1_Score is:', f1_score(target_test, predicted_valid6))"
      ],
      "execution_count": null,
      "outputs": [
        {
          "name": "stdout",
          "output_type": "stream",
          "text": [
            "Accuracy is: 0.8172\n",
            "F1_Score is: 0.609735269000854\n"
          ]
        }
      ]
    },
    {
      "cell_type": "markdown",
      "metadata": {
        "id": "He5WZP7O1eqB"
      },
      "source": [
        "ROC-кривая"
      ]
    },
    {
      "cell_type": "code",
      "metadata": {
        "colab": {
          "base_uri": "https://localhost:8080/",
          "height": 319
        },
        "id": "JjhS5wead5DZ",
        "scrolled": true,
        "outputId": "0e9a357b-04a6-43be-d6d7-8f203ba97f78"
      },
      "source": [
        "model7 = RandomForestClassifier(n_estimators = 51, max_depth=6, class_weight='balanced', random_state=12345)\n",
        "model7.fit(features_train, target_train)\n",
        "\n",
        "probabilities_valid7 = model7.predict_proba(features_valid)\n",
        "probabilities_one_valid7 = probabilities_valid7[:, 1]\n",
        "\n",
        "fpr, tpr, thresholds = metrics.roc_curve(target_valid, probabilities_one_valid7) \n",
        "\n",
        "plt.figure()\n",
        "\n",
        "plt.plot([0, 1], [0, 1], linestyle='--')\n",
        "plt.plot(fpr, tpr)\n",
        "plt.xlim([0.0, 1.0])\n",
        "plt.ylim([0.0, 1.0])\n",
        "plt.xlabel('False Positive Rate')\n",
        "plt.ylabel('True Positive Rate')\n",
        "plt.title('ROC-кривая')\n",
        "plt.show()\n",
        "\n",
        "auc_roc = roc_auc_score(target_valid, probabilities_one_valid7)\n",
        "\n",
        "print('Auc-rocs is:',auc_roc)"
      ],
      "execution_count": null,
      "outputs": [
        {
          "data": {
            "image/png": "[encoded data removed]",
            "text/plain": [
              "<Figure size 432x288 with 1 Axes>"
            ]
          },
          "metadata": {
            "tags": []
          },
          "output_type": "display_data"
        },
        {
          "name": "stdout",
          "output_type": "stream",
          "text": [
            "Auc-rocs is: 0.8538442113442114\n"
          ]
        }
      ]
    },
    {
      "cell_type": "markdown",
      "metadata": {
        "id": "1Ndqgm4naiUB"
      },
      "source": [
        "Посмотрим ещё раз на сводную по статистике класса"
      ]
    },
    {
      "cell_type": "code",
      "metadata": {
        "colab": {
          "base_uri": "https://localhost:8080/"
        },
        "id": "956z1dQKQdv2",
        "outputId": "ec20f404-1fc7-4715-a333-1a51e5307c9c"
      },
      "source": [
        "print(classification_report(target_test, predicted_valid6))"
      ],
      "execution_count": null,
      "outputs": [
        {
          "name": "stdout",
          "output_type": "stream",
          "text": [
            "              precision    recall  f1-score   support\n",
            "\n",
            "           0       0.92      0.81      0.86      1993\n",
            "           1       0.49      0.74      0.59       507\n",
            "\n",
            "    accuracy                           0.79      2500\n",
            "   macro avg       0.71      0.77      0.73      2500\n",
            "weighted avg       0.84      0.79      0.81      2500\n",
            "\n"
          ]
        }
      ]
    },
    {
      "cell_type": "markdown",
      "metadata": {
        "id": "LweXnmvxeTFJ"
      },
      "source": [
        "\n",
        "### Вывод:\n",
        "- Подготовили датасет для прогнозирования оттока клиентов\n",
        "- Использовали модель RandomForestClassifier.\n",
        "- Методами Upsampling и Downsampling пытались улучшить f1_score, но это не принесло результата. \n",
        "- Лучший показатель f1_score - 0.609.\n",
        "- Отрисовали ROC-кривую  и получили roc auc score : 0.853.\n",
        "- Из результата следует, что модель предсказывает достаточно хорошо, так как показатель больше 0.5."
      ]
    }
  ]
}