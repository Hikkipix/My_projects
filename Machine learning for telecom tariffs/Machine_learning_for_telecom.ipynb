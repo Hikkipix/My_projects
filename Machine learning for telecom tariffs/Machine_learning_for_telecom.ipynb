{
  "nbformat": 4,
  "nbformat_minor": 0,
  "metadata": {
    "ExecuteTimeLog": [
      {
        "duration": 1594,
        "start_time": "2021-06-25T21:30:07.630Z"
      },
      {
        "duration": 95,
        "start_time": "2021-06-25T21:30:09.226Z"
      },
      {
        "duration": 38,
        "start_time": "2021-06-25T21:30:52.036Z"
      },
      {
        "duration": 8,
        "start_time": "2021-06-25T21:32:38.927Z"
      },
      {
        "duration": 5,
        "start_time": "2021-06-25T21:32:44.174Z"
      },
      {
        "duration": 5,
        "start_time": "2021-06-25T21:32:52.601Z"
      },
      {
        "duration": 10,
        "start_time": "2021-06-25T21:32:53.045Z"
      },
      {
        "duration": 458,
        "start_time": "2021-06-25T21:41:23.496Z"
      },
      {
        "duration": 1463,
        "start_time": "2021-06-25T21:41:59.693Z"
      },
      {
        "duration": 1465,
        "start_time": "2021-06-25T21:43:02.935Z"
      },
      {
        "duration": 443,
        "start_time": "2021-06-25T21:43:17.656Z"
      },
      {
        "duration": 2045,
        "start_time": "2021-06-25T21:43:20.735Z"
      },
      {
        "duration": 5102,
        "start_time": "2021-06-25T21:43:24.592Z"
      },
      {
        "duration": 12,
        "start_time": "2021-06-25T21:43:29.696Z"
      },
      {
        "duration": 313,
        "start_time": "2021-06-25T21:44:05.743Z"
      },
      {
        "duration": 16,
        "start_time": "2021-06-25T21:44:13.956Z"
      },
      {
        "duration": 1529,
        "start_time": "2021-06-26T12:01:10.850Z"
      },
      {
        "duration": 73,
        "start_time": "2021-06-26T12:01:12.381Z"
      },
      {
        "duration": 39,
        "start_time": "2021-06-26T12:01:12.456Z"
      },
      {
        "duration": 795,
        "start_time": "2021-06-26T12:01:12.497Z"
      },
      {
        "duration": 9,
        "start_time": "2021-06-26T12:01:13.294Z"
      },
      {
        "duration": 21,
        "start_time": "2021-06-26T12:01:13.305Z"
      },
      {
        "duration": 11,
        "start_time": "2021-06-26T12:01:13.329Z"
      },
      {
        "duration": 7,
        "start_time": "2021-06-26T12:01:13.620Z"
      },
      {
        "duration": 403,
        "start_time": "2021-06-26T12:01:14.338Z"
      },
      {
        "duration": 1462,
        "start_time": "2021-06-26T12:01:14.826Z"
      },
      {
        "duration": 1788,
        "start_time": "2021-06-26T12:01:16.291Z"
      },
      {
        "duration": 19,
        "start_time": "2021-06-26T12:01:18.083Z"
      },
      {
        "duration": 294,
        "start_time": "2021-06-26T12:01:18.123Z"
      },
      {
        "duration": 148,
        "start_time": "2021-06-26T12:01:18.273Z"
      },
      {
        "duration": 134,
        "start_time": "2021-06-26T12:01:18.289Z"
      },
      {
        "duration": 10,
        "start_time": "2021-06-26T12:01:18.924Z"
      },
      {
        "duration": 5,
        "start_time": "2021-06-26T12:02:01.622Z"
      },
      {
        "duration": 66,
        "start_time": "2021-06-26T12:02:02.438Z"
      },
      {
        "duration": 34,
        "start_time": "2021-06-26T12:02:03.925Z"
      },
      {
        "duration": 767,
        "start_time": "2021-06-26T12:02:05.804Z"
      },
      {
        "duration": 8,
        "start_time": "2021-06-26T12:02:09.382Z"
      },
      {
        "duration": 5,
        "start_time": "2021-06-26T12:02:10.741Z"
      },
      {
        "duration": 5,
        "start_time": "2021-06-26T12:02:11.168Z"
      },
      {
        "duration": 7,
        "start_time": "2021-06-26T12:02:11.573Z"
      },
      {
        "duration": 284,
        "start_time": "2021-06-26T12:02:14.065Z"
      },
      {
        "duration": 1163,
        "start_time": "2021-06-26T12:02:52.820Z"
      },
      {
        "duration": 1479,
        "start_time": "2021-06-26T12:03:01.757Z"
      },
      {
        "duration": 1750,
        "start_time": "2021-06-26T12:03:33.357Z"
      },
      {
        "duration": 15,
        "start_time": "2021-06-26T12:03:43.127Z"
      },
      {
        "duration": 14,
        "start_time": "2021-06-26T12:03:50.843Z"
      },
      {
        "duration": 138,
        "start_time": "2021-06-26T12:04:02.197Z"
      },
      {
        "duration": 9,
        "start_time": "2021-06-26T12:04:08.693Z"
      },
      {
        "duration": 9,
        "start_time": "2021-06-26T12:04:11.661Z"
      }
    ],
    "colab": {
      "name": "Machine learning for telecom.ipynb",
      "provenance": [],
      "collapsed_sections": []
    },
    "kernelspec": {
      "display_name": "Python 3",
      "language": "python",
      "name": "python3"
    },
    "language_info": {
      "codemirror_mode": {
        "name": "ipython",
        "version": 3
      },
      "file_extension": ".py",
      "mimetype": "text/x-python",
      "name": "python",
      "nbconvert_exporter": "python",
      "pygments_lexer": "ipython3",
      "version": "3.7.8"
    },
    "toc": {
      "base_numbering": 1,
      "nav_menu": {},
      "number_sections": true,
      "sideBar": true,
      "skip_h1_title": true,
      "title_cell": "Table of Contents",
      "title_sidebar": "Contents",
      "toc_cell": false,
      "toc_position": {},
      "toc_section_display": true,
      "toc_window_display": false
    }
  },
  "cells": [
    {
      "cell_type": "markdown",
      "metadata": {
        "id": "Z02CARJHtVce"
      },
      "source": [
        "## Изучения файлов и импорт библиотек"
      ]
    },
    {
      "cell_type": "code",
      "metadata": {
        "id": "QCkf-wuMtVce"
      },
      "source": [
        "import pandas as pd\n",
        "import numpy as np\n",
        "import matplotlib.pyplot as plt\n",
        "import seaborn as sns\n",
        "from sklearn.neighbors import KNeighborsClassifier\n",
        "from sklearn.tree import DecisionTreeClassifier\n",
        "from sklearn.linear_model import LogisticRegression\n",
        "from sklearn.ensemble import RandomForestClassifier\n",
        "from sklearn.model_selection import train_test_split\n",
        "from sklearn.metrics import accuracy_score\n"
      ],
      "execution_count": 1,
      "outputs": []
    },
    {
      "cell_type": "code",
      "metadata": {
        "colab": {
          "base_uri": "https://localhost:8080/"
        },
        "id": "wp1dbXjeBz81",
        "outputId": "399cf827-e83d-4403-cbc9-bfb61556ed1c"
      },
      "source": [
        "df = pd.read_csv('users.csv')\n",
        "df.info()"
      ],
      "execution_count": 2,
      "outputs": [
        {
          "output_type": "stream",
          "name": "stdout",
          "text": [
            "<class 'pandas.core.frame.DataFrame'>\n",
            "RangeIndex: 3214 entries, 0 to 3213\n",
            "Data columns (total 5 columns):\n",
            " #   Column    Non-Null Count  Dtype  \n",
            "---  ------    --------------  -----  \n",
            " 0   calls     3214 non-null   float64\n",
            " 1   minutes   3214 non-null   float64\n",
            " 2   messages  3214 non-null   float64\n",
            " 3   mb_used   3214 non-null   float64\n",
            " 4   is_ultra  3214 non-null   int64  \n",
            "dtypes: float64(4), int64(1)\n",
            "memory usage: 125.7 KB\n"
          ]
        }
      ]
    },
    {
      "cell_type": "code",
      "metadata": {
        "colab": {
          "base_uri": "https://localhost:8080/",
          "height": 297
        },
        "id": "d2hDY1EaB63b",
        "outputId": "fd9acf0e-bc65-4859-de8e-599b9889a74d"
      },
      "source": [
        "df.describe()\n"
      ],
      "execution_count": 3,
      "outputs": [
        {
          "output_type": "execute_result",
          "data": {
            "text/html": [
              "<div>\n",
              "<style scoped>\n",
              "    .dataframe tbody tr th:only-of-type {\n",
              "        vertical-align: middle;\n",
              "    }\n",
              "\n",
              "    .dataframe tbody tr th {\n",
              "        vertical-align: top;\n",
              "    }\n",
              "\n",
              "    .dataframe thead th {\n",
              "        text-align: right;\n",
              "    }\n",
              "</style>\n",
              "<table border=\"1\" class=\"dataframe\">\n",
              "  <thead>\n",
              "    <tr style=\"text-align: right;\">\n",
              "      <th></th>\n",
              "      <th>calls</th>\n",
              "      <th>minutes</th>\n",
              "      <th>messages</th>\n",
              "      <th>mb_used</th>\n",
              "      <th>is_ultra</th>\n",
              "    </tr>\n",
              "  </thead>\n",
              "  <tbody>\n",
              "    <tr>\n",
              "      <th>count</th>\n",
              "      <td>3214.000000</td>\n",
              "      <td>3214.000000</td>\n",
              "      <td>3214.000000</td>\n",
              "      <td>3214.000000</td>\n",
              "      <td>3214.000000</td>\n",
              "    </tr>\n",
              "    <tr>\n",
              "      <th>mean</th>\n",
              "      <td>63.038892</td>\n",
              "      <td>438.208787</td>\n",
              "      <td>38.281269</td>\n",
              "      <td>17207.673836</td>\n",
              "      <td>0.306472</td>\n",
              "    </tr>\n",
              "    <tr>\n",
              "      <th>std</th>\n",
              "      <td>33.236368</td>\n",
              "      <td>234.569872</td>\n",
              "      <td>36.148326</td>\n",
              "      <td>7570.968246</td>\n",
              "      <td>0.461100</td>\n",
              "    </tr>\n",
              "    <tr>\n",
              "      <th>min</th>\n",
              "      <td>0.000000</td>\n",
              "      <td>0.000000</td>\n",
              "      <td>0.000000</td>\n",
              "      <td>0.000000</td>\n",
              "      <td>0.000000</td>\n",
              "    </tr>\n",
              "    <tr>\n",
              "      <th>25%</th>\n",
              "      <td>40.000000</td>\n",
              "      <td>274.575000</td>\n",
              "      <td>9.000000</td>\n",
              "      <td>12491.902500</td>\n",
              "      <td>0.000000</td>\n",
              "    </tr>\n",
              "    <tr>\n",
              "      <th>50%</th>\n",
              "      <td>62.000000</td>\n",
              "      <td>430.600000</td>\n",
              "      <td>30.000000</td>\n",
              "      <td>16943.235000</td>\n",
              "      <td>0.000000</td>\n",
              "    </tr>\n",
              "    <tr>\n",
              "      <th>75%</th>\n",
              "      <td>82.000000</td>\n",
              "      <td>571.927500</td>\n",
              "      <td>57.000000</td>\n",
              "      <td>21424.700000</td>\n",
              "      <td>1.000000</td>\n",
              "    </tr>\n",
              "    <tr>\n",
              "      <th>max</th>\n",
              "      <td>244.000000</td>\n",
              "      <td>1632.060000</td>\n",
              "      <td>224.000000</td>\n",
              "      <td>49745.730000</td>\n",
              "      <td>1.000000</td>\n",
              "    </tr>\n",
              "  </tbody>\n",
              "</table>\n",
              "</div>"
            ],
            "text/plain": [
              "             calls      minutes     messages       mb_used     is_ultra\n",
              "count  3214.000000  3214.000000  3214.000000   3214.000000  3214.000000\n",
              "mean     63.038892   438.208787    38.281269  17207.673836     0.306472\n",
              "std      33.236368   234.569872    36.148326   7570.968246     0.461100\n",
              "min       0.000000     0.000000     0.000000      0.000000     0.000000\n",
              "25%      40.000000   274.575000     9.000000  12491.902500     0.000000\n",
              "50%      62.000000   430.600000    30.000000  16943.235000     0.000000\n",
              "75%      82.000000   571.927500    57.000000  21424.700000     1.000000\n",
              "max     244.000000  1632.060000   224.000000  49745.730000     1.000000"
            ]
          },
          "metadata": {},
          "execution_count": 3
        }
      ]
    },
    {
      "cell_type": "markdown",
      "metadata": {
        "id": "EtaN1EEv95eC"
      },
      "source": [
        "Посмотрим на корреляцию факторов между собой"
      ]
    },
    {
      "cell_type": "code",
      "metadata": {
        "colab": {
          "base_uri": "https://localhost:8080/",
          "height": 885
        },
        "id": "YqG0w7Ko5xPY",
        "outputId": "1bf24d7b-c84c-4e6a-bd8d-883b44b30d5e"
      },
      "source": [
        "plt.figure(figsize=(15,15))\n",
        "sns.heatmap(df.corr(method='pearson'), annot=True, cmap=\"Blues\", fmt='.2f')"
      ],
      "execution_count": 4,
      "outputs": [
        {
          "output_type": "execute_result",
          "data": {
            "text/plain": [
              "<matplotlib.axes._subplots.AxesSubplot at 0x7fcce1fdbc90>"
            ]
          },
          "metadata": {},
          "execution_count": 4
        },
        {
          "output_type": "display_data",
          "data": {
            "image/png": "[encoded data removed]",
            "text/plain": [
              "<Figure size 1080x1080 with 2 Axes>"
            ]
          },
          "metadata": {
            "needs_background": "light"
          }
        }
      ]
    },
    {
      "cell_type": "markdown",
      "metadata": {
        "id": "10PbW3Yp-PA8"
      },
      "source": [
        "Да, видно что звонки и затраченные минуты (очевидно) имеют сильную корреляцию. Уберём далее звонки (так как это те же минуты, только разбитые на блоки) для чистоты модели. "
      ]
    },
    {
      "cell_type": "markdown",
      "metadata": {
        "id": "3b0WrWnQtVcf"
      },
      "source": [
        "## Разбейте данные на выборки"
      ]
    },
    {
      "cell_type": "markdown",
      "metadata": {
        "id": "AHpzgJS35hZb"
      },
      "source": [
        "Разделим наш датасет на выборки. Сначала мы перетасуем весь набор данных (df.sample (frac = 1)), а затем разделим наш набор данных на следующие части:\n",
        "\n",
        "- 50% - обучающая набор;\n",
        "- 25% - валидационная набор;\n",
        "- 25% - тестовый."
      ]
    },
    {
      "cell_type": "code",
      "metadata": {
        "id": "AFwFS_G5tVcg"
      },
      "source": [
        "train, validate, test = np.split(df.sample(frac=1), [int(.5*len(df)), int(.75*len(df))])"
      ],
      "execution_count": 5,
      "outputs": []
    },
    {
      "cell_type": "markdown",
      "metadata": {
        "id": "fv8K99hv5vbc"
      },
      "source": [
        "Присвоим переменным признаки и целевые признаки"
      ]
    },
    {
      "cell_type": "markdown",
      "metadata": {
        "id": "D3szla9B5wAI"
      },
      "source": [
        "Валидационная выборка"
      ]
    },
    {
      "cell_type": "code",
      "metadata": {
        "id": "YMDPgQTl5wQa"
      },
      "source": [
        "features_valid = validate.drop(['is_ultra','calls'], axis=1)\n",
        "target_valid = validate['is_ultra']"
      ],
      "execution_count": 6,
      "outputs": []
    },
    {
      "cell_type": "markdown",
      "metadata": {
        "id": "R02VKUqJ5wvw"
      },
      "source": [
        "Обучающая выборка"
      ]
    },
    {
      "cell_type": "code",
      "metadata": {
        "id": "62mjhsfJ5xAM"
      },
      "source": [
        "features_train = train.drop(['is_ultra','calls'], axis=1)\n",
        "target_train = train['is_ultra']"
      ],
      "execution_count": 7,
      "outputs": []
    },
    {
      "cell_type": "markdown",
      "metadata": {
        "id": "eGsbmz_45-tr"
      },
      "source": [
        "Тестовая выборка"
      ]
    },
    {
      "cell_type": "code",
      "metadata": {
        "colab": {
          "base_uri": "https://localhost:8080/"
        },
        "id": "L0OWYWnYtVch",
        "outputId": "a14443b9-f8f2-4024-e4a1-8932ca7b1500"
      },
      "source": [
        "features_test = test.drop(['is_ultra','calls'], axis=1)\n",
        "target_test = test['is_ultra']\n",
        "\n",
        "print('Размер валидационной выборки:', target_valid.shape[0])\n",
        "print('Размер обучающей выборки:', target_train.shape[0])\n",
        "print('Размер тестовой выборки:',target_test.shape[0])"
      ],
      "execution_count": 8,
      "outputs": [
        {
          "output_type": "stream",
          "name": "stdout",
          "text": [
            "Размер валидационной выборки: 803\n",
            "Размер обучающей выборки: 1607\n",
            "Размер тестовой выборки: 804\n"
          ]
        }
      ]
    },
    {
      "cell_type": "markdown",
      "metadata": {
        "id": "YoX0Ki_rtVcg"
      },
      "source": [
        "## Исследуйте модели"
      ]
    },
    {
      "cell_type": "markdown",
      "metadata": {
        "id": "6xoww1asrRPG"
      },
      "source": [
        "### Проверим модель Ближайших соседей:"
      ]
    },
    {
      "cell_type": "code",
      "metadata": {
        "colab": {
          "base_uri": "https://localhost:8080/",
          "height": 386
        },
        "id": "ED254EqyrNbg",
        "outputId": "89389493-9e56-41cd-e27b-2cb3c43cf7d7"
      },
      "source": [
        "sns.set_style(style=\"whitegrid\")\n",
        "neighbor = []\n",
        "best_model = None\n",
        "accuracy_n = []\n",
        "best_neighbors = 0\n",
        "best_result = 0\n",
        "plt.figure(figsize=(10, 5))\n",
        "\n",
        "for neighbors in range(1,28,3):\n",
        "    model = KNeighborsClassifier(n_neighbors = neighbors)\n",
        "    model.fit(features_train,target_train)\n",
        "    predictions = model.predict(features_valid)\n",
        "    score = accuracy_score(target_valid, predictions)\n",
        "    neighbor.append(neighbors)\n",
        "    accuracy_n.append(score)\n",
        "    sns.lineplot(data=pd.DataFrame(data=accuracy_n, index=neighbor))\n",
        "    plt.legend('')\n",
        "    if score > best_result:\n",
        "       best_neighbors = neighbors\n",
        "       best_result = score\n",
        "       best_model = model\n",
        "plt.title(\"График качества в зависимости от количества соседей:\", fontsize=15) \n",
        "plt.ylabel(\"Качество\") \n",
        "plt.xlabel(\"Соседи\")\n",
        "plt.show()\n",
        "print(\"Accuracy наилучшей модели на валидационной выборке:\", best_result)\n",
        "print(\"Количество соседей:\", best_neighbors)"
      ],
      "execution_count": 9,
      "outputs": [
        {
          "output_type": "display_data",
          "data": {
            "image/png": "[encoded data removed]",
            "text/plain": [
              "<Figure size 720x360 with 1 Axes>"
            ]
          },
          "metadata": {}
        },
        {
          "output_type": "stream",
          "name": "stdout",
          "text": [
            "Accuracy наилучшей модели на валидационной выборке: 0.7434620174346201\n",
            "Количество соседей: 4\n"
          ]
        }
      ]
    },
    {
      "cell_type": "markdown",
      "metadata": {
        "id": "6AW0M6U56Fdh"
      },
      "source": [
        "### Проверим модель Дерево Решений:"
      ]
    },
    {
      "cell_type": "code",
      "metadata": {
        "colab": {
          "base_uri": "https://localhost:8080/",
          "height": 387
        },
        "id": "yE2y4hJeCZFH",
        "outputId": "ef628705-5df9-41a3-d250-865fc1d85a86"
      },
      "source": [
        "depths = []\n",
        "accuracy_t = []\n",
        "best_model_t = None\n",
        "best_result_t = 0\n",
        "best_depth_t = 0\n",
        "plt.figure(figsize=(10, 5))\n",
        "\n",
        "for depth in range(1,20):\n",
        "    model = DecisionTreeClassifier(random_state=12345, max_depth=depth)\n",
        "    model.fit(features_train,target_train)\n",
        "    predictions = model.predict(features_valid)\n",
        "    score = accuracy_score(target_valid, predictions)\n",
        "    depths.append(depth)\n",
        "    accuracy_t.append(score)\n",
        "    if score > best_result_t:\n",
        "      best_depth_t = depth\n",
        "      best_result_t = score\n",
        "      best_model_t = model\n",
        "    sns.lineplot(data=pd.DataFrame(data=accuracy_t, index=depths))\n",
        "    plt.legend('')\n",
        "plt.title(\"График обученных деревьев (модель Дерево Решений)\", fontsize=15) \n",
        "plt.ylabel(\"Качество\") \n",
        "plt.xlabel(\"Глубина\")\n",
        "plt.show()\n",
        "\n",
        "print(\"Accuracy наилучшей модели на валидационной выборке:\", best_result_t)\n",
        "print(\"Глубина:\", best_depth_t)"
      ],
      "execution_count": 10,
      "outputs": [
        {
          "output_type": "display_data",
          "data": {
            "image/png": "[encoded data removed]",
            "text/plain": [
              "<Figure size 720x360 with 1 Axes>"
            ]
          },
          "metadata": {}
        },
        {
          "output_type": "stream",
          "name": "stdout",
          "text": [
            "Accuracy наилучшей модели на валидационной выборке: 0.7833125778331258\n",
            "Глубина: 4\n"
          ]
        }
      ]
    },
    {
      "cell_type": "markdown",
      "metadata": {
        "id": "b2gTowxb6jvl"
      },
      "source": [
        "### Проверим модель Случайный лес:\n"
      ]
    },
    {
      "cell_type": "code",
      "metadata": {
        "colab": {
          "base_uri": "https://localhost:8080/",
          "height": 387
        },
        "id": "qWsZ0-x5Ccf2",
        "outputId": "a38b5ca8-3f7a-47aa-8e26-09e96523d0fb"
      },
      "source": [
        "best_model_f = None\n",
        "estimators = []\n",
        "accuracy_f = []\n",
        "best_est_f  = 0\n",
        "best_score_f  = 0\n",
        "plt.figure(figsize=(10, 5))\n",
        "\n",
        "for est in range(20,102,20):\n",
        "    model = RandomForestClassifier(random_state=12345, n_estimators=est)\n",
        "    model.fit(features_train, target_train)\n",
        "    predictions = model.predict(features_valid)\n",
        "    score = accuracy_score(target_valid, predictions)\n",
        "    estimators.append(est)\n",
        "    accuracy_f.append(score)\n",
        "    sns.lineplot(data=pd.DataFrame(data=accuracy_f, index=estimators))\n",
        "    plt.legend('')\n",
        "    if score > best_score_f :\n",
        "        best_model_f = model\n",
        "        best_score_f  = score\n",
        "        best_est_f  = est\n",
        "\n",
        "plt.title(\"График обученных деревьев (модель Случайный лес)\", fontsize=15) \n",
        "plt.ylabel(\"Качество\") \n",
        "plt.xlabel(\"Количество деревьев\")\n",
        "plt.show()\n",
        "print(\"Количество деревьев:\", best_est_f) \n",
        "print(\"Accuracy наилучшей модели на валидационной выборке:\", best_score_f)"
      ],
      "execution_count": 11,
      "outputs": [
        {
          "output_type": "display_data",
          "data": {
            "image/png": "[encoded data removed]",
            "text/plain": [
              "<Figure size 720x360 with 1 Axes>"
            ]
          },
          "metadata": {}
        },
        {
          "output_type": "stream",
          "name": "stdout",
          "text": [
            "Количество деревьев: 60\n",
            "Accuracy наилучшей модели на валидационной выборке: 0.788293897882939\n"
          ]
        }
      ]
    },
    {
      "cell_type": "markdown",
      "metadata": {
        "id": "XSOWLRfn6v5R"
      },
      "source": [
        "### Проверим модель Логистической регрессии:"
      ]
    },
    {
      "cell_type": "code",
      "metadata": {
        "colab": {
          "base_uri": "https://localhost:8080/"
        },
        "id": "sHlBocicCfT_",
        "outputId": "d230fded-8a63-4c46-8691-2e9bb8c872da"
      },
      "source": [
        "model = LogisticRegression(random_state=12345)\n",
        "model.fit(features_train,target_train) \n",
        "result_log = model.score(features_valid,target_valid)\n",
        "\n",
        "print(\"Accuracy модели логистической регрессии на валидационной выборке:\", result_log)"
      ],
      "execution_count": 12,
      "outputs": [
        {
          "output_type": "stream",
          "name": "stdout",
          "text": [
            "Accuracy модели логистической регрессии на валидационной выборке: 0.7210460772104608\n"
          ]
        }
      ]
    },
    {
      "cell_type": "markdown",
      "metadata": {
        "id": "DD03aqf4t2BA"
      },
      "source": [
        "\n",
        "### Вывод:\n"
      ]
    },
    {
      "cell_type": "markdown",
      "metadata": {
        "id": "zoJeQYAzzll8"
      },
      "source": [
        "\n",
        "Рассмотрены модели:\n",
        "- Ближайшие соседи\n",
        "- Дерево Решений\n",
        "- Случайный лес\n",
        "- Логистическая регрессия"
      ]
    },
    {
      "cell_type": "code",
      "metadata": {
        "colab": {
          "base_uri": "https://localhost:8080/",
          "height": 173
        },
        "id": "iIx4sKn-Chz2",
        "outputId": "5c9b3fa9-3c5a-4436-ca3a-2f03b19d0f6e"
      },
      "source": [
        " \n",
        " row= [\n",
        "    ['Ближайшие соседи', \" \", best_neighbors, best_result],\n",
        "    ['Дерево Решений', best_depth_t, \" \", best_result_t],\n",
        "    ['Случайный лес', \" \", best_est_f, best_score_f],\n",
        "    ['Логистическая регрессия', \" \", \" \", result_log],\n",
        "]\n",
        "\n",
        "\n",
        "data = pd.DataFrame( row, columns = ['Модель', 'Глубина','Деревья/соседи','Accuracy'])\n",
        "display(data)"
      ],
      "execution_count": 13,
      "outputs": [
        {
          "output_type": "display_data",
          "data": {
            "text/html": [
              "<div>\n",
              "<style scoped>\n",
              "    .dataframe tbody tr th:only-of-type {\n",
              "        vertical-align: middle;\n",
              "    }\n",
              "\n",
              "    .dataframe tbody tr th {\n",
              "        vertical-align: top;\n",
              "    }\n",
              "\n",
              "    .dataframe thead th {\n",
              "        text-align: right;\n",
              "    }\n",
              "</style>\n",
              "<table border=\"1\" class=\"dataframe\">\n",
              "  <thead>\n",
              "    <tr style=\"text-align: right;\">\n",
              "      <th></th>\n",
              "      <th>Модель</th>\n",
              "      <th>Глубина</th>\n",
              "      <th>Деревья/соседи</th>\n",
              "      <th>Accuracy</th>\n",
              "    </tr>\n",
              "  </thead>\n",
              "  <tbody>\n",
              "    <tr>\n",
              "      <th>0</th>\n",
              "      <td>Ближайшие соседи</td>\n",
              "      <td></td>\n",
              "      <td>4</td>\n",
              "      <td>0.743462</td>\n",
              "    </tr>\n",
              "    <tr>\n",
              "      <th>1</th>\n",
              "      <td>Дерево Решений</td>\n",
              "      <td>4</td>\n",
              "      <td></td>\n",
              "      <td>0.783313</td>\n",
              "    </tr>\n",
              "    <tr>\n",
              "      <th>2</th>\n",
              "      <td>Случайный лес</td>\n",
              "      <td></td>\n",
              "      <td>60</td>\n",
              "      <td>0.788294</td>\n",
              "    </tr>\n",
              "    <tr>\n",
              "      <th>3</th>\n",
              "      <td>Логистическая регрессия</td>\n",
              "      <td></td>\n",
              "      <td></td>\n",
              "      <td>0.721046</td>\n",
              "    </tr>\n",
              "  </tbody>\n",
              "</table>\n",
              "</div>"
            ],
            "text/plain": [
              "                    Модель Глубина Деревья/соседи  Accuracy\n",
              "0         Ближайшие соседи                      4  0.743462\n",
              "1           Дерево Решений       4                 0.783313\n",
              "2            Случайный лес                     60  0.788294\n",
              "3  Логистическая регрессия                         0.721046"
            ]
          },
          "metadata": {}
        }
      ]
    },
    {
      "cell_type": "markdown",
      "metadata": {
        "id": "veJ6Lpv6Cz7e"
      },
      "source": [
        "Выбраные модели (лучшие):\n",
        "- Случайный лес\n"
      ]
    },
    {
      "cell_type": "markdown",
      "metadata": {
        "id": "rLPOGUbStVch"
      },
      "source": [
        "## Проверим модели на тестовой выборке"
      ]
    },
    {
      "cell_type": "code",
      "metadata": {
        "colab": {
          "base_uri": "https://localhost:8080/"
        },
        "id": "Oa8EaDNOtVch",
        "outputId": "d2f8a1ab-887a-4424-8179-0002de72b054"
      },
      "source": [
        "model1 = RandomForestClassifier(random_state=12345, n_estimators=40, max_depth=11)\n",
        "model1.fit(features_train, target_train)\n",
        "predictions1 = model1.predict(features_test)\n",
        "score1 = accuracy_score(target_test, predictions1)\n",
        "print('Случайный лес - Accuracy:', score1)\n",
        "\n",
        "        "
      ],
      "execution_count": 14,
      "outputs": [
        {
          "output_type": "stream",
          "name": "stdout",
          "text": [
            "Случайный лес - Accuracy: 0.8246268656716418\n"
          ]
        }
      ]
    },
    {
      "cell_type": "markdown",
      "metadata": {
        "id": "Xvf2oSHGtVci"
      },
      "source": [
        "## (бонус) Проверьте модели на адекватность"
      ]
    },
    {
      "cell_type": "markdown",
      "metadata": {
        "id": "nCWzlS8M7MwK"
      },
      "source": [
        "Допустим, что наша модель **Случайный лес** по дефолту всегда выбирает противоположный тариф, то есть ошибается:"
      ]
    },
    {
      "cell_type": "code",
      "metadata": {
        "colab": {
          "base_uri": "https://localhost:8080/"
        },
        "id": "Q71-75JStVci",
        "outputId": "b09faf0b-e9a3-467a-a215-521711734103"
      },
      "source": [
        "\n",
        "df['is_ultra'].value_counts(normalize=True)"
      ],
      "execution_count": 15,
      "outputs": [
        {
          "output_type": "execute_result",
          "data": {
            "text/plain": [
              "0    0.693528\n",
              "1    0.306472\n",
              "Name: is_ultra, dtype: float64"
            ]
          },
          "metadata": {},
          "execution_count": 15
        }
      ]
    },
    {
      "cell_type": "markdown",
      "metadata": {
        "id": "p9JbgnQXC-ya"
      },
      "source": [
        "Значит пороговая \"тупая\" черта равна 69%. В нашем случае модель адекватна, так как набрала больше 80%, что говорит о отсутствии предсказаний случайным образом.\n",
        "\n",
        "Так же **Случайный лес в регресси** с такими же вводными - своим RMSE подтверждает нашу версию."
      ]
    },
    {
      "cell_type": "code",
      "metadata": {
        "colab": {
          "base_uri": "https://localhost:8080/"
        },
        "id": "00j9yFSJJWC5",
        "outputId": "3acdab58-3a5e-40a7-ec4f-e5ac397ebca9"
      },
      "source": [
        "from sklearn.dummy import DummyClassifier\n",
        "strategies = ['most_frequent']\n",
        "dummy_results = []\n",
        "for strategy in strategies:\n",
        "  dc = DummyClassifier(strategy = strategy, random_state = 42)\n",
        "  dc.fit(features_train, target_train)\n",
        "  result = dc.score(features_test, target_test)\n",
        "  dummy_results.append({strategy: result})\n",
        "  print('Neighbors:', dummy_results)"
      ],
      "execution_count": 16,
      "outputs": [
        {
          "output_type": "stream",
          "name": "stdout",
          "text": [
            "Neighbors: [{'most_frequent': 0.6853233830845771}]\n"
          ]
        }
      ]
    },
    {
      "cell_type": "markdown",
      "metadata": {
        "id": "2bND38qKLM3b"
      },
      "source": [
        "Похожее сравнение, как и доля нулей, которую мы взяли за основу при проверке \"на глаз\" адекватности нашей модели. И всё равно, даже при таком значении качества, наша модель показывает свою адекватность и будет полезна бизнесу."
      ]
    }
  ]
}