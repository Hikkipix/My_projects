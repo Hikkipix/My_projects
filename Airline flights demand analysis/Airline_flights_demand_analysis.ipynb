{
  "nbformat": 4,
  "nbformat_minor": 0,
  "metadata": {
    "ExecuteTimeLog": [
      {
        "duration": 7561,
        "start_time": "2021-11-06T19:08:08.666Z"
      },
      {
        "duration": 3,
        "start_time": "2021-11-06T19:08:16.229Z"
      },
      {
        "duration": 32927,
        "start_time": "2021-11-06T19:08:16.233Z"
      },
      {
        "duration": 9838,
        "start_time": "2021-11-06T19:08:49.163Z"
      },
      {
        "duration": 576,
        "start_time": "2021-11-06T19:08:59.003Z"
      },
      {
        "duration": 488,
        "start_time": "2021-11-06T19:08:59.581Z"
      },
      {
        "duration": 1021,
        "start_time": "2021-11-06T19:09:00.071Z"
      },
      {
        "duration": 327,
        "start_time": "2021-11-06T19:09:01.094Z"
      },
      {
        "duration": 82,
        "start_time": "2021-11-06T19:09:01.424Z"
      },
      {
        "duration": 5,
        "start_time": "2021-11-06T19:09:01.508Z"
      },
      {
        "duration": 2064,
        "start_time": "2021-11-06T19:09:01.515Z"
      },
      {
        "duration": 1109,
        "start_time": "2021-11-06T19:09:03.581Z"
      },
      {
        "duration": 434,
        "start_time": "2021-11-06T19:09:04.692Z"
      },
      {
        "duration": 403,
        "start_time": "2021-11-06T19:09:04.725Z"
      },
      {
        "duration": 401,
        "start_time": "2021-11-06T19:09:04.728Z"
      },
      {
        "duration": 399,
        "start_time": "2021-11-06T19:09:04.731Z"
      },
      {
        "duration": 397,
        "start_time": "2021-11-06T19:09:04.734Z"
      },
      {
        "duration": 394,
        "start_time": "2021-11-06T19:09:04.738Z"
      },
      {
        "duration": 391,
        "start_time": "2021-11-06T19:09:04.742Z"
      },
      {
        "duration": 389,
        "start_time": "2021-11-06T19:09:04.745Z"
      },
      {
        "duration": 381,
        "start_time": "2021-11-06T19:09:04.754Z"
      },
      {
        "duration": 379,
        "start_time": "2021-11-06T19:09:04.757Z"
      },
      {
        "duration": 262,
        "start_time": "2021-11-06T19:10:22.282Z"
      },
      {
        "duration": 253,
        "start_time": "2021-11-06T19:10:23.227Z"
      },
      {
        "duration": 240,
        "start_time": "2021-11-06T19:10:23.721Z"
      },
      {
        "duration": 260,
        "start_time": "2021-11-06T19:10:29.241Z"
      },
      {
        "duration": 249,
        "start_time": "2021-11-06T19:10:29.697Z"
      },
      {
        "duration": 271,
        "start_time": "2021-11-06T19:10:30.377Z"
      },
      {
        "duration": 236,
        "start_time": "2021-11-06T19:10:31.676Z"
      },
      {
        "duration": 449,
        "start_time": "2021-11-06T19:10:31.465Z"
      },
      {
        "duration": 256,
        "start_time": "2021-11-06T19:10:35.932Z"
      },
      {
        "duration": 5203,
        "start_time": "2021-11-07T06:24:28.425Z"
      },
      {
        "duration": 5,
        "start_time": "2021-11-07T06:24:40.291Z"
      },
      {
        "duration": 21767,
        "start_time": "2021-11-07T06:24:42.684Z"
      },
      {
        "duration": 9736,
        "start_time": "2021-11-07T06:25:04.454Z"
      },
      {
        "duration": 1069,
        "start_time": "2021-11-07T06:25:14.193Z"
      },
      {
        "duration": 450,
        "start_time": "2021-11-07T06:25:15.281Z"
      },
      {
        "duration": 1280,
        "start_time": "2021-11-07T06:25:15.733Z"
      },
      {
        "duration": 485,
        "start_time": "2021-11-07T06:25:17.015Z"
      },
      {
        "duration": 185,
        "start_time": "2021-11-07T06:25:17.503Z"
      },
      {
        "duration": 11,
        "start_time": "2021-11-07T06:25:17.692Z"
      },
      {
        "duration": 2989,
        "start_time": "2021-11-07T06:25:17.707Z"
      },
      {
        "duration": 1612,
        "start_time": "2021-11-07T06:25:20.698Z"
      },
      {
        "duration": 783,
        "start_time": "2021-11-07T06:25:22.313Z"
      },
      {
        "duration": 29,
        "start_time": "2021-11-07T06:26:01.095Z"
      },
      {
        "duration": 702,
        "start_time": "2021-11-07T06:26:02.882Z"
      },
      {
        "duration": 589,
        "start_time": "2021-11-07T06:26:05.287Z"
      },
      {
        "duration": 1566,
        "start_time": "2021-11-07T06:26:11.439Z"
      },
      {
        "duration": 398,
        "start_time": "2021-11-07T06:26:15.786Z"
      },
      {
        "duration": 11,
        "start_time": "2021-11-07T06:26:23.455Z"
      },
      {
        "duration": 2226,
        "start_time": "2021-11-07T06:26:25.575Z"
      },
      {
        "duration": 2820,
        "start_time": "2021-11-07T06:26:28.115Z"
      },
      {
        "duration": 378,
        "start_time": "2021-11-07T06:26:36.421Z"
      },
      {
        "duration": 667,
        "start_time": "2021-11-07T06:26:36.989Z"
      },
      {
        "duration": 14,
        "start_time": "2021-11-07T06:26:45.426Z"
      },
      {
        "duration": 5383,
        "start_time": "2021-11-07T11:49:27.837Z"
      },
      {
        "duration": 3,
        "start_time": "2021-11-07T11:49:33.223Z"
      },
      {
        "duration": 21540,
        "start_time": "2021-11-07T11:49:33.229Z"
      },
      {
        "duration": 9269,
        "start_time": "2021-11-07T11:49:54.773Z"
      },
      {
        "duration": 1102,
        "start_time": "2021-11-07T11:50:04.045Z"
      },
      {
        "duration": 782,
        "start_time": "2021-11-07T11:50:05.150Z"
      },
      {
        "duration": 1405,
        "start_time": "2021-11-07T11:50:05.935Z"
      },
      {
        "duration": 493,
        "start_time": "2021-11-07T11:50:07.344Z"
      },
      {
        "duration": 125,
        "start_time": "2021-11-07T11:50:07.842Z"
      },
      {
        "duration": 10,
        "start_time": "2021-11-07T11:50:08.030Z"
      },
      {
        "duration": 3202,
        "start_time": "2021-11-07T11:50:08.043Z"
      },
      {
        "duration": 1605,
        "start_time": "2021-11-07T11:50:11.247Z"
      },
      {
        "duration": 104,
        "start_time": "2021-11-07T11:50:12.854Z"
      },
      {
        "duration": 786,
        "start_time": "2021-11-07T11:50:12.960Z"
      },
      {
        "duration": 1492,
        "start_time": "2021-11-07T11:50:13.749Z"
      },
      {
        "duration": 818,
        "start_time": "2021-11-07T11:50:15.243Z"
      },
      {
        "duration": 68,
        "start_time": "2021-11-07T11:50:16.064Z"
      },
      {
        "duration": 2011,
        "start_time": "2021-11-07T11:50:16.135Z"
      },
      {
        "duration": 3353,
        "start_time": "2021-11-07T11:50:18.149Z"
      },
      {
        "duration": 358,
        "start_time": "2021-11-07T11:50:21.504Z"
      },
      {
        "duration": 635,
        "start_time": "2021-11-07T11:50:21.865Z"
      },
      {
        "duration": 28,
        "start_time": "2021-11-07T11:50:22.503Z"
      }
    ],
    "colab": {
      "name": "Airline flights demand analysis.ipynb",
      "provenance": [],
      "collapsed_sections": []
    },
    "kernelspec": {
      "display_name": "Python 3",
      "language": "python",
      "name": "python3"
    },
    "language_info": {
      "codemirror_mode": {
        "name": "ipython",
        "version": 3
      },
      "file_extension": ".py",
      "mimetype": "text/x-python",
      "name": "python",
      "nbconvert_exporter": "python",
      "pygments_lexer": "ipython3",
      "version": "3.7.8"
    },
    "toc": {
      "base_numbering": 1,
      "nav_menu": {},
      "number_sections": true,
      "sideBar": true,
      "skip_h1_title": true,
      "title_cell": "Содержание",
      "title_sidebar": "Contents",
      "toc_cell": true,
      "toc_position": {},
      "toc_section_display": true,
      "toc_window_display": false
    }
  },
  "cells": [
    {
      "cell_type": "markdown",
      "metadata": {
        "id": "5CBKj3kyQJ2I"
      },
      "source": [
        "## Загрузка библиотек и импорт данных"
      ]
    },
    {
      "cell_type": "markdown",
      "metadata": {
        "id": "jjgw1_tuQkw9"
      },
      "source": [
        "Загрузка библиотек"
      ]
    },
    {
      "cell_type": "code",
      "metadata": {
        "colab": {
          "base_uri": "https://localhost:8080/"
        },
        "id": "VdMrpNRLQj-3",
        "outputId": "d36d6b67-6011-40c1-e92d-d3f9cad3a74f"
      },
      "source": [
        "import pandas as pd\n",
        "import seaborn as sns\n",
        "import matplotlib.pyplot as plt\n",
        "import math\n",
        "from scipy import stats as st\n",
        "!pip install pyspark\n",
        "from pyspark.sql import SparkSession"
      ],
      "execution_count": null,
      "outputs": [
        {
          "name": "stdout",
          "output_type": "stream",
          "text": [
            "Defaulting to user installation because normal site-packages is not writeable\n",
            "Requirement already satisfied: pyspark in /opt/spark-2.4.8-bin-hadoop2.7/python (2.4.8)\n",
            "Requirement already satisfied: py4j==0.10.7 in /opt/conda/lib/python3.7/site-packages (from pyspark) (0.10.7)\n"
          ]
        }
      ]
    },
    {
      "cell_type": "markdown",
      "metadata": {
        "id": "RCQTEJ71ZOTG"
      },
      "source": [
        "Импорт таблиц средствами pyspark.sql"
      ]
    },
    {
      "cell_type": "code",
      "metadata": {
        "id": "GktmvReFSnkC"
      },
      "source": [
        "query_1 = \"query_1.csv\"\n",
        "query_3 = \"query_3.csv\""
      ],
      "execution_count": null,
      "outputs": []
    },
    {
      "cell_type": "code",
      "metadata": {
        "id": "QC_fpwTzTUOc"
      },
      "source": [
        "\n",
        "APP_NAME = \"DataFrames\"\n",
        "SPARK_URL = \"local[*]\"\n",
        "\n",
        "spark = SparkSession.builder.appName(APP_NAME) \\\n",
        "        .config('spark.ui.showConsoleProgress', 'false') \\\n",
        "        .getOrCreate()"
      ],
      "execution_count": null,
      "outputs": []
    },
    {
      "cell_type": "code",
      "metadata": {
        "id": "sTTOjYfJVrCm"
      },
      "source": [
        "df_1 = spark.read.load(query_1, \n",
        "                       format='csv', header='true', inferSchema='true')"
      ],
      "execution_count": null,
      "outputs": []
    },
    {
      "cell_type": "code",
      "metadata": {
        "id": "10q70oHbTYmE"
      },
      "source": [
        "df_2 = spark.read.load(query_3, \n",
        "                       format='csv', header='true', inferSchema='true')"
      ],
      "execution_count": null,
      "outputs": []
    },
    {
      "cell_type": "code",
      "metadata": {
        "id": "u0w7oHYBYUo2"
      },
      "source": [
        "df_1.registerTempTable('df_1')\n",
        "df_2.registerTempTable('df_2')"
      ],
      "execution_count": null,
      "outputs": []
    },
    {
      "cell_type": "markdown",
      "metadata": {
        "id": "Ewg0x0owZJcq"
      },
      "source": [
        "Проверка данных"
      ]
    },
    {
      "cell_type": "code",
      "metadata": {
        "colab": {
          "base_uri": "https://localhost:8080/"
        },
        "id": "-73_SPfmYQRT",
        "outputId": "4540aca5-077c-4cc2-9756-0dd41276238a"
      },
      "source": [
        "spark.sql('SELECT * FROM df_2').show()"
      ],
      "execution_count": null,
      "outputs": [
        {
          "name": "stdout",
          "output_type": "stream",
          "text": [
            "+-------------+------------------+\n",
            "|         city|   average_flights|\n",
            "+-------------+------------------+\n",
            "|       Абакан| 3.870967741935484|\n",
            "|      Анадырь|               1.0|\n",
            "|        Анапа| 2.161290322580645|\n",
            "|  Архангельск| 5.354838709677419|\n",
            "|    Астрахань|2.4516129032258065|\n",
            "|      Барнаул|2.6129032258064515|\n",
            "|     Белгород|               6.0|\n",
            "|   Белоярский|               2.0|\n",
            "| Благовещенск|               1.0|\n",
            "|       Братск|               1.0|\n",
            "|       Брянск|              10.0|\n",
            "|     Бугульма|               3.0|\n",
            "|  Владивосток|               3.0|\n",
            "|  Владикавказ|               2.0|\n",
            "|    Волгоград| 5.129032258064516|\n",
            "|      Воркута| 4.580645161290323|\n",
            "|      Воронеж|               2.0|\n",
            "|    Геленджик| 2.590909090909091|\n",
            "|Горно-Алтайск|1.3870967741935485|\n",
            "|      Грозный| 1.129032258064516|\n",
            "+-------------+------------------+\n",
            "only showing top 20 rows\n",
            "\n"
          ]
        }
      ]
    },
    {
      "cell_type": "code",
      "metadata": {
        "colab": {
          "base_uri": "https://localhost:8080/"
        },
        "id": "RxtTK3lnZgGY",
        "outputId": "46705a04-404f-4bef-abb9-fd59dbad3692"
      },
      "source": [
        "spark.sql('SELECT * FROM df_1').show()"
      ],
      "execution_count": null,
      "outputs": [
        {
          "name": "stdout",
          "output_type": "stream",
          "text": [
            "+-------------------+--------------+\n",
            "|              model|flights_amount|\n",
            "+-------------------+--------------+\n",
            "|    Airbus A319-100|           607|\n",
            "|    Airbus A321-200|           960|\n",
            "|     Boeing 737-300|           630|\n",
            "|     Boeing 767-300|           600|\n",
            "|     Boeing 777-300|           300|\n",
            "| Bombardier CRJ-200|          4446|\n",
            "| Cessna 208 Caravan|          4557|\n",
            "|Sukhoi SuperJet-100|          4185|\n",
            "+-------------------+--------------+\n",
            "\n"
          ]
        }
      ]
    },
    {
      "cell_type": "markdown",
      "metadata": {
        "id": "D5p4wgleZH5m"
      },
      "source": [
        "Проверка типов данных\n"
      ]
    },
    {
      "cell_type": "code",
      "metadata": {
        "colab": {
          "base_uri": "https://localhost:8080/"
        },
        "id": "p30WFqYZY_C5",
        "outputId": "f25adaa6-99e0-4333-80b9-b637d88f033b"
      },
      "source": [
        "df_1\n"
      ],
      "execution_count": null,
      "outputs": [
        {
          "data": {
            "text/plain": [
              "DataFrame[model: string, flights_amount: int]"
            ]
          },
          "execution_count": 9,
          "metadata": {},
          "output_type": "execute_result"
        }
      ]
    },
    {
      "cell_type": "code",
      "metadata": {
        "colab": {
          "base_uri": "https://localhost:8080/"
        },
        "id": "XbGHHYyDZiJb",
        "outputId": "e8f7dc50-9174-4a9b-f6ac-c7d4e1455d44"
      },
      "source": [
        "df_2"
      ],
      "execution_count": null,
      "outputs": [
        {
          "data": {
            "text/plain": [
              "DataFrame[city: string, average_flights: double]"
            ]
          },
          "execution_count": 10,
          "metadata": {},
          "output_type": "execute_result"
        }
      ]
    },
    {
      "cell_type": "markdown",
      "metadata": {
        "id": "f2aKzeZSZ4Y8"
      },
      "source": [
        "Посмотрим на статистику"
      ]
    },
    {
      "cell_type": "code",
      "metadata": {
        "colab": {
          "base_uri": "https://localhost:8080/"
        },
        "id": "ySG_Gf9fZ8PW",
        "outputId": "1e3d71b2-57f1-4bdc-d647-30fa34c2b9a6"
      },
      "source": [
        "print(df_1.summary().show()) "
      ],
      "execution_count": null,
      "outputs": [
        {
          "name": "stdout",
          "output_type": "stream",
          "text": [
            "+-------+-------------------+------------------+\n",
            "|summary|              model|    flights_amount|\n",
            "+-------+-------------------+------------------+\n",
            "|  count|                  8|                 8|\n",
            "|   mean|               null|          2035.625|\n",
            "| stddev|               null|1965.2039470679445|\n",
            "|    min|    Airbus A319-100|               300|\n",
            "|    25%|               null|               600|\n",
            "|    50%|               null|               630|\n",
            "|    75%|               null|              4185|\n",
            "|    max|Sukhoi SuperJet-100|              4557|\n",
            "+-------+-------------------+------------------+\n",
            "\n",
            "None\n"
          ]
        }
      ]
    },
    {
      "cell_type": "code",
      "metadata": {
        "colab": {
          "base_uri": "https://localhost:8080/"
        },
        "id": "UdWtMl6YZ9NI",
        "outputId": "d574cdb3-337d-4483-fa2b-a054e06f5810"
      },
      "source": [
        "print(df_2.summary().show()) "
      ],
      "execution_count": null,
      "outputs": [
        {
          "name": "stdout",
          "output_type": "stream",
          "text": [
            "+-------+---------+-----------------+\n",
            "|summary|     city|  average_flights|\n",
            "+-------+---------+-----------------+\n",
            "|  count|      101|              101|\n",
            "|   mean|     null|5.494189113891766|\n",
            "| stddev|     null|13.11979040852178|\n",
            "|    min|   Абакан|              1.0|\n",
            "|    25%|     null|              2.0|\n",
            "|    50%|     null|              3.0|\n",
            "|    75%|     null|5.870967741935484|\n",
            "|    max|Ярославль|129.7741935483871|\n",
            "+-------+---------+-----------------+\n",
            "\n",
            "None\n"
          ]
        }
      ]
    },
    {
      "cell_type": "markdown",
      "metadata": {
        "id": "DLzp7ba0YpaE"
      },
      "source": [
        "### Вывод\n",
        "\n",
        "\n",
        "Данные успешно загружены и изучены средствами библиотеки pyspark.sql.\n",
        "\n",
        "Тип данных: в первой таблице данные о количестве рейсов в целых, во второй – в вещественных\n",
        "\n",
        "Статистика: видим, что отклонение по числу среднего количества рейсов - 13.1 так же разбежка от максимального до минимального существенна от 1  до 129. Посмотрим на графиках детальнее, но уже на лицо зависимость от проходимости/размера городов\n"
      ]
    },
    {
      "cell_type": "markdown",
      "metadata": {
        "id": "SvZjdUp1PpQx"
      },
      "source": [
        "## Аналитика"
      ]
    },
    {
      "cell_type": "markdown",
      "metadata": {
        "id": "-tsVJjH3eoMO"
      },
      "source": [
        "Выберем топ-10 городов по количеству рейсов"
      ]
    },
    {
      "cell_type": "code",
      "metadata": {
        "id": "gPB4vpRYb8o4"
      },
      "source": [
        "city_top = spark.sql('SELECT * FROM df_2 ORDER BY average_flights DESC LIMIT 10')"
      ],
      "execution_count": null,
      "outputs": []
    },
    {
      "cell_type": "code",
      "metadata": {
        "colab": {
          "base_uri": "https://localhost:8080/"
        },
        "id": "fs82qcRAemDw",
        "outputId": "99182370-9de0-459e-cf39-97eb42b3ce70"
      },
      "source": [
        "city_top.show()\n"
      ],
      "execution_count": null,
      "outputs": [
        {
          "name": "stdout",
          "output_type": "stream",
          "text": [
            "+---------------+------------------+\n",
            "|           city|   average_flights|\n",
            "+---------------+------------------+\n",
            "|         Москва| 129.7741935483871|\n",
            "|Санкт-Петербург|31.161290322580644|\n",
            "|    Новосибирск|17.322580645161292|\n",
            "|     Красноярск|11.580645161290322|\n",
            "|   Екатеринбург| 11.32258064516129|\n",
            "| Ростов-на-Дону|10.193548387096774|\n",
            "|          Пермь|10.129032258064516|\n",
            "|         Брянск|              10.0|\n",
            "|           Сочи| 9.612903225806452|\n",
            "|      Ульяновск| 9.580645161290322|\n",
            "+---------------+------------------+\n",
            "\n"
          ]
        }
      ]
    },
    {
      "cell_type": "markdown",
      "metadata": {
        "id": "qqOUZJ3PoZAG"
      },
      "source": [
        "Построение графика «Модели самолётов и количество рейсов»"
      ]
    },
    {
      "cell_type": "code",
      "metadata": {
        "id": "eY6B9i38dwc-"
      },
      "source": [
        "model_fl = spark.sql('SELECT * FROM df_1 ORDER BY flights_amount DESC')\n",
        "frame_model_fl = model_fl.toPandas()"
      ],
      "execution_count": null,
      "outputs": []
    },
    {
      "cell_type": "code",
      "metadata": {
        "colab": {
          "base_uri": "https://localhost:8080/",
          "height": 350
        },
        "id": "l5eoPDKbd3HC",
        "outputId": "f8ef3e04-9061-4ecf-883a-142371056e31"
      },
      "source": [
        "plt.figure(figsize=(17,5))\n",
        "sns.barplot(x='model',y='flights_amount', data = frame_model_fl).set_title('Популярные модели');"
      ],
      "execution_count": null,
      "outputs": [
        {
          "data": {
            "image/png": "[encoded data removed]",
            "text/plain": [
              "<Figure size 1224x360 with 1 Axes>"
            ]
          },
          "metadata": {
            "needs_background": "light"
          },
          "output_type": "display_data"
        }
      ]
    },
    {
      "cell_type": "markdown",
      "metadata": {
        "id": "FE29d9bseFg1"
      },
      "source": [
        "\n",
        "Без дополнительных вводных, затруднительно анализировать график, просто не понятно, почему корабли Cessna, Bombardier, Sukhoi пробились в тройку лидеров, и вообще, отчего такое распределение. Следует взять общий для всех моделей параметр, по которыму можно пристреляться и оценить возможную причину:\n",
        "\n",
        "Вместимость:\n",
        "- Boeing 777-300 вместимость 450 человек\n",
        "- Boeing 767-300 вместимость 336 человек\n",
        "- Airbus A319-100 вместимость 156 человек\n",
        "- Boeing 737-300 вместимость 149 человек\n",
        "- Airbus A321-200 220 человек\n",
        "- Sukhoi SuperJet-100 98 человек\n",
        "- Bombardier CRJ-200 50 человек\n",
        "- Cessna 208 Caravan вместимость 14 человек\n",
        "\n",
        "\n",
        "Приведённые параметры взяты из открытых источников и выходят за рамки имеющихся данных. Но хороший аналитик должен смотреть вглубь и до конца, если гипотеза не сформирована = нет движения.\n",
        "\n",
        "Приняв во внимание доп. параметр самолётов можно сделать вывод, что:\n",
        "\n",
        "Топ самолёты, которые расчитаны на небольшое число людей, в условиях большой территории и малых городов отлично подходят и раскупаются авиаоператорами как раз для эффективной работы. К тому же, они дешевле в обслуживании. Более крупные модели летают в основном из больших городов, где потоки больше, как говорится редко но метко."
      ]
    },
    {
      "cell_type": "markdown",
      "metadata": {
        "id": "kB6Df_fooEOU"
      },
      "source": [
        "Построение графика «Города и количество рейсов»"
      ]
    },
    {
      "cell_type": "code",
      "metadata": {
        "id": "P9zVyxokghGu"
      },
      "source": [
        "city_av_fl = spark.sql('SELECT * FROM df_2 ORDER BY average_flights DESC')"
      ],
      "execution_count": null,
      "outputs": []
    },
    {
      "cell_type": "code",
      "metadata": {
        "id": "oiGG9jAXb9fN"
      },
      "source": [
        "frame_city = city_av_fl.toPandas()"
      ],
      "execution_count": null,
      "outputs": []
    },
    {
      "cell_type": "code",
      "metadata": {
        "colab": {
          "base_uri": "https://localhost:8080/",
          "height": 1000
        },
        "id": "C-APcYcWb9q9",
        "outputId": "6e5393f0-591c-44c6-a39b-4339fb7995fb"
      },
      "source": [
        "plt.figure(figsize=(12,20))\n",
        "sns.barplot(x='average_flights',y='city', data = frame_city).set_title('Города и количество рейсов')"
      ],
      "execution_count": null,
      "outputs": [
        {
          "data": {
            "text/plain": [
              "Text(0.5, 1.0, 'Города и количество рейсов')"
            ]
          },
          "execution_count": 19,
          "metadata": {},
          "output_type": "execute_result"
        },
        {
          "data": {
            "image/png": "[encoded data removed]",
            "text/plain": [
              "<Figure size 864x1440 with 1 Axes>"
            ]
          },
          "metadata": {
            "needs_background": "light"
          },
          "output_type": "display_data"
        }
      ]
    },
    {
      "cell_type": "markdown",
      "metadata": {
        "id": "Bpq8TM2EiRb1"
      },
      "source": [
        "Для точной расстановки приоритетов в полётах, данных недостаточно, так как сезонность играет роль в том числе и некоторые города по числу рейсов могут меняться от месяца к месяцу, на таких статичных данных можно только увидеть, что как и ранее утверждали – чем западнеее и крупнее город – тем больше покупается билетов = совершается рейсов."
      ]
    },
    {
      "cell_type": "markdown",
      "metadata": {
        "id": "3DRJ_SdZfO4P"
      },
      "source": [
        "Построение графика «Топ-10 городов и количество рейсов»\n",
        "\n",
        "\n",
        "\n"
      ]
    },
    {
      "cell_type": "code",
      "metadata": {
        "id": "7Hk5nTW2b9HD"
      },
      "source": [
        "frame_city_top = city_top.toPandas()"
      ],
      "execution_count": null,
      "outputs": []
    },
    {
      "cell_type": "code",
      "metadata": {
        "colab": {
          "base_uri": "https://localhost:8080/",
          "height": 458
        },
        "id": "O6teh2qjb9TG",
        "outputId": "e2c2b804-ff01-4225-a62f-7f8d68c6be3c"
      },
      "source": [
        "plt.figure(figsize=(13,7))\n",
        "sns.barplot(x='city',y='average_flights', data = frame_city_top).set_title('Топ 10 городов')"
      ],
      "execution_count": null,
      "outputs": [
        {
          "data": {
            "text/plain": [
              "Text(0.5, 1.0, 'Топ 10 городов')"
            ]
          },
          "execution_count": 21,
          "metadata": {},
          "output_type": "execute_result"
        },
        {
          "data": {
            "image/png": "[encoded data removed]",
            "text/plain": [
              "<Figure size 936x504 with 1 Axes>"
            ]
          },
          "metadata": {
            "needs_background": "light"
          },
          "output_type": "display_data"
        }
      ]
    },
    {
      "cell_type": "markdown",
      "metadata": {
        "id": "aSA0uSo8dpir"
      },
      "source": [
        "Как предугадали ранее, среднее зависит от размера города и потока людей, тут ничего удивительного от Москвы и Санкт-Петербурга по нисходящей далее."
      ]
    },
    {
      "cell_type": "markdown",
      "metadata": {
        "id": "HQ0ZrvLxegGU"
      },
      "source": [
        "## ОБЩИЙ ВЫВОД"
      ]
    },
    {
      "cell_type": "markdown",
      "metadata": {
        "id": "_MQluOaBekBs"
      },
      "source": [
        "Мы загрузили данные с помощью изученной библиотеки pyspark.sql, отработали её инструменты и научились передавать данные через запросы в датафрейм для построения графиков."
      ]
    },
    {
      "cell_type": "markdown",
      "metadata": {
        "id": "jQU_bVtajzSt"
      },
      "source": [
        "По результату аналитики:"
      ]
    },
    {
      "cell_type": "markdown",
      "metadata": {
        "id": "yrOVIr3KlW6m"
      },
      "source": [
        "График популярности моделей: в условиях больших территорий и большого числа мелких городов, потребность в экономных и компактных моделях отразилась на парке самолётов компании. А другие и не нужны в этой нише."
      ]
    },
    {
      "cell_type": "markdown",
      "metadata": {
        "id": "bnzW4DPSkMq9"
      },
      "source": [
        "График со всеми городами: на лицо факт \n",
        "- что билеты покупают в туристических городах не так активно в сентябре, продажи идут на спад, хотя сезон не окончен, но сезон отпусков у большинства людей завершён. Например в сравнении по схожему числу населения – Усть-илимск обогнал Геленджик.\n",
        "- билеты всегда активнее покупают в более западные и крупные города."
      ]
    },
    {
      "cell_type": "markdown",
      "metadata": {
        "id": "UXWKUXRVj16X"
      },
      "source": [
        "Таблица - Топ 10 городов"
      ]
    },
    {
      "cell_type": "code",
      "metadata": {
        "colab": {
          "base_uri": "https://localhost:8080/",
          "height": 359
        },
        "id": "_V1w3bjKj4wn",
        "outputId": "04724b90-63b4-4371-fcf7-9db7e4d63f00"
      },
      "source": [
        "frame_city_top = frame_city_top.rename(columns= {'city': 'Город','average_flights': 'Среднее количество рейсов'})\n",
        "frame_city_top"
      ],
      "execution_count": null,
      "outputs": [
        {
          "data": {
            "text/html": [
              "<div>\n",
              "<style scoped>\n",
              "    .dataframe tbody tr th:only-of-type {\n",
              "        vertical-align: middle;\n",
              "    }\n",
              "\n",
              "    .dataframe tbody tr th {\n",
              "        vertical-align: top;\n",
              "    }\n",
              "\n",
              "    .dataframe thead th {\n",
              "        text-align: right;\n",
              "    }\n",
              "</style>\n",
              "<table border=\"1\" class=\"dataframe\">\n",
              "  <thead>\n",
              "    <tr style=\"text-align: right;\">\n",
              "      <th></th>\n",
              "      <th>Город</th>\n",
              "      <th>Среднее количество рейсов</th>\n",
              "    </tr>\n",
              "  </thead>\n",
              "  <tbody>\n",
              "    <tr>\n",
              "      <td>0</td>\n",
              "      <td>Москва</td>\n",
              "      <td>129.774194</td>\n",
              "    </tr>\n",
              "    <tr>\n",
              "      <td>1</td>\n",
              "      <td>Санкт-Петербург</td>\n",
              "      <td>31.161290</td>\n",
              "    </tr>\n",
              "    <tr>\n",
              "      <td>2</td>\n",
              "      <td>Новосибирск</td>\n",
              "      <td>17.322581</td>\n",
              "    </tr>\n",
              "    <tr>\n",
              "      <td>3</td>\n",
              "      <td>Красноярск</td>\n",
              "      <td>11.580645</td>\n",
              "    </tr>\n",
              "    <tr>\n",
              "      <td>4</td>\n",
              "      <td>Екатеринбург</td>\n",
              "      <td>11.322581</td>\n",
              "    </tr>\n",
              "    <tr>\n",
              "      <td>5</td>\n",
              "      <td>Ростов-на-Дону</td>\n",
              "      <td>10.193548</td>\n",
              "    </tr>\n",
              "    <tr>\n",
              "      <td>6</td>\n",
              "      <td>Пермь</td>\n",
              "      <td>10.129032</td>\n",
              "    </tr>\n",
              "    <tr>\n",
              "      <td>7</td>\n",
              "      <td>Брянск</td>\n",
              "      <td>10.000000</td>\n",
              "    </tr>\n",
              "    <tr>\n",
              "      <td>8</td>\n",
              "      <td>Сочи</td>\n",
              "      <td>9.612903</td>\n",
              "    </tr>\n",
              "    <tr>\n",
              "      <td>9</td>\n",
              "      <td>Ульяновск</td>\n",
              "      <td>9.580645</td>\n",
              "    </tr>\n",
              "  </tbody>\n",
              "</table>\n",
              "</div>"
            ],
            "text/plain": [
              "             Город  Среднее количество рейсов\n",
              "0           Москва                 129.774194\n",
              "1  Санкт-Петербург                  31.161290\n",
              "2      Новосибирск                  17.322581\n",
              "3       Красноярск                  11.580645\n",
              "4     Екатеринбург                  11.322581\n",
              "5   Ростов-на-Дону                  10.193548\n",
              "6            Пермь                  10.129032\n",
              "7           Брянск                  10.000000\n",
              "8             Сочи                   9.612903\n",
              "9        Ульяновск                   9.580645"
            ]
          },
          "execution_count": 22,
          "metadata": {},
          "output_type": "execute_result"
        }
      ]
    }
  ]
}