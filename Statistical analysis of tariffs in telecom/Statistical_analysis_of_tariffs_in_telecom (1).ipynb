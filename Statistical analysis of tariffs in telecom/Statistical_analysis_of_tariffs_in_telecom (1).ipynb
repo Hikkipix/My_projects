{
  "nbformat": 4,
  "nbformat_minor": 0,
  "metadata": {
    "colab": {
      "name": "Statistical analysis of tariffs in telecom.ipynb",
      "provenance": [],
      "collapsed_sections": []
    },
    "kernelspec": {
      "display_name": "Python 3",
      "language": "python",
      "name": "python3"
    },
    "language_info": {
      "codemirror_mode": {
        "name": "ipython",
        "version": 3
      },
      "file_extension": ".py",
      "mimetype": "text/x-python",
      "name": "python",
      "nbconvert_exporter": "python",
      "pygments_lexer": "ipython3",
      "version": "3.7.8"
    },
    "toc": {
      "base_numbering": 1,
      "nav_menu": {},
      "number_sections": true,
      "sideBar": true,
      "skip_h1_title": true,
      "title_cell": "Table of Contents",
      "title_sidebar": "Contents",
      "toc_cell": false,
      "toc_position": {},
      "toc_section_display": true,
      "toc_window_display": false
    }
  },
  "cells": [
    {
      "cell_type": "markdown",
      "metadata": {
        "id": "khYIsIzanI6H"
      },
      "source": [
        "# Изучим общую информацию\n"
      ]
    },
    {
      "cell_type": "markdown",
      "metadata": {
        "id": "oZwkbTi7nI6I"
      },
      "source": [
        "#### Экспорт данных и библиотек"
      ]
    },
    {
      "cell_type": "code",
      "metadata": {
        "id": "BxMwRcBpnI6F"
      },
      "source": [
        "import pandas as pd\n",
        "import numpy as np\n",
        "import matplotlib.pyplot as plt\n",
        "import seaborn as sns\n",
        "import plotly.express as px\n",
        "from datetime import datetime\n",
        "from scipy import stats as st"
      ],
      "execution_count": 1,
      "outputs": []
    },
    {
      "cell_type": "code",
      "metadata": {
        "id": "7veaQuJSnI6I"
      },
      "source": [
        "users = pd.read_csv('users.csv')\n",
        "calls = pd.read_csv('calls.csv')\n",
        "messages = pd.read_csv('messages.csv')\n",
        "internet = pd.read_csv('internet.csv')\n",
        "tariffs = pd.read_csv('tariffs.csv')"
      ],
      "execution_count": 2,
      "outputs": []
    },
    {
      "cell_type": "markdown",
      "metadata": {
        "id": "cQaoAIPknI6P"
      },
      "source": [
        "\n",
        "#### Обзор датафрейма **calls**\n"
      ]
    },
    {
      "cell_type": "code",
      "metadata": {
        "colab": {
          "base_uri": "https://localhost:8080/"
        },
        "id": "vxCHx_EwnI6P",
        "outputId": "24697d9f-f8f2-4164-9911-81d648f9df05"
      },
      "source": [
        "calls.info()"
      ],
      "execution_count": 3,
      "outputs": [
        {
          "output_type": "stream",
          "name": "stdout",
          "text": [
            "<class 'pandas.core.frame.DataFrame'>\n",
            "RangeIndex: 202607 entries, 0 to 202606\n",
            "Data columns (total 4 columns):\n",
            " #   Column     Non-Null Count   Dtype  \n",
            "---  ------     --------------   -----  \n",
            " 0   id         202607 non-null  object \n",
            " 1   call_date  202607 non-null  object \n",
            " 2   duration   202607 non-null  float64\n",
            " 3   user_id    202607 non-null  int64  \n",
            "dtypes: float64(1), int64(1), object(2)\n",
            "memory usage: 6.2+ MB\n"
          ]
        }
      ]
    },
    {
      "cell_type": "markdown",
      "metadata": {
        "id": "2yXh4sbt36z8"
      },
      "source": [
        "Всего в таблице 4 столбца которые которые показывают информацию по 202607 звонкам. Далее приведём столбец call_date к типу datetime.\n"
      ]
    },
    {
      "cell_type": "code",
      "metadata": {
        "colab": {
          "base_uri": "https://localhost:8080/",
          "height": 670
        },
        "id": "9BiTRZQGnI6P",
        "outputId": "1c7cc0dc-1e63-4dd6-991b-092686283a7e"
      },
      "source": [
        "calls.sample(20)"
      ],
      "execution_count": 4,
      "outputs": [
        {
          "output_type": "execute_result",
          "data": {
            "text/html": [
              "<div>\n",
              "<style scoped>\n",
              "    .dataframe tbody tr th:only-of-type {\n",
              "        vertical-align: middle;\n",
              "    }\n",
              "\n",
              "    .dataframe tbody tr th {\n",
              "        vertical-align: top;\n",
              "    }\n",
              "\n",
              "    .dataframe thead th {\n",
              "        text-align: right;\n",
              "    }\n",
              "</style>\n",
              "<table border=\"1\" class=\"dataframe\">\n",
              "  <thead>\n",
              "    <tr style=\"text-align: right;\">\n",
              "      <th></th>\n",
              "      <th>id</th>\n",
              "      <th>call_date</th>\n",
              "      <th>duration</th>\n",
              "      <th>user_id</th>\n",
              "    </tr>\n",
              "  </thead>\n",
              "  <tbody>\n",
              "    <tr>\n",
              "      <th>193600</th>\n",
              "      <td>1475_269</td>\n",
              "      <td>2018-05-12</td>\n",
              "      <td>14.12</td>\n",
              "      <td>1475</td>\n",
              "    </tr>\n",
              "    <tr>\n",
              "      <th>144589</th>\n",
              "      <td>1364_301</td>\n",
              "      <td>2018-10-03</td>\n",
              "      <td>0.00</td>\n",
              "      <td>1364</td>\n",
              "    </tr>\n",
              "    <tr>\n",
              "      <th>92214</th>\n",
              "      <td>1229_50</td>\n",
              "      <td>2018-12-12</td>\n",
              "      <td>12.51</td>\n",
              "      <td>1229</td>\n",
              "    </tr>\n",
              "    <tr>\n",
              "      <th>143705</th>\n",
              "      <td>1363_617</td>\n",
              "      <td>2018-11-29</td>\n",
              "      <td>5.50</td>\n",
              "      <td>1363</td>\n",
              "    </tr>\n",
              "    <tr>\n",
              "      <th>46189</th>\n",
              "      <td>1115_291</td>\n",
              "      <td>2018-07-28</td>\n",
              "      <td>14.04</td>\n",
              "      <td>1115</td>\n",
              "    </tr>\n",
              "    <tr>\n",
              "      <th>112507</th>\n",
              "      <td>1289_365</td>\n",
              "      <td>2018-09-29</td>\n",
              "      <td>2.85</td>\n",
              "      <td>1289</td>\n",
              "    </tr>\n",
              "    <tr>\n",
              "      <th>57746</th>\n",
              "      <td>1145_577</td>\n",
              "      <td>2018-08-23</td>\n",
              "      <td>13.54</td>\n",
              "      <td>1145</td>\n",
              "    </tr>\n",
              "    <tr>\n",
              "      <th>89491</th>\n",
              "      <td>1224_408</td>\n",
              "      <td>2018-12-23</td>\n",
              "      <td>1.40</td>\n",
              "      <td>1224</td>\n",
              "    </tr>\n",
              "    <tr>\n",
              "      <th>11773</th>\n",
              "      <td>1030_306</td>\n",
              "      <td>2018-09-01</td>\n",
              "      <td>9.48</td>\n",
              "      <td>1030</td>\n",
              "    </tr>\n",
              "    <tr>\n",
              "      <th>73521</th>\n",
              "      <td>1185_315</td>\n",
              "      <td>2018-12-14</td>\n",
              "      <td>15.22</td>\n",
              "      <td>1185</td>\n",
              "    </tr>\n",
              "    <tr>\n",
              "      <th>99403</th>\n",
              "      <td>1253_3</td>\n",
              "      <td>2018-12-27</td>\n",
              "      <td>0.38</td>\n",
              "      <td>1253</td>\n",
              "    </tr>\n",
              "    <tr>\n",
              "      <th>78582</th>\n",
              "      <td>1196_814</td>\n",
              "      <td>2018-11-13</td>\n",
              "      <td>16.50</td>\n",
              "      <td>1196</td>\n",
              "    </tr>\n",
              "    <tr>\n",
              "      <th>140929</th>\n",
              "      <td>1358_691</td>\n",
              "      <td>2018-11-09</td>\n",
              "      <td>9.07</td>\n",
              "      <td>1358</td>\n",
              "    </tr>\n",
              "    <tr>\n",
              "      <th>166215</th>\n",
              "      <td>1409_840</td>\n",
              "      <td>2018-09-19</td>\n",
              "      <td>0.91</td>\n",
              "      <td>1409</td>\n",
              "    </tr>\n",
              "    <tr>\n",
              "      <th>138644</th>\n",
              "      <td>1354_52</td>\n",
              "      <td>2018-12-24</td>\n",
              "      <td>5.62</td>\n",
              "      <td>1354</td>\n",
              "    </tr>\n",
              "    <tr>\n",
              "      <th>21115</th>\n",
              "      <td>1055_608</td>\n",
              "      <td>2018-08-18</td>\n",
              "      <td>9.29</td>\n",
              "      <td>1055</td>\n",
              "    </tr>\n",
              "    <tr>\n",
              "      <th>154582</th>\n",
              "      <td>1382_365</td>\n",
              "      <td>2018-05-27</td>\n",
              "      <td>2.79</td>\n",
              "      <td>1382</td>\n",
              "    </tr>\n",
              "    <tr>\n",
              "      <th>97678</th>\n",
              "      <td>1248_521</td>\n",
              "      <td>2018-08-05</td>\n",
              "      <td>24.02</td>\n",
              "      <td>1248</td>\n",
              "    </tr>\n",
              "    <tr>\n",
              "      <th>152663</th>\n",
              "      <td>1380_298</td>\n",
              "      <td>2018-09-21</td>\n",
              "      <td>1.10</td>\n",
              "      <td>1380</td>\n",
              "    </tr>\n",
              "    <tr>\n",
              "      <th>8313</th>\n",
              "      <td>1021_781</td>\n",
              "      <td>2018-05-28</td>\n",
              "      <td>9.41</td>\n",
              "      <td>1021</td>\n",
              "    </tr>\n",
              "  </tbody>\n",
              "</table>\n",
              "</div>"
            ],
            "text/plain": [
              "              id   call_date  duration  user_id\n",
              "193600  1475_269  2018-05-12     14.12     1475\n",
              "144589  1364_301  2018-10-03      0.00     1364\n",
              "92214    1229_50  2018-12-12     12.51     1229\n",
              "143705  1363_617  2018-11-29      5.50     1363\n",
              "46189   1115_291  2018-07-28     14.04     1115\n",
              "112507  1289_365  2018-09-29      2.85     1289\n",
              "57746   1145_577  2018-08-23     13.54     1145\n",
              "89491   1224_408  2018-12-23      1.40     1224\n",
              "11773   1030_306  2018-09-01      9.48     1030\n",
              "73521   1185_315  2018-12-14     15.22     1185\n",
              "99403     1253_3  2018-12-27      0.38     1253\n",
              "78582   1196_814  2018-11-13     16.50     1196\n",
              "140929  1358_691  2018-11-09      9.07     1358\n",
              "166215  1409_840  2018-09-19      0.91     1409\n",
              "138644   1354_52  2018-12-24      5.62     1354\n",
              "21115   1055_608  2018-08-18      9.29     1055\n",
              "154582  1382_365  2018-05-27      2.79     1382\n",
              "97678   1248_521  2018-08-05     24.02     1248\n",
              "152663  1380_298  2018-09-21      1.10     1380\n",
              "8313    1021_781  2018-05-28      9.41     1021"
            ]
          },
          "metadata": {},
          "execution_count": 4
        }
      ]
    },
    {
      "cell_type": "markdown",
      "metadata": {
        "id": "ckHcyxeC6JFI"
      },
      "source": [
        "\n",
        "Бросаются в глаза звонки с нулевой длительностью и дробные. Возможно это недозвоны и звонки, которые по правилам компании не округлили до одной минуты"
      ]
    },
    {
      "cell_type": "markdown",
      "metadata": {
        "id": "xYSedwbcnI6R"
      },
      "source": [
        "Посмотрим на срез таких звонков в промежутке до 1 минуты"
      ]
    },
    {
      "cell_type": "code",
      "metadata": {
        "colab": {
          "base_uri": "https://localhost:8080/",
          "height": 420
        },
        "id": "Vk7ft6v9nI6R",
        "outputId": "b9f97aee-a586-4036-aafa-989aca5c61c0"
      },
      "source": [
        "calls.query('duration < 1')"
      ],
      "execution_count": 5,
      "outputs": [
        {
          "output_type": "execute_result",
          "data": {
            "text/html": [
              "<div>\n",
              "<style scoped>\n",
              "    .dataframe tbody tr th:only-of-type {\n",
              "        vertical-align: middle;\n",
              "    }\n",
              "\n",
              "    .dataframe tbody tr th {\n",
              "        vertical-align: top;\n",
              "    }\n",
              "\n",
              "    .dataframe thead th {\n",
              "        text-align: right;\n",
              "    }\n",
              "</style>\n",
              "<table border=\"1\" class=\"dataframe\">\n",
              "  <thead>\n",
              "    <tr style=\"text-align: right;\">\n",
              "      <th></th>\n",
              "      <th>id</th>\n",
              "      <th>call_date</th>\n",
              "      <th>duration</th>\n",
              "      <th>user_id</th>\n",
              "    </tr>\n",
              "  </thead>\n",
              "  <tbody>\n",
              "    <tr>\n",
              "      <th>0</th>\n",
              "      <td>1000_0</td>\n",
              "      <td>2018-07-25</td>\n",
              "      <td>0.00</td>\n",
              "      <td>1000</td>\n",
              "    </tr>\n",
              "    <tr>\n",
              "      <th>1</th>\n",
              "      <td>1000_1</td>\n",
              "      <td>2018-08-17</td>\n",
              "      <td>0.00</td>\n",
              "      <td>1000</td>\n",
              "    </tr>\n",
              "    <tr>\n",
              "      <th>5</th>\n",
              "      <td>1000_5</td>\n",
              "      <td>2018-11-02</td>\n",
              "      <td>0.00</td>\n",
              "      <td>1000</td>\n",
              "    </tr>\n",
              "    <tr>\n",
              "      <th>6</th>\n",
              "      <td>1000_6</td>\n",
              "      <td>2018-10-18</td>\n",
              "      <td>0.00</td>\n",
              "      <td>1000</td>\n",
              "    </tr>\n",
              "    <tr>\n",
              "      <th>9</th>\n",
              "      <td>1000_9</td>\n",
              "      <td>2018-08-15</td>\n",
              "      <td>0.00</td>\n",
              "      <td>1000</td>\n",
              "    </tr>\n",
              "    <tr>\n",
              "      <th>...</th>\n",
              "      <td>...</td>\n",
              "      <td>...</td>\n",
              "      <td>...</td>\n",
              "      <td>...</td>\n",
              "    </tr>\n",
              "    <tr>\n",
              "      <th>202592</th>\n",
              "      <td>1499_205</td>\n",
              "      <td>2018-10-13</td>\n",
              "      <td>0.00</td>\n",
              "      <td>1499</td>\n",
              "    </tr>\n",
              "    <tr>\n",
              "      <th>202593</th>\n",
              "      <td>1499_206</td>\n",
              "      <td>2018-12-26</td>\n",
              "      <td>0.00</td>\n",
              "      <td>1499</td>\n",
              "    </tr>\n",
              "    <tr>\n",
              "      <th>202594</th>\n",
              "      <td>1499_207</td>\n",
              "      <td>2018-10-28</td>\n",
              "      <td>0.00</td>\n",
              "      <td>1499</td>\n",
              "    </tr>\n",
              "    <tr>\n",
              "      <th>202596</th>\n",
              "      <td>1499_209</td>\n",
              "      <td>2018-12-16</td>\n",
              "      <td>0.00</td>\n",
              "      <td>1499</td>\n",
              "    </tr>\n",
              "    <tr>\n",
              "      <th>202602</th>\n",
              "      <td>1499_215</td>\n",
              "      <td>2018-12-26</td>\n",
              "      <td>0.76</td>\n",
              "      <td>1499</td>\n",
              "    </tr>\n",
              "  </tbody>\n",
              "</table>\n",
              "<p>47927 rows × 4 columns</p>\n",
              "</div>"
            ],
            "text/plain": [
              "              id   call_date  duration  user_id\n",
              "0         1000_0  2018-07-25      0.00     1000\n",
              "1         1000_1  2018-08-17      0.00     1000\n",
              "5         1000_5  2018-11-02      0.00     1000\n",
              "6         1000_6  2018-10-18      0.00     1000\n",
              "9         1000_9  2018-08-15      0.00     1000\n",
              "...          ...         ...       ...      ...\n",
              "202592  1499_205  2018-10-13      0.00     1499\n",
              "202593  1499_206  2018-12-26      0.00     1499\n",
              "202594  1499_207  2018-10-28      0.00     1499\n",
              "202596  1499_209  2018-12-16      0.00     1499\n",
              "202602  1499_215  2018-12-26      0.76     1499\n",
              "\n",
              "[47927 rows x 4 columns]"
            ]
          },
          "metadata": {},
          "execution_count": 5
        }
      ]
    },
    {
      "cell_type": "markdown",
      "metadata": {
        "id": "7I16eHe56n8e"
      },
      "source": [
        "Внушительно! Почти 48 тысяч строк\n",
        "\n",
        "Посмотрим сколько их останется после округления дробных звонков до одной минуты\n"
      ]
    },
    {
      "cell_type": "code",
      "metadata": {
        "colab": {
          "base_uri": "https://localhost:8080/",
          "height": 420
        },
        "id": "TJotMxn9nI6R",
        "outputId": "28956ed5-7393-4572-9844-4f8b33dfe08e"
      },
      "source": [
        "calls['duration'] = calls['duration'].apply(np.ceil)\n",
        "calls.query('duration < 1')"
      ],
      "execution_count": 6,
      "outputs": [
        {
          "output_type": "execute_result",
          "data": {
            "text/html": [
              "<div>\n",
              "<style scoped>\n",
              "    .dataframe tbody tr th:only-of-type {\n",
              "        vertical-align: middle;\n",
              "    }\n",
              "\n",
              "    .dataframe tbody tr th {\n",
              "        vertical-align: top;\n",
              "    }\n",
              "\n",
              "    .dataframe thead th {\n",
              "        text-align: right;\n",
              "    }\n",
              "</style>\n",
              "<table border=\"1\" class=\"dataframe\">\n",
              "  <thead>\n",
              "    <tr style=\"text-align: right;\">\n",
              "      <th></th>\n",
              "      <th>id</th>\n",
              "      <th>call_date</th>\n",
              "      <th>duration</th>\n",
              "      <th>user_id</th>\n",
              "    </tr>\n",
              "  </thead>\n",
              "  <tbody>\n",
              "    <tr>\n",
              "      <th>0</th>\n",
              "      <td>1000_0</td>\n",
              "      <td>2018-07-25</td>\n",
              "      <td>0.0</td>\n",
              "      <td>1000</td>\n",
              "    </tr>\n",
              "    <tr>\n",
              "      <th>1</th>\n",
              "      <td>1000_1</td>\n",
              "      <td>2018-08-17</td>\n",
              "      <td>0.0</td>\n",
              "      <td>1000</td>\n",
              "    </tr>\n",
              "    <tr>\n",
              "      <th>5</th>\n",
              "      <td>1000_5</td>\n",
              "      <td>2018-11-02</td>\n",
              "      <td>0.0</td>\n",
              "      <td>1000</td>\n",
              "    </tr>\n",
              "    <tr>\n",
              "      <th>6</th>\n",
              "      <td>1000_6</td>\n",
              "      <td>2018-10-18</td>\n",
              "      <td>0.0</td>\n",
              "      <td>1000</td>\n",
              "    </tr>\n",
              "    <tr>\n",
              "      <th>9</th>\n",
              "      <td>1000_9</td>\n",
              "      <td>2018-08-15</td>\n",
              "      <td>0.0</td>\n",
              "      <td>1000</td>\n",
              "    </tr>\n",
              "    <tr>\n",
              "      <th>...</th>\n",
              "      <td>...</td>\n",
              "      <td>...</td>\n",
              "      <td>...</td>\n",
              "      <td>...</td>\n",
              "    </tr>\n",
              "    <tr>\n",
              "      <th>202590</th>\n",
              "      <td>1499_203</td>\n",
              "      <td>2018-12-03</td>\n",
              "      <td>0.0</td>\n",
              "      <td>1499</td>\n",
              "    </tr>\n",
              "    <tr>\n",
              "      <th>202592</th>\n",
              "      <td>1499_205</td>\n",
              "      <td>2018-10-13</td>\n",
              "      <td>0.0</td>\n",
              "      <td>1499</td>\n",
              "    </tr>\n",
              "    <tr>\n",
              "      <th>202593</th>\n",
              "      <td>1499_206</td>\n",
              "      <td>2018-12-26</td>\n",
              "      <td>0.0</td>\n",
              "      <td>1499</td>\n",
              "    </tr>\n",
              "    <tr>\n",
              "      <th>202594</th>\n",
              "      <td>1499_207</td>\n",
              "      <td>2018-10-28</td>\n",
              "      <td>0.0</td>\n",
              "      <td>1499</td>\n",
              "    </tr>\n",
              "    <tr>\n",
              "      <th>202596</th>\n",
              "      <td>1499_209</td>\n",
              "      <td>2018-12-16</td>\n",
              "      <td>0.0</td>\n",
              "      <td>1499</td>\n",
              "    </tr>\n",
              "  </tbody>\n",
              "</table>\n",
              "<p>39613 rows × 4 columns</p>\n",
              "</div>"
            ],
            "text/plain": [
              "              id   call_date  duration  user_id\n",
              "0         1000_0  2018-07-25       0.0     1000\n",
              "1         1000_1  2018-08-17       0.0     1000\n",
              "5         1000_5  2018-11-02       0.0     1000\n",
              "6         1000_6  2018-10-18       0.0     1000\n",
              "9         1000_9  2018-08-15       0.0     1000\n",
              "...          ...         ...       ...      ...\n",
              "202590  1499_203  2018-12-03       0.0     1499\n",
              "202592  1499_205  2018-10-13       0.0     1499\n",
              "202593  1499_206  2018-12-26       0.0     1499\n",
              "202594  1499_207  2018-10-28       0.0     1499\n",
              "202596  1499_209  2018-12-16       0.0     1499\n",
              "\n",
              "[39613 rows x 4 columns]"
            ]
          },
          "metadata": {},
          "execution_count": 6
        }
      ]
    },
    {
      "cell_type": "markdown",
      "metadata": {
        "id": "EotDON9LnI6T"
      },
      "source": [
        "Всё ещё много. Так как эти звонки не тратят время и деньги, а значит не интересны для цели нашего исследования – беспощадно удаляем "
      ]
    },
    {
      "cell_type": "code",
      "metadata": {
        "id": "Rbo_m-6nnI6U"
      },
      "source": [
        "calls = calls.query(\"duration != 0.0\")"
      ],
      "execution_count": 7,
      "outputs": []
    },
    {
      "cell_type": "markdown",
      "metadata": {
        "id": "C7dMCS_LnI6Y"
      },
      "source": [
        "\n",
        "#### Обзор датафрейма **internet**\n"
      ]
    },
    {
      "cell_type": "code",
      "metadata": {
        "colab": {
          "base_uri": "https://localhost:8080/"
        },
        "id": "rcKSasxBnI6Y",
        "outputId": "9dec122b-3d58-41fb-8b9a-667318109640"
      },
      "source": [
        "internet.info()"
      ],
      "execution_count": 8,
      "outputs": [
        {
          "output_type": "stream",
          "name": "stdout",
          "text": [
            "<class 'pandas.core.frame.DataFrame'>\n",
            "RangeIndex: 149396 entries, 0 to 149395\n",
            "Data columns (total 5 columns):\n",
            " #   Column        Non-Null Count   Dtype  \n",
            "---  ------        --------------   -----  \n",
            " 0   Unnamed: 0    149396 non-null  int64  \n",
            " 1   id            149396 non-null  object \n",
            " 2   mb_used       149396 non-null  float64\n",
            " 3   session_date  149396 non-null  object \n",
            " 4   user_id       149396 non-null  int64  \n",
            "dtypes: float64(1), int64(2), object(2)\n",
            "memory usage: 5.7+ MB\n"
          ]
        }
      ]
    },
    {
      "cell_type": "markdown",
      "metadata": {
        "id": "xIRGQZz4_dFu"
      },
      "source": [
        "Всего в таблице 5 столбцов и 149396 сессий без пропусков. Далее приведём столбец session_date к типу datetime."
      ]
    },
    {
      "cell_type": "code",
      "metadata": {
        "colab": {
          "base_uri": "https://localhost:8080/",
          "height": 670
        },
        "id": "ezMZDez3nI6Y",
        "outputId": "77f7a6cf-bdd1-42ff-b535-f2050977906f"
      },
      "source": [
        "internet.sample(20)"
      ],
      "execution_count": 9,
      "outputs": [
        {
          "output_type": "execute_result",
          "data": {
            "text/html": [
              "<div>\n",
              "<style scoped>\n",
              "    .dataframe tbody tr th:only-of-type {\n",
              "        vertical-align: middle;\n",
              "    }\n",
              "\n",
              "    .dataframe tbody tr th {\n",
              "        vertical-align: top;\n",
              "    }\n",
              "\n",
              "    .dataframe thead th {\n",
              "        text-align: right;\n",
              "    }\n",
              "</style>\n",
              "<table border=\"1\" class=\"dataframe\">\n",
              "  <thead>\n",
              "    <tr style=\"text-align: right;\">\n",
              "      <th></th>\n",
              "      <th>Unnamed: 0</th>\n",
              "      <th>id</th>\n",
              "      <th>mb_used</th>\n",
              "      <th>session_date</th>\n",
              "      <th>user_id</th>\n",
              "    </tr>\n",
              "  </thead>\n",
              "  <tbody>\n",
              "    <tr>\n",
              "      <th>119843</th>\n",
              "      <td>119843</td>\n",
              "      <td>1403_398</td>\n",
              "      <td>369.90</td>\n",
              "      <td>2018-12-06</td>\n",
              "      <td>1403</td>\n",
              "    </tr>\n",
              "    <tr>\n",
              "      <th>93117</th>\n",
              "      <td>93117</td>\n",
              "      <td>1314_471</td>\n",
              "      <td>409.02</td>\n",
              "      <td>2018-08-06</td>\n",
              "      <td>1314</td>\n",
              "    </tr>\n",
              "    <tr>\n",
              "      <th>116809</th>\n",
              "      <td>116809</td>\n",
              "      <td>1393_295</td>\n",
              "      <td>627.80</td>\n",
              "      <td>2018-10-10</td>\n",
              "      <td>1393</td>\n",
              "    </tr>\n",
              "    <tr>\n",
              "      <th>7078</th>\n",
              "      <td>7078</td>\n",
              "      <td>1024_133</td>\n",
              "      <td>483.43</td>\n",
              "      <td>2018-12-30</td>\n",
              "      <td>1024</td>\n",
              "    </tr>\n",
              "    <tr>\n",
              "      <th>81396</th>\n",
              "      <td>81396</td>\n",
              "      <td>1275_179</td>\n",
              "      <td>0.00</td>\n",
              "      <td>2018-09-26</td>\n",
              "      <td>1275</td>\n",
              "    </tr>\n",
              "    <tr>\n",
              "      <th>3381</th>\n",
              "      <td>3381</td>\n",
              "      <td>1011_248</td>\n",
              "      <td>176.07</td>\n",
              "      <td>2018-11-07</td>\n",
              "      <td>1011</td>\n",
              "    </tr>\n",
              "    <tr>\n",
              "      <th>91424</th>\n",
              "      <td>91424</td>\n",
              "      <td>1309_6</td>\n",
              "      <td>157.87</td>\n",
              "      <td>2018-12-08</td>\n",
              "      <td>1309</td>\n",
              "    </tr>\n",
              "    <tr>\n",
              "      <th>135044</th>\n",
              "      <td>135044</td>\n",
              "      <td>1453_265</td>\n",
              "      <td>392.24</td>\n",
              "      <td>2018-05-22</td>\n",
              "      <td>1453</td>\n",
              "    </tr>\n",
              "    <tr>\n",
              "      <th>11886</th>\n",
              "      <td>11886</td>\n",
              "      <td>1042_17</td>\n",
              "      <td>436.44</td>\n",
              "      <td>2018-12-21</td>\n",
              "      <td>1042</td>\n",
              "    </tr>\n",
              "    <tr>\n",
              "      <th>118354</th>\n",
              "      <td>118354</td>\n",
              "      <td>1400_65</td>\n",
              "      <td>595.20</td>\n",
              "      <td>2018-12-12</td>\n",
              "      <td>1400</td>\n",
              "    </tr>\n",
              "    <tr>\n",
              "      <th>2692</th>\n",
              "      <td>2692</td>\n",
              "      <td>1009_334</td>\n",
              "      <td>497.18</td>\n",
              "      <td>2018-04-26</td>\n",
              "      <td>1009</td>\n",
              "    </tr>\n",
              "    <tr>\n",
              "      <th>70089</th>\n",
              "      <td>70089</td>\n",
              "      <td>1239_110</td>\n",
              "      <td>10.29</td>\n",
              "      <td>2018-12-29</td>\n",
              "      <td>1239</td>\n",
              "    </tr>\n",
              "    <tr>\n",
              "      <th>2819</th>\n",
              "      <td>2819</td>\n",
              "      <td>1009_461</td>\n",
              "      <td>338.66</td>\n",
              "      <td>2018-10-28</td>\n",
              "      <td>1009</td>\n",
              "    </tr>\n",
              "    <tr>\n",
              "      <th>87317</th>\n",
              "      <td>87317</td>\n",
              "      <td>1295_161</td>\n",
              "      <td>179.28</td>\n",
              "      <td>2018-10-10</td>\n",
              "      <td>1295</td>\n",
              "    </tr>\n",
              "    <tr>\n",
              "      <th>76637</th>\n",
              "      <td>76637</td>\n",
              "      <td>1257_148</td>\n",
              "      <td>698.93</td>\n",
              "      <td>2018-11-28</td>\n",
              "      <td>1257</td>\n",
              "    </tr>\n",
              "    <tr>\n",
              "      <th>69965</th>\n",
              "      <td>69965</td>\n",
              "      <td>1238_557</td>\n",
              "      <td>193.93</td>\n",
              "      <td>2018-06-02</td>\n",
              "      <td>1238</td>\n",
              "    </tr>\n",
              "    <tr>\n",
              "      <th>84022</th>\n",
              "      <td>84022</td>\n",
              "      <td>1284_376</td>\n",
              "      <td>323.44</td>\n",
              "      <td>2018-04-29</td>\n",
              "      <td>1284</td>\n",
              "    </tr>\n",
              "    <tr>\n",
              "      <th>41356</th>\n",
              "      <td>41356</td>\n",
              "      <td>1145_92</td>\n",
              "      <td>461.28</td>\n",
              "      <td>2018-07-08</td>\n",
              "      <td>1145</td>\n",
              "    </tr>\n",
              "    <tr>\n",
              "      <th>74559</th>\n",
              "      <td>74559</td>\n",
              "      <td>1251_121</td>\n",
              "      <td>211.40</td>\n",
              "      <td>2018-08-02</td>\n",
              "      <td>1251</td>\n",
              "    </tr>\n",
              "    <tr>\n",
              "      <th>7669</th>\n",
              "      <td>7669</td>\n",
              "      <td>1026_137</td>\n",
              "      <td>568.82</td>\n",
              "      <td>2018-12-21</td>\n",
              "      <td>1026</td>\n",
              "    </tr>\n",
              "  </tbody>\n",
              "</table>\n",
              "</div>"
            ],
            "text/plain": [
              "        Unnamed: 0        id  mb_used session_date  user_id\n",
              "119843      119843  1403_398   369.90   2018-12-06     1403\n",
              "93117        93117  1314_471   409.02   2018-08-06     1314\n",
              "116809      116809  1393_295   627.80   2018-10-10     1393\n",
              "7078          7078  1024_133   483.43   2018-12-30     1024\n",
              "81396        81396  1275_179     0.00   2018-09-26     1275\n",
              "3381          3381  1011_248   176.07   2018-11-07     1011\n",
              "91424        91424    1309_6   157.87   2018-12-08     1309\n",
              "135044      135044  1453_265   392.24   2018-05-22     1453\n",
              "11886        11886   1042_17   436.44   2018-12-21     1042\n",
              "118354      118354   1400_65   595.20   2018-12-12     1400\n",
              "2692          2692  1009_334   497.18   2018-04-26     1009\n",
              "70089        70089  1239_110    10.29   2018-12-29     1239\n",
              "2819          2819  1009_461   338.66   2018-10-28     1009\n",
              "87317        87317  1295_161   179.28   2018-10-10     1295\n",
              "76637        76637  1257_148   698.93   2018-11-28     1257\n",
              "69965        69965  1238_557   193.93   2018-06-02     1238\n",
              "84022        84022  1284_376   323.44   2018-04-29     1284\n",
              "41356        41356   1145_92   461.28   2018-07-08     1145\n",
              "74559        74559  1251_121   211.40   2018-08-02     1251\n",
              "7669          7669  1026_137   568.82   2018-12-21     1026"
            ]
          },
          "metadata": {},
          "execution_count": 9
        }
      ]
    },
    {
      "cell_type": "markdown",
      "metadata": {
        "id": "VjGl-DbCnI6Z"
      },
      "source": [
        "Тоже присутствуют нули и дробные значения. Принцип тот же, что и со звонками (перебои и разрывы, трафик не был использован)"
      ]
    },
    {
      "cell_type": "code",
      "metadata": {
        "colab": {
          "base_uri": "https://localhost:8080/",
          "height": 420
        },
        "id": "uY3YUcAHnI6Z",
        "outputId": "3e9ddb05-0ad0-4ddb-d50a-423d5e227f08"
      },
      "source": [
        "internet['mb_used'] = internet['mb_used'].apply(np.ceil)\n",
        "internet.query('mb_used < 1')"
      ],
      "execution_count": 10,
      "outputs": [
        {
          "output_type": "execute_result",
          "data": {
            "text/html": [
              "<div>\n",
              "<style scoped>\n",
              "    .dataframe tbody tr th:only-of-type {\n",
              "        vertical-align: middle;\n",
              "    }\n",
              "\n",
              "    .dataframe tbody tr th {\n",
              "        vertical-align: top;\n",
              "    }\n",
              "\n",
              "    .dataframe thead th {\n",
              "        text-align: right;\n",
              "    }\n",
              "</style>\n",
              "<table border=\"1\" class=\"dataframe\">\n",
              "  <thead>\n",
              "    <tr style=\"text-align: right;\">\n",
              "      <th></th>\n",
              "      <th>Unnamed: 0</th>\n",
              "      <th>id</th>\n",
              "      <th>mb_used</th>\n",
              "      <th>session_date</th>\n",
              "      <th>user_id</th>\n",
              "    </tr>\n",
              "  </thead>\n",
              "  <tbody>\n",
              "    <tr>\n",
              "      <th>11</th>\n",
              "      <td>11</td>\n",
              "      <td>1000_11</td>\n",
              "      <td>0.0</td>\n",
              "      <td>2018-08-28</td>\n",
              "      <td>1000</td>\n",
              "    </tr>\n",
              "    <tr>\n",
              "      <th>38</th>\n",
              "      <td>38</td>\n",
              "      <td>1000_38</td>\n",
              "      <td>0.0</td>\n",
              "      <td>2018-11-27</td>\n",
              "      <td>1000</td>\n",
              "    </tr>\n",
              "    <tr>\n",
              "      <th>46</th>\n",
              "      <td>46</td>\n",
              "      <td>1000_46</td>\n",
              "      <td>0.0</td>\n",
              "      <td>2018-06-30</td>\n",
              "      <td>1000</td>\n",
              "    </tr>\n",
              "    <tr>\n",
              "      <th>67</th>\n",
              "      <td>67</td>\n",
              "      <td>1000_67</td>\n",
              "      <td>0.0</td>\n",
              "      <td>2018-06-16</td>\n",
              "      <td>1000</td>\n",
              "    </tr>\n",
              "    <tr>\n",
              "      <th>72</th>\n",
              "      <td>72</td>\n",
              "      <td>1000_72</td>\n",
              "      <td>0.0</td>\n",
              "      <td>2018-06-15</td>\n",
              "      <td>1000</td>\n",
              "    </tr>\n",
              "    <tr>\n",
              "      <th>...</th>\n",
              "      <td>...</td>\n",
              "      <td>...</td>\n",
              "      <td>...</td>\n",
              "      <td>...</td>\n",
              "      <td>...</td>\n",
              "    </tr>\n",
              "    <tr>\n",
              "      <th>149380</th>\n",
              "      <td>149380</td>\n",
              "      <td>1499_141</td>\n",
              "      <td>0.0</td>\n",
              "      <td>2018-12-11</td>\n",
              "      <td>1499</td>\n",
              "    </tr>\n",
              "    <tr>\n",
              "      <th>149381</th>\n",
              "      <td>149381</td>\n",
              "      <td>1499_142</td>\n",
              "      <td>0.0</td>\n",
              "      <td>2018-11-01</td>\n",
              "      <td>1499</td>\n",
              "    </tr>\n",
              "    <tr>\n",
              "      <th>149383</th>\n",
              "      <td>149383</td>\n",
              "      <td>1499_144</td>\n",
              "      <td>0.0</td>\n",
              "      <td>2018-11-27</td>\n",
              "      <td>1499</td>\n",
              "    </tr>\n",
              "    <tr>\n",
              "      <th>149386</th>\n",
              "      <td>149386</td>\n",
              "      <td>1499_147</td>\n",
              "      <td>0.0</td>\n",
              "      <td>2018-10-21</td>\n",
              "      <td>1499</td>\n",
              "    </tr>\n",
              "    <tr>\n",
              "      <th>149393</th>\n",
              "      <td>149393</td>\n",
              "      <td>1499_154</td>\n",
              "      <td>0.0</td>\n",
              "      <td>2018-10-27</td>\n",
              "      <td>1499</td>\n",
              "    </tr>\n",
              "  </tbody>\n",
              "</table>\n",
              "<p>19598 rows × 5 columns</p>\n",
              "</div>"
            ],
            "text/plain": [
              "        Unnamed: 0        id  mb_used session_date  user_id\n",
              "11              11   1000_11      0.0   2018-08-28     1000\n",
              "38              38   1000_38      0.0   2018-11-27     1000\n",
              "46              46   1000_46      0.0   2018-06-30     1000\n",
              "67              67   1000_67      0.0   2018-06-16     1000\n",
              "72              72   1000_72      0.0   2018-06-15     1000\n",
              "...            ...       ...      ...          ...      ...\n",
              "149380      149380  1499_141      0.0   2018-12-11     1499\n",
              "149381      149381  1499_142      0.0   2018-11-01     1499\n",
              "149383      149383  1499_144      0.0   2018-11-27     1499\n",
              "149386      149386  1499_147      0.0   2018-10-21     1499\n",
              "149393      149393  1499_154      0.0   2018-10-27     1499\n",
              "\n",
              "[19598 rows x 5 columns]"
            ]
          },
          "metadata": {},
          "execution_count": 10
        }
      ]
    },
    {
      "cell_type": "code",
      "metadata": {
        "id": "Gm2gU-vBnI6a"
      },
      "source": [
        "internet = internet.query(\"mb_used != 0.0\")"
      ],
      "execution_count": 11,
      "outputs": []
    },
    {
      "cell_type": "markdown",
      "metadata": {
        "id": "nCd2E7VWnI6W"
      },
      "source": [
        "\n",
        "#### Обзор датафрейма **messages**\n"
      ]
    },
    {
      "cell_type": "code",
      "metadata": {
        "colab": {
          "base_uri": "https://localhost:8080/"
        },
        "id": "n9RBvvUWnI6X",
        "outputId": "67e541d2-1832-4e20-8011-b832687548e1"
      },
      "source": [
        "messages.info()"
      ],
      "execution_count": 12,
      "outputs": [
        {
          "output_type": "stream",
          "name": "stdout",
          "text": [
            "<class 'pandas.core.frame.DataFrame'>\n",
            "RangeIndex: 123036 entries, 0 to 123035\n",
            "Data columns (total 3 columns):\n",
            " #   Column        Non-Null Count   Dtype \n",
            "---  ------        --------------   ----- \n",
            " 0   id            123036 non-null  object\n",
            " 1   message_date  123036 non-null  object\n",
            " 2   user_id       123036 non-null  int64 \n",
            "dtypes: int64(1), object(2)\n",
            "memory usage: 2.8+ MB\n"
          ]
        }
      ]
    },
    {
      "cell_type": "markdown",
      "metadata": {
        "id": "wp-SNA7vnI6Y"
      },
      "source": [
        "Три столбца и 123036 строк данных. Данные полные, без пропусков, только изменим в столбце message_date тип на datetime"
      ]
    },
    {
      "cell_type": "code",
      "metadata": {
        "colab": {
          "base_uri": "https://localhost:8080/",
          "height": 670
        },
        "id": "aPqSbSD8nI6X",
        "outputId": "aa66f078-01b4-4f31-ea04-da23aed3bd8e"
      },
      "source": [
        "messages.sample(20)"
      ],
      "execution_count": 13,
      "outputs": [
        {
          "output_type": "execute_result",
          "data": {
            "text/html": [
              "<div>\n",
              "<style scoped>\n",
              "    .dataframe tbody tr th:only-of-type {\n",
              "        vertical-align: middle;\n",
              "    }\n",
              "\n",
              "    .dataframe tbody tr th {\n",
              "        vertical-align: top;\n",
              "    }\n",
              "\n",
              "    .dataframe thead th {\n",
              "        text-align: right;\n",
              "    }\n",
              "</style>\n",
              "<table border=\"1\" class=\"dataframe\">\n",
              "  <thead>\n",
              "    <tr style=\"text-align: right;\">\n",
              "      <th></th>\n",
              "      <th>id</th>\n",
              "      <th>message_date</th>\n",
              "      <th>user_id</th>\n",
              "    </tr>\n",
              "  </thead>\n",
              "  <tbody>\n",
              "    <tr>\n",
              "      <th>35130</th>\n",
              "      <td>1150_310</td>\n",
              "      <td>2018-09-07</td>\n",
              "      <td>1150</td>\n",
              "    </tr>\n",
              "    <tr>\n",
              "      <th>94091</th>\n",
              "      <td>1385_800</td>\n",
              "      <td>2018-09-21</td>\n",
              "      <td>1385</td>\n",
              "    </tr>\n",
              "    <tr>\n",
              "      <th>118866</th>\n",
              "      <td>1482_428</td>\n",
              "      <td>2018-10-25</td>\n",
              "      <td>1482</td>\n",
              "    </tr>\n",
              "    <tr>\n",
              "      <th>25338</th>\n",
              "      <td>1104_530</td>\n",
              "      <td>2018-06-11</td>\n",
              "      <td>1104</td>\n",
              "    </tr>\n",
              "    <tr>\n",
              "      <th>109405</th>\n",
              "      <td>1440_346</td>\n",
              "      <td>2018-11-18</td>\n",
              "      <td>1440</td>\n",
              "    </tr>\n",
              "    <tr>\n",
              "      <th>34043</th>\n",
              "      <td>1147_185</td>\n",
              "      <td>2018-09-25</td>\n",
              "      <td>1147</td>\n",
              "    </tr>\n",
              "    <tr>\n",
              "      <th>116969</th>\n",
              "      <td>1475_173</td>\n",
              "      <td>2018-07-07</td>\n",
              "      <td>1475</td>\n",
              "    </tr>\n",
              "    <tr>\n",
              "      <th>46426</th>\n",
              "      <td>1200_321</td>\n",
              "      <td>2018-08-04</td>\n",
              "      <td>1200</td>\n",
              "    </tr>\n",
              "    <tr>\n",
              "      <th>58736</th>\n",
              "      <td>1257_528</td>\n",
              "      <td>2018-06-24</td>\n",
              "      <td>1257</td>\n",
              "    </tr>\n",
              "    <tr>\n",
              "      <th>4426</th>\n",
              "      <td>1016_106</td>\n",
              "      <td>2018-12-01</td>\n",
              "      <td>1016</td>\n",
              "    </tr>\n",
              "    <tr>\n",
              "      <th>88169</th>\n",
              "      <td>1369_94</td>\n",
              "      <td>2018-11-20</td>\n",
              "      <td>1369</td>\n",
              "    </tr>\n",
              "    <tr>\n",
              "      <th>42114</th>\n",
              "      <td>1180_185</td>\n",
              "      <td>2018-09-20</td>\n",
              "      <td>1180</td>\n",
              "    </tr>\n",
              "    <tr>\n",
              "      <th>25652</th>\n",
              "      <td>1105_41</td>\n",
              "      <td>2018-11-06</td>\n",
              "      <td>1105</td>\n",
              "    </tr>\n",
              "    <tr>\n",
              "      <th>100164</th>\n",
              "      <td>1411_0</td>\n",
              "      <td>2018-11-13</td>\n",
              "      <td>1411</td>\n",
              "    </tr>\n",
              "    <tr>\n",
              "      <th>103423</th>\n",
              "      <td>1421_386</td>\n",
              "      <td>2018-10-22</td>\n",
              "      <td>1421</td>\n",
              "    </tr>\n",
              "    <tr>\n",
              "      <th>41360</th>\n",
              "      <td>1176_111</td>\n",
              "      <td>2018-12-10</td>\n",
              "      <td>1176</td>\n",
              "    </tr>\n",
              "    <tr>\n",
              "      <th>66500</th>\n",
              "      <td>1284_88</td>\n",
              "      <td>2018-05-04</td>\n",
              "      <td>1284</td>\n",
              "    </tr>\n",
              "    <tr>\n",
              "      <th>110503</th>\n",
              "      <td>1447_188</td>\n",
              "      <td>2018-11-22</td>\n",
              "      <td>1447</td>\n",
              "    </tr>\n",
              "    <tr>\n",
              "      <th>121070</th>\n",
              "      <td>1490_292</td>\n",
              "      <td>2018-08-15</td>\n",
              "      <td>1490</td>\n",
              "    </tr>\n",
              "    <tr>\n",
              "      <th>15254</th>\n",
              "      <td>1065_590</td>\n",
              "      <td>2018-09-24</td>\n",
              "      <td>1065</td>\n",
              "    </tr>\n",
              "  </tbody>\n",
              "</table>\n",
              "</div>"
            ],
            "text/plain": [
              "              id message_date  user_id\n",
              "35130   1150_310   2018-09-07     1150\n",
              "94091   1385_800   2018-09-21     1385\n",
              "118866  1482_428   2018-10-25     1482\n",
              "25338   1104_530   2018-06-11     1104\n",
              "109405  1440_346   2018-11-18     1440\n",
              "34043   1147_185   2018-09-25     1147\n",
              "116969  1475_173   2018-07-07     1475\n",
              "46426   1200_321   2018-08-04     1200\n",
              "58736   1257_528   2018-06-24     1257\n",
              "4426    1016_106   2018-12-01     1016\n",
              "88169    1369_94   2018-11-20     1369\n",
              "42114   1180_185   2018-09-20     1180\n",
              "25652    1105_41   2018-11-06     1105\n",
              "100164    1411_0   2018-11-13     1411\n",
              "103423  1421_386   2018-10-22     1421\n",
              "41360   1176_111   2018-12-10     1176\n",
              "66500    1284_88   2018-05-04     1284\n",
              "110503  1447_188   2018-11-22     1447\n",
              "121070  1490_292   2018-08-15     1490\n",
              "15254   1065_590   2018-09-24     1065"
            ]
          },
          "metadata": {},
          "execution_count": 13
        }
      ]
    },
    {
      "cell_type": "markdown",
      "metadata": {
        "id": "LSR3ds68Cwp8"
      },
      "source": [
        "Ничего особенного, таблица как таблица"
      ]
    },
    {
      "cell_type": "markdown",
      "metadata": {
        "id": "Zp00RMk3nI6b"
      },
      "source": [
        "\n",
        "#### Обзор датафрейма **tariffs**\n"
      ]
    },
    {
      "cell_type": "code",
      "metadata": {
        "colab": {
          "base_uri": "https://localhost:8080/"
        },
        "id": "21bYACbDFY3b",
        "outputId": "cecbfebc-73e0-4055-8502-96c05d18cdf7"
      },
      "source": [
        "tariffs.info()"
      ],
      "execution_count": 14,
      "outputs": [
        {
          "output_type": "stream",
          "name": "stdout",
          "text": [
            "<class 'pandas.core.frame.DataFrame'>\n",
            "RangeIndex: 2 entries, 0 to 1\n",
            "Data columns (total 8 columns):\n",
            " #   Column                 Non-Null Count  Dtype \n",
            "---  ------                 --------------  ----- \n",
            " 0   messages_included      2 non-null      int64 \n",
            " 1   mb_per_month_included  2 non-null      int64 \n",
            " 2   minutes_included       2 non-null      int64 \n",
            " 3   rub_monthly_fee        2 non-null      int64 \n",
            " 4   rub_per_gb             2 non-null      int64 \n",
            " 5   rub_per_message        2 non-null      int64 \n",
            " 6   rub_per_minute         2 non-null      int64 \n",
            " 7   tariff_name            2 non-null      object\n",
            "dtypes: int64(7), object(1)\n",
            "memory usage: 256.0+ bytes\n"
          ]
        }
      ]
    },
    {
      "cell_type": "code",
      "metadata": {
        "colab": {
          "base_uri": "https://localhost:8080/",
          "height": 110
        },
        "id": "-w0RZnRtnI6b",
        "outputId": "141a74fd-3a77-4684-e947-725b9209677d"
      },
      "source": [
        "tariffs.head()"
      ],
      "execution_count": 15,
      "outputs": [
        {
          "output_type": "execute_result",
          "data": {
            "text/html": [
              "<div>\n",
              "<style scoped>\n",
              "    .dataframe tbody tr th:only-of-type {\n",
              "        vertical-align: middle;\n",
              "    }\n",
              "\n",
              "    .dataframe tbody tr th {\n",
              "        vertical-align: top;\n",
              "    }\n",
              "\n",
              "    .dataframe thead th {\n",
              "        text-align: right;\n",
              "    }\n",
              "</style>\n",
              "<table border=\"1\" class=\"dataframe\">\n",
              "  <thead>\n",
              "    <tr style=\"text-align: right;\">\n",
              "      <th></th>\n",
              "      <th>messages_included</th>\n",
              "      <th>mb_per_month_included</th>\n",
              "      <th>minutes_included</th>\n",
              "      <th>rub_monthly_fee</th>\n",
              "      <th>rub_per_gb</th>\n",
              "      <th>rub_per_message</th>\n",
              "      <th>rub_per_minute</th>\n",
              "      <th>tariff_name</th>\n",
              "    </tr>\n",
              "  </thead>\n",
              "  <tbody>\n",
              "    <tr>\n",
              "      <th>0</th>\n",
              "      <td>50</td>\n",
              "      <td>15360</td>\n",
              "      <td>500</td>\n",
              "      <td>550</td>\n",
              "      <td>200</td>\n",
              "      <td>3</td>\n",
              "      <td>3</td>\n",
              "      <td>smart</td>\n",
              "    </tr>\n",
              "    <tr>\n",
              "      <th>1</th>\n",
              "      <td>1000</td>\n",
              "      <td>30720</td>\n",
              "      <td>3000</td>\n",
              "      <td>1950</td>\n",
              "      <td>150</td>\n",
              "      <td>1</td>\n",
              "      <td>1</td>\n",
              "      <td>ultra</td>\n",
              "    </tr>\n",
              "  </tbody>\n",
              "</table>\n",
              "</div>"
            ],
            "text/plain": [
              "   messages_included  mb_per_month_included  ...  rub_per_minute  tariff_name\n",
              "0                 50                  15360  ...               3        smart\n",
              "1               1000                  30720  ...               1        ultra\n",
              "\n",
              "[2 rows x 8 columns]"
            ]
          },
          "metadata": {},
          "execution_count": 15
        }
      ]
    },
    {
      "cell_type": "markdown",
      "metadata": {
        "id": "v-1UvDgCFgKi"
      },
      "source": [
        "Всего в датафрейме 8 столбцов и две строки данных. Данные представлены в виде основных значений по тарифам"
      ]
    },
    {
      "cell_type": "markdown",
      "metadata": {
        "id": "GPbXl7R9nI6I"
      },
      "source": [
        "#### Обзор датафрейма **users**\n"
      ]
    },
    {
      "cell_type": "code",
      "metadata": {
        "colab": {
          "base_uri": "https://localhost:8080/"
        },
        "id": "FFlszTECnI6N",
        "scrolled": false,
        "outputId": "7c801b15-e2b7-430b-9670-1b470ddf7673"
      },
      "source": [
        "users.info()"
      ],
      "execution_count": 16,
      "outputs": [
        {
          "output_type": "stream",
          "name": "stdout",
          "text": [
            "<class 'pandas.core.frame.DataFrame'>\n",
            "RangeIndex: 500 entries, 0 to 499\n",
            "Data columns (total 8 columns):\n",
            " #   Column      Non-Null Count  Dtype \n",
            "---  ------      --------------  ----- \n",
            " 0   user_id     500 non-null    int64 \n",
            " 1   age         500 non-null    int64 \n",
            " 2   churn_date  38 non-null     object\n",
            " 3   city        500 non-null    object\n",
            " 4   first_name  500 non-null    object\n",
            " 5   last_name   500 non-null    object\n",
            " 6   reg_date    500 non-null    object\n",
            " 7   tariff      500 non-null    object\n",
            "dtypes: int64(2), object(6)\n",
            "memory usage: 31.4+ KB\n"
          ]
        }
      ]
    },
    {
      "cell_type": "markdown",
      "metadata": {
        "id": "-vtSXpyQ3Hdo"
      },
      "source": [
        "Всего в таблице 8 столбцов которые умещают 500 пользователей. Далее приведём столбец reg_date к типу datetime"
      ]
    },
    {
      "cell_type": "code",
      "metadata": {
        "colab": {
          "base_uri": "https://localhost:8080/",
          "height": 359
        },
        "id": "DI54SZqynI6I",
        "outputId": "de5b09c9-eaad-426a-d894-5e70e10bacc5"
      },
      "source": [
        "users.head(10)"
      ],
      "execution_count": 17,
      "outputs": [
        {
          "output_type": "execute_result",
          "data": {
            "text/html": [
              "<div>\n",
              "<style scoped>\n",
              "    .dataframe tbody tr th:only-of-type {\n",
              "        vertical-align: middle;\n",
              "    }\n",
              "\n",
              "    .dataframe tbody tr th {\n",
              "        vertical-align: top;\n",
              "    }\n",
              "\n",
              "    .dataframe thead th {\n",
              "        text-align: right;\n",
              "    }\n",
              "</style>\n",
              "<table border=\"1\" class=\"dataframe\">\n",
              "  <thead>\n",
              "    <tr style=\"text-align: right;\">\n",
              "      <th></th>\n",
              "      <th>user_id</th>\n",
              "      <th>age</th>\n",
              "      <th>churn_date</th>\n",
              "      <th>city</th>\n",
              "      <th>first_name</th>\n",
              "      <th>last_name</th>\n",
              "      <th>reg_date</th>\n",
              "      <th>tariff</th>\n",
              "    </tr>\n",
              "  </thead>\n",
              "  <tbody>\n",
              "    <tr>\n",
              "      <th>0</th>\n",
              "      <td>1000</td>\n",
              "      <td>52</td>\n",
              "      <td>NaN</td>\n",
              "      <td>Краснодар</td>\n",
              "      <td>Рафаил</td>\n",
              "      <td>Верещагин</td>\n",
              "      <td>2018-05-25</td>\n",
              "      <td>ultra</td>\n",
              "    </tr>\n",
              "    <tr>\n",
              "      <th>1</th>\n",
              "      <td>1001</td>\n",
              "      <td>41</td>\n",
              "      <td>NaN</td>\n",
              "      <td>Москва</td>\n",
              "      <td>Иван</td>\n",
              "      <td>Ежов</td>\n",
              "      <td>2018-11-01</td>\n",
              "      <td>smart</td>\n",
              "    </tr>\n",
              "    <tr>\n",
              "      <th>2</th>\n",
              "      <td>1002</td>\n",
              "      <td>59</td>\n",
              "      <td>NaN</td>\n",
              "      <td>Стерлитамак</td>\n",
              "      <td>Евгений</td>\n",
              "      <td>Абрамович</td>\n",
              "      <td>2018-06-17</td>\n",
              "      <td>smart</td>\n",
              "    </tr>\n",
              "    <tr>\n",
              "      <th>3</th>\n",
              "      <td>1003</td>\n",
              "      <td>23</td>\n",
              "      <td>NaN</td>\n",
              "      <td>Москва</td>\n",
              "      <td>Белла</td>\n",
              "      <td>Белякова</td>\n",
              "      <td>2018-08-17</td>\n",
              "      <td>ultra</td>\n",
              "    </tr>\n",
              "    <tr>\n",
              "      <th>4</th>\n",
              "      <td>1004</td>\n",
              "      <td>68</td>\n",
              "      <td>NaN</td>\n",
              "      <td>Новокузнецк</td>\n",
              "      <td>Татьяна</td>\n",
              "      <td>Авдеенко</td>\n",
              "      <td>2018-05-14</td>\n",
              "      <td>ultra</td>\n",
              "    </tr>\n",
              "    <tr>\n",
              "      <th>5</th>\n",
              "      <td>1005</td>\n",
              "      <td>67</td>\n",
              "      <td>NaN</td>\n",
              "      <td>Набережные Челны</td>\n",
              "      <td>Афанасий</td>\n",
              "      <td>Горлов</td>\n",
              "      <td>2018-01-25</td>\n",
              "      <td>smart</td>\n",
              "    </tr>\n",
              "    <tr>\n",
              "      <th>6</th>\n",
              "      <td>1006</td>\n",
              "      <td>21</td>\n",
              "      <td>NaN</td>\n",
              "      <td>Ульяновск</td>\n",
              "      <td>Леонид</td>\n",
              "      <td>Ермолаев</td>\n",
              "      <td>2018-02-26</td>\n",
              "      <td>smart</td>\n",
              "    </tr>\n",
              "    <tr>\n",
              "      <th>7</th>\n",
              "      <td>1007</td>\n",
              "      <td>65</td>\n",
              "      <td>NaN</td>\n",
              "      <td>Москва</td>\n",
              "      <td>Юна</td>\n",
              "      <td>Березина</td>\n",
              "      <td>2018-04-19</td>\n",
              "      <td>smart</td>\n",
              "    </tr>\n",
              "    <tr>\n",
              "      <th>8</th>\n",
              "      <td>1008</td>\n",
              "      <td>63</td>\n",
              "      <td>NaN</td>\n",
              "      <td>Челябинск</td>\n",
              "      <td>Рустэм</td>\n",
              "      <td>Пономарёв</td>\n",
              "      <td>2018-12-19</td>\n",
              "      <td>smart</td>\n",
              "    </tr>\n",
              "    <tr>\n",
              "      <th>9</th>\n",
              "      <td>1009</td>\n",
              "      <td>24</td>\n",
              "      <td>NaN</td>\n",
              "      <td>Пермь</td>\n",
              "      <td>Василиса</td>\n",
              "      <td>Блинова</td>\n",
              "      <td>2018-03-22</td>\n",
              "      <td>smart</td>\n",
              "    </tr>\n",
              "  </tbody>\n",
              "</table>\n",
              "</div>"
            ],
            "text/plain": [
              "   user_id  age churn_date  ...  last_name    reg_date tariff\n",
              "0     1000   52        NaN  ...  Верещагин  2018-05-25  ultra\n",
              "1     1001   41        NaN  ...       Ежов  2018-11-01  smart\n",
              "2     1002   59        NaN  ...  Абрамович  2018-06-17  smart\n",
              "3     1003   23        NaN  ...   Белякова  2018-08-17  ultra\n",
              "4     1004   68        NaN  ...   Авдеенко  2018-05-14  ultra\n",
              "5     1005   67        NaN  ...     Горлов  2018-01-25  smart\n",
              "6     1006   21        NaN  ...   Ермолаев  2018-02-26  smart\n",
              "7     1007   65        NaN  ...   Березина  2018-04-19  smart\n",
              "8     1008   63        NaN  ...  Пономарёв  2018-12-19  smart\n",
              "9     1009   24        NaN  ...    Блинова  2018-03-22  smart\n",
              "\n",
              "[10 rows x 8 columns]"
            ]
          },
          "metadata": {},
          "execution_count": 17
        }
      ]
    },
    {
      "cell_type": "markdown",
      "metadata": {
        "id": "SmsJmeKUnI6O"
      },
      "source": [
        "\n",
        "Как уже было отмечено выше, если значение в столбце churn_date пропущено, значит тариф ещё действовал на момент выгрузки данных. Оставляем как есть. Только добавим далее столбцы месяца и времени года\n"
      ]
    },
    {
      "cell_type": "markdown",
      "metadata": {
        "id": "2AVSmhiKvvDT"
      },
      "source": [
        "Узнаем, сколько пропусков всего, кроме столбца churn_date"
      ]
    },
    {
      "cell_type": "code",
      "metadata": {
        "colab": {
          "base_uri": "https://localhost:8080/",
          "height": 297
        },
        "id": "ZVe9bZm0wNVE",
        "outputId": "bc67cbd0-6b92-4376-bf0f-89dd9c02ef48"
      },
      "source": [
        "total_users = users.isnull().sum().sort_values(ascending = False)\n",
        "percent_users = (users.isnull().sum() / users.isnull().count()).sort_values(ascending=False)\n",
        "missing_users = pd.concat([total_users, percent_users], axis = 1, keys = ['Количество пропусков', 'Доля в %'])\n",
        "missing_users['Тип данных признака'] = users.dtypes\n",
        "display (missing_users)"
      ],
      "execution_count": 18,
      "outputs": [
        {
          "output_type": "display_data",
          "data": {
            "text/html": [
              "<div>\n",
              "<style scoped>\n",
              "    .dataframe tbody tr th:only-of-type {\n",
              "        vertical-align: middle;\n",
              "    }\n",
              "\n",
              "    .dataframe tbody tr th {\n",
              "        vertical-align: top;\n",
              "    }\n",
              "\n",
              "    .dataframe thead th {\n",
              "        text-align: right;\n",
              "    }\n",
              "</style>\n",
              "<table border=\"1\" class=\"dataframe\">\n",
              "  <thead>\n",
              "    <tr style=\"text-align: right;\">\n",
              "      <th></th>\n",
              "      <th>Количество пропусков</th>\n",
              "      <th>Доля в %</th>\n",
              "      <th>Тип данных признака</th>\n",
              "    </tr>\n",
              "  </thead>\n",
              "  <tbody>\n",
              "    <tr>\n",
              "      <th>churn_date</th>\n",
              "      <td>462</td>\n",
              "      <td>0.924</td>\n",
              "      <td>object</td>\n",
              "    </tr>\n",
              "    <tr>\n",
              "      <th>tariff</th>\n",
              "      <td>0</td>\n",
              "      <td>0.000</td>\n",
              "      <td>object</td>\n",
              "    </tr>\n",
              "    <tr>\n",
              "      <th>reg_date</th>\n",
              "      <td>0</td>\n",
              "      <td>0.000</td>\n",
              "      <td>object</td>\n",
              "    </tr>\n",
              "    <tr>\n",
              "      <th>last_name</th>\n",
              "      <td>0</td>\n",
              "      <td>0.000</td>\n",
              "      <td>object</td>\n",
              "    </tr>\n",
              "    <tr>\n",
              "      <th>first_name</th>\n",
              "      <td>0</td>\n",
              "      <td>0.000</td>\n",
              "      <td>object</td>\n",
              "    </tr>\n",
              "    <tr>\n",
              "      <th>city</th>\n",
              "      <td>0</td>\n",
              "      <td>0.000</td>\n",
              "      <td>object</td>\n",
              "    </tr>\n",
              "    <tr>\n",
              "      <th>age</th>\n",
              "      <td>0</td>\n",
              "      <td>0.000</td>\n",
              "      <td>int64</td>\n",
              "    </tr>\n",
              "    <tr>\n",
              "      <th>user_id</th>\n",
              "      <td>0</td>\n",
              "      <td>0.000</td>\n",
              "      <td>int64</td>\n",
              "    </tr>\n",
              "  </tbody>\n",
              "</table>\n",
              "</div>"
            ],
            "text/plain": [
              "            Количество пропусков  Доля в % Тип данных признака\n",
              "churn_date                   462     0.924              object\n",
              "tariff                         0     0.000              object\n",
              "reg_date                       0     0.000              object\n",
              "last_name                      0     0.000              object\n",
              "first_name                     0     0.000              object\n",
              "city                           0     0.000              object\n",
              "age                            0     0.000               int64\n",
              "user_id                        0     0.000               int64"
            ]
          },
          "metadata": {}
        }
      ]
    },
    {
      "cell_type": "markdown",
      "metadata": {
        "id": "yxIUQYUXwmw9"
      },
      "source": [
        "Кроме churn_date больше пропусков нет. Отлично\n",
        "\n",
        "Узнаем, есть ли дубликаты"
      ]
    },
    {
      "cell_type": "code",
      "metadata": {
        "colab": {
          "base_uri": "https://localhost:8080/"
        },
        "id": "UZZcy5Nlw2tg",
        "outputId": "859a69f0-3459-40dd-c685-e189eebd9dfc"
      },
      "source": [
        "\n",
        "users['user_id'].duplicated().sum()"
      ],
      "execution_count": 19,
      "outputs": [
        {
          "output_type": "execute_result",
          "data": {
            "text/plain": [
              "0"
            ]
          },
          "metadata": {},
          "execution_count": 19
        }
      ]
    },
    {
      "cell_type": "markdown",
      "metadata": {
        "id": "7Nniz6Hm0eII"
      },
      "source": [
        "Дубликатов тоже нет!"
      ]
    },
    {
      "cell_type": "markdown",
      "metadata": {
        "id": "GFE9IPcOnI6p"
      },
      "source": [
        "\n",
        "# Подготовка данных\n",
        "\n"
      ]
    },
    {
      "cell_type": "markdown",
      "metadata": {
        "id": "-Ff6EztPnI6c"
      },
      "source": [
        "\n",
        "#### Изменение типа данных столбцов с датами и добавление столбцов с годом, месяцем и временем года \n"
      ]
    },
    {
      "cell_type": "markdown",
      "metadata": {
        "id": "_6vyKLfbnI6O"
      },
      "source": [
        "Напишем функции и поменяем формат столбцов на datetime и добавим столбцы месяца и времени года\n"
      ]
    },
    {
      "cell_type": "code",
      "metadata": {
        "id": "PWvdZq8nnI6O"
      },
      "source": [
        "\n",
        "def set_season(date):\n",
        "    if date.month in [1, 2, 12]:\n",
        "        return 'зима'\n",
        "    elif date.month in [3, 4, 5]:\n",
        "        return 'весна'\n",
        "    elif date.month in [6, 7, 8]:\n",
        "        return 'лето'\n",
        "    else:\n",
        "        return 'осень'\n",
        "\n",
        "def date_season(dataframes):\n",
        "    for df in dataframes:\n",
        "        for column in df.columns:\n",
        "            if 'date' in column and column != 'churn_date':\n",
        "                df[column] = pd.to_datetime(df[column], format='%Y-%m-%d')\n",
        "                df['месяц'] = df[column].apply(lambda x: x.month)\n",
        "                df['время года'] = df[column].apply(set_season)"
      ],
      "execution_count": 20,
      "outputs": []
    },
    {
      "cell_type": "code",
      "metadata": {
        "id": "2BJvxvwMnI6c"
      },
      "source": [
        "date_season([users, calls, messages, internet])"
      ],
      "execution_count": 21,
      "outputs": []
    },
    {
      "cell_type": "markdown",
      "metadata": {
        "id": "itr9SBIYnI6c"
      },
      "source": [
        "Проверим, что получилось"
      ]
    },
    {
      "cell_type": "code",
      "metadata": {
        "colab": {
          "base_uri": "https://localhost:8080/",
          "height": 204
        },
        "id": "cmzm5u05nI6d",
        "outputId": "be375314-6fcb-4e88-a389-ad708efc0d85"
      },
      "source": [
        "calls.head()"
      ],
      "execution_count": 22,
      "outputs": [
        {
          "output_type": "execute_result",
          "data": {
            "text/html": [
              "<div>\n",
              "<style scoped>\n",
              "    .dataframe tbody tr th:only-of-type {\n",
              "        vertical-align: middle;\n",
              "    }\n",
              "\n",
              "    .dataframe tbody tr th {\n",
              "        vertical-align: top;\n",
              "    }\n",
              "\n",
              "    .dataframe thead th {\n",
              "        text-align: right;\n",
              "    }\n",
              "</style>\n",
              "<table border=\"1\" class=\"dataframe\">\n",
              "  <thead>\n",
              "    <tr style=\"text-align: right;\">\n",
              "      <th></th>\n",
              "      <th>id</th>\n",
              "      <th>call_date</th>\n",
              "      <th>duration</th>\n",
              "      <th>user_id</th>\n",
              "      <th>месяц</th>\n",
              "      <th>время года</th>\n",
              "    </tr>\n",
              "  </thead>\n",
              "  <tbody>\n",
              "    <tr>\n",
              "      <th>2</th>\n",
              "      <td>1000_2</td>\n",
              "      <td>2018-06-11</td>\n",
              "      <td>3.0</td>\n",
              "      <td>1000</td>\n",
              "      <td>6</td>\n",
              "      <td>лето</td>\n",
              "    </tr>\n",
              "    <tr>\n",
              "      <th>3</th>\n",
              "      <td>1000_3</td>\n",
              "      <td>2018-09-21</td>\n",
              "      <td>14.0</td>\n",
              "      <td>1000</td>\n",
              "      <td>9</td>\n",
              "      <td>осень</td>\n",
              "    </tr>\n",
              "    <tr>\n",
              "      <th>4</th>\n",
              "      <td>1000_4</td>\n",
              "      <td>2018-12-15</td>\n",
              "      <td>6.0</td>\n",
              "      <td>1000</td>\n",
              "      <td>12</td>\n",
              "      <td>зима</td>\n",
              "    </tr>\n",
              "    <tr>\n",
              "      <th>7</th>\n",
              "      <td>1000_7</td>\n",
              "      <td>2018-08-22</td>\n",
              "      <td>19.0</td>\n",
              "      <td>1000</td>\n",
              "      <td>8</td>\n",
              "      <td>лето</td>\n",
              "    </tr>\n",
              "    <tr>\n",
              "      <th>8</th>\n",
              "      <td>1000_8</td>\n",
              "      <td>2018-09-15</td>\n",
              "      <td>19.0</td>\n",
              "      <td>1000</td>\n",
              "      <td>9</td>\n",
              "      <td>осень</td>\n",
              "    </tr>\n",
              "  </tbody>\n",
              "</table>\n",
              "</div>"
            ],
            "text/plain": [
              "       id  call_date  duration  user_id  месяц время года\n",
              "2  1000_2 2018-06-11       3.0     1000      6       лето\n",
              "3  1000_3 2018-09-21      14.0     1000      9      осень\n",
              "4  1000_4 2018-12-15       6.0     1000     12       зима\n",
              "7  1000_7 2018-08-22      19.0     1000      8       лето\n",
              "8  1000_8 2018-09-15      19.0     1000      9      осень"
            ]
          },
          "metadata": {},
          "execution_count": 22
        }
      ]
    },
    {
      "cell_type": "code",
      "metadata": {
        "colab": {
          "base_uri": "https://localhost:8080/",
          "height": 204
        },
        "id": "GYqcg-7DnI6d",
        "outputId": "ba7dea96-fb6f-4362-b5b8-2a06fe55fe74"
      },
      "source": [
        "messages.head()"
      ],
      "execution_count": 23,
      "outputs": [
        {
          "output_type": "execute_result",
          "data": {
            "text/html": [
              "<div>\n",
              "<style scoped>\n",
              "    .dataframe tbody tr th:only-of-type {\n",
              "        vertical-align: middle;\n",
              "    }\n",
              "\n",
              "    .dataframe tbody tr th {\n",
              "        vertical-align: top;\n",
              "    }\n",
              "\n",
              "    .dataframe thead th {\n",
              "        text-align: right;\n",
              "    }\n",
              "</style>\n",
              "<table border=\"1\" class=\"dataframe\">\n",
              "  <thead>\n",
              "    <tr style=\"text-align: right;\">\n",
              "      <th></th>\n",
              "      <th>id</th>\n",
              "      <th>message_date</th>\n",
              "      <th>user_id</th>\n",
              "      <th>месяц</th>\n",
              "      <th>время года</th>\n",
              "    </tr>\n",
              "  </thead>\n",
              "  <tbody>\n",
              "    <tr>\n",
              "      <th>0</th>\n",
              "      <td>1000_0</td>\n",
              "      <td>2018-06-27</td>\n",
              "      <td>1000</td>\n",
              "      <td>6</td>\n",
              "      <td>лето</td>\n",
              "    </tr>\n",
              "    <tr>\n",
              "      <th>1</th>\n",
              "      <td>1000_1</td>\n",
              "      <td>2018-10-08</td>\n",
              "      <td>1000</td>\n",
              "      <td>10</td>\n",
              "      <td>осень</td>\n",
              "    </tr>\n",
              "    <tr>\n",
              "      <th>2</th>\n",
              "      <td>1000_2</td>\n",
              "      <td>2018-08-04</td>\n",
              "      <td>1000</td>\n",
              "      <td>8</td>\n",
              "      <td>лето</td>\n",
              "    </tr>\n",
              "    <tr>\n",
              "      <th>3</th>\n",
              "      <td>1000_3</td>\n",
              "      <td>2018-06-16</td>\n",
              "      <td>1000</td>\n",
              "      <td>6</td>\n",
              "      <td>лето</td>\n",
              "    </tr>\n",
              "    <tr>\n",
              "      <th>4</th>\n",
              "      <td>1000_4</td>\n",
              "      <td>2018-12-05</td>\n",
              "      <td>1000</td>\n",
              "      <td>12</td>\n",
              "      <td>зима</td>\n",
              "    </tr>\n",
              "  </tbody>\n",
              "</table>\n",
              "</div>"
            ],
            "text/plain": [
              "       id message_date  user_id  месяц время года\n",
              "0  1000_0   2018-06-27     1000      6       лето\n",
              "1  1000_1   2018-10-08     1000     10      осень\n",
              "2  1000_2   2018-08-04     1000      8       лето\n",
              "3  1000_3   2018-06-16     1000      6       лето\n",
              "4  1000_4   2018-12-05     1000     12       зима"
            ]
          },
          "metadata": {},
          "execution_count": 23
        }
      ]
    },
    {
      "cell_type": "code",
      "metadata": {
        "colab": {
          "base_uri": "https://localhost:8080/",
          "height": 204
        },
        "id": "WRyiWoXynI6d",
        "outputId": "88f6a4fa-b6af-4a6c-ea6e-5851aa3fcc0c"
      },
      "source": [
        "internet.head()"
      ],
      "execution_count": 24,
      "outputs": [
        {
          "output_type": "execute_result",
          "data": {
            "text/html": [
              "<div>\n",
              "<style scoped>\n",
              "    .dataframe tbody tr th:only-of-type {\n",
              "        vertical-align: middle;\n",
              "    }\n",
              "\n",
              "    .dataframe tbody tr th {\n",
              "        vertical-align: top;\n",
              "    }\n",
              "\n",
              "    .dataframe thead th {\n",
              "        text-align: right;\n",
              "    }\n",
              "</style>\n",
              "<table border=\"1\" class=\"dataframe\">\n",
              "  <thead>\n",
              "    <tr style=\"text-align: right;\">\n",
              "      <th></th>\n",
              "      <th>Unnamed: 0</th>\n",
              "      <th>id</th>\n",
              "      <th>mb_used</th>\n",
              "      <th>session_date</th>\n",
              "      <th>user_id</th>\n",
              "      <th>месяц</th>\n",
              "      <th>время года</th>\n",
              "    </tr>\n",
              "  </thead>\n",
              "  <tbody>\n",
              "    <tr>\n",
              "      <th>0</th>\n",
              "      <td>0</td>\n",
              "      <td>1000_0</td>\n",
              "      <td>113.0</td>\n",
              "      <td>2018-11-25</td>\n",
              "      <td>1000</td>\n",
              "      <td>11</td>\n",
              "      <td>осень</td>\n",
              "    </tr>\n",
              "    <tr>\n",
              "      <th>1</th>\n",
              "      <td>1</td>\n",
              "      <td>1000_1</td>\n",
              "      <td>1053.0</td>\n",
              "      <td>2018-09-07</td>\n",
              "      <td>1000</td>\n",
              "      <td>9</td>\n",
              "      <td>осень</td>\n",
              "    </tr>\n",
              "    <tr>\n",
              "      <th>2</th>\n",
              "      <td>2</td>\n",
              "      <td>1000_2</td>\n",
              "      <td>1198.0</td>\n",
              "      <td>2018-06-25</td>\n",
              "      <td>1000</td>\n",
              "      <td>6</td>\n",
              "      <td>лето</td>\n",
              "    </tr>\n",
              "    <tr>\n",
              "      <th>3</th>\n",
              "      <td>3</td>\n",
              "      <td>1000_3</td>\n",
              "      <td>551.0</td>\n",
              "      <td>2018-08-22</td>\n",
              "      <td>1000</td>\n",
              "      <td>8</td>\n",
              "      <td>лето</td>\n",
              "    </tr>\n",
              "    <tr>\n",
              "      <th>4</th>\n",
              "      <td>4</td>\n",
              "      <td>1000_4</td>\n",
              "      <td>303.0</td>\n",
              "      <td>2018-09-24</td>\n",
              "      <td>1000</td>\n",
              "      <td>9</td>\n",
              "      <td>осень</td>\n",
              "    </tr>\n",
              "  </tbody>\n",
              "</table>\n",
              "</div>"
            ],
            "text/plain": [
              "   Unnamed: 0      id  mb_used session_date  user_id  месяц время года\n",
              "0           0  1000_0    113.0   2018-11-25     1000     11      осень\n",
              "1           1  1000_1   1053.0   2018-09-07     1000      9      осень\n",
              "2           2  1000_2   1198.0   2018-06-25     1000      6       лето\n",
              "3           3  1000_3    551.0   2018-08-22     1000      8       лето\n",
              "4           4  1000_4    303.0   2018-09-24     1000      9      осень"
            ]
          },
          "metadata": {},
          "execution_count": 24
        }
      ]
    },
    {
      "cell_type": "code",
      "metadata": {
        "colab": {
          "base_uri": "https://localhost:8080/",
          "height": 204
        },
        "id": "grhhdxi5nI6d",
        "outputId": "717f2b8f-8f3f-47ba-af08-2071d761ef59"
      },
      "source": [
        "users.head()"
      ],
      "execution_count": 25,
      "outputs": [
        {
          "output_type": "execute_result",
          "data": {
            "text/html": [
              "<div>\n",
              "<style scoped>\n",
              "    .dataframe tbody tr th:only-of-type {\n",
              "        vertical-align: middle;\n",
              "    }\n",
              "\n",
              "    .dataframe tbody tr th {\n",
              "        vertical-align: top;\n",
              "    }\n",
              "\n",
              "    .dataframe thead th {\n",
              "        text-align: right;\n",
              "    }\n",
              "</style>\n",
              "<table border=\"1\" class=\"dataframe\">\n",
              "  <thead>\n",
              "    <tr style=\"text-align: right;\">\n",
              "      <th></th>\n",
              "      <th>user_id</th>\n",
              "      <th>age</th>\n",
              "      <th>churn_date</th>\n",
              "      <th>city</th>\n",
              "      <th>first_name</th>\n",
              "      <th>last_name</th>\n",
              "      <th>reg_date</th>\n",
              "      <th>tariff</th>\n",
              "      <th>месяц</th>\n",
              "      <th>время года</th>\n",
              "    </tr>\n",
              "  </thead>\n",
              "  <tbody>\n",
              "    <tr>\n",
              "      <th>0</th>\n",
              "      <td>1000</td>\n",
              "      <td>52</td>\n",
              "      <td>NaN</td>\n",
              "      <td>Краснодар</td>\n",
              "      <td>Рафаил</td>\n",
              "      <td>Верещагин</td>\n",
              "      <td>2018-05-25</td>\n",
              "      <td>ultra</td>\n",
              "      <td>5</td>\n",
              "      <td>весна</td>\n",
              "    </tr>\n",
              "    <tr>\n",
              "      <th>1</th>\n",
              "      <td>1001</td>\n",
              "      <td>41</td>\n",
              "      <td>NaN</td>\n",
              "      <td>Москва</td>\n",
              "      <td>Иван</td>\n",
              "      <td>Ежов</td>\n",
              "      <td>2018-11-01</td>\n",
              "      <td>smart</td>\n",
              "      <td>11</td>\n",
              "      <td>осень</td>\n",
              "    </tr>\n",
              "    <tr>\n",
              "      <th>2</th>\n",
              "      <td>1002</td>\n",
              "      <td>59</td>\n",
              "      <td>NaN</td>\n",
              "      <td>Стерлитамак</td>\n",
              "      <td>Евгений</td>\n",
              "      <td>Абрамович</td>\n",
              "      <td>2018-06-17</td>\n",
              "      <td>smart</td>\n",
              "      <td>6</td>\n",
              "      <td>лето</td>\n",
              "    </tr>\n",
              "    <tr>\n",
              "      <th>3</th>\n",
              "      <td>1003</td>\n",
              "      <td>23</td>\n",
              "      <td>NaN</td>\n",
              "      <td>Москва</td>\n",
              "      <td>Белла</td>\n",
              "      <td>Белякова</td>\n",
              "      <td>2018-08-17</td>\n",
              "      <td>ultra</td>\n",
              "      <td>8</td>\n",
              "      <td>лето</td>\n",
              "    </tr>\n",
              "    <tr>\n",
              "      <th>4</th>\n",
              "      <td>1004</td>\n",
              "      <td>68</td>\n",
              "      <td>NaN</td>\n",
              "      <td>Новокузнецк</td>\n",
              "      <td>Татьяна</td>\n",
              "      <td>Авдеенко</td>\n",
              "      <td>2018-05-14</td>\n",
              "      <td>ultra</td>\n",
              "      <td>5</td>\n",
              "      <td>весна</td>\n",
              "    </tr>\n",
              "  </tbody>\n",
              "</table>\n",
              "</div>"
            ],
            "text/plain": [
              "   user_id  age churn_date         city  ...   reg_date tariff месяц время года\n",
              "0     1000   52        NaN    Краснодар  ... 2018-05-25  ultra     5      весна\n",
              "1     1001   41        NaN       Москва  ... 2018-11-01  smart    11      осень\n",
              "2     1002   59        NaN  Стерлитамак  ... 2018-06-17  smart     6       лето\n",
              "3     1003   23        NaN       Москва  ... 2018-08-17  ultra     8       лето\n",
              "4     1004   68        NaN  Новокузнецк  ... 2018-05-14  ultra     5      весна\n",
              "\n",
              "[5 rows x 10 columns]"
            ]
          },
          "metadata": {},
          "execution_count": 25
        }
      ]
    },
    {
      "cell_type": "markdown",
      "metadata": {
        "id": "nPLgDIV7nI6e"
      },
      "source": [
        "Супер! Теперь будет удобнее делать подсчёты и смотреть на распределение"
      ]
    },
    {
      "cell_type": "markdown",
      "metadata": {
        "id": "gw-U0JhDnI6q"
      },
      "source": [
        "#### Для подсчёта затраченых ресурсов соберём в один датафрейм нужную нам информацию (df)"
      ]
    },
    {
      "cell_type": "code",
      "metadata": {
        "id": "hLImLbEZnI6q"
      },
      "source": [
        "calls_season = calls.groupby(['user_id', 'время года', 'месяц'])['duration'].agg(['count', 'sum'])\n",
        "messages_season = messages.groupby(['user_id', 'время года', 'месяц'])['id'].count()\n",
        "internet_season = internet.groupby(['user_id', 'время года', 'месяц']).sum()['mb_used']"
      ],
      "execution_count": 26,
      "outputs": []
    },
    {
      "cell_type": "code",
      "metadata": {
        "colab": {
          "base_uri": "https://localhost:8080/",
          "height": 515
        },
        "id": "gLrH7n4PnI6q",
        "outputId": "fa5196aa-ccda-4e9d-b816-138d41409e37"
      },
      "source": [
        "df = pd.concat([calls_season, messages_season, internet_season], axis=1)\n",
        "df = df.reset_index()\n",
        "df.head(15)"
      ],
      "execution_count": 27,
      "outputs": [
        {
          "output_type": "execute_result",
          "data": {
            "text/html": [
              "<div>\n",
              "<style scoped>\n",
              "    .dataframe tbody tr th:only-of-type {\n",
              "        vertical-align: middle;\n",
              "    }\n",
              "\n",
              "    .dataframe tbody tr th {\n",
              "        vertical-align: top;\n",
              "    }\n",
              "\n",
              "    .dataframe thead th {\n",
              "        text-align: right;\n",
              "    }\n",
              "</style>\n",
              "<table border=\"1\" class=\"dataframe\">\n",
              "  <thead>\n",
              "    <tr style=\"text-align: right;\">\n",
              "      <th></th>\n",
              "      <th>user_id</th>\n",
              "      <th>время года</th>\n",
              "      <th>месяц</th>\n",
              "      <th>count</th>\n",
              "      <th>sum</th>\n",
              "      <th>id</th>\n",
              "      <th>mb_used</th>\n",
              "    </tr>\n",
              "  </thead>\n",
              "  <tbody>\n",
              "    <tr>\n",
              "      <th>0</th>\n",
              "      <td>1000</td>\n",
              "      <td>весна</td>\n",
              "      <td>5</td>\n",
              "      <td>17.0</td>\n",
              "      <td>159.0</td>\n",
              "      <td>22.0</td>\n",
              "      <td>2256.0</td>\n",
              "    </tr>\n",
              "    <tr>\n",
              "      <th>1</th>\n",
              "      <td>1000</td>\n",
              "      <td>зима</td>\n",
              "      <td>12</td>\n",
              "      <td>38.0</td>\n",
              "      <td>333.0</td>\n",
              "      <td>70.0</td>\n",
              "      <td>9827.0</td>\n",
              "    </tr>\n",
              "    <tr>\n",
              "      <th>2</th>\n",
              "      <td>1000</td>\n",
              "      <td>лето</td>\n",
              "      <td>6</td>\n",
              "      <td>28.0</td>\n",
              "      <td>172.0</td>\n",
              "      <td>60.0</td>\n",
              "      <td>23257.0</td>\n",
              "    </tr>\n",
              "    <tr>\n",
              "      <th>3</th>\n",
              "      <td>1000</td>\n",
              "      <td>лето</td>\n",
              "      <td>7</td>\n",
              "      <td>41.0</td>\n",
              "      <td>340.0</td>\n",
              "      <td>75.0</td>\n",
              "      <td>14016.0</td>\n",
              "    </tr>\n",
              "    <tr>\n",
              "      <th>4</th>\n",
              "      <td>1000</td>\n",
              "      <td>лето</td>\n",
              "      <td>8</td>\n",
              "      <td>42.0</td>\n",
              "      <td>408.0</td>\n",
              "      <td>81.0</td>\n",
              "      <td>14070.0</td>\n",
              "    </tr>\n",
              "    <tr>\n",
              "      <th>5</th>\n",
              "      <td>1000</td>\n",
              "      <td>осень</td>\n",
              "      <td>9</td>\n",
              "      <td>46.0</td>\n",
              "      <td>466.0</td>\n",
              "      <td>57.0</td>\n",
              "      <td>14581.0</td>\n",
              "    </tr>\n",
              "    <tr>\n",
              "      <th>6</th>\n",
              "      <td>1000</td>\n",
              "      <td>осень</td>\n",
              "      <td>10</td>\n",
              "      <td>44.0</td>\n",
              "      <td>350.0</td>\n",
              "      <td>73.0</td>\n",
              "      <td>14717.0</td>\n",
              "    </tr>\n",
              "    <tr>\n",
              "      <th>7</th>\n",
              "      <td>1000</td>\n",
              "      <td>осень</td>\n",
              "      <td>11</td>\n",
              "      <td>37.0</td>\n",
              "      <td>338.0</td>\n",
              "      <td>58.0</td>\n",
              "      <td>14768.0</td>\n",
              "    </tr>\n",
              "    <tr>\n",
              "      <th>8</th>\n",
              "      <td>1001</td>\n",
              "      <td>зима</td>\n",
              "      <td>12</td>\n",
              "      <td>47.0</td>\n",
              "      <td>414.0</td>\n",
              "      <td>NaN</td>\n",
              "      <td>14053.0</td>\n",
              "    </tr>\n",
              "    <tr>\n",
              "      <th>9</th>\n",
              "      <td>1001</td>\n",
              "      <td>осень</td>\n",
              "      <td>11</td>\n",
              "      <td>45.0</td>\n",
              "      <td>430.0</td>\n",
              "      <td>NaN</td>\n",
              "      <td>18452.0</td>\n",
              "    </tr>\n",
              "    <tr>\n",
              "      <th>10</th>\n",
              "      <td>1002</td>\n",
              "      <td>зима</td>\n",
              "      <td>12</td>\n",
              "      <td>27.0</td>\n",
              "      <td>236.0</td>\n",
              "      <td>12.0</td>\n",
              "      <td>18137.0</td>\n",
              "    </tr>\n",
              "    <tr>\n",
              "      <th>11</th>\n",
              "      <td>1002</td>\n",
              "      <td>лето</td>\n",
              "      <td>6</td>\n",
              "      <td>14.0</td>\n",
              "      <td>117.0</td>\n",
              "      <td>4.0</td>\n",
              "      <td>10871.0</td>\n",
              "    </tr>\n",
              "    <tr>\n",
              "      <th>12</th>\n",
              "      <td>1002</td>\n",
              "      <td>лето</td>\n",
              "      <td>7</td>\n",
              "      <td>21.0</td>\n",
              "      <td>214.0</td>\n",
              "      <td>11.0</td>\n",
              "      <td>17601.0</td>\n",
              "    </tr>\n",
              "    <tr>\n",
              "      <th>13</th>\n",
              "      <td>1002</td>\n",
              "      <td>лето</td>\n",
              "      <td>8</td>\n",
              "      <td>37.0</td>\n",
              "      <td>289.0</td>\n",
              "      <td>13.0</td>\n",
              "      <td>20347.0</td>\n",
              "    </tr>\n",
              "    <tr>\n",
              "      <th>14</th>\n",
              "      <td>1002</td>\n",
              "      <td>осень</td>\n",
              "      <td>9</td>\n",
              "      <td>25.0</td>\n",
              "      <td>206.0</td>\n",
              "      <td>4.0</td>\n",
              "      <td>16712.0</td>\n",
              "    </tr>\n",
              "  </tbody>\n",
              "</table>\n",
              "</div>"
            ],
            "text/plain": [
              "    user_id время года  месяц  count    sum    id  mb_used\n",
              "0      1000      весна      5   17.0  159.0  22.0   2256.0\n",
              "1      1000       зима     12   38.0  333.0  70.0   9827.0\n",
              "2      1000       лето      6   28.0  172.0  60.0  23257.0\n",
              "3      1000       лето      7   41.0  340.0  75.0  14016.0\n",
              "4      1000       лето      8   42.0  408.0  81.0  14070.0\n",
              "5      1000      осень      9   46.0  466.0  57.0  14581.0\n",
              "6      1000      осень     10   44.0  350.0  73.0  14717.0\n",
              "7      1000      осень     11   37.0  338.0  58.0  14768.0\n",
              "8      1001       зима     12   47.0  414.0   NaN  14053.0\n",
              "9      1001      осень     11   45.0  430.0   NaN  18452.0\n",
              "10     1002       зима     12   27.0  236.0  12.0  18137.0\n",
              "11     1002       лето      6   14.0  117.0   4.0  10871.0\n",
              "12     1002       лето      7   21.0  214.0  11.0  17601.0\n",
              "13     1002       лето      8   37.0  289.0  13.0  20347.0\n",
              "14     1002      осень      9   25.0  206.0   4.0  16712.0"
            ]
          },
          "metadata": {},
          "execution_count": 27
        }
      ]
    },
    {
      "cell_type": "markdown",
      "metadata": {
        "id": "wiM_ji3nnI6r"
      },
      "source": [
        "Добавим столбцы с тарифом, городом\n"
      ]
    },
    {
      "cell_type": "code",
      "metadata": {
        "id": "ewfSFb33nI6r"
      },
      "source": [
        "map_tariff = dict(pd.Series(users['tariff'].values, index=users['user_id']))\n",
        "df['Тариф'] = df['user_id'].map(map_tariff)\n",
        "\n",
        "map_city = dict(pd.Series(users['city'].values, index=users['user_id']))\n",
        "df['Город'] = df['user_id'].map(map_city)\n"
      ],
      "execution_count": 28,
      "outputs": []
    },
    {
      "cell_type": "markdown",
      "metadata": {
        "id": "yOko2E31nI6r"
      },
      "source": [
        "Переименуем столбцы"
      ]
    },
    {
      "cell_type": "code",
      "metadata": {
        "id": "terbx0ggnI6r"
      },
      "source": [
        "df.columns = ['User_id', 'Время года', 'Месяц', 'Кол-во звонков, шт.', 'Звонки, мин.', \n",
        "                            'СМС, шт.', 'Интернет, Мб', 'Тариф', 'Город']"
      ],
      "execution_count": 29,
      "outputs": []
    },
    {
      "cell_type": "markdown",
      "metadata": {
        "id": "EakNJQdSnI6r"
      },
      "source": [
        "Смотрим на итог"
      ]
    },
    {
      "cell_type": "code",
      "metadata": {
        "colab": {
          "base_uri": "https://localhost:8080/",
          "height": 359
        },
        "id": "6151UXO3nI6s",
        "outputId": "8fbd46e0-142a-4044-d25f-2087cc3e1762"
      },
      "source": [
        "df.head(10)"
      ],
      "execution_count": 30,
      "outputs": [
        {
          "output_type": "execute_result",
          "data": {
            "text/html": [
              "<div>\n",
              "<style scoped>\n",
              "    .dataframe tbody tr th:only-of-type {\n",
              "        vertical-align: middle;\n",
              "    }\n",
              "\n",
              "    .dataframe tbody tr th {\n",
              "        vertical-align: top;\n",
              "    }\n",
              "\n",
              "    .dataframe thead th {\n",
              "        text-align: right;\n",
              "    }\n",
              "</style>\n",
              "<table border=\"1\" class=\"dataframe\">\n",
              "  <thead>\n",
              "    <tr style=\"text-align: right;\">\n",
              "      <th></th>\n",
              "      <th>User_id</th>\n",
              "      <th>Время года</th>\n",
              "      <th>Месяц</th>\n",
              "      <th>Кол-во звонков, шт.</th>\n",
              "      <th>Звонки, мин.</th>\n",
              "      <th>СМС, шт.</th>\n",
              "      <th>Интернет, Мб</th>\n",
              "      <th>Тариф</th>\n",
              "      <th>Город</th>\n",
              "    </tr>\n",
              "  </thead>\n",
              "  <tbody>\n",
              "    <tr>\n",
              "      <th>0</th>\n",
              "      <td>1000</td>\n",
              "      <td>весна</td>\n",
              "      <td>5</td>\n",
              "      <td>17.0</td>\n",
              "      <td>159.0</td>\n",
              "      <td>22.0</td>\n",
              "      <td>2256.0</td>\n",
              "      <td>ultra</td>\n",
              "      <td>Краснодар</td>\n",
              "    </tr>\n",
              "    <tr>\n",
              "      <th>1</th>\n",
              "      <td>1000</td>\n",
              "      <td>зима</td>\n",
              "      <td>12</td>\n",
              "      <td>38.0</td>\n",
              "      <td>333.0</td>\n",
              "      <td>70.0</td>\n",
              "      <td>9827.0</td>\n",
              "      <td>ultra</td>\n",
              "      <td>Краснодар</td>\n",
              "    </tr>\n",
              "    <tr>\n",
              "      <th>2</th>\n",
              "      <td>1000</td>\n",
              "      <td>лето</td>\n",
              "      <td>6</td>\n",
              "      <td>28.0</td>\n",
              "      <td>172.0</td>\n",
              "      <td>60.0</td>\n",
              "      <td>23257.0</td>\n",
              "      <td>ultra</td>\n",
              "      <td>Краснодар</td>\n",
              "    </tr>\n",
              "    <tr>\n",
              "      <th>3</th>\n",
              "      <td>1000</td>\n",
              "      <td>лето</td>\n",
              "      <td>7</td>\n",
              "      <td>41.0</td>\n",
              "      <td>340.0</td>\n",
              "      <td>75.0</td>\n",
              "      <td>14016.0</td>\n",
              "      <td>ultra</td>\n",
              "      <td>Краснодар</td>\n",
              "    </tr>\n",
              "    <tr>\n",
              "      <th>4</th>\n",
              "      <td>1000</td>\n",
              "      <td>лето</td>\n",
              "      <td>8</td>\n",
              "      <td>42.0</td>\n",
              "      <td>408.0</td>\n",
              "      <td>81.0</td>\n",
              "      <td>14070.0</td>\n",
              "      <td>ultra</td>\n",
              "      <td>Краснодар</td>\n",
              "    </tr>\n",
              "    <tr>\n",
              "      <th>5</th>\n",
              "      <td>1000</td>\n",
              "      <td>осень</td>\n",
              "      <td>9</td>\n",
              "      <td>46.0</td>\n",
              "      <td>466.0</td>\n",
              "      <td>57.0</td>\n",
              "      <td>14581.0</td>\n",
              "      <td>ultra</td>\n",
              "      <td>Краснодар</td>\n",
              "    </tr>\n",
              "    <tr>\n",
              "      <th>6</th>\n",
              "      <td>1000</td>\n",
              "      <td>осень</td>\n",
              "      <td>10</td>\n",
              "      <td>44.0</td>\n",
              "      <td>350.0</td>\n",
              "      <td>73.0</td>\n",
              "      <td>14717.0</td>\n",
              "      <td>ultra</td>\n",
              "      <td>Краснодар</td>\n",
              "    </tr>\n",
              "    <tr>\n",
              "      <th>7</th>\n",
              "      <td>1000</td>\n",
              "      <td>осень</td>\n",
              "      <td>11</td>\n",
              "      <td>37.0</td>\n",
              "      <td>338.0</td>\n",
              "      <td>58.0</td>\n",
              "      <td>14768.0</td>\n",
              "      <td>ultra</td>\n",
              "      <td>Краснодар</td>\n",
              "    </tr>\n",
              "    <tr>\n",
              "      <th>8</th>\n",
              "      <td>1001</td>\n",
              "      <td>зима</td>\n",
              "      <td>12</td>\n",
              "      <td>47.0</td>\n",
              "      <td>414.0</td>\n",
              "      <td>NaN</td>\n",
              "      <td>14053.0</td>\n",
              "      <td>smart</td>\n",
              "      <td>Москва</td>\n",
              "    </tr>\n",
              "    <tr>\n",
              "      <th>9</th>\n",
              "      <td>1001</td>\n",
              "      <td>осень</td>\n",
              "      <td>11</td>\n",
              "      <td>45.0</td>\n",
              "      <td>430.0</td>\n",
              "      <td>NaN</td>\n",
              "      <td>18452.0</td>\n",
              "      <td>smart</td>\n",
              "      <td>Москва</td>\n",
              "    </tr>\n",
              "  </tbody>\n",
              "</table>\n",
              "</div>"
            ],
            "text/plain": [
              "   User_id Время года  Месяц  ...  Интернет, Мб  Тариф      Город\n",
              "0     1000      весна      5  ...        2256.0  ultra  Краснодар\n",
              "1     1000       зима     12  ...        9827.0  ultra  Краснодар\n",
              "2     1000       лето      6  ...       23257.0  ultra  Краснодар\n",
              "3     1000       лето      7  ...       14016.0  ultra  Краснодар\n",
              "4     1000       лето      8  ...       14070.0  ultra  Краснодар\n",
              "5     1000      осень      9  ...       14581.0  ultra  Краснодар\n",
              "6     1000      осень     10  ...       14717.0  ultra  Краснодар\n",
              "7     1000      осень     11  ...       14768.0  ultra  Краснодар\n",
              "8     1001       зима     12  ...       14053.0  smart     Москва\n",
              "9     1001      осень     11  ...       18452.0  smart     Москва\n",
              "\n",
              "[10 rows x 9 columns]"
            ]
          },
          "metadata": {},
          "execution_count": 30
        }
      ]
    },
    {
      "cell_type": "code",
      "metadata": {
        "colab": {
          "base_uri": "https://localhost:8080/"
        },
        "id": "HB48KmzCnI6s",
        "outputId": "1479af6d-0aca-494f-da88-acbd9e4bc993"
      },
      "source": [
        "df.info()"
      ],
      "execution_count": 31,
      "outputs": [
        {
          "output_type": "stream",
          "name": "stdout",
          "text": [
            "<class 'pandas.core.frame.DataFrame'>\n",
            "RangeIndex: 3214 entries, 0 to 3213\n",
            "Data columns (total 9 columns):\n",
            " #   Column               Non-Null Count  Dtype  \n",
            "---  ------               --------------  -----  \n",
            " 0   User_id              3214 non-null   int64  \n",
            " 1   Время года           3214 non-null   object \n",
            " 2   Месяц                3214 non-null   int64  \n",
            " 3   Кол-во звонков, шт.  3168 non-null   float64\n",
            " 4   Звонки, мин.         3168 non-null   float64\n",
            " 5   СМС, шт.             2717 non-null   float64\n",
            " 6   Интернет, Мб         3201 non-null   float64\n",
            " 7   Тариф                3214 non-null   object \n",
            " 8   Город                3214 non-null   object \n",
            "dtypes: float64(4), int64(2), object(3)\n",
            "memory usage: 226.1+ KB\n"
          ]
        }
      ]
    },
    {
      "cell_type": "markdown",
      "metadata": {
        "id": "bO2Qrd1AnI6s"
      },
      "source": [
        "#### Заполнение пропусков\n",
        "\n",
        "\n"
      ]
    },
    {
      "cell_type": "code",
      "metadata": {
        "colab": {
          "base_uri": "https://localhost:8080/",
          "height": 453
        },
        "id": "FLyc7Zj0nI6s",
        "outputId": "d0d01044-c1ac-45bc-d5c7-caaa34627438"
      },
      "source": [
        "df[df['Интернет, Мб'].isnull()]"
      ],
      "execution_count": 32,
      "outputs": [
        {
          "output_type": "execute_result",
          "data": {
            "text/html": [
              "<div>\n",
              "<style scoped>\n",
              "    .dataframe tbody tr th:only-of-type {\n",
              "        vertical-align: middle;\n",
              "    }\n",
              "\n",
              "    .dataframe tbody tr th {\n",
              "        vertical-align: top;\n",
              "    }\n",
              "\n",
              "    .dataframe thead th {\n",
              "        text-align: right;\n",
              "    }\n",
              "</style>\n",
              "<table border=\"1\" class=\"dataframe\">\n",
              "  <thead>\n",
              "    <tr style=\"text-align: right;\">\n",
              "      <th></th>\n",
              "      <th>User_id</th>\n",
              "      <th>Время года</th>\n",
              "      <th>Месяц</th>\n",
              "      <th>Кол-во звонков, шт.</th>\n",
              "      <th>Звонки, мин.</th>\n",
              "      <th>СМС, шт.</th>\n",
              "      <th>Интернет, Мб</th>\n",
              "      <th>Тариф</th>\n",
              "      <th>Город</th>\n",
              "    </tr>\n",
              "  </thead>\n",
              "  <tbody>\n",
              "    <tr>\n",
              "      <th>592</th>\n",
              "      <td>1094</td>\n",
              "      <td>весна</td>\n",
              "      <td>5</td>\n",
              "      <td>12.0</td>\n",
              "      <td>107.0</td>\n",
              "      <td>3.0</td>\n",
              "      <td>NaN</td>\n",
              "      <td>ultra</td>\n",
              "      <td>Новосибирск</td>\n",
              "    </tr>\n",
              "    <tr>\n",
              "      <th>1722</th>\n",
              "      <td>1273</td>\n",
              "      <td>весна</td>\n",
              "      <td>5</td>\n",
              "      <td>19.0</td>\n",
              "      <td>220.0</td>\n",
              "      <td>21.0</td>\n",
              "      <td>NaN</td>\n",
              "      <td>ultra</td>\n",
              "      <td>Курган</td>\n",
              "    </tr>\n",
              "    <tr>\n",
              "      <th>1723</th>\n",
              "      <td>1273</td>\n",
              "      <td>зима</td>\n",
              "      <td>12</td>\n",
              "      <td>38.0</td>\n",
              "      <td>260.0</td>\n",
              "      <td>39.0</td>\n",
              "      <td>NaN</td>\n",
              "      <td>ultra</td>\n",
              "      <td>Курган</td>\n",
              "    </tr>\n",
              "    <tr>\n",
              "      <th>1724</th>\n",
              "      <td>1273</td>\n",
              "      <td>лето</td>\n",
              "      <td>6</td>\n",
              "      <td>28.0</td>\n",
              "      <td>230.0</td>\n",
              "      <td>38.0</td>\n",
              "      <td>NaN</td>\n",
              "      <td>ultra</td>\n",
              "      <td>Курган</td>\n",
              "    </tr>\n",
              "    <tr>\n",
              "      <th>1725</th>\n",
              "      <td>1273</td>\n",
              "      <td>лето</td>\n",
              "      <td>7</td>\n",
              "      <td>30.0</td>\n",
              "      <td>253.0</td>\n",
              "      <td>37.0</td>\n",
              "      <td>NaN</td>\n",
              "      <td>ultra</td>\n",
              "      <td>Курган</td>\n",
              "    </tr>\n",
              "    <tr>\n",
              "      <th>1726</th>\n",
              "      <td>1273</td>\n",
              "      <td>лето</td>\n",
              "      <td>8</td>\n",
              "      <td>39.0</td>\n",
              "      <td>253.0</td>\n",
              "      <td>41.0</td>\n",
              "      <td>NaN</td>\n",
              "      <td>ultra</td>\n",
              "      <td>Курган</td>\n",
              "    </tr>\n",
              "    <tr>\n",
              "      <th>1727</th>\n",
              "      <td>1273</td>\n",
              "      <td>осень</td>\n",
              "      <td>9</td>\n",
              "      <td>28.0</td>\n",
              "      <td>223.0</td>\n",
              "      <td>32.0</td>\n",
              "      <td>NaN</td>\n",
              "      <td>ultra</td>\n",
              "      <td>Курган</td>\n",
              "    </tr>\n",
              "    <tr>\n",
              "      <th>1728</th>\n",
              "      <td>1273</td>\n",
              "      <td>осень</td>\n",
              "      <td>10</td>\n",
              "      <td>35.0</td>\n",
              "      <td>315.0</td>\n",
              "      <td>35.0</td>\n",
              "      <td>NaN</td>\n",
              "      <td>ultra</td>\n",
              "      <td>Курган</td>\n",
              "    </tr>\n",
              "    <tr>\n",
              "      <th>1729</th>\n",
              "      <td>1273</td>\n",
              "      <td>осень</td>\n",
              "      <td>11</td>\n",
              "      <td>31.0</td>\n",
              "      <td>272.0</td>\n",
              "      <td>29.0</td>\n",
              "      <td>NaN</td>\n",
              "      <td>ultra</td>\n",
              "      <td>Курган</td>\n",
              "    </tr>\n",
              "    <tr>\n",
              "      <th>2307</th>\n",
              "      <td>1365</td>\n",
              "      <td>осень</td>\n",
              "      <td>10</td>\n",
              "      <td>5.0</td>\n",
              "      <td>43.0</td>\n",
              "      <td>1.0</td>\n",
              "      <td>NaN</td>\n",
              "      <td>smart</td>\n",
              "      <td>Ростов-на-Дону</td>\n",
              "    </tr>\n",
              "    <tr>\n",
              "      <th>2390</th>\n",
              "      <td>1377</td>\n",
              "      <td>зима</td>\n",
              "      <td>2</td>\n",
              "      <td>20.0</td>\n",
              "      <td>179.0</td>\n",
              "      <td>2.0</td>\n",
              "      <td>NaN</td>\n",
              "      <td>ultra</td>\n",
              "      <td>Брянск</td>\n",
              "    </tr>\n",
              "    <tr>\n",
              "      <th>2503</th>\n",
              "      <td>1392</td>\n",
              "      <td>зима</td>\n",
              "      <td>2</td>\n",
              "      <td>2.0</td>\n",
              "      <td>13.0</td>\n",
              "      <td>3.0</td>\n",
              "      <td>NaN</td>\n",
              "      <td>ultra</td>\n",
              "      <td>Челябинск</td>\n",
              "    </tr>\n",
              "    <tr>\n",
              "      <th>2859</th>\n",
              "      <td>1446</td>\n",
              "      <td>лето</td>\n",
              "      <td>8</td>\n",
              "      <td>4.0</td>\n",
              "      <td>50.0</td>\n",
              "      <td>1.0</td>\n",
              "      <td>NaN</td>\n",
              "      <td>smart</td>\n",
              "      <td>Липецк</td>\n",
              "    </tr>\n",
              "  </tbody>\n",
              "</table>\n",
              "</div>"
            ],
            "text/plain": [
              "      User_id Время года  Месяц  ...  Интернет, Мб  Тариф           Город\n",
              "592      1094      весна      5  ...           NaN  ultra     Новосибирск\n",
              "1722     1273      весна      5  ...           NaN  ultra          Курган\n",
              "1723     1273       зима     12  ...           NaN  ultra          Курган\n",
              "1724     1273       лето      6  ...           NaN  ultra          Курган\n",
              "1725     1273       лето      7  ...           NaN  ultra          Курган\n",
              "1726     1273       лето      8  ...           NaN  ultra          Курган\n",
              "1727     1273      осень      9  ...           NaN  ultra          Курган\n",
              "1728     1273      осень     10  ...           NaN  ultra          Курган\n",
              "1729     1273      осень     11  ...           NaN  ultra          Курган\n",
              "2307     1365      осень     10  ...           NaN  smart  Ростов-на-Дону\n",
              "2390     1377       зима      2  ...           NaN  ultra          Брянск\n",
              "2503     1392       зима      2  ...           NaN  ultra       Челябинск\n",
              "2859     1446       лето      8  ...           NaN  smart          Липецк\n",
              "\n",
              "[13 rows x 9 columns]"
            ]
          },
          "metadata": {},
          "execution_count": 32
        }
      ]
    },
    {
      "cell_type": "markdown",
      "metadata": {
        "id": "HGXcEB_eU5dX"
      },
      "source": [
        "\n",
        "Пропуски есть в важных для нас столбцах. Вероятно, некоторые из пользователей за рассматриваемый период времени или ни разу не звонили, или ни разу не отправляли СМС, или ни разу не выходили в интернет. Посмотрим, нет ли у нас пользователей, которые ни разу не звонили, не отправляли смс и не заходили в интернет"
      ]
    },
    {
      "cell_type": "code",
      "metadata": {
        "colab": {
          "base_uri": "https://localhost:8080/",
          "height": 49
        },
        "id": "or8Ju0xKnI6t",
        "outputId": "a4522f9f-f6c3-4271-b347-8f3ab37f376a"
      },
      "source": [
        "df[(df['Интернет, Мб'].isnull()) & (df['СМС, шт.'].isnull()) &\n",
        "                 (df['Звонки, мин.'].isnull())]"
      ],
      "execution_count": 33,
      "outputs": [
        {
          "output_type": "execute_result",
          "data": {
            "text/html": [
              "<div>\n",
              "<style scoped>\n",
              "    .dataframe tbody tr th:only-of-type {\n",
              "        vertical-align: middle;\n",
              "    }\n",
              "\n",
              "    .dataframe tbody tr th {\n",
              "        vertical-align: top;\n",
              "    }\n",
              "\n",
              "    .dataframe thead th {\n",
              "        text-align: right;\n",
              "    }\n",
              "</style>\n",
              "<table border=\"1\" class=\"dataframe\">\n",
              "  <thead>\n",
              "    <tr style=\"text-align: right;\">\n",
              "      <th></th>\n",
              "      <th>User_id</th>\n",
              "      <th>Время года</th>\n",
              "      <th>Месяц</th>\n",
              "      <th>Кол-во звонков, шт.</th>\n",
              "      <th>Звонки, мин.</th>\n",
              "      <th>СМС, шт.</th>\n",
              "      <th>Интернет, Мб</th>\n",
              "      <th>Тариф</th>\n",
              "      <th>Город</th>\n",
              "    </tr>\n",
              "  </thead>\n",
              "  <tbody>\n",
              "  </tbody>\n",
              "</table>\n",
              "</div>"
            ],
            "text/plain": [
              "Empty DataFrame\n",
              "Columns: [User_id, Время года, Месяц, Кол-во звонков, шт., Звонки, мин., СМС, шт., Интернет, Мб, Тариф, Город]\n",
              "Index: []"
            ]
          },
          "metadata": {},
          "execution_count": 33
        }
      ]
    },
    {
      "cell_type": "markdown",
      "metadata": {
        "id": "PWKyQfPunI6t"
      },
      "source": [
        "Таких нет, это значит, что каждый из пользователей активный, просто в какие-то периоды мог не пользоваться одним из типов связи.<br/><br/>\n",
        "Поэтому проставим по имеющимся пропускам нули, которые будут означать, что в конкретном месяце данный клиент не звонил/не отправлял СМС/не пользовался интернетом:"
      ]
    },
    {
      "cell_type": "code",
      "metadata": {
        "id": "Bl-kKg1fnI6t"
      },
      "source": [
        "df = df.fillna(0)"
      ],
      "execution_count": 34,
      "outputs": []
    },
    {
      "cell_type": "code",
      "metadata": {
        "colab": {
          "base_uri": "https://localhost:8080/"
        },
        "id": "kKmXcBuQnI6t",
        "outputId": "e6d4a2a6-2eff-4f7c-cb55-8ffa0f2351d6"
      },
      "source": [
        "df.info()"
      ],
      "execution_count": 35,
      "outputs": [
        {
          "output_type": "stream",
          "name": "stdout",
          "text": [
            "<class 'pandas.core.frame.DataFrame'>\n",
            "RangeIndex: 3214 entries, 0 to 3213\n",
            "Data columns (total 9 columns):\n",
            " #   Column               Non-Null Count  Dtype  \n",
            "---  ------               --------------  -----  \n",
            " 0   User_id              3214 non-null   int64  \n",
            " 1   Время года           3214 non-null   object \n",
            " 2   Месяц                3214 non-null   int64  \n",
            " 3   Кол-во звонков, шт.  3214 non-null   float64\n",
            " 4   Звонки, мин.         3214 non-null   float64\n",
            " 5   СМС, шт.             3214 non-null   float64\n",
            " 6   Интернет, Мб         3214 non-null   float64\n",
            " 7   Тариф                3214 non-null   object \n",
            " 8   Город                3214 non-null   object \n",
            "dtypes: float64(4), int64(2), object(3)\n",
            "memory usage: 226.1+ KB\n"
          ]
        }
      ]
    },
    {
      "cell_type": "markdown",
      "metadata": {
        "id": "OzXzAXbinI6u"
      },
      "source": [
        "#### Сравнение количества пользователей и частоты использования тарифов и видов связи:\n"
      ]
    },
    {
      "cell_type": "markdown",
      "metadata": {
        "id": "2ca9oCg1nI6u"
      },
      "source": [
        "Посмотрим на то, какая часть клиентов использует тариф Смарт, а какая - Ультра"
      ]
    },
    {
      "cell_type": "code",
      "metadata": {
        "colab": {
          "base_uri": "https://localhost:8080/",
          "height": 541
        },
        "id": "1c53q51CnI6u",
        "outputId": "f207f413-0769-4a7f-9dcf-521436d87fc2"
      },
      "source": [
        "fig = px.pie(df, values='User_id', names='Тариф',\n",
        "             title='Доля клиентов по тарифам',\n",
        "             hover_data=['Тариф'], labels={'Тариф':'Тариф'})\n",
        "fig.update_traces(textposition='inside', textinfo='percent+label')\n",
        "fig.show()"
      ],
      "execution_count": 36,
      "outputs": [
        {
          "output_type": "display_data",
          "data": {
            "text/html": [
              "<html>\n",
              "<head><meta charset=\"utf-8\" /></head>\n",
              "<body>\n",
              "    <div>\n",
              "            <script src=\"https://cdnjs.cloudflare.com/ajax/libs/mathjax/2.7.5/MathJax.js?config=TeX-AMS-MML_SVG\"></script><script type=\"text/javascript\">if (window.MathJax) {MathJax.Hub.Config({SVG: {font: \"STIX-Web\"}});}</script>\n",
              "                <script type=\"text/javascript\">window.PlotlyConfig = {MathJaxConfig: 'local'};</script>\n",
              "        <script src=\"https://cdn.plot.ly/plotly-latest.min.js\"></script>    \n",
              "            <div id=\"f96d4ae1-8153-4429-86a5-82a5806d8072\" class=\"plotly-graph-div\" style=\"height:525px; width:100%;\"></div>\n",
              "            <script type=\"text/javascript\">\n",
              "                \n",
              "                    window.PLOTLYENV=window.PLOTLYENV || {};\n",
              "                    \n",
              "                if (document.getElementById(\"f96d4ae1-8153-4429-86a5-82a5806d8072\")) {\n",
              "                    Plotly.newPlot(\n",
              "                        'f96d4ae1-8153-4429-86a5-82a5806d8072',\n",
              "                        [{\"customdata\": [[\"ultra\"], [\"ultra\"], [\"ultra\"], [\"ultra\"], [\"ultra\"], [\"ultra\"], [\"ultra\"], [\"ultra\"], [\"smart\"], [\"smart\"], [\"smart\"], [\"smart\"], [\"smart\"], [\"smart\"], [\"smart\"], [\"smart\"], [\"smart\"], [\"ultra\"], [\"ultra\"], [\"ultra\"], [\"ultra\"], [\"ultra\"], [\"ultra\"], [\"ultra\"], [\"ultra\"], [\"ultra\"], [\"ultra\"], [\"ultra\"], [\"ultra\"], [\"ultra\"], [\"smart\"], [\"smart\"], [\"smart\"], [\"smart\"], [\"smart\"], [\"smart\"], [\"smart\"], [\"smart\"], [\"smart\"], [\"smart\"], [\"smart\"], [\"smart\"], [\"smart\"], [\"smart\"], [\"smart\"], [\"smart\"], [\"smart\"], [\"smart\"], [\"smart\"], [\"smart\"], [\"smart\"], [\"smart\"], [\"smart\"], [\"smart\"], [\"smart\"], [\"smart\"], [\"smart\"], [\"smart\"], [\"smart\"], [\"smart\"], [\"smart\"], [\"smart\"], [\"smart\"], [\"smart\"], [\"smart\"], [\"smart\"], [\"smart\"], [\"smart\"], [\"smart\"], [\"smart\"], [\"smart\"], [\"smart\"], [\"smart\"], [\"smart\"], [\"smart\"], [\"smart\"], [\"smart\"], [\"smart\"], [\"smart\"], [\"smart\"], [\"smart\"], [\"smart\"], [\"smart\"], [\"smart\"], [\"smart\"], [\"smart\"], [\"smart\"], [\"smart\"], [\"smart\"], [\"smart\"], [\"smart\"], [\"smart\"], [\"smart\"], [\"smart\"], [\"smart\"], [\"smart\"], [\"smart\"], [\"smart\"], [\"ultra\"], [\"ultra\"], [\"smart\"], [\"smart\"], [\"smart\"], [\"smart\"], [\"smart\"], [\"smart\"], [\"smart\"], [\"smart\"], [\"smart\"], [\"smart\"], [\"smart\"], [\"smart\"], [\"smart\"], [\"smart\"], [\"smart\"], [\"smart\"], [\"smart\"], [\"ultra\"], [\"ultra\"], [\"smart\"], [\"smart\"], [\"smart\"], [\"smart\"], [\"smart\"], [\"smart\"], [\"smart\"], [\"smart\"], [\"ultra\"], [\"ultra\"], [\"ultra\"], [\"ultra\"], [\"ultra\"], [\"ultra\"], [\"ultra\"], [\"ultra\"], [\"ultra\"], [\"ultra\"], [\"ultra\"], [\"ultra\"], [\"ultra\"], [\"ultra\"], [\"ultra\"], [\"smart\"], [\"smart\"], [\"smart\"], [\"ultra\"], [\"ultra\"], [\"ultra\"], [\"ultra\"], [\"ultra\"], [\"ultra\"], [\"ultra\"], [\"ultra\"], [\"ultra\"], [\"smart\"], [\"smart\"], [\"smart\"], [\"smart\"], [\"ultra\"], [\"ultra\"], [\"ultra\"], [\"smart\"], [\"smart\"], [\"smart\"], [\"smart\"], [\"smart\"], [\"smart\"], [\"smart\"], [\"smart\"], [\"smart\"], [\"smart\"], [\"smart\"], [\"smart\"], [\"smart\"], [\"smart\"], [\"smart\"], [\"smart\"], [\"smart\"], [\"smart\"], [\"smart\"], [\"smart\"], [\"smart\"], [\"smart\"], [\"ultra\"], [\"ultra\"], [\"ultra\"], [\"smart\"], [\"smart\"], [\"smart\"], [\"smart\"], [\"smart\"], [\"smart\"], [\"smart\"], [\"smart\"], [\"smart\"], [\"smart\"], [\"smart\"], [\"smart\"], [\"smart\"], [\"smart\"], [\"smart\"], [\"smart\"], [\"smart\"], [\"smart\"], [\"smart\"], [\"smart\"], [\"smart\"], [\"smart\"], [\"smart\"], [\"smart\"], [\"smart\"], [\"smart\"], [\"smart\"], [\"smart\"], [\"smart\"], [\"smart\"], [\"smart\"], [\"smart\"], [\"smart\"], [\"smart\"], [\"smart\"], [\"smart\"], [\"smart\"], [\"smart\"], [\"smart\"], [\"smart\"], [\"smart\"], [\"smart\"], [\"smart\"], [\"smart\"], [\"smart\"], [\"smart\"], [\"smart\"], [\"smart\"], [\"smart\"], [\"smart\"], [\"smart\"], [\"smart\"], [\"smart\"], [\"smart\"], [\"smart\"], [\"smart\"], [\"smart\"], [\"ultra\"], [\"ultra\"], [\"ultra\"], [\"ultra\"], [\"ultra\"], [\"ultra\"], [\"ultra\"], [\"smart\"], [\"smart\"], [\"smart\"], [\"smart\"], [\"smart\"], [\"smart\"], [\"smart\"], [\"smart\"], [\"smart\"], [\"smart\"], [\"smart\"], [\"smart\"], [\"smart\"], [\"smart\"], [\"smart\"], [\"smart\"], [\"smart\"], [\"smart\"], [\"smart\"], [\"smart\"], [\"smart\"], [\"smart\"], [\"smart\"], [\"smart\"], [\"smart\"], [\"smart\"], [\"smart\"], [\"smart\"], [\"smart\"], [\"smart\"], [\"smart\"], [\"smart\"], [\"smart\"], [\"smart\"], [\"smart\"], [\"smart\"], [\"smart\"], [\"smart\"], [\"smart\"], [\"smart\"], [\"smart\"], [\"smart\"], [\"smart\"], [\"smart\"], [\"smart\"], [\"ultra\"], [\"ultra\"], [\"ultra\"], [\"ultra\"], [\"ultra\"], [\"ultra\"], [\"ultra\"], [\"ultra\"], [\"ultra\"], [\"ultra\"], [\"ultra\"], [\"ultra\"], [\"ultra\"], [\"ultra\"], [\"ultra\"], [\"ultra\"], [\"ultra\"], [\"ultra\"], [\"ultra\"], [\"ultra\"], [\"smart\"], [\"smart\"], [\"smart\"], [\"smart\"], [\"smart\"], [\"smart\"], [\"smart\"], [\"smart\"], [\"smart\"], [\"smart\"], [\"smart\"], [\"smart\"], [\"ultra\"], [\"ultra\"], [\"ultra\"], [\"ultra\"], [\"smart\"], [\"smart\"], [\"smart\"], [\"smart\"], [\"smart\"], [\"smart\"], [\"smart\"], [\"smart\"], [\"smart\"], [\"smart\"], [\"smart\"], [\"smart\"], [\"smart\"], [\"smart\"], [\"smart\"], [\"smart\"], [\"smart\"], [\"smart\"], [\"smart\"], [\"smart\"], [\"smart\"], [\"smart\"], [\"smart\"], [\"smart\"], [\"smart\"], [\"smart\"], [\"smart\"], [\"smart\"], [\"smart\"], [\"ultra\"], [\"ultra\"], [\"ultra\"], [\"ultra\"], [\"ultra\"], [\"ultra\"], [\"ultra\"], [\"ultra\"], [\"ultra\"], [\"ultra\"], [\"smart\"], [\"smart\"], [\"smart\"], [\"smart\"], [\"smart\"], [\"smart\"], [\"smart\"], [\"smart\"], [\"smart\"], [\"smart\"], [\"smart\"], [\"smart\"], [\"ultra\"], [\"ultra\"], [\"smart\"], [\"smart\"], [\"smart\"], [\"smart\"], [\"smart\"], [\"smart\"], [\"smart\"], [\"smart\"], [\"ultra\"], [\"ultra\"], [\"ultra\"], [\"ultra\"], [\"ultra\"], [\"ultra\"], [\"ultra\"], [\"ultra\"], [\"ultra\"], [\"smart\"], [\"smart\"], [\"smart\"], [\"smart\"], [\"smart\"], [\"smart\"], [\"smart\"], [\"smart\"], [\"smart\"], [\"smart\"], [\"smart\"], [\"smart\"], [\"smart\"], [\"smart\"], [\"smart\"], [\"smart\"], [\"smart\"], [\"smart\"], [\"smart\"], [\"smart\"], [\"smart\"], [\"smart\"], [\"smart\"], [\"smart\"], [\"smart\"], [\"smart\"], [\"smart\"], [\"smart\"], [\"smart\"], [\"smart\"], [\"smart\"], [\"smart\"], [\"smart\"], [\"smart\"], [\"smart\"], [\"smart\"], [\"smart\"], [\"smart\"], [\"smart\"], [\"smart\"], [\"smart\"], [\"smart\"], [\"smart\"], [\"smart\"], [\"smart\"], [\"smart\"], [\"smart\"], [\"smart\"], [\"smart\"], [\"smart\"], [\"smart\"], [\"smart\"], [\"smart\"], [\"smart\"], [\"smart\"], [\"smart\"], [\"smart\"], [\"smart\"], [\"smart\"], [\"smart\"], [\"smart\"], [\"smart\"], [\"smart\"], [\"smart\"], [\"smart\"], [\"smart\"], [\"smart\"], [\"smart\"], [\"smart\"], [\"smart\"], [\"smart\"], [\"smart\"], [\"smart\"], [\"smart\"], [\"smart\"], [\"smart\"], [\"smart\"], [\"smart\"], [\"smart\"], [\"smart\"], [\"smart\"], [\"smart\"], [\"smart\"], [\"smart\"], [\"smart\"], [\"smart\"], [\"ultra\"], [\"ultra\"], [\"ultra\"], [\"ultra\"], [\"ultra\"], [\"ultra\"], [\"ultra\"], [\"smart\"], [\"smart\"], [\"smart\"], [\"smart\"], [\"smart\"], [\"smart\"], [\"smart\"], [\"smart\"], [\"ultra\"], [\"ultra\"], [\"ultra\"], [\"ultra\"], [\"ultra\"], [\"ultra\"], [\"ultra\"], [\"ultra\"], [\"ultra\"], [\"ultra\"], [\"ultra\"], [\"ultra\"], [\"ultra\"], [\"ultra\"], [\"ultra\"], [\"smart\"], [\"smart\"], [\"smart\"], [\"smart\"], [\"smart\"], [\"smart\"], [\"smart\"], [\"smart\"], [\"smart\"], [\"smart\"], [\"smart\"], [\"smart\"], [\"ultra\"], [\"ultra\"], [\"ultra\"], [\"ultra\"], [\"ultra\"], [\"ultra\"], [\"ultra\"], [\"ultra\"], [\"smart\"], [\"smart\"], [\"smart\"], [\"smart\"], [\"smart\"], [\"smart\"], [\"smart\"], [\"smart\"], [\"smart\"], [\"smart\"], [\"smart\"], [\"smart\"], [\"smart\"], [\"smart\"], [\"smart\"], [\"smart\"], [\"smart\"], [\"smart\"], [\"smart\"], [\"ultra\"], [\"ultra\"], [\"ultra\"], [\"ultra\"], [\"ultra\"], [\"ultra\"], [\"ultra\"], [\"ultra\"], [\"ultra\"], [\"ultra\"], [\"ultra\"], [\"ultra\"], [\"ultra\"], [\"ultra\"], [\"ultra\"], [\"ultra\"], [\"ultra\"], [\"ultra\"], [\"ultra\"], [\"ultra\"], [\"ultra\"], [\"ultra\"], [\"smart\"], [\"smart\"], [\"smart\"], [\"smart\"], [\"smart\"], [\"smart\"], [\"smart\"], [\"smart\"], [\"smart\"], [\"smart\"], [\"smart\"], [\"smart\"], [\"smart\"], [\"smart\"], [\"ultra\"], [\"ultra\"], [\"ultra\"], [\"ultra\"], [\"ultra\"], [\"ultra\"], [\"ultra\"], [\"ultra\"], [\"smart\"], [\"ultra\"], [\"ultra\"], [\"ultra\"], [\"ultra\"], [\"ultra\"], [\"ultra\"], [\"ultra\"], [\"ultra\"], [\"ultra\"], [\"ultra\"], [\"ultra\"], [\"ultra\"], [\"ultra\"], [\"ultra\"], [\"ultra\"], [\"ultra\"], [\"smart\"], [\"smart\"], [\"smart\"], [\"smart\"], [\"smart\"], [\"smart\"], [\"smart\"], [\"ultra\"], [\"ultra\"], [\"ultra\"], [\"ultra\"], [\"ultra\"], [\"ultra\"], [\"ultra\"], [\"ultra\"], [\"ultra\"], [\"ultra\"], [\"smart\"], [\"smart\"], [\"smart\"], [\"smart\"], [\"smart\"], [\"smart\"], [\"smart\"], [\"smart\"], [\"smart\"], [\"smart\"], [\"smart\"], [\"smart\"], [\"smart\"], [\"smart\"], [\"smart\"], [\"smart\"], [\"smart\"], [\"smart\"], [\"smart\"], [\"smart\"], [\"smart\"], [\"smart\"], [\"ultra\"], [\"ultra\"], [\"ultra\"], [\"ultra\"], [\"ultra\"], [\"ultra\"], [\"ultra\"], [\"ultra\"], [\"ultra\"], [\"ultra\"], [\"ultra\"], [\"smart\"], [\"smart\"], [\"smart\"], [\"smart\"], [\"ultra\"], [\"ultra\"], [\"ultra\"], [\"ultra\"], [\"ultra\"], [\"ultra\"], [\"ultra\"], [\"ultra\"], [\"ultra\"], [\"smart\"], [\"smart\"], [\"smart\"], [\"smart\"], [\"smart\"], [\"smart\"], [\"smart\"], [\"smart\"], [\"smart\"], [\"smart\"], [\"smart\"], [\"smart\"], [\"smart\"], [\"smart\"], [\"smart\"], [\"smart\"], [\"smart\"], [\"smart\"], [\"smart\"], [\"smart\"], [\"smart\"], [\"smart\"], [\"smart\"], [\"smart\"], [\"smart\"], [\"smart\"], [\"smart\"], [\"smart\"], [\"smart\"], [\"smart\"], [\"smart\"], [\"smart\"], [\"smart\"], [\"smart\"], [\"smart\"], [\"smart\"], [\"smart\"], [\"smart\"], [\"smart\"], [\"smart\"], [\"smart\"], [\"smart\"], [\"smart\"], [\"smart\"], [\"smart\"], [\"smart\"], [\"smart\"], [\"smart\"], [\"smart\"], [\"smart\"], [\"smart\"], [\"smart\"], [\"smart\"], [\"smart\"], [\"smart\"], [\"smart\"], [\"smart\"], [\"smart\"], [\"smart\"], [\"smart\"], [\"smart\"], [\"smart\"], [\"smart\"], [\"smart\"], [\"smart\"], [\"smart\"], [\"smart\"], [\"smart\"], [\"smart\"], [\"smart\"], [\"smart\"], [\"smart\"], [\"smart\"], [\"smart\"], [\"smart\"], [\"smart\"], [\"smart\"], [\"smart\"], [\"smart\"], [\"smart\"], [\"smart\"], [\"smart\"], [\"smart\"], [\"smart\"], [\"smart\"], [\"smart\"], [\"ultra\"], [\"ultra\"], [\"ultra\"], [\"ultra\"], [\"ultra\"], [\"ultra\"], [\"ultra\"], [\"ultra\"], [\"ultra\"], [\"ultra\"], [\"ultra\"], [\"ultra\"], [\"smart\"], [\"smart\"], [\"smart\"], [\"smart\"], [\"smart\"], [\"smart\"], [\"smart\"], [\"smart\"], [\"ultra\"], [\"ultra\"], [\"smart\"], [\"smart\"], [\"smart\"], [\"smart\"], [\"smart\"], [\"smart\"], [\"smart\"], [\"smart\"], [\"smart\"], [\"smart\"], [\"ultra\"], [\"ultra\"], [\"ultra\"], [\"ultra\"], [\"smart\"], [\"smart\"], [\"smart\"], [\"smart\"], [\"ultra\"], [\"ultra\"], [\"ultra\"], [\"ultra\"], [\"ultra\"], [\"ultra\"], [\"ultra\"], [\"ultra\"], [\"ultra\"], [\"ultra\"], [\"ultra\"], [\"ultra\"], [\"smart\"], [\"smart\"], [\"smart\"], [\"smart\"], [\"smart\"], [\"smart\"], [\"smart\"], [\"smart\"], [\"smart\"], [\"smart\"], [\"smart\"], [\"smart\"], [\"smart\"], [\"smart\"], [\"smart\"], [\"smart\"], [\"smart\"], [\"smart\"], [\"smart\"], [\"smart\"], [\"smart\"], [\"smart\"], [\"smart\"], [\"smart\"], [\"smart\"], [\"smart\"], [\"smart\"], [\"smart\"], [\"smart\"], [\"smart\"], [\"smart\"], [\"smart\"], [\"smart\"], [\"smart\"], [\"smart\"], [\"smart\"], [\"smart\"], [\"smart\"], [\"smart\"], [\"smart\"], [\"smart\"], [\"smart\"], [\"smart\"], [\"smart\"], [\"smart\"], [\"smart\"], [\"smart\"], [\"smart\"], [\"smart\"], [\"smart\"], [\"smart\"], [\"smart\"], [\"smart\"], [\"smart\"], [\"smart\"], [\"smart\"], [\"smart\"], [\"smart\"], [\"smart\"], [\"smart\"], [\"smart\"], [\"smart\"], [\"smart\"], [\"smart\"], [\"smart\"], [\"smart\"], [\"smart\"], [\"smart\"], [\"smart\"], [\"smart\"], [\"smart\"], [\"smart\"], [\"smart\"], [\"smart\"], [\"ultra\"], [\"ultra\"], [\"ultra\"], [\"ultra\"], [\"ultra\"], [\"ultra\"], [\"ultra\"], [\"ultra\"], [\"ultra\"], [\"smart\"], [\"smart\"], [\"smart\"], [\"smart\"], [\"smart\"], [\"smart\"], [\"smart\"], [\"smart\"], [\"smart\"], [\"smart\"], [\"smart\"], [\"smart\"], [\"smart\"], [\"smart\"], [\"smart\"], [\"smart\"], [\"smart\"], [\"smart\"], [\"smart\"], [\"smart\"], [\"smart\"], [\"smart\"], [\"smart\"], [\"smart\"], [\"smart\"], [\"smart\"], [\"smart\"], [\"smart\"], [\"smart\"], [\"smart\"], [\"smart\"], [\"smart\"], [\"ultra\"], [\"ultra\"], [\"ultra\"], [\"ultra\"], [\"ultra\"], [\"ultra\"], [\"ultra\"], [\"ultra\"], [\"ultra\"], [\"smart\"], [\"smart\"], [\"smart\"], [\"smart\"], [\"smart\"], [\"smart\"], [\"smart\"], [\"smart\"], [\"ultra\"], [\"ultra\"], [\"ultra\"], [\"ultra\"], [\"ultra\"], [\"ultra\"], [\"ultra\"], [\"ultra\"], [\"ultra\"], [\"ultra\"], [\"ultra\"], [\"ultra\"], [\"ultra\"], [\"ultra\"], [\"ultra\"], [\"ultra\"], [\"ultra\"], [\"ultra\"], [\"ultra\"], [\"ultra\"], [\"smart\"], [\"smart\"], [\"smart\"], [\"smart\"], [\"smart\"], [\"smart\"], [\"smart\"], [\"smart\"], [\"smart\"], [\"smart\"], [\"smart\"], [\"smart\"], [\"smart\"], [\"smart\"], [\"smart\"], [\"smart\"], [\"smart\"], [\"smart\"], [\"smart\"], [\"smart\"], [\"smart\"], [\"smart\"], [\"ultra\"], [\"ultra\"], [\"smart\"], [\"smart\"], [\"smart\"], [\"smart\"], [\"smart\"], [\"smart\"], [\"smart\"], [\"smart\"], [\"smart\"], [\"smart\"], [\"smart\"], [\"smart\"], [\"smart\"], [\"smart\"], [\"smart\"], [\"smart\"], [\"smart\"], [\"smart\"], [\"smart\"], [\"smart\"], [\"smart\"], [\"smart\"], [\"smart\"], [\"smart\"], [\"smart\"], [\"smart\"], [\"smart\"], [\"smart\"], [\"smart\"], [\"smart\"], [\"smart\"], [\"smart\"], [\"smart\"], [\"smart\"], [\"smart\"], [\"smart\"], [\"smart\"], [\"smart\"], [\"smart\"], [\"smart\"], [\"smart\"], [\"smart\"], [\"smart\"], [\"smart\"], [\"smart\"], [\"smart\"], [\"smart\"], [\"smart\"], [\"smart\"], [\"ultra\"], [\"ultra\"], [\"ultra\"], [\"ultra\"], [\"ultra\"], [\"ultra\"], [\"ultra\"], [\"ultra\"], [\"ultra\"], [\"ultra\"], [\"ultra\"], [\"ultra\"], [\"ultra\"], [\"ultra\"], [\"ultra\"], [\"ultra\"], [\"ultra\"], [\"ultra\"], [\"ultra\"], [\"ultra\"], [\"ultra\"], [\"ultra\"], [\"ultra\"], [\"ultra\"], [\"smart\"], [\"smart\"], [\"smart\"], [\"smart\"], [\"smart\"], [\"smart\"], [\"smart\"], [\"smart\"], [\"smart\"], [\"smart\"], [\"smart\"], [\"smart\"], [\"smart\"], [\"smart\"], [\"smart\"], [\"smart\"], [\"smart\"], [\"smart\"], [\"smart\"], [\"smart\"], [\"smart\"], [\"smart\"], [\"smart\"], [\"smart\"], [\"smart\"], [\"smart\"], [\"smart\"], [\"smart\"], [\"smart\"], [\"smart\"], [\"smart\"], [\"smart\"], [\"smart\"], [\"smart\"], [\"smart\"], [\"smart\"], [\"smart\"], [\"smart\"], [\"smart\"], [\"smart\"], [\"smart\"], [\"smart\"], [\"smart\"], [\"smart\"], [\"smart\"], [\"smart\"], [\"smart\"], [\"smart\"], [\"smart\"], [\"smart\"], [\"smart\"], [\"smart\"], [\"smart\"], [\"smart\"], [\"smart\"], [\"smart\"], [\"smart\"], [\"smart\"], [\"smart\"], [\"smart\"], [\"smart\"], [\"smart\"], [\"smart\"], [\"smart\"], [\"smart\"], [\"smart\"], [\"smart\"], [\"smart\"], [\"smart\"], [\"smart\"], [\"smart\"], [\"smart\"], [\"smart\"], [\"smart\"], [\"smart\"], [\"smart\"], [\"smart\"], [\"smart\"], [\"smart\"], [\"smart\"], [\"smart\"], [\"smart\"], [\"smart\"], [\"smart\"], [\"smart\"], [\"smart\"], [\"smart\"], [\"smart\"], [\"smart\"], [\"ultra\"], [\"ultra\"], [\"ultra\"], [\"ultra\"], [\"ultra\"], [\"ultra\"], [\"ultra\"], [\"ultra\"], [\"ultra\"], [\"ultra\"], [\"ultra\"], [\"smart\"], [\"smart\"], [\"ultra\"], [\"ultra\"], [\"ultra\"], [\"smart\"], [\"smart\"], [\"smart\"], [\"smart\"], [\"smart\"], [\"smart\"], [\"smart\"], [\"smart\"], [\"smart\"], [\"smart\"], [\"ultra\"], [\"ultra\"], [\"ultra\"], [\"ultra\"], [\"ultra\"], [\"ultra\"], [\"ultra\"], [\"ultra\"], [\"ultra\"], [\"smart\"], [\"smart\"], [\"smart\"], [\"smart\"], [\"smart\"], [\"smart\"], [\"smart\"], [\"smart\"], [\"smart\"], [\"smart\"], [\"smart\"], [\"smart\"], [\"smart\"], [\"smart\"], [\"smart\"], [\"smart\"], [\"smart\"], [\"smart\"], [\"smart\"], [\"smart\"], [\"smart\"], [\"smart\"], [\"smart\"], [\"smart\"], [\"smart\"], [\"smart\"], [\"smart\"], [\"smart\"], [\"smart\"], [\"smart\"], [\"smart\"], [\"smart\"], [\"smart\"], [\"smart\"], [\"smart\"], [\"smart\"], [\"smart\"], [\"smart\"], [\"smart\"], [\"smart\"], [\"smart\"], [\"smart\"], [\"smart\"], [\"smart\"], [\"smart\"], [\"ultra\"], [\"smart\"], [\"smart\"], [\"smart\"], [\"smart\"], [\"smart\"], [\"smart\"], [\"smart\"], [\"smart\"], [\"smart\"], [\"smart\"], [\"smart\"], [\"smart\"], [\"smart\"], [\"smart\"], [\"smart\"], [\"smart\"], [\"ultra\"], [\"ultra\"], [\"ultra\"], [\"ultra\"], [\"ultra\"], [\"ultra\"], [\"ultra\"], [\"ultra\"], [\"smart\"], [\"smart\"], [\"smart\"], [\"smart\"], [\"smart\"], [\"smart\"], [\"smart\"], [\"smart\"], [\"smart\"], [\"smart\"], [\"smart\"], [\"smart\"], [\"smart\"], [\"smart\"], [\"smart\"], [\"smart\"], [\"ultra\"], [\"ultra\"], [\"ultra\"], [\"ultra\"], [\"ultra\"], [\"ultra\"], [\"ultra\"], [\"ultra\"], [\"ultra\"], [\"ultra\"], [\"ultra\"], [\"ultra\"], [\"ultra\"], [\"ultra\"], [\"smart\"], [\"smart\"], [\"smart\"], [\"smart\"], [\"ultra\"], [\"ultra\"], [\"ultra\"], [\"ultra\"], [\"ultra\"], [\"ultra\"], [\"ultra\"], [\"ultra\"], [\"ultra\"], [\"ultra\"], [\"smart\"], [\"smart\"], [\"smart\"], [\"smart\"], [\"smart\"], [\"smart\"], [\"smart\"], [\"smart\"], [\"smart\"], [\"smart\"], [\"smart\"], [\"smart\"], [\"smart\"], [\"smart\"], [\"smart\"], [\"smart\"], [\"smart\"], [\"smart\"], [\"smart\"], [\"smart\"], [\"smart\"], [\"smart\"], [\"ultra\"], [\"ultra\"], [\"ultra\"], [\"ultra\"], [\"ultra\"], [\"ultra\"], [\"ultra\"], [\"ultra\"], [\"ultra\"], [\"ultra\"], [\"smart\"], [\"smart\"], [\"smart\"], [\"smart\"], [\"smart\"], [\"smart\"], [\"smart\"], [\"smart\"], [\"smart\"], [\"smart\"], [\"smart\"], [\"smart\"], [\"smart\"], [\"smart\"], [\"smart\"], [\"smart\"], [\"smart\"], [\"smart\"], [\"smart\"], [\"smart\"], [\"smart\"], [\"smart\"], [\"smart\"], [\"smart\"], [\"smart\"], [\"smart\"], [\"smart\"], [\"smart\"], [\"smart\"], [\"smart\"], [\"smart\"], [\"smart\"], [\"smart\"], [\"smart\"], [\"smart\"], [\"smart\"], [\"smart\"], [\"smart\"], [\"smart\"], [\"smart\"], [\"smart\"], [\"smart\"], [\"smart\"], [\"smart\"], [\"smart\"], [\"smart\"], [\"smart\"], [\"smart\"], [\"smart\"], [\"smart\"], [\"smart\"], [\"smart\"], [\"smart\"], [\"smart\"], [\"smart\"], [\"smart\"], [\"smart\"], [\"smart\"], [\"smart\"], [\"smart\"], [\"smart\"], [\"smart\"], [\"smart\"], [\"smart\"], [\"smart\"], [\"smart\"], [\"smart\"], [\"smart\"], [\"smart\"], [\"smart\"], [\"smart\"], [\"smart\"], [\"smart\"], [\"smart\"], [\"smart\"], [\"smart\"], [\"smart\"], [\"smart\"], [\"ultra\"], [\"ultra\"], [\"ultra\"], [\"ultra\"], [\"ultra\"], [\"smart\"], [\"smart\"], [\"smart\"], [\"smart\"], [\"smart\"], [\"smart\"], [\"smart\"], [\"smart\"], [\"smart\"], [\"smart\"], [\"ultra\"], [\"ultra\"], [\"ultra\"], [\"ultra\"], [\"ultra\"], [\"ultra\"], [\"ultra\"], [\"ultra\"], [\"ultra\"], [\"ultra\"], [\"ultra\"], [\"ultra\"], [\"ultra\"], [\"ultra\"], [\"ultra\"], [\"ultra\"], [\"smart\"], [\"smart\"], [\"smart\"], [\"smart\"], [\"smart\"], [\"smart\"], [\"smart\"], [\"smart\"], [\"smart\"], [\"smart\"], [\"smart\"], [\"smart\"], [\"smart\"], [\"smart\"], [\"smart\"], [\"smart\"], [\"smart\"], [\"smart\"], [\"smart\"], [\"smart\"], [\"smart\"], [\"smart\"], [\"smart\"], [\"smart\"], [\"smart\"], [\"smart\"], [\"smart\"], [\"smart\"], [\"ultra\"], [\"ultra\"], [\"ultra\"], [\"ultra\"], [\"ultra\"], [\"ultra\"], [\"ultra\"], [\"ultra\"], [\"smart\"], [\"smart\"], [\"smart\"], [\"smart\"], [\"smart\"], [\"smart\"], [\"smart\"], [\"smart\"], [\"smart\"], [\"smart\"], [\"ultra\"], [\"smart\"], [\"smart\"], [\"smart\"], [\"smart\"], [\"smart\"], [\"smart\"], [\"smart\"], [\"smart\"], [\"smart\"], [\"smart\"], [\"smart\"], [\"smart\"], [\"smart\"], [\"smart\"], [\"smart\"], [\"smart\"], [\"smart\"], [\"smart\"], [\"smart\"], [\"smart\"], [\"smart\"], [\"smart\"], [\"smart\"], [\"smart\"], [\"smart\"], [\"ultra\"], [\"ultra\"], [\"ultra\"], [\"ultra\"], [\"ultra\"], [\"ultra\"], [\"ultra\"], [\"ultra\"], [\"ultra\"], [\"ultra\"], [\"ultra\"], [\"smart\"], [\"smart\"], [\"smart\"], [\"smart\"], [\"smart\"], [\"smart\"], [\"smart\"], [\"smart\"], [\"smart\"], [\"smart\"], [\"ultra\"], [\"ultra\"], [\"ultra\"], [\"ultra\"], [\"ultra\"], [\"ultra\"], [\"ultra\"], [\"smart\"], [\"smart\"], [\"smart\"], [\"smart\"], [\"smart\"], [\"smart\"], [\"smart\"], [\"smart\"], [\"ultra\"], [\"ultra\"], [\"ultra\"], [\"ultra\"], [\"smart\"], [\"smart\"], [\"smart\"], [\"smart\"], [\"smart\"], [\"smart\"], [\"smart\"], [\"smart\"], [\"smart\"], [\"smart\"], [\"smart\"], [\"smart\"], [\"smart\"], [\"smart\"], [\"smart\"], [\"smart\"], [\"smart\"], [\"smart\"], [\"smart\"], [\"smart\"], [\"smart\"], [\"smart\"], [\"smart\"], [\"smart\"], [\"smart\"], [\"smart\"], [\"smart\"], [\"smart\"], [\"smart\"], [\"smart\"], [\"smart\"], [\"smart\"], [\"smart\"], [\"smart\"], [\"smart\"], [\"smart\"], [\"smart\"], [\"smart\"], [\"smart\"], [\"smart\"], [\"smart\"], [\"smart\"], [\"smart\"], [\"smart\"], [\"smart\"], [\"smart\"], [\"ultra\"], [\"ultra\"], [\"ultra\"], [\"ultra\"], [\"ultra\"], [\"ultra\"], [\"ultra\"], [\"ultra\"], [\"ultra\"], [\"ultra\"], [\"ultra\"], [\"ultra\"], [\"ultra\"], [\"ultra\"], [\"ultra\"], [\"ultra\"], [\"ultra\"], [\"ultra\"], [\"ultra\"], [\"ultra\"], [\"ultra\"], [\"smart\"], [\"smart\"], [\"smart\"], [\"smart\"], [\"ultra\"], [\"ultra\"], [\"ultra\"], [\"ultra\"], [\"ultra\"], [\"ultra\"], [\"ultra\"], [\"smart\"], [\"ultra\"], [\"ultra\"], [\"smart\"], [\"smart\"], [\"smart\"], [\"smart\"], [\"smart\"], [\"smart\"], [\"smart\"], [\"smart\"], [\"smart\"], [\"smart\"], [\"smart\"], [\"smart\"], [\"smart\"], [\"smart\"], [\"smart\"], [\"smart\"], [\"smart\"], [\"smart\"], [\"smart\"], [\"smart\"], [\"smart\"], [\"smart\"], [\"smart\"], [\"smart\"], [\"smart\"], [\"smart\"], [\"smart\"], [\"smart\"], [\"smart\"], [\"smart\"], [\"smart\"], [\"smart\"], [\"smart\"], [\"smart\"], [\"smart\"], [\"smart\"], [\"smart\"], [\"ultra\"], [\"ultra\"], [\"ultra\"], [\"ultra\"], [\"ultra\"], [\"smart\"], [\"smart\"], [\"smart\"], [\"smart\"], [\"smart\"], [\"smart\"], [\"smart\"], [\"smart\"], [\"smart\"], [\"smart\"], [\"smart\"], [\"smart\"], [\"smart\"], [\"smart\"], [\"smart\"], [\"smart\"], [\"smart\"], [\"smart\"], [\"smart\"], [\"smart\"], [\"smart\"], [\"smart\"], [\"smart\"], [\"smart\"], [\"smart\"], [\"ultra\"], [\"ultra\"], [\"ultra\"], [\"ultra\"], [\"ultra\"], [\"ultra\"], [\"ultra\"], [\"ultra\"], [\"ultra\"], [\"ultra\"], [\"ultra\"], [\"ultra\"], [\"ultra\"], [\"ultra\"], [\"ultra\"], [\"ultra\"], [\"ultra\"], [\"ultra\"], [\"ultra\"], [\"ultra\"], [\"ultra\"], [\"ultra\"], [\"ultra\"], [\"ultra\"], [\"smart\"], [\"smart\"], [\"smart\"], [\"smart\"], [\"smart\"], [\"smart\"], [\"smart\"], [\"smart\"], [\"smart\"], [\"smart\"], [\"smart\"], [\"smart\"], [\"smart\"], [\"smart\"], [\"smart\"], [\"smart\"], [\"smart\"], [\"ultra\"], [\"ultra\"], [\"ultra\"], [\"ultra\"], [\"ultra\"], [\"ultra\"], [\"ultra\"], [\"ultra\"], [\"ultra\"], [\"ultra\"], [\"ultra\"], [\"ultra\"], [\"ultra\"], [\"ultra\"], [\"smart\"], [\"smart\"], [\"smart\"], [\"smart\"], [\"smart\"], [\"smart\"], [\"smart\"], [\"smart\"], [\"smart\"], [\"smart\"], [\"smart\"], [\"smart\"], [\"ultra\"], [\"ultra\"], [\"ultra\"], [\"ultra\"], [\"ultra\"], [\"ultra\"], [\"ultra\"], [\"smart\"], [\"smart\"], [\"smart\"], [\"smart\"], [\"smart\"], [\"smart\"], [\"smart\"], [\"smart\"], [\"smart\"], [\"smart\"], [\"smart\"], [\"smart\"], [\"smart\"], [\"smart\"], [\"smart\"], [\"smart\"], [\"smart\"], [\"smart\"], [\"smart\"], [\"smart\"], [\"smart\"], [\"smart\"], [\"smart\"], [\"smart\"], [\"smart\"], [\"smart\"], [\"smart\"], [\"smart\"], [\"smart\"], [\"smart\"], [\"smart\"], [\"smart\"], [\"smart\"], [\"smart\"], [\"smart\"], [\"smart\"], [\"smart\"], [\"smart\"], [\"smart\"], [\"smart\"], [\"smart\"], [\"smart\"], [\"smart\"], [\"smart\"], [\"smart\"], [\"smart\"], [\"smart\"], [\"ultra\"], [\"ultra\"], [\"ultra\"], [\"ultra\"], [\"smart\"], [\"smart\"], [\"smart\"], [\"smart\"], [\"smart\"], [\"smart\"], [\"smart\"], [\"smart\"], [\"smart\"], [\"smart\"], [\"smart\"], [\"smart\"], [\"smart\"], [\"smart\"], [\"smart\"], [\"smart\"], [\"smart\"], [\"smart\"], [\"smart\"], [\"ultra\"], [\"ultra\"], [\"ultra\"], [\"ultra\"], [\"ultra\"], [\"ultra\"], [\"ultra\"], [\"ultra\"], [\"ultra\"], [\"ultra\"], [\"ultra\"], [\"smart\"], [\"smart\"], [\"smart\"], [\"ultra\"], [\"ultra\"], [\"ultra\"], [\"ultra\"], [\"ultra\"], [\"ultra\"], [\"ultra\"], [\"ultra\"], [\"ultra\"], [\"ultra\"], [\"ultra\"], [\"smart\"], [\"smart\"], [\"smart\"], [\"smart\"], [\"smart\"], [\"smart\"], [\"smart\"], [\"smart\"], [\"smart\"], [\"smart\"], [\"smart\"], [\"smart\"], [\"smart\"], [\"smart\"], [\"smart\"], [\"smart\"], [\"smart\"], [\"smart\"], [\"smart\"], [\"smart\"], [\"smart\"], [\"smart\"], [\"smart\"], [\"smart\"], [\"smart\"], [\"smart\"], [\"smart\"], [\"smart\"], [\"smart\"], [\"smart\"], [\"ultra\"], [\"ultra\"], [\"ultra\"], [\"ultra\"], [\"ultra\"], [\"ultra\"], [\"smart\"], [\"smart\"], [\"smart\"], [\"smart\"], [\"smart\"], [\"smart\"], [\"smart\"], [\"smart\"], [\"smart\"], [\"smart\"], [\"smart\"], [\"smart\"], [\"smart\"], [\"smart\"], [\"smart\"], [\"smart\"], [\"ultra\"], [\"ultra\"], [\"ultra\"], [\"ultra\"], [\"ultra\"], [\"ultra\"], [\"ultra\"], [\"ultra\"], [\"smart\"], [\"smart\"], [\"smart\"], [\"smart\"], [\"smart\"], [\"smart\"], [\"smart\"], [\"smart\"], [\"smart\"], [\"smart\"], [\"smart\"], [\"smart\"], [\"smart\"], [\"smart\"], [\"smart\"], [\"smart\"], [\"smart\"], [\"smart\"], [\"smart\"], [\"smart\"], [\"smart\"], [\"smart\"], [\"smart\"], [\"smart\"], [\"smart\"], [\"ultra\"], [\"ultra\"], [\"ultra\"], [\"ultra\"], [\"ultra\"], [\"ultra\"], [\"ultra\"], [\"ultra\"], [\"ultra\"], [\"ultra\"], [\"ultra\"], [\"ultra\"], [\"ultra\"], [\"smart\"], [\"smart\"], [\"smart\"], [\"smart\"], [\"smart\"], [\"smart\"], [\"smart\"], [\"smart\"], [\"smart\"], [\"smart\"], [\"smart\"], [\"smart\"], [\"smart\"], [\"smart\"], [\"smart\"], [\"smart\"], [\"smart\"], [\"smart\"], [\"smart\"], [\"smart\"], [\"smart\"], [\"smart\"], [\"smart\"], [\"smart\"], [\"smart\"], [\"smart\"], [\"smart\"], [\"smart\"], [\"smart\"], [\"smart\"], [\"smart\"], [\"smart\"], [\"smart\"], [\"smart\"], [\"smart\"], [\"smart\"], [\"smart\"], [\"smart\"], [\"ultra\"], [\"ultra\"], [\"ultra\"], [\"ultra\"], [\"ultra\"], [\"ultra\"], [\"ultra\"], [\"ultra\"], [\"ultra\"], [\"ultra\"], [\"smart\"], [\"smart\"], [\"smart\"], [\"smart\"], [\"smart\"], [\"smart\"], [\"smart\"], [\"smart\"], [\"smart\"], [\"smart\"], [\"smart\"], [\"smart\"], [\"smart\"], [\"smart\"], [\"smart\"], [\"smart\"], [\"smart\"], [\"smart\"], [\"smart\"], [\"smart\"], [\"smart\"], [\"smart\"], [\"smart\"], [\"smart\"], [\"smart\"], [\"smart\"], [\"smart\"], [\"smart\"], [\"smart\"], [\"smart\"], [\"smart\"], [\"smart\"], [\"smart\"], [\"smart\"], [\"smart\"], [\"smart\"], [\"smart\"], [\"ultra\"], [\"ultra\"], [\"ultra\"], [\"ultra\"], [\"ultra\"], [\"ultra\"], [\"ultra\"], [\"smart\"], [\"smart\"], [\"smart\"], [\"smart\"], [\"smart\"], [\"smart\"], [\"smart\"], [\"smart\"], [\"smart\"], [\"smart\"], [\"smart\"], [\"smart\"], [\"smart\"], [\"smart\"], [\"smart\"], [\"smart\"], [\"smart\"], [\"ultra\"], [\"ultra\"], [\"ultra\"], [\"smart\"], [\"smart\"], [\"smart\"], [\"ultra\"], [\"ultra\"], [\"ultra\"], [\"ultra\"], [\"ultra\"], [\"ultra\"], [\"ultra\"], [\"ultra\"], [\"ultra\"], [\"ultra\"], [\"ultra\"], [\"ultra\"], [\"ultra\"], [\"ultra\"], [\"ultra\"], [\"ultra\"], [\"ultra\"], [\"ultra\"], [\"ultra\"], [\"ultra\"], [\"smart\"], [\"smart\"], [\"smart\"], [\"smart\"], [\"smart\"], [\"smart\"], [\"smart\"], [\"smart\"], [\"ultra\"], [\"ultra\"], [\"ultra\"], [\"ultra\"], [\"smart\"], [\"smart\"], [\"ultra\"], [\"ultra\"], [\"ultra\"], [\"ultra\"], [\"ultra\"], [\"ultra\"], [\"ultra\"], [\"ultra\"], [\"smart\"], [\"smart\"], [\"smart\"], [\"smart\"], [\"smart\"], [\"smart\"], [\"smart\"], [\"smart\"], [\"smart\"], [\"smart\"], [\"smart\"], [\"smart\"], [\"smart\"], [\"smart\"], [\"smart\"], [\"smart\"], [\"smart\"], [\"smart\"], [\"smart\"], [\"smart\"], [\"smart\"], [\"smart\"], [\"smart\"], [\"smart\"], [\"smart\"], [\"smart\"], [\"smart\"], [\"smart\"], [\"smart\"], [\"smart\"], [\"smart\"], [\"smart\"], [\"smart\"], [\"smart\"], [\"smart\"], [\"smart\"], [\"smart\"], [\"ultra\"], [\"ultra\"], [\"ultra\"], [\"ultra\"], [\"ultra\"], [\"ultra\"], [\"ultra\"], [\"smart\"], [\"smart\"], [\"smart\"], [\"ultra\"], [\"ultra\"], [\"ultra\"], [\"ultra\"], [\"ultra\"], [\"ultra\"], [\"ultra\"], [\"ultra\"], [\"ultra\"], [\"ultra\"], [\"ultra\"], [\"ultra\"], [\"smart\"], [\"smart\"], [\"smart\"], [\"smart\"], [\"smart\"], [\"smart\"], [\"smart\"], [\"ultra\"], [\"ultra\"], [\"ultra\"], [\"ultra\"], [\"ultra\"], [\"ultra\"], [\"ultra\"], [\"ultra\"], [\"ultra\"], [\"ultra\"], [\"ultra\"], [\"ultra\"], [\"ultra\"], [\"ultra\"], [\"ultra\"], [\"ultra\"], [\"ultra\"], [\"smart\"], [\"smart\"], [\"ultra\"], [\"ultra\"], [\"ultra\"], [\"ultra\"], [\"ultra\"], [\"ultra\"], [\"ultra\"], [\"ultra\"], [\"ultra\"], [\"smart\"], [\"smart\"], [\"smart\"], [\"smart\"], [\"smart\"], [\"smart\"], [\"smart\"], [\"smart\"], [\"smart\"], [\"smart\"], [\"smart\"], [\"smart\"], [\"smart\"], [\"smart\"], [\"smart\"], [\"smart\"], [\"smart\"], [\"smart\"], [\"ultra\"], [\"ultra\"], [\"ultra\"], [\"ultra\"], [\"ultra\"], [\"ultra\"], [\"ultra\"], [\"ultra\"], [\"ultra\"], [\"smart\"], [\"smart\"], [\"smart\"], [\"smart\"], [\"smart\"], [\"smart\"], [\"smart\"], [\"smart\"], [\"smart\"], [\"smart\"], [\"smart\"], [\"smart\"], [\"smart\"], [\"smart\"], [\"smart\"], [\"smart\"], [\"smart\"], [\"smart\"], [\"smart\"], [\"smart\"], [\"smart\"], [\"ultra\"], [\"ultra\"], [\"ultra\"], [\"ultra\"], [\"ultra\"], [\"ultra\"], [\"ultra\"], [\"ultra\"], [\"ultra\"], [\"ultra\"], [\"ultra\"], [\"ultra\"], [\"ultra\"], [\"ultra\"], [\"smart\"], [\"smart\"], [\"smart\"], [\"smart\"], [\"smart\"], [\"ultra\"], [\"ultra\"], [\"ultra\"], [\"ultra\"], [\"ultra\"], [\"ultra\"], [\"ultra\"], [\"ultra\"], [\"ultra\"], [\"ultra\"], [\"ultra\"], [\"ultra\"], [\"ultra\"], [\"ultra\"], [\"ultra\"], [\"smart\"], [\"smart\"], [\"smart\"], [\"smart\"], [\"smart\"], [\"smart\"], [\"smart\"], [\"smart\"], [\"smart\"], [\"smart\"], [\"ultra\"], [\"ultra\"], [\"ultra\"], [\"smart\"], [\"ultra\"], [\"ultra\"], [\"ultra\"], [\"ultra\"], [\"ultra\"], [\"smart\"], [\"smart\"], [\"smart\"], [\"smart\"], [\"smart\"], [\"smart\"], [\"smart\"], [\"smart\"], [\"smart\"], [\"smart\"], [\"smart\"], [\"smart\"], [\"smart\"], [\"smart\"], [\"smart\"], [\"smart\"], [\"smart\"], [\"smart\"], [\"smart\"], [\"smart\"], [\"smart\"], [\"smart\"], [\"smart\"], [\"smart\"], [\"smart\"], [\"smart\"], [\"smart\"], [\"smart\"], [\"smart\"], [\"smart\"], [\"smart\"], [\"smart\"], [\"smart\"], [\"smart\"], [\"smart\"], [\"smart\"], [\"smart\"], [\"smart\"], [\"smart\"], [\"smart\"], [\"smart\"], [\"smart\"], [\"ultra\"], [\"ultra\"], [\"ultra\"], [\"ultra\"], [\"ultra\"], [\"ultra\"], [\"ultra\"], [\"ultra\"], [\"ultra\"], [\"ultra\"], [\"ultra\"], [\"ultra\"], [\"smart\"], [\"smart\"], [\"smart\"], [\"smart\"], [\"smart\"], [\"smart\"], [\"smart\"], [\"smart\"], [\"ultra\"], [\"ultra\"], [\"ultra\"], [\"ultra\"], [\"ultra\"], [\"ultra\"], [\"ultra\"], [\"ultra\"], [\"ultra\"], [\"ultra\"], [\"ultra\"], [\"smart\"], [\"smart\"], [\"smart\"], [\"smart\"], [\"smart\"], [\"smart\"], [\"smart\"], [\"smart\"], [\"smart\"], [\"smart\"], [\"smart\"], [\"smart\"], [\"ultra\"], [\"ultra\"], [\"ultra\"], [\"ultra\"], [\"ultra\"], [\"ultra\"], [\"ultra\"], [\"ultra\"], [\"ultra\"], [\"ultra\"], [\"ultra\"], [\"ultra\"], [\"ultra\"], [\"ultra\"], [\"ultra\"], [\"ultra\"], [\"ultra\"], [\"ultra\"], [\"ultra\"], [\"ultra\"], [\"ultra\"], [\"ultra\"], [\"ultra\"], [\"ultra\"], [\"ultra\"], [\"ultra\"], [\"ultra\"], [\"ultra\"], [\"ultra\"], [\"ultra\"], [\"ultra\"], [\"ultra\"], [\"ultra\"], [\"ultra\"], [\"ultra\"], [\"smart\"], [\"smart\"], [\"smart\"], [\"smart\"], [\"smart\"], [\"smart\"], [\"smart\"], [\"smart\"], [\"smart\"], [\"smart\"], [\"smart\"], [\"smart\"], [\"ultra\"], [\"ultra\"], [\"ultra\"], [\"ultra\"], [\"ultra\"], [\"ultra\"], [\"ultra\"], [\"ultra\"], [\"ultra\"], [\"ultra\"], [\"ultra\"], [\"ultra\"], [\"smart\"], [\"smart\"], [\"smart\"], [\"smart\"], [\"smart\"], [\"smart\"], [\"smart\"], [\"smart\"], [\"smart\"], [\"smart\"], [\"smart\"], [\"smart\"], [\"smart\"], [\"smart\"], [\"smart\"], [\"smart\"], [\"smart\"], [\"smart\"], [\"smart\"], [\"smart\"], [\"smart\"], [\"smart\"], [\"smart\"], [\"ultra\"], [\"ultra\"], [\"ultra\"], [\"ultra\"], [\"ultra\"], [\"ultra\"], [\"ultra\"], [\"ultra\"], [\"ultra\"], [\"ultra\"], [\"ultra\"], [\"ultra\"], [\"ultra\"], [\"ultra\"], [\"ultra\"], [\"ultra\"], [\"smart\"], [\"smart\"], [\"smart\"], [\"smart\"], [\"smart\"], [\"smart\"], [\"smart\"], [\"smart\"], [\"smart\"], [\"smart\"], [\"smart\"], [\"smart\"], [\"smart\"], [\"smart\"], [\"smart\"], [\"smart\"], [\"smart\"], [\"smart\"], [\"smart\"], [\"smart\"], [\"smart\"], [\"smart\"], [\"smart\"], [\"smart\"], [\"smart\"], [\"smart\"], [\"smart\"], [\"smart\"], [\"smart\"], [\"smart\"], [\"smart\"], [\"smart\"], [\"smart\"], [\"smart\"], [\"smart\"], [\"ultra\"], [\"ultra\"], [\"ultra\"], [\"ultra\"], [\"ultra\"], [\"ultra\"], [\"ultra\"], [\"ultra\"], [\"ultra\"], [\"ultra\"], [\"ultra\"], [\"ultra\"], [\"ultra\"], [\"smart\"], [\"ultra\"], [\"ultra\"], [\"smart\"], [\"smart\"], [\"smart\"], [\"smart\"], [\"smart\"], [\"smart\"], [\"smart\"], [\"smart\"], [\"smart\"], [\"smart\"], [\"smart\"], [\"smart\"], [\"smart\"], [\"smart\"], [\"smart\"], [\"smart\"], [\"smart\"], [\"ultra\"], [\"ultra\"], [\"ultra\"], [\"ultra\"], [\"ultra\"], [\"ultra\"], [\"ultra\"], [\"ultra\"], [\"ultra\"], [\"ultra\"], [\"ultra\"], [\"ultra\"], [\"ultra\"], [\"ultra\"], [\"ultra\"], [\"ultra\"], [\"ultra\"], [\"ultra\"], [\"smart\"], [\"smart\"], [\"smart\"], [\"smart\"], [\"smart\"], [\"smart\"], [\"smart\"], [\"smart\"], [\"smart\"], [\"ultra\"], [\"ultra\"], [\"ultra\"], [\"smart\"], [\"smart\"], [\"smart\"], [\"smart\"], [\"smart\"], [\"smart\"], [\"smart\"], [\"smart\"], [\"smart\"], [\"smart\"], [\"smart\"], [\"smart\"], [\"smart\"], [\"smart\"], [\"smart\"], [\"smart\"], [\"smart\"], [\"smart\"], [\"smart\"], [\"smart\"], [\"smart\"], [\"smart\"], [\"smart\"], [\"smart\"], [\"smart\"], [\"smart\"], [\"smart\"], [\"smart\"], [\"smart\"], [\"smart\"], [\"smart\"], [\"smart\"], [\"smart\"], [\"smart\"], [\"smart\"], [\"ultra\"], [\"ultra\"], [\"ultra\"], [\"ultra\"], [\"ultra\"], [\"ultra\"], [\"ultra\"], [\"smart\"], [\"smart\"], [\"smart\"], [\"smart\"], [\"smart\"], [\"smart\"], [\"smart\"], [\"smart\"], [\"smart\"], [\"smart\"], [\"smart\"], [\"smart\"], [\"smart\"], [\"ultra\"], [\"ultra\"], [\"ultra\"], [\"ultra\"], [\"ultra\"], [\"ultra\"], [\"ultra\"], [\"ultra\"], [\"ultra\"], [\"ultra\"], [\"ultra\"], [\"ultra\"], [\"ultra\"], [\"smart\"], [\"smart\"], [\"smart\"], [\"smart\"], [\"smart\"], [\"smart\"], [\"smart\"], [\"smart\"], [\"smart\"], [\"smart\"], [\"smart\"], [\"smart\"], [\"smart\"], [\"smart\"], [\"smart\"], [\"smart\"], [\"smart\"], [\"smart\"], [\"smart\"], [\"smart\"], [\"smart\"], [\"smart\"], [\"smart\"], [\"smart\"], [\"smart\"], [\"smart\"], [\"smart\"], [\"smart\"], [\"smart\"], [\"smart\"], [\"smart\"], [\"smart\"], [\"smart\"], [\"smart\"], [\"smart\"], [\"smart\"], [\"smart\"], [\"smart\"], [\"smart\"], [\"smart\"], [\"smart\"], [\"smart\"], [\"smart\"], [\"smart\"], [\"smart\"], [\"ultra\"], [\"ultra\"], [\"ultra\"], [\"ultra\"], [\"ultra\"], [\"ultra\"], [\"ultra\"], [\"smart\"], [\"smart\"], [\"smart\"], [\"smart\"], [\"smart\"], [\"smart\"], [\"smart\"], [\"smart\"], [\"smart\"], [\"smart\"], [\"smart\"], [\"smart\"], [\"smart\"], [\"smart\"], [\"smart\"], [\"smart\"], [\"smart\"], [\"smart\"], [\"smart\"], [\"smart\"], [\"smart\"], [\"smart\"], [\"smart\"], [\"smart\"], [\"smart\"], [\"smart\"], [\"smart\"], [\"smart\"], [\"smart\"], [\"smart\"], [\"smart\"], [\"smart\"], [\"smart\"], [\"smart\"], [\"smart\"], [\"smart\"], [\"smart\"], [\"smart\"], [\"smart\"], [\"smart\"], [\"smart\"], [\"ultra\"], [\"ultra\"], [\"ultra\"], [\"ultra\"], [\"ultra\"], [\"ultra\"], [\"ultra\"], [\"ultra\"], [\"ultra\"], [\"smart\"], [\"smart\"], [\"smart\"], [\"smart\"], [\"smart\"], [\"smart\"], [\"smart\"], [\"smart\"], [\"smart\"], [\"smart\"], [\"smart\"], [\"smart\"], [\"smart\"], [\"smart\"], [\"smart\"], [\"smart\"], [\"smart\"], [\"smart\"], [\"smart\"], [\"smart\"], [\"smart\"], [\"smart\"], [\"smart\"], [\"smart\"], [\"smart\"], [\"smart\"], [\"smart\"], [\"smart\"], [\"smart\"], [\"smart\"], [\"smart\"], [\"smart\"], [\"smart\"], [\"smart\"], [\"smart\"], [\"smart\"], [\"smart\"], [\"smart\"], [\"smart\"], [\"ultra\"], [\"ultra\"], [\"ultra\"], [\"ultra\"], [\"ultra\"], [\"ultra\"], [\"ultra\"], [\"ultra\"], [\"ultra\"], [\"smart\"], [\"smart\"], [\"smart\"], [\"smart\"], [\"smart\"], [\"smart\"], [\"smart\"], [\"smart\"], [\"smart\"], [\"smart\"], [\"smart\"], [\"smart\"], [\"smart\"], [\"smart\"], [\"smart\"], [\"ultra\"], [\"ultra\"], [\"ultra\"], [\"ultra\"], [\"ultra\"], [\"ultra\"], [\"ultra\"], [\"ultra\"], [\"smart\"], [\"smart\"], [\"ultra\"], [\"ultra\"], [\"smart\"], [\"smart\"], [\"smart\"], [\"smart\"], [\"smart\"], [\"smart\"], [\"smart\"], [\"smart\"], [\"smart\"], [\"smart\"], [\"smart\"], [\"smart\"], [\"smart\"], [\"smart\"], [\"smart\"], [\"smart\"], [\"smart\"], [\"smart\"], [\"smart\"], [\"smart\"], [\"smart\"], [\"smart\"], [\"smart\"], [\"smart\"], [\"smart\"], [\"smart\"], [\"smart\"], [\"smart\"], [\"smart\"], [\"smart\"], [\"smart\"], [\"smart\"], [\"smart\"], [\"smart\"], [\"ultra\"], [\"ultra\"], [\"ultra\"], [\"ultra\"], [\"ultra\"], [\"ultra\"], [\"ultra\"], [\"ultra\"], [\"ultra\"], [\"ultra\"], [\"ultra\"], [\"ultra\"], [\"ultra\"], [\"ultra\"], [\"ultra\"], [\"ultra\"], [\"ultra\"], [\"ultra\"], [\"ultra\"], [\"smart\"], [\"smart\"], [\"smart\"], [\"smart\"], [\"smart\"], [\"smart\"], [\"smart\"], [\"smart\"], [\"smart\"], [\"smart\"], [\"ultra\"], [\"ultra\"], [\"ultra\"], [\"ultra\"], [\"ultra\"], [\"ultra\"], [\"ultra\"], [\"ultra\"], [\"ultra\"], [\"ultra\"], [\"smart\"], [\"smart\"], [\"smart\"], [\"smart\"], [\"smart\"], [\"smart\"], [\"smart\"], [\"smart\"], [\"smart\"], [\"smart\"], [\"smart\"], [\"smart\"], [\"smart\"], [\"smart\"], [\"smart\"], [\"ultra\"], [\"ultra\"], [\"ultra\"], [\"ultra\"], [\"ultra\"], [\"ultra\"], [\"ultra\"], [\"ultra\"], [\"ultra\"], [\"ultra\"], [\"ultra\"], [\"smart\"], [\"smart\"], [\"smart\"], [\"smart\"], [\"smart\"], [\"smart\"], [\"smart\"], [\"smart\"], [\"smart\"], [\"smart\"], [\"smart\"], [\"smart\"], [\"ultra\"], [\"ultra\"], [\"smart\"], [\"smart\"], [\"smart\"], [\"ultra\"], [\"ultra\"], [\"smart\"], [\"smart\"], [\"smart\"], [\"smart\"], [\"smart\"], [\"smart\"], [\"smart\"], [\"smart\"], [\"smart\"], [\"smart\"], [\"smart\"], [\"smart\"], [\"smart\"], [\"smart\"], [\"smart\"], [\"smart\"], [\"smart\"], [\"smart\"], [\"smart\"], [\"smart\"], [\"ultra\"], [\"ultra\"], [\"ultra\"], [\"ultra\"], [\"ultra\"], [\"ultra\"], [\"ultra\"], [\"ultra\"], [\"ultra\"], [\"ultra\"], [\"ultra\"], [\"ultra\"], [\"ultra\"], [\"smart\"], [\"smart\"], [\"smart\"], [\"smart\"], [\"smart\"], [\"smart\"], [\"smart\"], [\"smart\"], [\"smart\"], [\"smart\"], [\"smart\"], [\"ultra\"], [\"ultra\"], [\"ultra\"], [\"ultra\"], [\"ultra\"], [\"ultra\"], [\"smart\"], [\"smart\"], [\"smart\"], [\"ultra\"], [\"ultra\"], [\"ultra\"], [\"ultra\"], [\"ultra\"], [\"ultra\"], [\"ultra\"], [\"ultra\"], [\"ultra\"], [\"ultra\"], [\"ultra\"], [\"smart\"], [\"smart\"], [\"smart\"], [\"smart\"], [\"smart\"], [\"smart\"], [\"smart\"], [\"smart\"], [\"smart\"], [\"smart\"], [\"smart\"], [\"smart\"], [\"ultra\"], [\"ultra\"], [\"ultra\"], [\"ultra\"], [\"ultra\"], [\"ultra\"], [\"ultra\"], [\"smart\"], [\"smart\"], [\"smart\"], [\"smart\"], [\"smart\"], [\"smart\"], [\"smart\"], [\"smart\"], [\"smart\"], [\"smart\"], [\"smart\"], [\"smart\"], [\"ultra\"], [\"ultra\"], [\"ultra\"], [\"ultra\"], [\"ultra\"], [\"ultra\"], [\"ultra\"], [\"ultra\"], [\"ultra\"], [\"smart\"], [\"smart\"], [\"smart\"], [\"smart\"], [\"smart\"], [\"smart\"], [\"smart\"], [\"smart\"], [\"smart\"], [\"smart\"], [\"smart\"], [\"smart\"], [\"smart\"], [\"smart\"], [\"smart\"], [\"smart\"], [\"smart\"], [\"smart\"], [\"smart\"], [\"smart\"], [\"smart\"], [\"smart\"], [\"smart\"], [\"smart\"], [\"smart\"], [\"smart\"], [\"smart\"], [\"smart\"], [\"smart\"], [\"smart\"], [\"smart\"], [\"smart\"], [\"smart\"], [\"smart\"], [\"smart\"], [\"smart\"], [\"smart\"], [\"smart\"], [\"smart\"], [\"smart\"], [\"smart\"], [\"smart\"], [\"smart\"], [\"smart\"], [\"smart\"], [\"smart\"], [\"smart\"], [\"smart\"], [\"smart\"], [\"smart\"], [\"smart\"], [\"smart\"], [\"smart\"], [\"smart\"], [\"smart\"], [\"smart\"], [\"smart\"], [\"smart\"], [\"smart\"], [\"smart\"], [\"smart\"], [\"smart\"], [\"smart\"], [\"smart\"], [\"smart\"], [\"ultra\"], [\"smart\"], [\"smart\"], [\"smart\"], [\"smart\"], [\"smart\"], [\"smart\"], [\"smart\"], [\"smart\"], [\"smart\"], [\"smart\"], [\"smart\"], [\"smart\"], [\"smart\"], [\"smart\"], [\"smart\"], [\"smart\"], [\"smart\"], [\"smart\"], [\"smart\"], [\"smart\"], [\"smart\"], [\"smart\"], [\"smart\"], [\"smart\"], [\"ultra\"], [\"ultra\"], [\"ultra\"], [\"ultra\"], [\"ultra\"], [\"ultra\"], [\"ultra\"], [\"ultra\"], [\"ultra\"], [\"smart\"], [\"smart\"], [\"smart\"], [\"smart\"], [\"smart\"], [\"smart\"], [\"smart\"], [\"ultra\"], [\"ultra\"], [\"smart\"], [\"smart\"], [\"smart\"], [\"smart\"], [\"smart\"], [\"ultra\"], [\"ultra\"], [\"ultra\"], [\"ultra\"], [\"ultra\"], [\"smart\"], [\"smart\"], [\"smart\"], [\"smart\"], [\"smart\"], [\"smart\"], [\"smart\"], [\"smart\"], [\"smart\"], [\"smart\"], [\"smart\"], [\"smart\"], [\"smart\"], [\"smart\"], [\"smart\"], [\"smart\"], [\"smart\"], [\"smart\"], [\"smart\"], [\"smart\"], [\"smart\"], [\"smart\"], [\"smart\"]], \"domain\": {\"x\": [0.0, 1.0], \"y\": [0.0, 1.0]}, \"hoverlabel\": {\"namelength\": 0}, \"hovertemplate\": \"\\u0422\\u0430\\u0440\\u0438\\u0444=%{label}<br>User_id=%{value}\", \"labels\": [\"ultra\", \"ultra\", \"ultra\", \"ultra\", \"ultra\", \"ultra\", \"ultra\", \"ultra\", \"smart\", \"smart\", \"smart\", \"smart\", \"smart\", \"smart\", \"smart\", \"smart\", \"smart\", \"ultra\", \"ultra\", \"ultra\", \"ultra\", \"ultra\", \"ultra\", \"ultra\", \"ultra\", \"ultra\", \"ultra\", \"ultra\", \"ultra\", \"ultra\", \"smart\", \"smart\", \"smart\", \"smart\", \"smart\", \"smart\", \"smart\", \"smart\", \"smart\", \"smart\", \"smart\", \"smart\", \"smart\", \"smart\", \"smart\", \"smart\", \"smart\", \"smart\", \"smart\", \"smart\", \"smart\", \"smart\", \"smart\", \"smart\", \"smart\", \"smart\", \"smart\", \"smart\", \"smart\", \"smart\", \"smart\", \"smart\", \"smart\", \"smart\", \"smart\", \"smart\", \"smart\", \"smart\", \"smart\", \"smart\", \"smart\", \"smart\", \"smart\", \"smart\", \"smart\", \"smart\", \"smart\", \"smart\", \"smart\", \"smart\", \"smart\", \"smart\", \"smart\", \"smart\", \"smart\", \"smart\", \"smart\", \"smart\", \"smart\", \"smart\", \"smart\", \"smart\", \"smart\", \"smart\", \"smart\", \"smart\", \"smart\", \"smart\", \"ultra\", \"ultra\", \"smart\", \"smart\", \"smart\", \"smart\", \"smart\", \"smart\", \"smart\", \"smart\", \"smart\", \"smart\", \"smart\", \"smart\", \"smart\", \"smart\", \"smart\", \"smart\", \"smart\", \"ultra\", \"ultra\", \"smart\", \"smart\", \"smart\", \"smart\", \"smart\", \"smart\", \"smart\", \"smart\", \"ultra\", \"ultra\", \"ultra\", \"ultra\", \"ultra\", \"ultra\", \"ultra\", \"ultra\", \"ultra\", \"ultra\", \"ultra\", \"ultra\", \"ultra\", \"ultra\", \"ultra\", \"smart\", \"smart\", \"smart\", \"ultra\", \"ultra\", \"ultra\", \"ultra\", \"ultra\", \"ultra\", \"ultra\", \"ultra\", \"ultra\", \"smart\", \"smart\", \"smart\", \"smart\", \"ultra\", \"ultra\", \"ultra\", \"smart\", \"smart\", \"smart\", \"smart\", \"smart\", \"smart\", \"smart\", \"smart\", \"smart\", \"smart\", \"smart\", \"smart\", \"smart\", \"smart\", \"smart\", \"smart\", \"smart\", \"smart\", \"smart\", \"smart\", \"smart\", \"smart\", \"ultra\", \"ultra\", \"ultra\", \"smart\", \"smart\", \"smart\", \"smart\", \"smart\", \"smart\", \"smart\", \"smart\", \"smart\", \"smart\", \"smart\", \"smart\", \"smart\", \"smart\", \"smart\", \"smart\", \"smart\", \"smart\", \"smart\", \"smart\", \"smart\", \"smart\", \"smart\", \"smart\", \"smart\", \"smart\", \"smart\", \"smart\", \"smart\", \"smart\", \"smart\", \"smart\", \"smart\", \"smart\", \"smart\", \"smart\", \"smart\", \"smart\", \"smart\", \"smart\", \"smart\", \"smart\", \"smart\", \"smart\", \"smart\", \"smart\", \"smart\", \"smart\", \"smart\", \"smart\", \"smart\", \"smart\", \"smart\", \"smart\", \"smart\", \"smart\", \"smart\", \"ultra\", \"ultra\", \"ultra\", \"ultra\", \"ultra\", \"ultra\", \"ultra\", \"smart\", \"smart\", \"smart\", \"smart\", \"smart\", \"smart\", \"smart\", \"smart\", \"smart\", \"smart\", \"smart\", \"smart\", \"smart\", \"smart\", \"smart\", \"smart\", \"smart\", \"smart\", \"smart\", \"smart\", \"smart\", \"smart\", \"smart\", \"smart\", \"smart\", \"smart\", \"smart\", \"smart\", \"smart\", \"smart\", \"smart\", \"smart\", \"smart\", \"smart\", \"smart\", \"smart\", \"smart\", \"smart\", \"smart\", \"smart\", \"smart\", \"smart\", \"smart\", \"smart\", \"smart\", \"ultra\", \"ultra\", \"ultra\", \"ultra\", \"ultra\", \"ultra\", \"ultra\", \"ultra\", \"ultra\", \"ultra\", \"ultra\", \"ultra\", \"ultra\", \"ultra\", \"ultra\", \"ultra\", \"ultra\", \"ultra\", \"ultra\", \"ultra\", \"smart\", \"smart\", \"smart\", \"smart\", \"smart\", \"smart\", \"smart\", \"smart\", \"smart\", \"smart\", \"smart\", \"smart\", \"ultra\", \"ultra\", \"ultra\", \"ultra\", \"smart\", \"smart\", \"smart\", \"smart\", \"smart\", \"smart\", \"smart\", \"smart\", \"smart\", \"smart\", \"smart\", \"smart\", \"smart\", \"smart\", \"smart\", \"smart\", \"smart\", \"smart\", \"smart\", \"smart\", \"smart\", \"smart\", \"smart\", \"smart\", \"smart\", \"smart\", \"smart\", \"smart\", \"smart\", \"ultra\", \"ultra\", \"ultra\", \"ultra\", \"ultra\", \"ultra\", \"ultra\", \"ultra\", \"ultra\", \"ultra\", \"smart\", \"smart\", \"smart\", \"smart\", \"smart\", \"smart\", \"smart\", \"smart\", \"smart\", \"smart\", \"smart\", \"smart\", \"ultra\", \"ultra\", \"smart\", \"smart\", \"smart\", \"smart\", \"smart\", \"smart\", \"smart\", \"smart\", \"ultra\", \"ultra\", \"ultra\", \"ultra\", \"ultra\", \"ultra\", \"ultra\", \"ultra\", \"ultra\", \"smart\", \"smart\", \"smart\", \"smart\", \"smart\", \"smart\", \"smart\", \"smart\", \"smart\", \"smart\", \"smart\", \"smart\", \"smart\", \"smart\", \"smart\", \"smart\", \"smart\", \"smart\", \"smart\", \"smart\", \"smart\", \"smart\", \"smart\", \"smart\", \"smart\", \"smart\", \"smart\", \"smart\", \"smart\", \"smart\", \"smart\", \"smart\", \"smart\", \"smart\", \"smart\", \"smart\", \"smart\", \"smart\", \"smart\", \"smart\", \"smart\", \"smart\", \"smart\", \"smart\", \"smart\", \"smart\", \"smart\", \"smart\", \"smart\", \"smart\", \"smart\", \"smart\", \"smart\", \"smart\", \"smart\", \"smart\", \"smart\", \"smart\", \"smart\", \"smart\", \"smart\", \"smart\", \"smart\", \"smart\", \"smart\", \"smart\", \"smart\", \"smart\", \"smart\", \"smart\", \"smart\", \"smart\", \"smart\", \"smart\", \"smart\", \"smart\", \"smart\", \"smart\", \"smart\", \"smart\", \"smart\", \"smart\", \"smart\", \"smart\", \"smart\", \"smart\", \"ultra\", \"ultra\", \"ultra\", \"ultra\", \"ultra\", \"ultra\", \"ultra\", \"smart\", \"smart\", \"smart\", \"smart\", \"smart\", \"smart\", \"smart\", \"smart\", \"ultra\", \"ultra\", \"ultra\", \"ultra\", \"ultra\", \"ultra\", \"ultra\", \"ultra\", \"ultra\", \"ultra\", \"ultra\", \"ultra\", \"ultra\", \"ultra\", \"ultra\", \"smart\", \"smart\", \"smart\", \"smart\", \"smart\", \"smart\", \"smart\", \"smart\", \"smart\", \"smart\", \"smart\", \"smart\", \"ultra\", \"ultra\", \"ultra\", \"ultra\", \"ultra\", \"ultra\", \"ultra\", \"ultra\", \"smart\", \"smart\", \"smart\", \"smart\", \"smart\", \"smart\", \"smart\", \"smart\", \"smart\", \"smart\", \"smart\", \"smart\", \"smart\", \"smart\", \"smart\", \"smart\", \"smart\", \"smart\", \"smart\", \"ultra\", \"ultra\", \"ultra\", \"ultra\", \"ultra\", \"ultra\", \"ultra\", \"ultra\", \"ultra\", \"ultra\", \"ultra\", \"ultra\", \"ultra\", \"ultra\", \"ultra\", \"ultra\", \"ultra\", \"ultra\", \"ultra\", \"ultra\", \"ultra\", \"ultra\", \"smart\", \"smart\", \"smart\", \"smart\", \"smart\", \"smart\", \"smart\", \"smart\", \"smart\", \"smart\", \"smart\", \"smart\", \"smart\", \"smart\", \"ultra\", \"ultra\", \"ultra\", \"ultra\", \"ultra\", \"ultra\", \"ultra\", \"ultra\", \"smart\", \"ultra\", \"ultra\", \"ultra\", \"ultra\", \"ultra\", \"ultra\", \"ultra\", \"ultra\", \"ultra\", \"ultra\", \"ultra\", \"ultra\", \"ultra\", \"ultra\", \"ultra\", \"ultra\", \"smart\", \"smart\", \"smart\", \"smart\", \"smart\", \"smart\", \"smart\", \"ultra\", \"ultra\", \"ultra\", \"ultra\", \"ultra\", \"ultra\", \"ultra\", \"ultra\", \"ultra\", \"ultra\", \"smart\", \"smart\", \"smart\", \"smart\", \"smart\", \"smart\", \"smart\", \"smart\", \"smart\", \"smart\", \"smart\", \"smart\", \"smart\", \"smart\", \"smart\", \"smart\", \"smart\", \"smart\", \"smart\", \"smart\", \"smart\", \"smart\", \"ultra\", \"ultra\", \"ultra\", \"ultra\", \"ultra\", \"ultra\", \"ultra\", \"ultra\", \"ultra\", \"ultra\", \"ultra\", \"smart\", \"smart\", \"smart\", \"smart\", \"ultra\", \"ultra\", \"ultra\", \"ultra\", \"ultra\", \"ultra\", \"ultra\", \"ultra\", \"ultra\", \"smart\", \"smart\", \"smart\", \"smart\", \"smart\", \"smart\", \"smart\", \"smart\", \"smart\", \"smart\", \"smart\", \"smart\", \"smart\", \"smart\", \"smart\", \"smart\", \"smart\", \"smart\", \"smart\", \"smart\", \"smart\", \"smart\", \"smart\", \"smart\", \"smart\", \"smart\", \"smart\", \"smart\", \"smart\", \"smart\", \"smart\", \"smart\", \"smart\", \"smart\", \"smart\", \"smart\", \"smart\", \"smart\", \"smart\", \"smart\", \"smart\", \"smart\", \"smart\", \"smart\", \"smart\", \"smart\", \"smart\", \"smart\", \"smart\", \"smart\", \"smart\", \"smart\", \"smart\", \"smart\", \"smart\", \"smart\", \"smart\", \"smart\", \"smart\", \"smart\", \"smart\", \"smart\", \"smart\", \"smart\", \"smart\", \"smart\", \"smart\", \"smart\", \"smart\", \"smart\", \"smart\", \"smart\", \"smart\", \"smart\", \"smart\", \"smart\", \"smart\", \"smart\", \"smart\", \"smart\", \"smart\", \"smart\", \"smart\", \"smart\", \"smart\", \"smart\", \"ultra\", \"ultra\", \"ultra\", \"ultra\", \"ultra\", \"ultra\", \"ultra\", \"ultra\", \"ultra\", \"ultra\", \"ultra\", \"ultra\", \"smart\", \"smart\", \"smart\", \"smart\", \"smart\", \"smart\", \"smart\", \"smart\", \"ultra\", \"ultra\", \"smart\", \"smart\", \"smart\", \"smart\", \"smart\", \"smart\", \"smart\", \"smart\", \"smart\", \"smart\", \"ultra\", \"ultra\", \"ultra\", \"ultra\", \"smart\", \"smart\", \"smart\", \"smart\", \"ultra\", \"ultra\", \"ultra\", \"ultra\", \"ultra\", \"ultra\", \"ultra\", \"ultra\", \"ultra\", \"ultra\", \"ultra\", \"ultra\", \"smart\", \"smart\", \"smart\", \"smart\", \"smart\", \"smart\", \"smart\", \"smart\", \"smart\", \"smart\", \"smart\", \"smart\", \"smart\", \"smart\", \"smart\", \"smart\", \"smart\", \"smart\", \"smart\", \"smart\", \"smart\", \"smart\", \"smart\", \"smart\", \"smart\", \"smart\", \"smart\", \"smart\", \"smart\", \"smart\", \"smart\", \"smart\", \"smart\", \"smart\", \"smart\", \"smart\", \"smart\", \"smart\", \"smart\", \"smart\", \"smart\", \"smart\", \"smart\", \"smart\", \"smart\", \"smart\", \"smart\", \"smart\", \"smart\", \"smart\", \"smart\", \"smart\", \"smart\", \"smart\", \"smart\", \"smart\", \"smart\", \"smart\", \"smart\", \"smart\", \"smart\", \"smart\", \"smart\", \"smart\", \"smart\", \"smart\", \"smart\", \"smart\", \"smart\", \"smart\", \"smart\", \"smart\", \"smart\", \"smart\", \"ultra\", \"ultra\", \"ultra\", \"ultra\", \"ultra\", \"ultra\", \"ultra\", \"ultra\", \"ultra\", \"smart\", \"smart\", \"smart\", \"smart\", \"smart\", \"smart\", \"smart\", \"smart\", \"smart\", \"smart\", \"smart\", \"smart\", \"smart\", \"smart\", \"smart\", \"smart\", \"smart\", \"smart\", \"smart\", \"smart\", \"smart\", \"smart\", \"smart\", \"smart\", \"smart\", \"smart\", \"smart\", \"smart\", \"smart\", \"smart\", \"smart\", \"smart\", \"ultra\", \"ultra\", \"ultra\", \"ultra\", \"ultra\", \"ultra\", \"ultra\", \"ultra\", \"ultra\", \"smart\", \"smart\", \"smart\", \"smart\", \"smart\", \"smart\", \"smart\", \"smart\", \"ultra\", \"ultra\", \"ultra\", \"ultra\", \"ultra\", \"ultra\", \"ultra\", \"ultra\", \"ultra\", \"ultra\", \"ultra\", \"ultra\", \"ultra\", \"ultra\", \"ultra\", \"ultra\", \"ultra\", \"ultra\", \"ultra\", \"ultra\", \"smart\", \"smart\", \"smart\", \"smart\", \"smart\", \"smart\", \"smart\", \"smart\", \"smart\", \"smart\", \"smart\", \"smart\", \"smart\", \"smart\", \"smart\", \"smart\", \"smart\", \"smart\", \"smart\", \"smart\", \"smart\", \"smart\", \"ultra\", \"ultra\", \"smart\", \"smart\", \"smart\", \"smart\", \"smart\", \"smart\", \"smart\", \"smart\", \"smart\", \"smart\", \"smart\", \"smart\", \"smart\", \"smart\", \"smart\", \"smart\", \"smart\", \"smart\", \"smart\", \"smart\", \"smart\", \"smart\", \"smart\", \"smart\", \"smart\", \"smart\", \"smart\", \"smart\", \"smart\", \"smart\", \"smart\", \"smart\", \"smart\", \"smart\", \"smart\", \"smart\", \"smart\", \"smart\", \"smart\", \"smart\", \"smart\", \"smart\", \"smart\", \"smart\", \"smart\", \"smart\", \"smart\", \"smart\", \"smart\", \"ultra\", \"ultra\", \"ultra\", \"ultra\", \"ultra\", \"ultra\", \"ultra\", \"ultra\", \"ultra\", \"ultra\", \"ultra\", \"ultra\", \"ultra\", \"ultra\", \"ultra\", \"ultra\", \"ultra\", \"ultra\", \"ultra\", \"ultra\", \"ultra\", \"ultra\", \"ultra\", \"ultra\", \"smart\", \"smart\", \"smart\", \"smart\", \"smart\", \"smart\", \"smart\", \"smart\", \"smart\", \"smart\", \"smart\", \"smart\", \"smart\", \"smart\", \"smart\", \"smart\", \"smart\", \"smart\", \"smart\", \"smart\", \"smart\", \"smart\", \"smart\", \"smart\", \"smart\", \"smart\", \"smart\", \"smart\", \"smart\", \"smart\", \"smart\", \"smart\", \"smart\", \"smart\", \"smart\", \"smart\", \"smart\", \"smart\", \"smart\", \"smart\", \"smart\", \"smart\", \"smart\", \"smart\", \"smart\", \"smart\", \"smart\", \"smart\", \"smart\", \"smart\", \"smart\", \"smart\", \"smart\", \"smart\", \"smart\", \"smart\", \"smart\", \"smart\", \"smart\", \"smart\", \"smart\", \"smart\", \"smart\", \"smart\", \"smart\", \"smart\", \"smart\", \"smart\", \"smart\", \"smart\", \"smart\", \"smart\", \"smart\", \"smart\", \"smart\", \"smart\", \"smart\", \"smart\", \"smart\", \"smart\", \"smart\", \"smart\", \"smart\", \"smart\", \"smart\", \"smart\", \"smart\", \"smart\", \"smart\", \"ultra\", \"ultra\", \"ultra\", \"ultra\", \"ultra\", \"ultra\", \"ultra\", \"ultra\", \"ultra\", \"ultra\", \"ultra\", \"smart\", \"smart\", \"ultra\", \"ultra\", \"ultra\", \"smart\", \"smart\", \"smart\", \"smart\", \"smart\", \"smart\", \"smart\", \"smart\", \"smart\", \"smart\", \"ultra\", \"ultra\", \"ultra\", \"ultra\", \"ultra\", \"ultra\", \"ultra\", \"ultra\", \"ultra\", \"smart\", \"smart\", \"smart\", \"smart\", \"smart\", \"smart\", \"smart\", \"smart\", \"smart\", \"smart\", \"smart\", \"smart\", \"smart\", \"smart\", \"smart\", \"smart\", \"smart\", \"smart\", \"smart\", \"smart\", \"smart\", \"smart\", \"smart\", \"smart\", \"smart\", \"smart\", \"smart\", \"smart\", \"smart\", \"smart\", \"smart\", \"smart\", \"smart\", \"smart\", \"smart\", \"smart\", \"smart\", \"smart\", \"smart\", \"smart\", \"smart\", \"smart\", \"smart\", \"smart\", \"smart\", \"ultra\", \"smart\", \"smart\", \"smart\", \"smart\", \"smart\", \"smart\", \"smart\", \"smart\", \"smart\", \"smart\", \"smart\", \"smart\", \"smart\", \"smart\", \"smart\", \"smart\", \"ultra\", \"ultra\", \"ultra\", \"ultra\", \"ultra\", \"ultra\", \"ultra\", \"ultra\", \"smart\", \"smart\", \"smart\", \"smart\", \"smart\", \"smart\", \"smart\", \"smart\", \"smart\", \"smart\", \"smart\", \"smart\", \"smart\", \"smart\", \"smart\", \"smart\", \"ultra\", \"ultra\", \"ultra\", \"ultra\", \"ultra\", \"ultra\", \"ultra\", \"ultra\", \"ultra\", \"ultra\", \"ultra\", \"ultra\", \"ultra\", \"ultra\", \"smart\", \"smart\", \"smart\", \"smart\", \"ultra\", \"ultra\", \"ultra\", \"ultra\", \"ultra\", \"ultra\", \"ultra\", \"ultra\", \"ultra\", \"ultra\", \"smart\", \"smart\", \"smart\", \"smart\", \"smart\", \"smart\", \"smart\", \"smart\", \"smart\", \"smart\", \"smart\", \"smart\", \"smart\", \"smart\", \"smart\", \"smart\", \"smart\", \"smart\", \"smart\", \"smart\", \"smart\", \"smart\", \"ultra\", \"ultra\", \"ultra\", \"ultra\", \"ultra\", \"ultra\", \"ultra\", \"ultra\", \"ultra\", \"ultra\", \"smart\", \"smart\", \"smart\", \"smart\", \"smart\", \"smart\", \"smart\", \"smart\", \"smart\", \"smart\", \"smart\", \"smart\", \"smart\", \"smart\", \"smart\", \"smart\", \"smart\", \"smart\", \"smart\", \"smart\", \"smart\", \"smart\", \"smart\", \"smart\", \"smart\", \"smart\", \"smart\", \"smart\", \"smart\", \"smart\", \"smart\", \"smart\", \"smart\", \"smart\", \"smart\", \"smart\", \"smart\", \"smart\", \"smart\", \"smart\", \"smart\", \"smart\", \"smart\", \"smart\", \"smart\", \"smart\", \"smart\", \"smart\", \"smart\", \"smart\", \"smart\", \"smart\", \"smart\", \"smart\", \"smart\", \"smart\", \"smart\", \"smart\", \"smart\", \"smart\", \"smart\", \"smart\", \"smart\", \"smart\", \"smart\", \"smart\", \"smart\", \"smart\", \"smart\", \"smart\", \"smart\", \"smart\", \"smart\", \"smart\", \"smart\", \"smart\", \"smart\", \"smart\", \"ultra\", \"ultra\", \"ultra\", \"ultra\", \"ultra\", \"smart\", \"smart\", \"smart\", \"smart\", \"smart\", \"smart\", \"smart\", \"smart\", \"smart\", \"smart\", \"ultra\", \"ultra\", \"ultra\", \"ultra\", \"ultra\", \"ultra\", \"ultra\", \"ultra\", \"ultra\", \"ultra\", \"ultra\", \"ultra\", \"ultra\", \"ultra\", \"ultra\", \"ultra\", \"smart\", \"smart\", \"smart\", \"smart\", \"smart\", \"smart\", \"smart\", \"smart\", \"smart\", \"smart\", \"smart\", \"smart\", \"smart\", \"smart\", \"smart\", \"smart\", \"smart\", \"smart\", \"smart\", \"smart\", \"smart\", \"smart\", \"smart\", \"smart\", \"smart\", \"smart\", \"smart\", \"smart\", \"ultra\", \"ultra\", \"ultra\", \"ultra\", \"ultra\", \"ultra\", \"ultra\", \"ultra\", \"smart\", \"smart\", \"smart\", \"smart\", \"smart\", \"smart\", \"smart\", \"smart\", \"smart\", \"smart\", \"ultra\", \"smart\", \"smart\", \"smart\", \"smart\", \"smart\", \"smart\", \"smart\", \"smart\", \"smart\", \"smart\", \"smart\", \"smart\", \"smart\", \"smart\", \"smart\", \"smart\", \"smart\", \"smart\", \"smart\", \"smart\", \"smart\", \"smart\", \"smart\", \"smart\", \"smart\", \"ultra\", \"ultra\", \"ultra\", \"ultra\", \"ultra\", \"ultra\", \"ultra\", \"ultra\", \"ultra\", \"ultra\", \"ultra\", \"smart\", \"smart\", \"smart\", \"smart\", \"smart\", \"smart\", \"smart\", \"smart\", \"smart\", \"smart\", \"ultra\", \"ultra\", \"ultra\", \"ultra\", \"ultra\", \"ultra\", \"ultra\", \"smart\", \"smart\", \"smart\", \"smart\", \"smart\", \"smart\", \"smart\", \"smart\", \"ultra\", \"ultra\", \"ultra\", \"ultra\", \"smart\", \"smart\", \"smart\", \"smart\", \"smart\", \"smart\", \"smart\", \"smart\", \"smart\", \"smart\", \"smart\", \"smart\", \"smart\", \"smart\", \"smart\", \"smart\", \"smart\", \"smart\", \"smart\", \"smart\", \"smart\", \"smart\", \"smart\", \"smart\", \"smart\", \"smart\", \"smart\", \"smart\", \"smart\", \"smart\", \"smart\", \"smart\", \"smart\", \"smart\", \"smart\", \"smart\", \"smart\", \"smart\", \"smart\", \"smart\", \"smart\", \"smart\", \"smart\", \"smart\", \"smart\", \"smart\", \"ultra\", \"ultra\", \"ultra\", \"ultra\", \"ultra\", \"ultra\", \"ultra\", \"ultra\", \"ultra\", \"ultra\", \"ultra\", \"ultra\", \"ultra\", \"ultra\", \"ultra\", \"ultra\", \"ultra\", \"ultra\", \"ultra\", \"ultra\", \"ultra\", \"smart\", \"smart\", \"smart\", \"smart\", \"ultra\", \"ultra\", \"ultra\", \"ultra\", \"ultra\", \"ultra\", \"ultra\", \"smart\", \"ultra\", \"ultra\", \"smart\", \"smart\", \"smart\", \"smart\", \"smart\", \"smart\", \"smart\", \"smart\", \"smart\", \"smart\", \"smart\", \"smart\", \"smart\", \"smart\", \"smart\", \"smart\", \"smart\", \"smart\", \"smart\", \"smart\", \"smart\", \"smart\", \"smart\", \"smart\", \"smart\", \"smart\", \"smart\", \"smart\", \"smart\", \"smart\", \"smart\", \"smart\", \"smart\", \"smart\", \"smart\", \"smart\", \"smart\", \"ultra\", \"ultra\", \"ultra\", \"ultra\", \"ultra\", \"smart\", \"smart\", \"smart\", \"smart\", \"smart\", \"smart\", \"smart\", \"smart\", \"smart\", \"smart\", \"smart\", \"smart\", \"smart\", \"smart\", \"smart\", \"smart\", \"smart\", \"smart\", \"smart\", \"smart\", \"smart\", \"smart\", \"smart\", \"smart\", \"smart\", \"ultra\", \"ultra\", \"ultra\", \"ultra\", \"ultra\", \"ultra\", \"ultra\", \"ultra\", \"ultra\", \"ultra\", \"ultra\", \"ultra\", \"ultra\", \"ultra\", \"ultra\", \"ultra\", \"ultra\", \"ultra\", \"ultra\", \"ultra\", \"ultra\", \"ultra\", \"ultra\", \"ultra\", \"smart\", \"smart\", \"smart\", \"smart\", \"smart\", \"smart\", \"smart\", \"smart\", \"smart\", \"smart\", \"smart\", \"smart\", \"smart\", \"smart\", \"smart\", \"smart\", \"smart\", \"ultra\", \"ultra\", \"ultra\", \"ultra\", \"ultra\", \"ultra\", \"ultra\", \"ultra\", \"ultra\", \"ultra\", \"ultra\", \"ultra\", \"ultra\", \"ultra\", \"smart\", \"smart\", \"smart\", \"smart\", \"smart\", \"smart\", \"smart\", \"smart\", \"smart\", \"smart\", \"smart\", \"smart\", \"ultra\", \"ultra\", \"ultra\", \"ultra\", \"ultra\", \"ultra\", \"ultra\", \"smart\", \"smart\", \"smart\", \"smart\", \"smart\", \"smart\", \"smart\", \"smart\", \"smart\", \"smart\", \"smart\", \"smart\", \"smart\", \"smart\", \"smart\", \"smart\", \"smart\", \"smart\", \"smart\", \"smart\", \"smart\", \"smart\", \"smart\", \"smart\", \"smart\", \"smart\", \"smart\", \"smart\", \"smart\", \"smart\", \"smart\", \"smart\", \"smart\", \"smart\", \"smart\", \"smart\", \"smart\", \"smart\", \"smart\", \"smart\", \"smart\", \"smart\", \"smart\", \"smart\", \"smart\", \"smart\", \"smart\", \"ultra\", \"ultra\", \"ultra\", \"ultra\", \"smart\", \"smart\", \"smart\", \"smart\", \"smart\", \"smart\", \"smart\", \"smart\", \"smart\", \"smart\", \"smart\", \"smart\", \"smart\", \"smart\", \"smart\", \"smart\", \"smart\", \"smart\", \"smart\", \"ultra\", \"ultra\", \"ultra\", \"ultra\", \"ultra\", \"ultra\", \"ultra\", \"ultra\", \"ultra\", \"ultra\", \"ultra\", \"smart\", \"smart\", \"smart\", \"ultra\", \"ultra\", \"ultra\", \"ultra\", \"ultra\", \"ultra\", \"ultra\", \"ultra\", \"ultra\", \"ultra\", \"ultra\", \"smart\", \"smart\", \"smart\", \"smart\", \"smart\", \"smart\", \"smart\", \"smart\", \"smart\", \"smart\", \"smart\", \"smart\", \"smart\", \"smart\", \"smart\", \"smart\", \"smart\", \"smart\", \"smart\", \"smart\", \"smart\", \"smart\", \"smart\", \"smart\", \"smart\", \"smart\", \"smart\", \"smart\", \"smart\", \"smart\", \"ultra\", \"ultra\", \"ultra\", \"ultra\", \"ultra\", \"ultra\", \"smart\", \"smart\", \"smart\", \"smart\", \"smart\", \"smart\", \"smart\", \"smart\", \"smart\", \"smart\", \"smart\", \"smart\", \"smart\", \"smart\", \"smart\", \"smart\", \"ultra\", \"ultra\", \"ultra\", \"ultra\", \"ultra\", \"ultra\", \"ultra\", \"ultra\", \"smart\", \"smart\", \"smart\", \"smart\", \"smart\", \"smart\", \"smart\", \"smart\", \"smart\", \"smart\", \"smart\", \"smart\", \"smart\", \"smart\", \"smart\", \"smart\", \"smart\", \"smart\", \"smart\", \"smart\", \"smart\", \"smart\", \"smart\", \"smart\", \"smart\", \"ultra\", \"ultra\", \"ultra\", \"ultra\", \"ultra\", \"ultra\", \"ultra\", \"ultra\", \"ultra\", \"ultra\", \"ultra\", \"ultra\", \"ultra\", \"smart\", \"smart\", \"smart\", \"smart\", \"smart\", \"smart\", \"smart\", \"smart\", \"smart\", \"smart\", \"smart\", \"smart\", \"smart\", \"smart\", \"smart\", \"smart\", \"smart\", \"smart\", \"smart\", \"smart\", \"smart\", \"smart\", \"smart\", \"smart\", \"smart\", \"smart\", \"smart\", \"smart\", \"smart\", \"smart\", \"smart\", \"smart\", \"smart\", \"smart\", \"smart\", \"smart\", \"smart\", \"smart\", \"ultra\", \"ultra\", \"ultra\", \"ultra\", \"ultra\", \"ultra\", \"ultra\", \"ultra\", \"ultra\", \"ultra\", \"smart\", \"smart\", \"smart\", \"smart\", \"smart\", \"smart\", \"smart\", \"smart\", \"smart\", \"smart\", \"smart\", \"smart\", \"smart\", \"smart\", \"smart\", \"smart\", \"smart\", \"smart\", \"smart\", \"smart\", \"smart\", \"smart\", \"smart\", \"smart\", \"smart\", \"smart\", \"smart\", \"smart\", \"smart\", \"smart\", \"smart\", \"smart\", \"smart\", \"smart\", \"smart\", \"smart\", \"smart\", \"ultra\", \"ultra\", \"ultra\", \"ultra\", \"ultra\", \"ultra\", \"ultra\", \"smart\", \"smart\", \"smart\", \"smart\", \"smart\", \"smart\", \"smart\", \"smart\", \"smart\", \"smart\", \"smart\", \"smart\", \"smart\", \"smart\", \"smart\", \"smart\", \"smart\", \"ultra\", \"ultra\", \"ultra\", \"smart\", \"smart\", \"smart\", \"ultra\", \"ultra\", \"ultra\", \"ultra\", \"ultra\", \"ultra\", \"ultra\", \"ultra\", \"ultra\", \"ultra\", \"ultra\", \"ultra\", \"ultra\", \"ultra\", \"ultra\", \"ultra\", \"ultra\", \"ultra\", \"ultra\", \"ultra\", \"smart\", \"smart\", \"smart\", \"smart\", \"smart\", \"smart\", \"smart\", \"smart\", \"ultra\", \"ultra\", \"ultra\", \"ultra\", \"smart\", \"smart\", \"ultra\", \"ultra\", \"ultra\", \"ultra\", \"ultra\", \"ultra\", \"ultra\", \"ultra\", \"smart\", \"smart\", \"smart\", \"smart\", \"smart\", \"smart\", \"smart\", \"smart\", \"smart\", \"smart\", \"smart\", \"smart\", \"smart\", \"smart\", \"smart\", \"smart\", \"smart\", \"smart\", \"smart\", \"smart\", \"smart\", \"smart\", \"smart\", \"smart\", \"smart\", \"smart\", \"smart\", \"smart\", \"smart\", \"smart\", \"smart\", \"smart\", \"smart\", \"smart\", \"smart\", \"smart\", \"smart\", \"ultra\", \"ultra\", \"ultra\", \"ultra\", \"ultra\", \"ultra\", \"ultra\", \"smart\", \"smart\", \"smart\", \"ultra\", \"ultra\", \"ultra\", \"ultra\", \"ultra\", \"ultra\", \"ultra\", \"ultra\", \"ultra\", \"ultra\", \"ultra\", \"ultra\", \"smart\", \"smart\", \"smart\", \"smart\", \"smart\", \"smart\", \"smart\", \"ultra\", \"ultra\", \"ultra\", \"ultra\", \"ultra\", \"ultra\", \"ultra\", \"ultra\", \"ultra\", \"ultra\", \"ultra\", \"ultra\", \"ultra\", \"ultra\", \"ultra\", \"ultra\", \"ultra\", \"smart\", \"smart\", \"ultra\", \"ultra\", \"ultra\", \"ultra\", \"ultra\", \"ultra\", \"ultra\", \"ultra\", \"ultra\", \"smart\", \"smart\", \"smart\", \"smart\", \"smart\", \"smart\", \"smart\", \"smart\", \"smart\", \"smart\", \"smart\", \"smart\", \"smart\", \"smart\", \"smart\", \"smart\", \"smart\", \"smart\", \"ultra\", \"ultra\", \"ultra\", \"ultra\", \"ultra\", \"ultra\", \"ultra\", \"ultra\", \"ultra\", \"smart\", \"smart\", \"smart\", \"smart\", \"smart\", \"smart\", \"smart\", \"smart\", \"smart\", \"smart\", \"smart\", \"smart\", \"smart\", \"smart\", \"smart\", \"smart\", \"smart\", \"smart\", \"smart\", \"smart\", \"smart\", \"ultra\", \"ultra\", \"ultra\", \"ultra\", \"ultra\", \"ultra\", \"ultra\", \"ultra\", \"ultra\", \"ultra\", \"ultra\", \"ultra\", \"ultra\", \"ultra\", \"smart\", \"smart\", \"smart\", \"smart\", \"smart\", \"ultra\", \"ultra\", \"ultra\", \"ultra\", \"ultra\", \"ultra\", \"ultra\", \"ultra\", \"ultra\", \"ultra\", \"ultra\", \"ultra\", \"ultra\", \"ultra\", \"ultra\", \"smart\", \"smart\", \"smart\", \"smart\", \"smart\", \"smart\", \"smart\", \"smart\", \"smart\", \"smart\", \"ultra\", \"ultra\", \"ultra\", \"smart\", \"ultra\", \"ultra\", \"ultra\", \"ultra\", \"ultra\", \"smart\", \"smart\", \"smart\", \"smart\", \"smart\", \"smart\", \"smart\", \"smart\", \"smart\", \"smart\", \"smart\", \"smart\", \"smart\", \"smart\", \"smart\", \"smart\", \"smart\", \"smart\", \"smart\", \"smart\", \"smart\", \"smart\", \"smart\", \"smart\", \"smart\", \"smart\", \"smart\", \"smart\", \"smart\", \"smart\", \"smart\", \"smart\", \"smart\", \"smart\", \"smart\", \"smart\", \"smart\", \"smart\", \"smart\", \"smart\", \"smart\", \"smart\", \"ultra\", \"ultra\", \"ultra\", \"ultra\", \"ultra\", \"ultra\", \"ultra\", \"ultra\", \"ultra\", \"ultra\", \"ultra\", \"ultra\", \"smart\", \"smart\", \"smart\", \"smart\", \"smart\", \"smart\", \"smart\", \"smart\", \"ultra\", \"ultra\", \"ultra\", \"ultra\", \"ultra\", \"ultra\", \"ultra\", \"ultra\", \"ultra\", \"ultra\", \"ultra\", \"smart\", \"smart\", \"smart\", \"smart\", \"smart\", \"smart\", \"smart\", \"smart\", \"smart\", \"smart\", \"smart\", \"smart\", \"ultra\", \"ultra\", \"ultra\", \"ultra\", \"ultra\", \"ultra\", \"ultra\", \"ultra\", \"ultra\", \"ultra\", \"ultra\", \"ultra\", \"ultra\", \"ultra\", \"ultra\", \"ultra\", \"ultra\", \"ultra\", \"ultra\", \"ultra\", \"ultra\", \"ultra\", \"ultra\", \"ultra\", \"ultra\", \"ultra\", \"ultra\", \"ultra\", \"ultra\", \"ultra\", \"ultra\", \"ultra\", \"ultra\", \"ultra\", \"ultra\", \"smart\", \"smart\", \"smart\", \"smart\", \"smart\", \"smart\", \"smart\", \"smart\", \"smart\", \"smart\", \"smart\", \"smart\", \"ultra\", \"ultra\", \"ultra\", \"ultra\", \"ultra\", \"ultra\", \"ultra\", \"ultra\", \"ultra\", \"ultra\", \"ultra\", \"ultra\", \"smart\", \"smart\", \"smart\", \"smart\", \"smart\", \"smart\", \"smart\", \"smart\", \"smart\", \"smart\", \"smart\", \"smart\", \"smart\", \"smart\", \"smart\", \"smart\", \"smart\", \"smart\", \"smart\", \"smart\", \"smart\", \"smart\", \"smart\", \"ultra\", \"ultra\", \"ultra\", \"ultra\", \"ultra\", \"ultra\", \"ultra\", \"ultra\", \"ultra\", \"ultra\", \"ultra\", \"ultra\", \"ultra\", \"ultra\", \"ultra\", \"ultra\", \"smart\", \"smart\", \"smart\", \"smart\", \"smart\", \"smart\", \"smart\", \"smart\", \"smart\", \"smart\", \"smart\", \"smart\", \"smart\", \"smart\", \"smart\", \"smart\", \"smart\", \"smart\", \"smart\", \"smart\", \"smart\", \"smart\", \"smart\", \"smart\", \"smart\", \"smart\", \"smart\", \"smart\", \"smart\", \"smart\", \"smart\", \"smart\", \"smart\", \"smart\", \"smart\", \"ultra\", \"ultra\", \"ultra\", \"ultra\", \"ultra\", \"ultra\", \"ultra\", \"ultra\", \"ultra\", \"ultra\", \"ultra\", \"ultra\", \"ultra\", \"smart\", \"ultra\", \"ultra\", \"smart\", \"smart\", \"smart\", \"smart\", \"smart\", \"smart\", \"smart\", \"smart\", \"smart\", \"smart\", \"smart\", \"smart\", \"smart\", \"smart\", \"smart\", \"smart\", \"smart\", \"ultra\", \"ultra\", \"ultra\", \"ultra\", \"ultra\", \"ultra\", \"ultra\", \"ultra\", \"ultra\", \"ultra\", \"ultra\", \"ultra\", \"ultra\", \"ultra\", \"ultra\", \"ultra\", \"ultra\", \"ultra\", \"smart\", \"smart\", \"smart\", \"smart\", \"smart\", \"smart\", \"smart\", \"smart\", \"smart\", \"ultra\", \"ultra\", \"ultra\", \"smart\", \"smart\", \"smart\", \"smart\", \"smart\", \"smart\", \"smart\", \"smart\", \"smart\", \"smart\", \"smart\", \"smart\", \"smart\", \"smart\", \"smart\", \"smart\", \"smart\", \"smart\", \"smart\", \"smart\", \"smart\", \"smart\", \"smart\", \"smart\", \"smart\", \"smart\", \"smart\", \"smart\", \"smart\", \"smart\", \"smart\", \"smart\", \"smart\", \"smart\", \"smart\", \"ultra\", \"ultra\", \"ultra\", \"ultra\", \"ultra\", \"ultra\", \"ultra\", \"smart\", \"smart\", \"smart\", \"smart\", \"smart\", \"smart\", \"smart\", \"smart\", \"smart\", \"smart\", \"smart\", \"smart\", \"smart\", \"ultra\", \"ultra\", \"ultra\", \"ultra\", \"ultra\", \"ultra\", \"ultra\", \"ultra\", \"ultra\", \"ultra\", \"ultra\", \"ultra\", \"ultra\", \"smart\", \"smart\", \"smart\", \"smart\", \"smart\", \"smart\", \"smart\", \"smart\", \"smart\", \"smart\", \"smart\", \"smart\", \"smart\", \"smart\", \"smart\", \"smart\", \"smart\", \"smart\", \"smart\", \"smart\", \"smart\", \"smart\", \"smart\", \"smart\", \"smart\", \"smart\", \"smart\", \"smart\", \"smart\", \"smart\", \"smart\", \"smart\", \"smart\", \"smart\", \"smart\", \"smart\", \"smart\", \"smart\", \"smart\", \"smart\", \"smart\", \"smart\", \"smart\", \"smart\", \"smart\", \"ultra\", \"ultra\", \"ultra\", \"ultra\", \"ultra\", \"ultra\", \"ultra\", \"smart\", \"smart\", \"smart\", \"smart\", \"smart\", \"smart\", \"smart\", \"smart\", \"smart\", \"smart\", \"smart\", \"smart\", \"smart\", \"smart\", \"smart\", \"smart\", \"smart\", \"smart\", \"smart\", \"smart\", \"smart\", \"smart\", \"smart\", \"smart\", \"smart\", \"smart\", \"smart\", \"smart\", \"smart\", \"smart\", \"smart\", \"smart\", \"smart\", \"smart\", \"smart\", \"smart\", \"smart\", \"smart\", \"smart\", \"smart\", \"smart\", \"ultra\", \"ultra\", \"ultra\", \"ultra\", \"ultra\", \"ultra\", \"ultra\", \"ultra\", \"ultra\", \"smart\", \"smart\", \"smart\", \"smart\", \"smart\", \"smart\", \"smart\", \"smart\", \"smart\", \"smart\", \"smart\", \"smart\", \"smart\", \"smart\", \"smart\", \"smart\", \"smart\", \"smart\", \"smart\", \"smart\", \"smart\", \"smart\", \"smart\", \"smart\", \"smart\", \"smart\", \"smart\", \"smart\", \"smart\", \"smart\", \"smart\", \"smart\", \"smart\", \"smart\", \"smart\", \"smart\", \"smart\", \"smart\", \"smart\", \"ultra\", \"ultra\", \"ultra\", \"ultra\", \"ultra\", \"ultra\", \"ultra\", \"ultra\", \"ultra\", \"smart\", \"smart\", \"smart\", \"smart\", \"smart\", \"smart\", \"smart\", \"smart\", \"smart\", \"smart\", \"smart\", \"smart\", \"smart\", \"smart\", \"smart\", \"ultra\", \"ultra\", \"ultra\", \"ultra\", \"ultra\", \"ultra\", \"ultra\", \"ultra\", \"smart\", \"smart\", \"ultra\", \"ultra\", \"smart\", \"smart\", \"smart\", \"smart\", \"smart\", \"smart\", \"smart\", \"smart\", \"smart\", \"smart\", \"smart\", \"smart\", \"smart\", \"smart\", \"smart\", \"smart\", \"smart\", \"smart\", \"smart\", \"smart\", \"smart\", \"smart\", \"smart\", \"smart\", \"smart\", \"smart\", \"smart\", \"smart\", \"smart\", \"smart\", \"smart\", \"smart\", \"smart\", \"smart\", \"ultra\", \"ultra\", \"ultra\", \"ultra\", \"ultra\", \"ultra\", \"ultra\", \"ultra\", \"ultra\", \"ultra\", \"ultra\", \"ultra\", \"ultra\", \"ultra\", \"ultra\", \"ultra\", \"ultra\", \"ultra\", \"ultra\", \"smart\", \"smart\", \"smart\", \"smart\", \"smart\", \"smart\", \"smart\", \"smart\", \"smart\", \"smart\", \"ultra\", \"ultra\", \"ultra\", \"ultra\", \"ultra\", \"ultra\", \"ultra\", \"ultra\", \"ultra\", \"ultra\", \"smart\", \"smart\", \"smart\", \"smart\", \"smart\", \"smart\", \"smart\", \"smart\", \"smart\", \"smart\", \"smart\", \"smart\", \"smart\", \"smart\", \"smart\", \"ultra\", \"ultra\", \"ultra\", \"ultra\", \"ultra\", \"ultra\", \"ultra\", \"ultra\", \"ultra\", \"ultra\", \"ultra\", \"smart\", \"smart\", \"smart\", \"smart\", \"smart\", \"smart\", \"smart\", \"smart\", \"smart\", \"smart\", \"smart\", \"smart\", \"ultra\", \"ultra\", \"smart\", \"smart\", \"smart\", \"ultra\", \"ultra\", \"smart\", \"smart\", \"smart\", \"smart\", \"smart\", \"smart\", \"smart\", \"smart\", \"smart\", \"smart\", \"smart\", \"smart\", \"smart\", \"smart\", \"smart\", \"smart\", \"smart\", \"smart\", \"smart\", \"smart\", \"ultra\", \"ultra\", \"ultra\", \"ultra\", \"ultra\", \"ultra\", \"ultra\", \"ultra\", \"ultra\", \"ultra\", \"ultra\", \"ultra\", \"ultra\", \"smart\", \"smart\", \"smart\", \"smart\", \"smart\", \"smart\", \"smart\", \"smart\", \"smart\", \"smart\", \"smart\", \"ultra\", \"ultra\", \"ultra\", \"ultra\", \"ultra\", \"ultra\", \"smart\", \"smart\", \"smart\", \"ultra\", \"ultra\", \"ultra\", \"ultra\", \"ultra\", \"ultra\", \"ultra\", \"ultra\", \"ultra\", \"ultra\", \"ultra\", \"smart\", \"smart\", \"smart\", \"smart\", \"smart\", \"smart\", \"smart\", \"smart\", \"smart\", \"smart\", \"smart\", \"smart\", \"ultra\", \"ultra\", \"ultra\", \"ultra\", \"ultra\", \"ultra\", \"ultra\", \"smart\", \"smart\", \"smart\", \"smart\", \"smart\", \"smart\", \"smart\", \"smart\", \"smart\", \"smart\", \"smart\", \"smart\", \"ultra\", \"ultra\", \"ultra\", \"ultra\", \"ultra\", \"ultra\", \"ultra\", \"ultra\", \"ultra\", \"smart\", \"smart\", \"smart\", \"smart\", \"smart\", \"smart\", \"smart\", \"smart\", \"smart\", \"smart\", \"smart\", \"smart\", \"smart\", \"smart\", \"smart\", \"smart\", \"smart\", \"smart\", \"smart\", \"smart\", \"smart\", \"smart\", \"smart\", \"smart\", \"smart\", \"smart\", \"smart\", \"smart\", \"smart\", \"smart\", \"smart\", \"smart\", \"smart\", \"smart\", \"smart\", \"smart\", \"smart\", \"smart\", \"smart\", \"smart\", \"smart\", \"smart\", \"smart\", \"smart\", \"smart\", \"smart\", \"smart\", \"smart\", \"smart\", \"smart\", \"smart\", \"smart\", \"smart\", \"smart\", \"smart\", \"smart\", \"smart\", \"smart\", \"smart\", \"smart\", \"smart\", \"smart\", \"smart\", \"smart\", \"smart\", \"ultra\", \"smart\", \"smart\", \"smart\", \"smart\", \"smart\", \"smart\", \"smart\", \"smart\", \"smart\", \"smart\", \"smart\", \"smart\", \"smart\", \"smart\", \"smart\", \"smart\", \"smart\", \"smart\", \"smart\", \"smart\", \"smart\", \"smart\", \"smart\", \"smart\", \"ultra\", \"ultra\", \"ultra\", \"ultra\", \"ultra\", \"ultra\", \"ultra\", \"ultra\", \"ultra\", \"smart\", \"smart\", \"smart\", \"smart\", \"smart\", \"smart\", \"smart\", \"ultra\", \"ultra\", \"smart\", \"smart\", \"smart\", \"smart\", \"smart\", \"ultra\", \"ultra\", \"ultra\", \"ultra\", \"ultra\", \"smart\", \"smart\", \"smart\", \"smart\", \"smart\", \"smart\", \"smart\", \"smart\", \"smart\", \"smart\", \"smart\", \"smart\", \"smart\", \"smart\", \"smart\", \"smart\", \"smart\", \"smart\", \"smart\", \"smart\", \"smart\", \"smart\", \"smart\"], \"legendgroup\": \"\", \"name\": \"\", \"showlegend\": true, \"textinfo\": \"percent+label\", \"textposition\": \"inside\", \"type\": \"pie\", \"values\": [1000, 1000, 1000, 1000, 1000, 1000, 1000, 1000, 1001, 1001, 1002, 1002, 1002, 1002, 1002, 1002, 1002, 1003, 1003, 1003, 1003, 1003, 1004, 1004, 1004, 1004, 1004, 1004, 1004, 1004, 1005, 1005, 1005, 1005, 1005, 1005, 1005, 1005, 1005, 1005, 1005, 1005, 1006, 1006, 1006, 1006, 1006, 1006, 1006, 1006, 1006, 1006, 1006, 1007, 1007, 1007, 1007, 1007, 1007, 1007, 1007, 1007, 1008, 1009, 1009, 1009, 1009, 1009, 1009, 1009, 1009, 1009, 1009, 1010, 1010, 1010, 1010, 1010, 1011, 1011, 1011, 1011, 1011, 1011, 1011, 1011, 1011, 1011, 1012, 1012, 1012, 1012, 1012, 1012, 1012, 1012, 1012, 1012, 1013, 1013, 1014, 1014, 1014, 1014, 1014, 1014, 1014, 1014, 1015, 1015, 1015, 1015, 1015, 1015, 1015, 1015, 1015, 1016, 1016, 1017, 1017, 1017, 1017, 1017, 1017, 1017, 1017, 1018, 1018, 1018, 1018, 1018, 1018, 1018, 1018, 1018, 1019, 1019, 1019, 1019, 1019, 1019, 1020, 1020, 1020, 1021, 1021, 1021, 1021, 1021, 1021, 1021, 1021, 1021, 1022, 1023, 1023, 1023, 1024, 1024, 1024, 1025, 1025, 1025, 1025, 1025, 1025, 1025, 1025, 1025, 1025, 1026, 1026, 1026, 1027, 1027, 1027, 1027, 1027, 1027, 1027, 1027, 1027, 1028, 1028, 1028, 1029, 1029, 1029, 1029, 1030, 1030, 1030, 1030, 1030, 1030, 1030, 1030, 1031, 1031, 1032, 1032, 1032, 1032, 1032, 1032, 1032, 1032, 1032, 1032, 1032, 1032, 1033, 1033, 1033, 1033, 1033, 1033, 1034, 1034, 1034, 1034, 1035, 1035, 1035, 1035, 1035, 1035, 1035, 1035, 1035, 1036, 1036, 1036, 1036, 1036, 1036, 1037, 1037, 1037, 1038, 1038, 1038, 1039, 1039, 1039, 1039, 1039, 1039, 1039, 1040, 1040, 1040, 1040, 1040, 1040, 1040, 1041, 1041, 1042, 1042, 1043, 1043, 1043, 1043, 1043, 1043, 1044, 1044, 1044, 1044, 1044, 1044, 1044, 1044, 1045, 1045, 1045, 1045, 1045, 1045, 1045, 1045, 1045, 1045, 1045, 1045, 1046, 1046, 1046, 1046, 1046, 1047, 1047, 1047, 1048, 1048, 1048, 1048, 1048, 1049, 1049, 1049, 1049, 1049, 1049, 1049, 1049, 1049, 1049, 1050, 1050, 1050, 1050, 1050, 1051, 1051, 1051, 1051, 1051, 1051, 1052, 1052, 1052, 1052, 1052, 1052, 1053, 1053, 1053, 1053, 1054, 1054, 1054, 1054, 1054, 1054, 1054, 1054, 1054, 1054, 1055, 1055, 1055, 1055, 1055, 1055, 1055, 1055, 1055, 1055, 1055, 1055, 1056, 1056, 1056, 1056, 1056, 1056, 1056, 1057, 1057, 1057, 1057, 1057, 1057, 1057, 1057, 1057, 1057, 1058, 1058, 1058, 1059, 1059, 1059, 1059, 1059, 1059, 1059, 1059, 1059, 1060, 1060, 1061, 1061, 1061, 1061, 1061, 1061, 1062, 1062, 1063, 1063, 1063, 1063, 1063, 1063, 1063, 1063, 1063, 1064, 1064, 1064, 1064, 1064, 1064, 1064, 1064, 1064, 1064, 1065, 1065, 1065, 1065, 1065, 1065, 1065, 1065, 1065, 1065, 1066, 1066, 1066, 1066, 1066, 1066, 1066, 1067, 1067, 1067, 1067, 1067, 1067, 1067, 1067, 1067, 1068, 1068, 1068, 1068, 1068, 1068, 1069, 1070, 1070, 1070, 1070, 1070, 1071, 1071, 1071, 1071, 1071, 1071, 1071, 1071, 1072, 1072, 1072, 1072, 1072, 1072, 1072, 1072, 1072, 1072, 1072, 1073, 1073, 1073, 1074, 1075, 1075, 1076, 1076, 1076, 1076, 1076, 1076, 1076, 1076, 1076, 1076, 1077, 1077, 1077, 1078, 1078, 1078, 1078, 1078, 1078, 1078, 1079, 1079, 1079, 1079, 1079, 1079, 1079, 1079, 1080, 1080, 1080, 1080, 1080, 1081, 1081, 1081, 1081, 1081, 1081, 1081, 1081, 1081, 1081, 1082, 1082, 1082, 1083, 1083, 1083, 1083, 1083, 1083, 1083, 1083, 1083, 1084, 1085, 1085, 1085, 1085, 1085, 1085, 1085, 1086, 1086, 1086, 1086, 1086, 1086, 1086, 1086, 1086, 1087, 1087, 1087, 1088, 1088, 1088, 1088, 1088, 1088, 1088, 1089, 1089, 1089, 1089, 1089, 1089, 1089, 1089, 1089, 1089, 1089, 1090, 1090, 1090, 1091, 1091, 1091, 1091, 1091, 1091, 1091, 1091, 1092, 1092, 1092, 1092, 1092, 1092, 1092, 1093, 1093, 1093, 1093, 1093, 1093, 1093, 1094, 1094, 1094, 1094, 1094, 1094, 1094, 1094, 1095, 1096, 1096, 1096, 1096, 1096, 1096, 1096, 1096, 1096, 1097, 1097, 1097, 1097, 1097, 1097, 1097, 1098, 1098, 1098, 1098, 1098, 1098, 1098, 1099, 1099, 1099, 1099, 1099, 1099, 1099, 1099, 1099, 1099, 1100, 1100, 1100, 1100, 1100, 1100, 1101, 1101, 1101, 1101, 1101, 1101, 1101, 1101, 1102, 1102, 1102, 1102, 1102, 1102, 1102, 1103, 1104, 1104, 1104, 1104, 1104, 1104, 1104, 1104, 1104, 1104, 1104, 1105, 1105, 1105, 1105, 1106, 1106, 1106, 1106, 1106, 1106, 1106, 1106, 1106, 1107, 1107, 1107, 1107, 1107, 1107, 1108, 1108, 1109, 1109, 1109, 1109, 1109, 1109, 1109, 1109, 1109, 1109, 1109, 1110, 1110, 1110, 1110, 1110, 1110, 1110, 1110, 1111, 1111, 1112, 1112, 1112, 1112, 1113, 1113, 1113, 1113, 1113, 1113, 1113, 1113, 1113, 1113, 1113, 1113, 1114, 1114, 1114, 1114, 1114, 1114, 1115, 1115, 1115, 1115, 1115, 1115, 1116, 1116, 1116, 1116, 1116, 1116, 1116, 1116, 1116, 1117, 1118, 1118, 1118, 1118, 1118, 1118, 1118, 1118, 1118, 1118, 1119, 1119, 1119, 1119, 1119, 1119, 1119, 1119, 1119, 1120, 1120, 1120, 1120, 1120, 1120, 1120, 1120, 1120, 1120, 1120, 1120, 1121, 1121, 1121, 1121, 1121, 1121, 1121, 1121, 1122, 1122, 1123, 1123, 1123, 1123, 1123, 1123, 1123, 1123, 1123, 1123, 1124, 1124, 1124, 1124, 1125, 1125, 1125, 1125, 1126, 1126, 1126, 1126, 1126, 1126, 1126, 1126, 1126, 1126, 1126, 1126, 1127, 1127, 1127, 1127, 1127, 1127, 1127, 1127, 1127, 1129, 1130, 1130, 1130, 1130, 1130, 1130, 1130, 1130, 1130, 1131, 1132, 1132, 1132, 1132, 1133, 1133, 1133, 1134, 1134, 1134, 1134, 1134, 1134, 1134, 1134, 1134, 1134, 1134, 1134, 1135, 1135, 1135, 1135, 1135, 1135, 1135, 1135, 1135, 1135, 1135, 1135, 1136, 1136, 1137, 1138, 1138, 1138, 1138, 1138, 1138, 1139, 1139, 1140, 1141, 1142, 1142, 1142, 1142, 1142, 1142, 1142, 1142, 1142, 1142, 1143, 1143, 1143, 1143, 1143, 1143, 1143, 1143, 1143, 1144, 1144, 1144, 1144, 1144, 1144, 1144, 1144, 1144, 1145, 1145, 1145, 1145, 1145, 1145, 1145, 1145, 1145, 1146, 1146, 1146, 1146, 1146, 1146, 1146, 1146, 1147, 1147, 1147, 1147, 1147, 1147, 1148, 1148, 1148, 1148, 1148, 1148, 1148, 1148, 1148, 1149, 1149, 1149, 1149, 1149, 1149, 1149, 1149, 1150, 1150, 1150, 1150, 1150, 1151, 1151, 1151, 1151, 1152, 1152, 1152, 1152, 1152, 1152, 1152, 1152, 1152, 1152, 1152, 1153, 1153, 1153, 1154, 1154, 1154, 1154, 1154, 1154, 1154, 1155, 1155, 1155, 1155, 1155, 1155, 1155, 1155, 1155, 1155, 1155, 1155, 1156, 1156, 1157, 1157, 1157, 1157, 1157, 1157, 1157, 1157, 1157, 1157, 1157, 1158, 1158, 1158, 1158, 1158, 1158, 1158, 1158, 1158, 1158, 1158, 1159, 1159, 1160, 1160, 1160, 1160, 1160, 1160, 1161, 1161, 1161, 1161, 1161, 1162, 1162, 1162, 1163, 1163, 1164, 1164, 1164, 1164, 1164, 1164, 1164, 1164, 1164, 1165, 1165, 1165, 1166, 1166, 1166, 1166, 1166, 1167, 1167, 1167, 1167, 1168, 1168, 1168, 1168, 1168, 1168, 1168, 1168, 1168, 1168, 1168, 1168, 1169, 1169, 1169, 1169, 1169, 1169, 1169, 1170, 1171, 1171, 1171, 1171, 1171, 1171, 1171, 1171, 1171, 1171, 1172, 1172, 1172, 1172, 1172, 1172, 1172, 1172, 1173, 1173, 1173, 1173, 1173, 1173, 1173, 1174, 1174, 1174, 1174, 1174, 1174, 1174, 1174, 1174, 1174, 1174, 1175, 1175, 1175, 1175, 1175, 1175, 1175, 1175, 1175, 1176, 1176, 1176, 1176, 1176, 1176, 1176, 1176, 1176, 1176, 1176, 1176, 1177, 1177, 1177, 1177, 1177, 1177, 1177, 1178, 1178, 1178, 1178, 1178, 1178, 1178, 1178, 1179, 1179, 1179, 1179, 1179, 1179, 1179, 1179, 1179, 1180, 1180, 1180, 1180, 1180, 1180, 1180, 1180, 1180, 1180, 1180, 1181, 1181, 1182, 1182, 1182, 1183, 1183, 1183, 1183, 1183, 1183, 1184, 1184, 1184, 1184, 1185, 1185, 1185, 1185, 1185, 1185, 1185, 1185, 1185, 1186, 1186, 1186, 1186, 1186, 1186, 1186, 1186, 1186, 1186, 1186, 1187, 1187, 1187, 1187, 1187, 1188, 1188, 1188, 1188, 1188, 1188, 1188, 1188, 1188, 1188, 1188, 1189, 1189, 1189, 1189, 1189, 1189, 1189, 1189, 1189, 1189, 1189, 1189, 1190, 1191, 1191, 1191, 1191, 1191, 1192, 1193, 1193, 1193, 1193, 1193, 1193, 1193, 1193, 1193, 1193, 1193, 1193, 1194, 1195, 1195, 1195, 1196, 1196, 1196, 1196, 1196, 1196, 1196, 1196, 1197, 1197, 1197, 1197, 1197, 1197, 1197, 1198, 1198, 1198, 1198, 1198, 1199, 1199, 1199, 1199, 1200, 1200, 1200, 1200, 1200, 1200, 1200, 1200, 1200, 1201, 1201, 1201, 1201, 1201, 1202, 1202, 1202, 1202, 1203, 1203, 1203, 1203, 1203, 1203, 1203, 1203, 1203, 1203, 1204, 1204, 1204, 1204, 1204, 1204, 1204, 1204, 1204, 1204, 1204, 1204, 1205, 1205, 1205, 1206, 1206, 1207, 1207, 1207, 1207, 1207, 1208, 1208, 1208, 1208, 1208, 1208, 1208, 1208, 1208, 1208, 1209, 1209, 1209, 1209, 1209, 1209, 1209, 1210, 1210, 1210, 1210, 1210, 1210, 1211, 1211, 1211, 1211, 1211, 1211, 1211, 1212, 1212, 1213, 1213, 1213, 1213, 1213, 1214, 1214, 1214, 1214, 1214, 1214, 1215, 1215, 1215, 1215, 1215, 1216, 1216, 1217, 1217, 1217, 1217, 1217, 1217, 1217, 1217, 1217, 1217, 1217, 1218, 1218, 1218, 1218, 1218, 1218, 1219, 1219, 1219, 1219, 1219, 1219, 1219, 1219, 1219, 1219, 1219, 1219, 1220, 1220, 1221, 1221, 1221, 1221, 1221, 1221, 1221, 1222, 1222, 1222, 1222, 1222, 1223, 1224, 1224, 1224, 1224, 1224, 1224, 1224, 1224, 1224, 1225, 1225, 1225, 1225, 1225, 1225, 1225, 1225, 1225, 1226, 1226, 1226, 1226, 1226, 1226, 1226, 1227, 1227, 1227, 1227, 1227, 1227, 1227, 1227, 1227, 1227, 1227, 1227, 1228, 1228, 1228, 1228, 1228, 1228, 1228, 1228, 1228, 1229, 1229, 1229, 1230, 1230, 1230, 1230, 1231, 1231, 1231, 1231, 1231, 1231, 1231, 1231, 1232, 1232, 1233, 1233, 1233, 1233, 1233, 1233, 1233, 1233, 1234, 1235, 1235, 1235, 1236, 1237, 1237, 1238, 1238, 1238, 1238, 1238, 1238, 1238, 1238, 1238, 1238, 1238, 1238, 1239, 1239, 1239, 1239, 1239, 1239, 1239, 1240, 1240, 1240, 1240, 1240, 1240, 1240, 1240, 1240, 1240, 1240, 1241, 1241, 1241, 1241, 1241, 1241, 1241, 1241, 1242, 1242, 1243, 1243, 1243, 1243, 1243, 1243, 1243, 1244, 1244, 1244, 1244, 1244, 1244, 1244, 1244, 1245, 1245, 1245, 1245, 1246, 1246, 1246, 1246, 1247, 1247, 1247, 1247, 1247, 1247, 1247, 1247, 1248, 1248, 1248, 1248, 1248, 1248, 1248, 1248, 1249, 1249, 1249, 1249, 1249, 1250, 1250, 1250, 1250, 1250, 1250, 1250, 1250, 1250, 1251, 1251, 1251, 1251, 1251, 1251, 1251, 1251, 1251, 1251, 1251, 1252, 1253, 1253, 1253, 1253, 1253, 1254, 1254, 1254, 1254, 1254, 1254, 1254, 1254, 1255, 1255, 1255, 1255, 1255, 1255, 1255, 1255, 1256, 1256, 1256, 1256, 1257, 1257, 1257, 1257, 1257, 1257, 1257, 1258, 1259, 1259, 1260, 1260, 1260, 1260, 1260, 1260, 1261, 1261, 1261, 1262, 1262, 1262, 1262, 1262, 1262, 1262, 1262, 1262, 1262, 1263, 1263, 1263, 1263, 1263, 1263, 1263, 1263, 1263, 1264, 1264, 1264, 1264, 1264, 1264, 1264, 1264, 1264, 1265, 1265, 1265, 1265, 1265, 1266, 1266, 1266, 1266, 1266, 1266, 1267, 1267, 1267, 1267, 1267, 1268, 1268, 1268, 1268, 1268, 1268, 1268, 1268, 1269, 1269, 1269, 1269, 1269, 1269, 1270, 1270, 1270, 1270, 1270, 1270, 1271, 1271, 1271, 1271, 1271, 1272, 1272, 1272, 1272, 1272, 1273, 1273, 1273, 1273, 1273, 1273, 1273, 1273, 1274, 1274, 1274, 1274, 1274, 1274, 1274, 1274, 1275, 1275, 1275, 1275, 1275, 1275, 1275, 1275, 1275, 1276, 1276, 1276, 1277, 1277, 1277, 1277, 1277, 1277, 1277, 1277, 1277, 1277, 1277, 1278, 1279, 1279, 1279, 1279, 1279, 1280, 1280, 1280, 1280, 1280, 1280, 1281, 1281, 1281, 1281, 1281, 1281, 1281, 1282, 1282, 1282, 1282, 1282, 1282, 1282, 1282, 1282, 1282, 1282, 1282, 1283, 1283, 1283, 1283, 1284, 1284, 1284, 1284, 1284, 1284, 1284, 1284, 1284, 1284, 1285, 1285, 1285, 1285, 1285, 1285, 1285, 1285, 1285, 1285, 1285, 1286, 1286, 1287, 1287, 1287, 1287, 1288, 1288, 1288, 1288, 1289, 1289, 1289, 1289, 1290, 1290, 1290, 1290, 1290, 1290, 1290, 1290, 1291, 1291, 1291, 1291, 1291, 1291, 1291, 1291, 1291, 1291, 1291, 1292, 1292, 1292, 1292, 1292, 1292, 1292, 1292, 1292, 1292, 1292, 1293, 1293, 1293, 1294, 1294, 1294, 1294, 1294, 1294, 1294, 1294, 1294, 1294, 1294, 1295, 1295, 1295, 1295, 1296, 1296, 1296, 1296, 1296, 1296, 1296, 1297, 1298, 1298, 1298, 1298, 1298, 1298, 1299, 1299, 1299, 1299, 1299, 1299, 1299, 1299, 1299, 1299, 1299, 1299, 1300, 1300, 1300, 1300, 1300, 1300, 1301, 1301, 1301, 1301, 1302, 1302, 1302, 1302, 1302, 1302, 1302, 1302, 1302, 1302, 1302, 1302, 1303, 1303, 1303, 1303, 1303, 1303, 1304, 1304, 1305, 1305, 1305, 1306, 1306, 1307, 1307, 1307, 1307, 1307, 1307, 1307, 1307, 1308, 1308, 1308, 1308, 1308, 1308, 1308, 1308, 1308, 1308, 1308, 1308, 1309, 1309, 1309, 1310, 1310, 1310, 1310, 1310, 1310, 1310, 1310, 1310, 1310, 1311, 1311, 1311, 1311, 1311, 1312, 1312, 1312, 1312, 1312, 1312, 1313, 1313, 1313, 1314, 1314, 1314, 1314, 1314, 1314, 1314, 1314, 1314, 1314, 1315, 1315, 1315, 1315, 1315, 1315, 1316, 1316, 1317, 1317, 1317, 1317, 1317, 1317, 1318, 1318, 1318, 1318, 1318, 1318, 1318, 1318, 1318, 1318, 1319, 1319, 1319, 1319, 1319, 1320, 1320, 1320, 1320, 1321, 1321, 1321, 1321, 1321, 1321, 1321, 1321, 1321, 1321, 1321, 1322, 1322, 1322, 1322, 1323, 1323, 1323, 1323, 1323, 1324, 1324, 1324, 1324, 1324, 1324, 1324, 1324, 1325, 1325, 1325, 1325, 1325, 1325, 1325, 1326, 1326, 1326, 1326, 1326, 1326, 1326, 1326, 1327, 1327, 1327, 1327, 1327, 1327, 1327, 1327, 1327, 1328, 1328, 1328, 1329, 1329, 1329, 1330, 1330, 1330, 1330, 1330, 1330, 1330, 1330, 1330, 1330, 1330, 1331, 1331, 1331, 1331, 1331, 1331, 1331, 1331, 1331, 1332, 1332, 1332, 1332, 1332, 1332, 1332, 1332, 1333, 1333, 1333, 1333, 1334, 1334, 1335, 1335, 1335, 1335, 1335, 1335, 1335, 1336, 1337, 1337, 1337, 1337, 1337, 1337, 1337, 1337, 1337, 1337, 1337, 1337, 1338, 1338, 1338, 1338, 1338, 1338, 1338, 1338, 1339, 1339, 1339, 1339, 1339, 1340, 1340, 1340, 1340, 1340, 1340, 1340, 1340, 1340, 1340, 1340, 1340, 1341, 1341, 1341, 1341, 1341, 1341, 1341, 1342, 1342, 1342, 1343, 1343, 1343, 1344, 1344, 1344, 1344, 1344, 1344, 1344, 1344, 1344, 1345, 1345, 1345, 1345, 1345, 1345, 1345, 1346, 1346, 1346, 1346, 1346, 1346, 1347, 1347, 1348, 1348, 1348, 1349, 1350, 1350, 1350, 1350, 1350, 1351, 1351, 1352, 1352, 1352, 1352, 1352, 1352, 1352, 1352, 1352, 1353, 1353, 1353, 1353, 1353, 1353, 1353, 1353, 1354, 1354, 1354, 1354, 1354, 1355, 1355, 1355, 1355, 1355, 1356, 1356, 1356, 1356, 1356, 1356, 1356, 1356, 1356, 1357, 1357, 1357, 1357, 1358, 1358, 1358, 1358, 1358, 1358, 1358, 1358, 1358, 1358, 1358, 1359, 1359, 1359, 1359, 1359, 1359, 1360, 1360, 1360, 1360, 1360, 1360, 1360, 1360, 1360, 1360, 1361, 1361, 1361, 1361, 1362, 1362, 1362, 1362, 1362, 1363, 1363, 1363, 1363, 1363, 1363, 1363, 1363, 1363, 1363, 1364, 1364, 1364, 1364, 1364, 1365, 1365, 1365, 1366, 1366, 1366, 1366, 1366, 1366, 1366, 1367, 1367, 1367, 1368, 1369, 1369, 1369, 1369, 1369, 1370, 1370, 1370, 1370, 1370, 1370, 1370, 1370, 1370, 1372, 1372, 1372, 1372, 1372, 1372, 1372, 1372, 1372, 1372, 1372, 1372, 1373, 1373, 1373, 1373, 1373, 1373, 1373, 1373, 1373, 1373, 1373, 1373, 1374, 1374, 1374, 1374, 1374, 1374, 1374, 1374, 1374, 1375, 1375, 1375, 1375, 1375, 1375, 1375, 1375, 1375, 1375, 1375, 1375, 1376, 1376, 1376, 1376, 1376, 1376, 1376, 1376, 1377, 1377, 1377, 1377, 1377, 1377, 1377, 1377, 1377, 1377, 1377, 1378, 1378, 1378, 1378, 1378, 1378, 1378, 1378, 1378, 1378, 1378, 1378, 1379, 1379, 1379, 1379, 1379, 1380, 1380, 1380, 1380, 1380, 1380, 1380, 1380, 1381, 1381, 1381, 1381, 1381, 1381, 1381, 1381, 1381, 1381, 1381, 1381, 1382, 1382, 1382, 1382, 1382, 1382, 1382, 1382, 1382, 1382, 1383, 1383, 1383, 1384, 1384, 1384, 1384, 1384, 1384, 1384, 1384, 1384, 1385, 1385, 1385, 1385, 1385, 1385, 1385, 1385, 1385, 1385, 1385, 1385, 1386, 1386, 1386, 1386, 1386, 1387, 1388, 1388, 1388, 1388, 1388, 1389, 1389, 1389, 1389, 1389, 1389, 1390, 1390, 1390, 1390, 1390, 1390, 1391, 1391, 1391, 1391, 1391, 1391, 1391, 1391, 1392, 1392, 1392, 1392, 1392, 1392, 1392, 1392, 1393, 1393, 1393, 1393, 1393, 1393, 1393, 1393, 1393, 1393, 1393, 1394, 1394, 1394, 1394, 1394, 1394, 1394, 1394, 1394, 1394, 1394, 1394, 1395, 1395, 1395, 1395, 1395, 1395, 1395, 1395, 1395, 1395, 1395, 1395, 1396, 1396, 1396, 1396, 1396, 1396, 1396, 1396, 1396, 1396, 1396, 1396, 1397, 1398, 1399, 1399, 1400, 1400, 1400, 1400, 1400, 1401, 1401, 1401, 1401, 1401, 1401, 1401, 1401, 1401, 1401, 1401, 1401, 1402, 1402, 1402, 1402, 1402, 1402, 1402, 1402, 1402, 1402, 1403, 1403, 1403, 1403, 1403, 1403, 1403, 1403, 1404, 1404, 1404, 1404, 1404, 1404, 1404, 1404, 1404, 1405, 1405, 1405, 1406, 1407, 1407, 1407, 1407, 1407, 1408, 1408, 1408, 1408, 1408, 1408, 1408, 1408, 1409, 1409, 1409, 1409, 1409, 1409, 1409, 1409, 1409, 1409, 1410, 1410, 1410, 1410, 1410, 1411, 1411, 1411, 1411, 1411, 1411, 1412, 1412, 1412, 1412, 1412, 1412, 1412, 1413, 1413, 1413, 1413, 1413, 1414, 1414, 1414, 1414, 1414, 1414, 1414, 1414, 1415, 1415, 1415, 1415, 1415, 1415, 1415, 1416, 1416, 1416, 1416, 1416, 1416, 1417, 1417, 1417, 1417, 1417, 1417, 1418, 1418, 1418, 1419, 1419, 1419, 1419, 1419, 1419, 1420, 1420, 1420, 1420, 1421, 1421, 1421, 1421, 1421, 1421, 1421, 1421, 1421, 1421, 1421, 1422, 1422, 1422, 1423, 1423, 1423, 1423, 1423, 1423, 1423, 1423, 1423, 1423, 1423, 1423, 1424, 1424, 1424, 1424, 1424, 1424, 1424, 1425, 1425, 1425, 1425, 1425, 1425, 1425, 1425, 1425, 1425, 1425, 1426, 1426, 1426, 1426, 1427, 1427, 1427, 1427, 1427, 1427, 1427, 1427, 1427, 1428, 1428, 1428, 1428, 1428, 1429, 1429, 1429, 1429, 1429, 1429, 1429, 1429, 1429, 1429, 1429, 1429, 1430, 1430, 1430, 1430, 1430, 1430, 1430, 1430, 1430, 1431, 1431, 1431, 1431, 1431, 1431, 1431, 1431, 1431, 1431, 1432, 1432, 1432, 1432, 1432, 1433, 1433, 1433, 1433, 1433, 1433, 1433, 1433, 1433, 1433, 1433, 1433, 1434, 1435, 1435, 1435, 1435, 1435, 1435, 1435, 1435, 1435, 1435, 1435, 1436, 1436, 1436, 1436, 1436, 1436, 1436, 1436, 1436, 1437, 1437, 1437, 1437, 1437, 1438, 1438, 1438, 1439, 1439, 1439, 1439, 1439, 1439, 1439, 1440, 1440, 1440, 1440, 1440, 1440, 1440, 1440, 1441, 1441, 1442, 1442, 1443, 1443, 1443, 1443, 1444, 1444, 1445, 1446, 1446, 1446, 1446, 1446, 1447, 1447, 1447, 1447, 1448, 1448, 1448, 1448, 1449, 1449, 1449, 1449, 1449, 1449, 1450, 1450, 1450, 1451, 1451, 1451, 1451, 1451, 1452, 1452, 1452, 1452, 1452, 1452, 1452, 1453, 1453, 1453, 1453, 1453, 1453, 1453, 1453, 1453, 1453, 1453, 1453, 1454, 1454, 1454, 1454, 1454, 1454, 1454, 1454, 1454, 1454, 1455, 1455, 1455, 1455, 1455, 1455, 1455, 1455, 1455, 1455, 1456, 1456, 1456, 1456, 1456, 1457, 1457, 1457, 1457, 1457, 1457, 1457, 1457, 1457, 1457, 1458, 1458, 1458, 1458, 1458, 1458, 1458, 1458, 1458, 1458, 1458, 1459, 1459, 1459, 1460, 1460, 1460, 1460, 1460, 1460, 1460, 1460, 1460, 1461, 1461, 1462, 1462, 1462, 1463, 1463, 1464, 1464, 1464, 1464, 1464, 1464, 1464, 1464, 1464, 1464, 1464, 1465, 1465, 1465, 1465, 1465, 1465, 1465, 1465, 1465, 1466, 1466, 1466, 1466, 1466, 1466, 1466, 1466, 1466, 1466, 1466, 1467, 1467, 1468, 1468, 1468, 1468, 1468, 1468, 1468, 1468, 1468, 1468, 1468, 1469, 1469, 1469, 1469, 1469, 1469, 1470, 1470, 1470, 1471, 1471, 1471, 1471, 1471, 1471, 1471, 1471, 1471, 1471, 1471, 1472, 1472, 1472, 1472, 1472, 1472, 1472, 1472, 1472, 1472, 1472, 1472, 1473, 1473, 1473, 1473, 1473, 1474, 1474, 1475, 1475, 1475, 1475, 1475, 1475, 1475, 1475, 1475, 1475, 1475, 1475, 1476, 1476, 1476, 1476, 1476, 1476, 1476, 1476, 1476, 1477, 1477, 1477, 1477, 1477, 1477, 1477, 1477, 1477, 1478, 1478, 1478, 1478, 1478, 1478, 1479, 1479, 1479, 1479, 1479, 1479, 1480, 1480, 1480, 1480, 1480, 1480, 1480, 1480, 1481, 1481, 1481, 1481, 1481, 1481, 1481, 1481, 1481, 1481, 1481, 1482, 1482, 1482, 1482, 1482, 1482, 1482, 1482, 1482, 1482, 1482, 1483, 1483, 1483, 1483, 1483, 1483, 1483, 1483, 1483, 1484, 1484, 1484, 1484, 1484, 1485, 1486, 1486, 1486, 1487, 1487, 1487, 1487, 1487, 1488, 1488, 1489, 1489, 1489, 1489, 1489, 1490, 1490, 1490, 1490, 1490, 1490, 1490, 1490, 1490, 1491, 1491, 1491, 1491, 1491, 1491, 1491, 1491, 1491, 1492, 1492, 1492, 1492, 1492, 1492, 1492, 1493, 1493, 1494, 1494, 1494, 1494, 1494, 1495, 1495, 1495, 1495, 1495, 1496, 1496, 1496, 1496, 1496, 1496, 1496, 1496, 1496, 1496, 1496, 1496, 1497, 1497, 1497, 1498, 1498, 1498, 1498, 1499, 1499, 1499, 1499]}],\n",
              "                        {\"legend\": {\"tracegroupgap\": 0}, \"template\": {\"data\": {\"bar\": [{\"error_x\": {\"color\": \"#2a3f5f\"}, \"error_y\": {\"color\": \"#2a3f5f\"}, \"marker\": {\"line\": {\"color\": \"#E5ECF6\", \"width\": 0.5}}, \"type\": \"bar\"}], \"barpolar\": [{\"marker\": {\"line\": {\"color\": \"#E5ECF6\", \"width\": 0.5}}, \"type\": \"barpolar\"}], \"carpet\": [{\"aaxis\": {\"endlinecolor\": \"#2a3f5f\", \"gridcolor\": \"white\", \"linecolor\": \"white\", \"minorgridcolor\": \"white\", \"startlinecolor\": \"#2a3f5f\"}, \"baxis\": {\"endlinecolor\": \"#2a3f5f\", \"gridcolor\": \"white\", \"linecolor\": \"white\", \"minorgridcolor\": \"white\", \"startlinecolor\": \"#2a3f5f\"}, \"type\": \"carpet\"}], \"choropleth\": [{\"colorbar\": {\"outlinewidth\": 0, \"ticks\": \"\"}, \"type\": \"choropleth\"}], \"contour\": [{\"colorbar\": {\"outlinewidth\": 0, \"ticks\": \"\"}, \"colorscale\": [[0.0, \"#0d0887\"], [0.1111111111111111, \"#46039f\"], [0.2222222222222222, \"#7201a8\"], [0.3333333333333333, \"#9c179e\"], [0.4444444444444444, \"#bd3786\"], [0.5555555555555556, \"#d8576b\"], [0.6666666666666666, \"#ed7953\"], [0.7777777777777778, \"#fb9f3a\"], [0.8888888888888888, \"#fdca26\"], [1.0, \"#f0f921\"]], \"type\": \"contour\"}], \"contourcarpet\": [{\"colorbar\": {\"outlinewidth\": 0, \"ticks\": \"\"}, \"type\": \"contourcarpet\"}], \"heatmap\": [{\"colorbar\": {\"outlinewidth\": 0, \"ticks\": \"\"}, \"colorscale\": [[0.0, \"#0d0887\"], [0.1111111111111111, \"#46039f\"], [0.2222222222222222, \"#7201a8\"], [0.3333333333333333, \"#9c179e\"], [0.4444444444444444, \"#bd3786\"], [0.5555555555555556, \"#d8576b\"], [0.6666666666666666, \"#ed7953\"], [0.7777777777777778, \"#fb9f3a\"], [0.8888888888888888, \"#fdca26\"], [1.0, \"#f0f921\"]], \"type\": \"heatmap\"}], \"heatmapgl\": [{\"colorbar\": {\"outlinewidth\": 0, \"ticks\": \"\"}, \"colorscale\": [[0.0, \"#0d0887\"], [0.1111111111111111, \"#46039f\"], [0.2222222222222222, \"#7201a8\"], [0.3333333333333333, \"#9c179e\"], [0.4444444444444444, \"#bd3786\"], [0.5555555555555556, \"#d8576b\"], [0.6666666666666666, \"#ed7953\"], [0.7777777777777778, \"#fb9f3a\"], [0.8888888888888888, \"#fdca26\"], [1.0, \"#f0f921\"]], \"type\": \"heatmapgl\"}], \"histogram\": [{\"marker\": {\"colorbar\": {\"outlinewidth\": 0, \"ticks\": \"\"}}, \"type\": \"histogram\"}], \"histogram2d\": [{\"colorbar\": {\"outlinewidth\": 0, \"ticks\": \"\"}, \"colorscale\": [[0.0, \"#0d0887\"], [0.1111111111111111, \"#46039f\"], [0.2222222222222222, \"#7201a8\"], [0.3333333333333333, \"#9c179e\"], [0.4444444444444444, \"#bd3786\"], [0.5555555555555556, \"#d8576b\"], [0.6666666666666666, \"#ed7953\"], [0.7777777777777778, \"#fb9f3a\"], [0.8888888888888888, \"#fdca26\"], [1.0, \"#f0f921\"]], \"type\": \"histogram2d\"}], \"histogram2dcontour\": [{\"colorbar\": {\"outlinewidth\": 0, \"ticks\": \"\"}, \"colorscale\": [[0.0, \"#0d0887\"], [0.1111111111111111, \"#46039f\"], [0.2222222222222222, \"#7201a8\"], [0.3333333333333333, \"#9c179e\"], [0.4444444444444444, \"#bd3786\"], [0.5555555555555556, \"#d8576b\"], [0.6666666666666666, \"#ed7953\"], [0.7777777777777778, \"#fb9f3a\"], [0.8888888888888888, \"#fdca26\"], [1.0, \"#f0f921\"]], \"type\": \"histogram2dcontour\"}], \"mesh3d\": [{\"colorbar\": {\"outlinewidth\": 0, \"ticks\": \"\"}, \"type\": \"mesh3d\"}], \"parcoords\": [{\"line\": {\"colorbar\": {\"outlinewidth\": 0, \"ticks\": \"\"}}, \"type\": \"parcoords\"}], \"pie\": [{\"automargin\": true, \"type\": \"pie\"}], \"scatter\": [{\"marker\": {\"colorbar\": {\"outlinewidth\": 0, \"ticks\": \"\"}}, \"type\": \"scatter\"}], \"scatter3d\": [{\"line\": {\"colorbar\": {\"outlinewidth\": 0, \"ticks\": \"\"}}, \"marker\": {\"colorbar\": {\"outlinewidth\": 0, \"ticks\": \"\"}}, \"type\": \"scatter3d\"}], \"scattercarpet\": [{\"marker\": {\"colorbar\": {\"outlinewidth\": 0, \"ticks\": \"\"}}, \"type\": \"scattercarpet\"}], \"scattergeo\": [{\"marker\": {\"colorbar\": {\"outlinewidth\": 0, \"ticks\": \"\"}}, \"type\": \"scattergeo\"}], \"scattergl\": [{\"marker\": {\"colorbar\": {\"outlinewidth\": 0, \"ticks\": \"\"}}, \"type\": \"scattergl\"}], \"scattermapbox\": [{\"marker\": {\"colorbar\": {\"outlinewidth\": 0, \"ticks\": \"\"}}, \"type\": \"scattermapbox\"}], \"scatterpolar\": [{\"marker\": {\"colorbar\": {\"outlinewidth\": 0, \"ticks\": \"\"}}, \"type\": \"scatterpolar\"}], \"scatterpolargl\": [{\"marker\": {\"colorbar\": {\"outlinewidth\": 0, \"ticks\": \"\"}}, \"type\": \"scatterpolargl\"}], \"scatterternary\": [{\"marker\": {\"colorbar\": {\"outlinewidth\": 0, \"ticks\": \"\"}}, \"type\": \"scatterternary\"}], \"surface\": [{\"colorbar\": {\"outlinewidth\": 0, \"ticks\": \"\"}, \"colorscale\": [[0.0, \"#0d0887\"], [0.1111111111111111, \"#46039f\"], [0.2222222222222222, \"#7201a8\"], [0.3333333333333333, \"#9c179e\"], [0.4444444444444444, \"#bd3786\"], [0.5555555555555556, \"#d8576b\"], [0.6666666666666666, \"#ed7953\"], [0.7777777777777778, \"#fb9f3a\"], [0.8888888888888888, \"#fdca26\"], [1.0, \"#f0f921\"]], \"type\": \"surface\"}], \"table\": [{\"cells\": {\"fill\": {\"color\": \"#EBF0F8\"}, \"line\": {\"color\": \"white\"}}, \"header\": {\"fill\": {\"color\": \"#C8D4E3\"}, \"line\": {\"color\": \"white\"}}, \"type\": \"table\"}]}, \"layout\": {\"annotationdefaults\": {\"arrowcolor\": \"#2a3f5f\", \"arrowhead\": 0, \"arrowwidth\": 1}, \"coloraxis\": {\"colorbar\": {\"outlinewidth\": 0, \"ticks\": \"\"}}, \"colorscale\": {\"diverging\": [[0, \"#8e0152\"], [0.1, \"#c51b7d\"], [0.2, \"#de77ae\"], [0.3, \"#f1b6da\"], [0.4, \"#fde0ef\"], [0.5, \"#f7f7f7\"], [0.6, \"#e6f5d0\"], [0.7, \"#b8e186\"], [0.8, \"#7fbc41\"], [0.9, \"#4d9221\"], [1, \"#276419\"]], \"sequential\": [[0.0, \"#0d0887\"], [0.1111111111111111, \"#46039f\"], [0.2222222222222222, \"#7201a8\"], [0.3333333333333333, \"#9c179e\"], [0.4444444444444444, \"#bd3786\"], [0.5555555555555556, \"#d8576b\"], [0.6666666666666666, \"#ed7953\"], [0.7777777777777778, \"#fb9f3a\"], [0.8888888888888888, \"#fdca26\"], [1.0, \"#f0f921\"]], \"sequentialminus\": [[0.0, \"#0d0887\"], [0.1111111111111111, \"#46039f\"], [0.2222222222222222, \"#7201a8\"], [0.3333333333333333, \"#9c179e\"], [0.4444444444444444, \"#bd3786\"], [0.5555555555555556, \"#d8576b\"], [0.6666666666666666, \"#ed7953\"], [0.7777777777777778, \"#fb9f3a\"], [0.8888888888888888, \"#fdca26\"], [1.0, \"#f0f921\"]]}, \"colorway\": [\"#636efa\", \"#EF553B\", \"#00cc96\", \"#ab63fa\", \"#FFA15A\", \"#19d3f3\", \"#FF6692\", \"#B6E880\", \"#FF97FF\", \"#FECB52\"], \"font\": {\"color\": \"#2a3f5f\"}, \"geo\": {\"bgcolor\": \"white\", \"lakecolor\": \"white\", \"landcolor\": \"#E5ECF6\", \"showlakes\": true, \"showland\": true, \"subunitcolor\": \"white\"}, \"hoverlabel\": {\"align\": \"left\"}, \"hovermode\": \"closest\", \"mapbox\": {\"style\": \"light\"}, \"paper_bgcolor\": \"white\", \"plot_bgcolor\": \"#E5ECF6\", \"polar\": {\"angularaxis\": {\"gridcolor\": \"white\", \"linecolor\": \"white\", \"ticks\": \"\"}, \"bgcolor\": \"#E5ECF6\", \"radialaxis\": {\"gridcolor\": \"white\", \"linecolor\": \"white\", \"ticks\": \"\"}}, \"scene\": {\"xaxis\": {\"backgroundcolor\": \"#E5ECF6\", \"gridcolor\": \"white\", \"gridwidth\": 2, \"linecolor\": \"white\", \"showbackground\": true, \"ticks\": \"\", \"zerolinecolor\": \"white\"}, \"yaxis\": {\"backgroundcolor\": \"#E5ECF6\", \"gridcolor\": \"white\", \"gridwidth\": 2, \"linecolor\": \"white\", \"showbackground\": true, \"ticks\": \"\", \"zerolinecolor\": \"white\"}, \"zaxis\": {\"backgroundcolor\": \"#E5ECF6\", \"gridcolor\": \"white\", \"gridwidth\": 2, \"linecolor\": \"white\", \"showbackground\": true, \"ticks\": \"\", \"zerolinecolor\": \"white\"}}, \"shapedefaults\": {\"line\": {\"color\": \"#2a3f5f\"}}, \"ternary\": {\"aaxis\": {\"gridcolor\": \"white\", \"linecolor\": \"white\", \"ticks\": \"\"}, \"baxis\": {\"gridcolor\": \"white\", \"linecolor\": \"white\", \"ticks\": \"\"}, \"bgcolor\": \"#E5ECF6\", \"caxis\": {\"gridcolor\": \"white\", \"linecolor\": \"white\", \"ticks\": \"\"}}, \"title\": {\"x\": 0.05}, \"xaxis\": {\"automargin\": true, \"gridcolor\": \"white\", \"linecolor\": \"white\", \"ticks\": \"\", \"title\": {\"standoff\": 15}, \"zerolinecolor\": \"white\", \"zerolinewidth\": 2}, \"yaxis\": {\"automargin\": true, \"gridcolor\": \"white\", \"linecolor\": \"white\", \"ticks\": \"\", \"title\": {\"standoff\": 15}, \"zerolinecolor\": \"white\", \"zerolinewidth\": 2}}}, \"title\": {\"text\": \"\\u0414\\u043e\\u043b\\u044f \\u043a\\u043b\\u0438\\u0435\\u043d\\u0442\\u043e\\u0432 \\u043f\\u043e \\u0442\\u0430\\u0440\\u0438\\u0444\\u0430\\u043c\"}},\n",
              "                        {\"responsive\": true}\n",
              "                    ).then(function(){\n",
              "                            \n",
              "var gd = document.getElementById('f96d4ae1-8153-4429-86a5-82a5806d8072');\n",
              "var x = new MutationObserver(function (mutations, observer) {{\n",
              "        var display = window.getComputedStyle(gd).display;\n",
              "        if (!display || display === 'none') {{\n",
              "            console.log([gd, 'removed!']);\n",
              "            Plotly.purge(gd);\n",
              "            observer.disconnect();\n",
              "        }}\n",
              "}});\n",
              "\n",
              "// Listen for the removal of the full notebook cells\n",
              "var notebookContainer = gd.closest('#notebook-container');\n",
              "if (notebookContainer) {{\n",
              "    x.observe(notebookContainer, {childList: true});\n",
              "}}\n",
              "\n",
              "// Listen for the clearing of the current output cell\n",
              "var outputEl = gd.closest('.output');\n",
              "if (outputEl) {{\n",
              "    x.observe(outputEl, {childList: true});\n",
              "}}\n",
              "\n",
              "                        })\n",
              "                };\n",
              "                \n",
              "            </script>\n",
              "        </div>\n",
              "</body>\n",
              "</html>"
            ]
          },
          "metadata": {}
        }
      ]
    },
    {
      "cell_type": "markdown",
      "metadata": {
        "id": "c6AdPKaQnI6u"
      },
      "source": [
        "69% клиентов пользуются тарифом Смарт."
      ]
    },
    {
      "cell_type": "markdown",
      "metadata": {
        "id": "oVG21OEVnI6v"
      },
      "source": [
        "Посмотрим на частоту использования ресурсов по каждому месяцу"
      ]
    },
    {
      "cell_type": "code",
      "metadata": {
        "colab": {
          "base_uri": "https://localhost:8080/",
          "height": 995
        },
        "id": "4Tvd1fZqa6EN",
        "outputId": "d70c3dfd-4021-47cf-9fe8-69a7feb23e95"
      },
      "source": [
        "df['Месяц'].astype('int').abs()\n",
        "print(df.pivot_table(index='Месяц', values=['Кол-во звонков, шт.', 'СМС, шт.'], aggfunc='sum').sort_values(by='Месяц', ascending = False).plot(grid=True, figsize=(35, 5)))\n",
        "print(df.pivot_table(index='Месяц', values='Звонки, мин.', aggfunc='sum').sort_values(by='Месяц', ascending = False).plot(grid=True, figsize=(35, 5)))\n",
        "print(df.pivot_table(index='Месяц', values='Интернет, Мб', aggfunc='sum').sort_values(by='Месяц', ascending = False).plot(grid=True, figsize=(35, 5)))"
      ],
      "execution_count": 37,
      "outputs": [
        {
          "output_type": "stream",
          "name": "stdout",
          "text": [
            "AxesSubplot(0.125,0.125;0.775x0.755)\n",
            "AxesSubplot(0.125,0.125;0.775x0.755)\n",
            "AxesSubplot(0.125,0.125;0.775x0.755)\n"
          ]
        },
        {
          "output_type": "display_data",
          "data": {
            "image/png": "[encoded data removed]",
            "text/plain": [
              "<Figure size 2520x360 with 1 Axes>"
            ]
          },
          "metadata": {
            "needs_background": "light"
          }
        },
        {
          "output_type": "display_data",
          "data": {
            "image/png": "[encoded data removed]",
            "text/plain": [
              "<Figure size 2520x360 with 1 Axes>"
            ]
          },
          "metadata": {
            "needs_background": "light"
          }
        },
        {
          "output_type": "display_data",
          "data": {
            "image/png": "[encoded data removed]",
            "text/plain": [
              "<Figure size 2520x360 with 1 Axes>"
            ]
          },
          "metadata": {
            "needs_background": "light"
          }
        }
      ]
    },
    {
      "cell_type": "markdown",
      "metadata": {
        "id": "K8z5Fr43nI6v"
      },
      "source": [
        "Количество ресурсов с каждым месяцем стремительно растёт"
      ]
    },
    {
      "cell_type": "markdown",
      "metadata": {
        "id": "1VOdihIwnI6v"
      },
      "source": [
        "#### Добавление информации о помесячной выручке с каждого пользователя\n"
      ]
    },
    {
      "cell_type": "markdown",
      "metadata": {
        "id": "3No0lbh5nI6w"
      },
      "source": [
        "Разобьем на 3 группы столбцов:\n",
        "* \"Аб. плата\";\n",
        "* \"Минуты сверх\", \"СМС сверх\", \"Мб сверх\", \"Плата сверх лимита\";\n",
        "* \"Сумма за месяц\"."
      ]
    },
    {
      "cell_type": "markdown",
      "metadata": {
        "id": "p-7cS-7mnI6w"
      },
      "source": [
        " Для создания столбца \"Аб. плата\" создадим словарь и на его базе добавим новые данные"
      ]
    },
    {
      "cell_type": "code",
      "metadata": {
        "id": "GCBzv_PNnI6w"
      },
      "source": [
        "month_price = {'smart': 550, 'ultra': 1950}\n",
        "df['Аб. плата'] = df['Тариф'].map(month_price)"
      ],
      "execution_count": 38,
      "outputs": []
    },
    {
      "cell_type": "markdown",
      "metadata": {
        "id": "WdDjW0m0nI6w"
      },
      "source": [
        "Для создания столбцов \"Минуты сверх\", \"СМС сверх\", \"Мб сверх\", \"Плата сверх лимита\" напишем функцию, которая будет считать превышения в зависимости от тарифа\n"
      ]
    },
    {
      "cell_type": "code",
      "metadata": {
        "id": "sqJ85B5NnI6x"
      },
      "source": [
        "def calls_over_plan(row):\n",
        "    if row['Тариф'] == 'smart':\n",
        "        result = row['Звонки, мин.'] - 500\n",
        "        return np.where(result > 0, result, 0)\n",
        "    else:\n",
        "        result = row['Звонки, мин.'] - 3000\n",
        "        return np.where(result > 0, result, 0)\n",
        "    \n",
        "    \n",
        "def sms_over_plan(row):\n",
        "    if row['Тариф'] == 'smart':\n",
        "        result = row['СМС, шт.'] - 50\n",
        "        return np.where(result > 0, result, 0)\n",
        "    else:\n",
        "        result =  row['СМС, шт.'] - 1000\n",
        "        return np.where(result > 0, result, 0)\n",
        "    \n",
        "\n",
        "def internet_over_plan(row):\n",
        "    if row['Тариф'] == 'smart':\n",
        "        result = row['Интернет, Мб'] - 15 * 1024\n",
        "        return np.where(result > 0, result, 0)\n",
        "    else:\n",
        "        result = row['Интернет, Мб'] - 30 * 1024\n",
        "        return np.where(result > 0, result, 0)\n",
        "    \n",
        "    \n",
        "def month_revenue(row):\n",
        "    sum_per_month = 0\n",
        "    if row['Тариф'] == 'smart':\n",
        "        sum_per_month += np.ceil(row['Минуты сверх']) * 3\n",
        "        sum_per_month += row['СМС сверх'] * 3\n",
        "        sum_per_month += np.ceil(row['Мб сверх']/1024) * 200\n",
        "        return sum_per_month\n",
        "    \n",
        "    else:\n",
        "        sum_per_month += np.ceil(row['Минуты сверх']) * 1\n",
        "        sum_per_month += row['СМС сверх'] * 1\n",
        "        sum_per_month += np.ceil(row['Мб сверх']/1024) * 150\n",
        "        return sum_per_month"
      ],
      "execution_count": 39,
      "outputs": []
    },
    {
      "cell_type": "markdown",
      "metadata": {
        "id": "WmO9LoTrnI6x"
      },
      "source": [
        "Создадим новые столбцы"
      ]
    },
    {
      "cell_type": "code",
      "metadata": {
        "id": "hLKoozlanI6x"
      },
      "source": [
        "df['Минуты сверх'] = df.apply(calls_over_plan, axis=1)\n",
        "df['СМС сверх'] = df.apply(sms_over_plan, axis=1)\n",
        "df['Мб сверх'] = df.apply(internet_over_plan, axis=1)\n",
        "\n",
        "df['Плата сверх лимита, руб.'] = df.apply(month_revenue, axis=1)\n",
        "\n",
        "for column in ['Минуты сверх', 'Мб сверх']:\n",
        "    df[column] = df[column].astype('float')\n",
        "\n",
        "for column in ['СМС сверх', 'Плата сверх лимита, руб.']:\n",
        "    df[column] = df[column].astype('int')"
      ],
      "execution_count": 40,
      "outputs": []
    },
    {
      "cell_type": "markdown",
      "metadata": {
        "id": "lwmWsE1vnI6y"
      },
      "source": [
        "Для создания столбца \"Сумма за месяц\" построчно просуммируем данные по 2 только что созданным столбцам: \"Аб. плата\" и \"Плата сверх лимита\""
      ]
    },
    {
      "cell_type": "code",
      "metadata": {
        "id": "Src5KAGMnI6y"
      },
      "source": [
        "df['Сумма за месяц, руб.'] = df['Аб. плата'] + df['Плата сверх лимита, руб.']"
      ],
      "execution_count": 41,
      "outputs": []
    },
    {
      "cell_type": "markdown",
      "metadata": {
        "id": "QMSW_JEYnI6y"
      },
      "source": [
        "Смотрим на результат"
      ]
    },
    {
      "cell_type": "code",
      "metadata": {
        "colab": {
          "base_uri": "https://localhost:8080/",
          "height": 359
        },
        "id": "dIWlT_-HnI6y",
        "outputId": "368aa8ac-8c1a-4c8e-ac7e-2320021b3425"
      },
      "source": [
        "df.head(10)"
      ],
      "execution_count": 42,
      "outputs": [
        {
          "output_type": "execute_result",
          "data": {
            "text/html": [
              "<div>\n",
              "<style scoped>\n",
              "    .dataframe tbody tr th:only-of-type {\n",
              "        vertical-align: middle;\n",
              "    }\n",
              "\n",
              "    .dataframe tbody tr th {\n",
              "        vertical-align: top;\n",
              "    }\n",
              "\n",
              "    .dataframe thead th {\n",
              "        text-align: right;\n",
              "    }\n",
              "</style>\n",
              "<table border=\"1\" class=\"dataframe\">\n",
              "  <thead>\n",
              "    <tr style=\"text-align: right;\">\n",
              "      <th></th>\n",
              "      <th>User_id</th>\n",
              "      <th>Время года</th>\n",
              "      <th>Месяц</th>\n",
              "      <th>Кол-во звонков, шт.</th>\n",
              "      <th>Звонки, мин.</th>\n",
              "      <th>СМС, шт.</th>\n",
              "      <th>Интернет, Мб</th>\n",
              "      <th>Тариф</th>\n",
              "      <th>Город</th>\n",
              "      <th>Аб. плата</th>\n",
              "      <th>Минуты сверх</th>\n",
              "      <th>СМС сверх</th>\n",
              "      <th>Мб сверх</th>\n",
              "      <th>Плата сверх лимита, руб.</th>\n",
              "      <th>Сумма за месяц, руб.</th>\n",
              "    </tr>\n",
              "  </thead>\n",
              "  <tbody>\n",
              "    <tr>\n",
              "      <th>0</th>\n",
              "      <td>1000</td>\n",
              "      <td>весна</td>\n",
              "      <td>5</td>\n",
              "      <td>17.0</td>\n",
              "      <td>159.0</td>\n",
              "      <td>22.0</td>\n",
              "      <td>2256.0</td>\n",
              "      <td>ultra</td>\n",
              "      <td>Краснодар</td>\n",
              "      <td>1950</td>\n",
              "      <td>0.0</td>\n",
              "      <td>0</td>\n",
              "      <td>0.0</td>\n",
              "      <td>0</td>\n",
              "      <td>1950</td>\n",
              "    </tr>\n",
              "    <tr>\n",
              "      <th>1</th>\n",
              "      <td>1000</td>\n",
              "      <td>зима</td>\n",
              "      <td>12</td>\n",
              "      <td>38.0</td>\n",
              "      <td>333.0</td>\n",
              "      <td>70.0</td>\n",
              "      <td>9827.0</td>\n",
              "      <td>ultra</td>\n",
              "      <td>Краснодар</td>\n",
              "      <td>1950</td>\n",
              "      <td>0.0</td>\n",
              "      <td>0</td>\n",
              "      <td>0.0</td>\n",
              "      <td>0</td>\n",
              "      <td>1950</td>\n",
              "    </tr>\n",
              "    <tr>\n",
              "      <th>2</th>\n",
              "      <td>1000</td>\n",
              "      <td>лето</td>\n",
              "      <td>6</td>\n",
              "      <td>28.0</td>\n",
              "      <td>172.0</td>\n",
              "      <td>60.0</td>\n",
              "      <td>23257.0</td>\n",
              "      <td>ultra</td>\n",
              "      <td>Краснодар</td>\n",
              "      <td>1950</td>\n",
              "      <td>0.0</td>\n",
              "      <td>0</td>\n",
              "      <td>0.0</td>\n",
              "      <td>0</td>\n",
              "      <td>1950</td>\n",
              "    </tr>\n",
              "    <tr>\n",
              "      <th>3</th>\n",
              "      <td>1000</td>\n",
              "      <td>лето</td>\n",
              "      <td>7</td>\n",
              "      <td>41.0</td>\n",
              "      <td>340.0</td>\n",
              "      <td>75.0</td>\n",
              "      <td>14016.0</td>\n",
              "      <td>ultra</td>\n",
              "      <td>Краснодар</td>\n",
              "      <td>1950</td>\n",
              "      <td>0.0</td>\n",
              "      <td>0</td>\n",
              "      <td>0.0</td>\n",
              "      <td>0</td>\n",
              "      <td>1950</td>\n",
              "    </tr>\n",
              "    <tr>\n",
              "      <th>4</th>\n",
              "      <td>1000</td>\n",
              "      <td>лето</td>\n",
              "      <td>8</td>\n",
              "      <td>42.0</td>\n",
              "      <td>408.0</td>\n",
              "      <td>81.0</td>\n",
              "      <td>14070.0</td>\n",
              "      <td>ultra</td>\n",
              "      <td>Краснодар</td>\n",
              "      <td>1950</td>\n",
              "      <td>0.0</td>\n",
              "      <td>0</td>\n",
              "      <td>0.0</td>\n",
              "      <td>0</td>\n",
              "      <td>1950</td>\n",
              "    </tr>\n",
              "    <tr>\n",
              "      <th>5</th>\n",
              "      <td>1000</td>\n",
              "      <td>осень</td>\n",
              "      <td>9</td>\n",
              "      <td>46.0</td>\n",
              "      <td>466.0</td>\n",
              "      <td>57.0</td>\n",
              "      <td>14581.0</td>\n",
              "      <td>ultra</td>\n",
              "      <td>Краснодар</td>\n",
              "      <td>1950</td>\n",
              "      <td>0.0</td>\n",
              "      <td>0</td>\n",
              "      <td>0.0</td>\n",
              "      <td>0</td>\n",
              "      <td>1950</td>\n",
              "    </tr>\n",
              "    <tr>\n",
              "      <th>6</th>\n",
              "      <td>1000</td>\n",
              "      <td>осень</td>\n",
              "      <td>10</td>\n",
              "      <td>44.0</td>\n",
              "      <td>350.0</td>\n",
              "      <td>73.0</td>\n",
              "      <td>14717.0</td>\n",
              "      <td>ultra</td>\n",
              "      <td>Краснодар</td>\n",
              "      <td>1950</td>\n",
              "      <td>0.0</td>\n",
              "      <td>0</td>\n",
              "      <td>0.0</td>\n",
              "      <td>0</td>\n",
              "      <td>1950</td>\n",
              "    </tr>\n",
              "    <tr>\n",
              "      <th>7</th>\n",
              "      <td>1000</td>\n",
              "      <td>осень</td>\n",
              "      <td>11</td>\n",
              "      <td>37.0</td>\n",
              "      <td>338.0</td>\n",
              "      <td>58.0</td>\n",
              "      <td>14768.0</td>\n",
              "      <td>ultra</td>\n",
              "      <td>Краснодар</td>\n",
              "      <td>1950</td>\n",
              "      <td>0.0</td>\n",
              "      <td>0</td>\n",
              "      <td>0.0</td>\n",
              "      <td>0</td>\n",
              "      <td>1950</td>\n",
              "    </tr>\n",
              "    <tr>\n",
              "      <th>8</th>\n",
              "      <td>1001</td>\n",
              "      <td>зима</td>\n",
              "      <td>12</td>\n",
              "      <td>47.0</td>\n",
              "      <td>414.0</td>\n",
              "      <td>0.0</td>\n",
              "      <td>14053.0</td>\n",
              "      <td>smart</td>\n",
              "      <td>Москва</td>\n",
              "      <td>550</td>\n",
              "      <td>0.0</td>\n",
              "      <td>0</td>\n",
              "      <td>0.0</td>\n",
              "      <td>0</td>\n",
              "      <td>550</td>\n",
              "    </tr>\n",
              "    <tr>\n",
              "      <th>9</th>\n",
              "      <td>1001</td>\n",
              "      <td>осень</td>\n",
              "      <td>11</td>\n",
              "      <td>45.0</td>\n",
              "      <td>430.0</td>\n",
              "      <td>0.0</td>\n",
              "      <td>18452.0</td>\n",
              "      <td>smart</td>\n",
              "      <td>Москва</td>\n",
              "      <td>550</td>\n",
              "      <td>0.0</td>\n",
              "      <td>0</td>\n",
              "      <td>3092.0</td>\n",
              "      <td>800</td>\n",
              "      <td>1350</td>\n",
              "    </tr>\n",
              "  </tbody>\n",
              "</table>\n",
              "</div>"
            ],
            "text/plain": [
              "   User_id Время года  ...  Плата сверх лимита, руб.  Сумма за месяц, руб.\n",
              "0     1000      весна  ...                         0                  1950\n",
              "1     1000       зима  ...                         0                  1950\n",
              "2     1000       лето  ...                         0                  1950\n",
              "3     1000       лето  ...                         0                  1950\n",
              "4     1000       лето  ...                         0                  1950\n",
              "5     1000      осень  ...                         0                  1950\n",
              "6     1000      осень  ...                         0                  1950\n",
              "7     1000      осень  ...                         0                  1950\n",
              "8     1001       зима  ...                         0                   550\n",
              "9     1001      осень  ...                       800                  1350\n",
              "\n",
              "[10 rows x 15 columns]"
            ]
          },
          "metadata": {},
          "execution_count": 42
        }
      ]
    },
    {
      "cell_type": "markdown",
      "metadata": {
        "id": "2De7kyURnI6y"
      },
      "source": [
        "#### Посмотрим, есть ли вообще клиенты, которые превышали лимиты"
      ]
    },
    {
      "cell_type": "code",
      "metadata": {
        "colab": {
          "base_uri": "https://localhost:8080/",
          "height": 420
        },
        "id": "RoWpEe5ZnI6z",
        "outputId": "cce36efd-4815-4898-90f4-394a9e16c751"
      },
      "source": [
        "df[df['Сумма за месяц, руб.'] > 1950]"
      ],
      "execution_count": 43,
      "outputs": [
        {
          "output_type": "execute_result",
          "data": {
            "text/html": [
              "<div>\n",
              "<style scoped>\n",
              "    .dataframe tbody tr th:only-of-type {\n",
              "        vertical-align: middle;\n",
              "    }\n",
              "\n",
              "    .dataframe tbody tr th {\n",
              "        vertical-align: top;\n",
              "    }\n",
              "\n",
              "    .dataframe thead th {\n",
              "        text-align: right;\n",
              "    }\n",
              "</style>\n",
              "<table border=\"1\" class=\"dataframe\">\n",
              "  <thead>\n",
              "    <tr style=\"text-align: right;\">\n",
              "      <th></th>\n",
              "      <th>User_id</th>\n",
              "      <th>Время года</th>\n",
              "      <th>Месяц</th>\n",
              "      <th>Кол-во звонков, шт.</th>\n",
              "      <th>Звонки, мин.</th>\n",
              "      <th>СМС, шт.</th>\n",
              "      <th>Интернет, Мб</th>\n",
              "      <th>Тариф</th>\n",
              "      <th>Город</th>\n",
              "      <th>Аб. плата</th>\n",
              "      <th>Минуты сверх</th>\n",
              "      <th>СМС сверх</th>\n",
              "      <th>Мб сверх</th>\n",
              "      <th>Плата сверх лимита, руб.</th>\n",
              "      <th>Сумма за месяц, руб.</th>\n",
              "    </tr>\n",
              "  </thead>\n",
              "  <tbody>\n",
              "    <tr>\n",
              "      <th>68</th>\n",
              "      <td>1009</td>\n",
              "      <td>лето</td>\n",
              "      <td>7</td>\n",
              "      <td>20.0</td>\n",
              "      <td>183.0</td>\n",
              "      <td>14.0</td>\n",
              "      <td>24752.0</td>\n",
              "      <td>smart</td>\n",
              "      <td>Пермь</td>\n",
              "      <td>550</td>\n",
              "      <td>0.0</td>\n",
              "      <td>0</td>\n",
              "      <td>9392.0</td>\n",
              "      <td>2000</td>\n",
              "      <td>2550</td>\n",
              "    </tr>\n",
              "    <tr>\n",
              "      <th>69</th>\n",
              "      <td>1009</td>\n",
              "      <td>лето</td>\n",
              "      <td>8</td>\n",
              "      <td>27.0</td>\n",
              "      <td>249.0</td>\n",
              "      <td>9.0</td>\n",
              "      <td>23738.0</td>\n",
              "      <td>smart</td>\n",
              "      <td>Пермь</td>\n",
              "      <td>550</td>\n",
              "      <td>0.0</td>\n",
              "      <td>0</td>\n",
              "      <td>8378.0</td>\n",
              "      <td>1800</td>\n",
              "      <td>2350</td>\n",
              "    </tr>\n",
              "    <tr>\n",
              "      <th>81</th>\n",
              "      <td>1011</td>\n",
              "      <td>зима</td>\n",
              "      <td>12</td>\n",
              "      <td>44.0</td>\n",
              "      <td>361.0</td>\n",
              "      <td>6.0</td>\n",
              "      <td>22900.0</td>\n",
              "      <td>smart</td>\n",
              "      <td>Самара</td>\n",
              "      <td>550</td>\n",
              "      <td>0.0</td>\n",
              "      <td>0</td>\n",
              "      <td>7540.0</td>\n",
              "      <td>1600</td>\n",
              "      <td>2150</td>\n",
              "    </tr>\n",
              "    <tr>\n",
              "      <th>84</th>\n",
              "      <td>1011</td>\n",
              "      <td>лето</td>\n",
              "      <td>8</td>\n",
              "      <td>58.0</td>\n",
              "      <td>515.0</td>\n",
              "      <td>15.0</td>\n",
              "      <td>21526.0</td>\n",
              "      <td>smart</td>\n",
              "      <td>Самара</td>\n",
              "      <td>550</td>\n",
              "      <td>15.0</td>\n",
              "      <td>0</td>\n",
              "      <td>6166.0</td>\n",
              "      <td>1445</td>\n",
              "      <td>1995</td>\n",
              "    </tr>\n",
              "    <tr>\n",
              "      <th>87</th>\n",
              "      <td>1011</td>\n",
              "      <td>осень</td>\n",
              "      <td>11</td>\n",
              "      <td>52.0</td>\n",
              "      <td>501.0</td>\n",
              "      <td>12.0</td>\n",
              "      <td>25332.0</td>\n",
              "      <td>smart</td>\n",
              "      <td>Самара</td>\n",
              "      <td>550</td>\n",
              "      <td>1.0</td>\n",
              "      <td>0</td>\n",
              "      <td>9972.0</td>\n",
              "      <td>2003</td>\n",
              "      <td>2553</td>\n",
              "    </tr>\n",
              "    <tr>\n",
              "      <th>...</th>\n",
              "      <td>...</td>\n",
              "      <td>...</td>\n",
              "      <td>...</td>\n",
              "      <td>...</td>\n",
              "      <td>...</td>\n",
              "      <td>...</td>\n",
              "      <td>...</td>\n",
              "      <td>...</td>\n",
              "      <td>...</td>\n",
              "      <td>...</td>\n",
              "      <td>...</td>\n",
              "      <td>...</td>\n",
              "      <td>...</td>\n",
              "      <td>...</td>\n",
              "      <td>...</td>\n",
              "    </tr>\n",
              "    <tr>\n",
              "      <th>3199</th>\n",
              "      <td>1496</td>\n",
              "      <td>лето</td>\n",
              "      <td>8</td>\n",
              "      <td>62.0</td>\n",
              "      <td>527.0</td>\n",
              "      <td>41.0</td>\n",
              "      <td>23560.0</td>\n",
              "      <td>smart</td>\n",
              "      <td>Вологда</td>\n",
              "      <td>550</td>\n",
              "      <td>27.0</td>\n",
              "      <td>0</td>\n",
              "      <td>8200.0</td>\n",
              "      <td>1881</td>\n",
              "      <td>2431</td>\n",
              "    </tr>\n",
              "    <tr>\n",
              "      <th>3200</th>\n",
              "      <td>1496</td>\n",
              "      <td>осень</td>\n",
              "      <td>9</td>\n",
              "      <td>58.0</td>\n",
              "      <td>486.0</td>\n",
              "      <td>29.0</td>\n",
              "      <td>26970.0</td>\n",
              "      <td>smart</td>\n",
              "      <td>Вологда</td>\n",
              "      <td>550</td>\n",
              "      <td>0.0</td>\n",
              "      <td>0</td>\n",
              "      <td>11610.0</td>\n",
              "      <td>2400</td>\n",
              "      <td>2950</td>\n",
              "    </tr>\n",
              "    <tr>\n",
              "      <th>3201</th>\n",
              "      <td>1496</td>\n",
              "      <td>осень</td>\n",
              "      <td>10</td>\n",
              "      <td>56.0</td>\n",
              "      <td>450.0</td>\n",
              "      <td>35.0</td>\n",
              "      <td>28215.0</td>\n",
              "      <td>smart</td>\n",
              "      <td>Вологда</td>\n",
              "      <td>550</td>\n",
              "      <td>0.0</td>\n",
              "      <td>0</td>\n",
              "      <td>12855.0</td>\n",
              "      <td>2600</td>\n",
              "      <td>3150</td>\n",
              "    </tr>\n",
              "    <tr>\n",
              "      <th>3202</th>\n",
              "      <td>1496</td>\n",
              "      <td>осень</td>\n",
              "      <td>11</td>\n",
              "      <td>66.0</td>\n",
              "      <td>662.0</td>\n",
              "      <td>46.0</td>\n",
              "      <td>25092.0</td>\n",
              "      <td>smart</td>\n",
              "      <td>Вологда</td>\n",
              "      <td>550</td>\n",
              "      <td>162.0</td>\n",
              "      <td>0</td>\n",
              "      <td>9732.0</td>\n",
              "      <td>2486</td>\n",
              "      <td>3036</td>\n",
              "    </tr>\n",
              "    <tr>\n",
              "      <th>3207</th>\n",
              "      <td>1498</td>\n",
              "      <td>лето</td>\n",
              "      <td>8</td>\n",
              "      <td>43.0</td>\n",
              "      <td>400.0</td>\n",
              "      <td>62.0</td>\n",
              "      <td>24270.0</td>\n",
              "      <td>smart</td>\n",
              "      <td>Владикавказ</td>\n",
              "      <td>550</td>\n",
              "      <td>0.0</td>\n",
              "      <td>12</td>\n",
              "      <td>8910.0</td>\n",
              "      <td>1836</td>\n",
              "      <td>2386</td>\n",
              "    </tr>\n",
              "  </tbody>\n",
              "</table>\n",
              "<p>556 rows × 15 columns</p>\n",
              "</div>"
            ],
            "text/plain": [
              "      User_id Время года  ...  Плата сверх лимита, руб.  Сумма за месяц, руб.\n",
              "68       1009       лето  ...                      2000                  2550\n",
              "69       1009       лето  ...                      1800                  2350\n",
              "81       1011       зима  ...                      1600                  2150\n",
              "84       1011       лето  ...                      1445                  1995\n",
              "87       1011      осень  ...                      2003                  2553\n",
              "...       ...        ...  ...                       ...                   ...\n",
              "3199     1496       лето  ...                      1881                  2431\n",
              "3200     1496      осень  ...                      2400                  2950\n",
              "3201     1496      осень  ...                      2600                  3150\n",
              "3202     1496      осень  ...                      2486                  3036\n",
              "3207     1498       лето  ...                      1836                  2386\n",
              "\n",
              "[556 rows x 15 columns]"
            ]
          },
          "metadata": {},
          "execution_count": 43
        }
      ]
    },
    {
      "cell_type": "markdown",
      "metadata": {
        "id": "eos--FxlnI6z"
      },
      "source": [
        "Такие есть. Посмотрим, какая часть клиентов \"вылезает\" за рамки ежемесячных лимитов по каждому из тарифов.\n",
        "\n",
        "\n",
        "Анализ данных по переплатам (заказам доп. пакетов услуг).\n",
        "Для удобства создадим колонку 'Не хватило тарифного плана' с признаком: \"0\" - клиент не превышал месячные лимиты тарифа, \"1\" - превышал.\n"
      ]
    },
    {
      "cell_type": "code",
      "metadata": {
        "id": "acBUXkYGnI6z"
      },
      "source": [
        "df['Не хватило тарифного плана'] = np.where(df['Плата сверх лимита, руб.'] > 0, 1, 0)"
      ],
      "execution_count": 44,
      "outputs": []
    },
    {
      "cell_type": "markdown",
      "metadata": {
        "id": "aBAtXK5wnI60"
      },
      "source": [
        "#### Нарисуем круговую диаграмму по каждому из тарифов, чтобы увидеть, какая часть пользователей \"дозаказывает\" услуги после истечения месячных лимитов по тарифу"
      ]
    },
    {
      "cell_type": "code",
      "metadata": {
        "colab": {
          "base_uri": "https://localhost:8080/",
          "height": 332
        },
        "id": "jHoTpZO9nI60",
        "outputId": "fdde8d8d-3402-44b3-c935-01939ff9a0d4"
      },
      "source": [
        "filter_list = ['smart', 'ultra']\n",
        "titles_list = ['По клиентам тарифа \"Смарт\"', 'По клиентам тарифа \"Ультра\"']\n",
        "rows = 1\n",
        "cols = 2\n",
        "filter_list_counter = 0\n",
        "\n",
        "sum_smart = df[df['Тариф'] == 'smart'].count()['User_id']\n",
        "sum_ultra = df[df['Тариф'] == 'ultra'].count()['User_id']\n",
        "\n",
        "annot_labels = ['В рамках тарифа', 'Дозаказ услуг']\n",
        "\n",
        "def func_pct(pct):\n",
        "    if pct < 75 and pct > 25:\n",
        "        value = float(pct/100.*sum_smart)\n",
        "    else:\n",
        "        value = float(pct/100.*sum_ultra)\n",
        "    return \"{:.2f}%\\n({:.0f} чел.)\".format(pct, value)\n",
        "\n",
        "fig, axes = plt.subplots(rows, cols, figsize=(20,10))\n",
        "\n",
        "explode = (0.05, 0)  # сектор 'ultra' немного выдвинем\n",
        "\n",
        "for r in range(rows):\n",
        "    for c in range(cols):\n",
        "        if filter_list[filter_list_counter] == 'smart':\n",
        "            colors = ['#92c6ff', '#ff5050']\n",
        "        else:\n",
        "            colors = ['#97F0AA', '#ff5050']\n",
        "        curr_filtered_df = df[df['Тариф'] == filter_list[filter_list_counter]].groupby('Не хватило тарифного плана')['User_id']\n",
        "        ax = curr_filtered_df.count().plot(kind='pie', fontsize=14, use_index=False, shadow=True, explode=explode,\n",
        "                                           title=titles_list[filter_list_counter], pctdistance=0.55, figsize=(20,5),\n",
        "                                           autopct=lambda pct: func_pct(pct), startangle=200, ax=axes[c], colors=colors,\n",
        "                                           labels=None)\n",
        "\n",
        "        filter_list_counter += 1\n",
        "\n",
        "plt.tight_layout(pad=3)\n",
        "\n",
        "for ax in axes:\n",
        "    ax.legend(['В рамках тарифа', 'Дозаказ услуг'], bbox_to_anchor=(0.897,0.87), prop={'size':15})\n",
        "    ax.set_ylabel('')\n",
        "    ax.title.set_size(16)\n",
        "    ax.title.set_position([0.5, 1.15])"
      ],
      "execution_count": 45,
      "outputs": [
        {
          "output_type": "display_data",
          "data": {
            "image/png": "[encoded data removed]",
            "text/plain": [
              "<Figure size 1440x360 with 2 Axes>"
            ]
          },
          "metadata": {}
        }
      ]
    },
    {
      "cell_type": "markdown",
      "metadata": {
        "id": "nAgwgmpjnI60"
      },
      "source": [
        "Видим, что по тарифу Смарт примерно в 74% случаев клиенту не хватает заложенных в абонентскую плату минут, СМС или гигабайт, и он \"дозаказывает\" эти услуги.\n",
        "И наоборот, почти всем клиентам с тарифом Ультра всегда всего хватает, кроме 13% - они тоже \"дозаказывают\" услуги вне поверх абонентской платы."
      ]
    },
    {
      "cell_type": "markdown",
      "metadata": {
        "id": "82Tl_kjpnI61"
      },
      "source": [
        "#### Посмотрим на гистограмму \"переплат\" клиентов тарифа Смарт"
      ]
    },
    {
      "cell_type": "code",
      "metadata": {
        "colab": {
          "base_uri": "https://localhost:8080/",
          "height": 297
        },
        "id": "2Z3L0fNHnI61",
        "outputId": "d1ffc7c0-e738-4632-ad0a-9d706fc02486"
      },
      "source": [
        "title = 'Гистограмма переплат, тариф \"Смарт\"'\n",
        "df_filtered = df[(df['Тариф'] == 'smart') & \n",
        "                               (df['Плата сверх лимита, руб.'] > 0)]['Плата сверх лимита, руб.']\n",
        "df_filtered.plot(kind='hist', title=title, ec='black', bins=50)"
      ],
      "execution_count": 46,
      "outputs": [
        {
          "output_type": "execute_result",
          "data": {
            "text/plain": [
              "<matplotlib.axes._subplots.AxesSubplot at 0x7f17f74c7950>"
            ]
          },
          "metadata": {},
          "execution_count": 46
        },
        {
          "output_type": "display_data",
          "data": {
            "image/png": "[encoded data removed]",
            "text/plain": [
              "<Figure size 432x288 with 1 Axes>"
            ]
          },
          "metadata": {
            "needs_background": "light"
          }
        }
      ]
    },
    {
      "cell_type": "markdown",
      "metadata": {
        "id": "EJ5gXkSGnI61"
      },
      "source": [
        "Большинство переплачивает до 1200 рублей. Это довольно много, учитывая, что размер абонентский платы - 550 рублей.<br/>\n",
        "Посмотрим ближе"
      ]
    },
    {
      "cell_type": "code",
      "metadata": {
        "colab": {
          "base_uri": "https://localhost:8080/",
          "height": 297
        },
        "id": "Xw1hGuxxnI61",
        "outputId": "3d755eae-dcd2-4e1e-a7ce-8d4e795846e0"
      },
      "source": [
        "title = 'Гистограмма переплат, тариф \"Смарт\"'\n",
        "df_filtered_less1000 = df[(df['Тариф'] == 'smart') & \n",
        "                                        (df['Плата сверх лимита, руб.'] > 0) &\n",
        "                                        (df['Плата сверх лимита, руб.'] < 1000)]['Плата сверх лимита, руб.']\n",
        "df_filtered_less1000.plot(kind='hist', title=title, ec='black', bins=50)"
      ],
      "execution_count": 47,
      "outputs": [
        {
          "output_type": "execute_result",
          "data": {
            "text/plain": [
              "<matplotlib.axes._subplots.AxesSubplot at 0x7f17f74c77d0>"
            ]
          },
          "metadata": {},
          "execution_count": 47
        },
        {
          "output_type": "display_data",
          "data": {
            "image/png": "[encoded data removed]",
            "text/plain": [
              "<Figure size 432x288 with 1 Axes>"
            ]
          },
          "metadata": {
            "needs_background": "light"
          }
        }
      ]
    },
    {
      "cell_type": "markdown",
      "metadata": {
        "id": "nQQytCL2nI62"
      },
      "source": [
        "Большая часть клиентов если переплачивает, то переплачивает сумму, кратную 200 рублям. То есть дозаказывают разное количество раз 1 Гб интернета за 200 рублей."
      ]
    },
    {
      "cell_type": "markdown",
      "metadata": {
        "id": "21qengWInI62"
      },
      "source": [
        "#### Посмотрим на гистограмму \"переплат\" клиентов тарифа Ультра"
      ]
    },
    {
      "cell_type": "code",
      "metadata": {
        "colab": {
          "base_uri": "https://localhost:8080/",
          "height": 297
        },
        "id": "bmlmL2CgnI62",
        "outputId": "7d230a6e-63a4-461f-b507-1136a213c777"
      },
      "source": [
        "title = 'Гистограмма переплат, тариф \"Ультра\"'\n",
        "df_filtered = df[(df['Тариф'] == 'ultra') & \n",
        "                               (df['Плата сверх лимита, руб.'] > 0)]['Плата сверх лимита, руб.']\n",
        "df_filtered.plot(kind='hist', title=title, ec='black', bins=50)"
      ],
      "execution_count": 48,
      "outputs": [
        {
          "output_type": "execute_result",
          "data": {
            "text/plain": [
              "<matplotlib.axes._subplots.AxesSubplot at 0x7f17f7507d90>"
            ]
          },
          "metadata": {},
          "execution_count": 48
        },
        {
          "output_type": "display_data",
          "data": {
            "image/png": "[encoded data removed]",
            "text/plain": [
              "<Figure size 432x288 with 1 Axes>"
            ]
          },
          "metadata": {
            "needs_background": "light"
          }
        }
      ]
    },
    {
      "cell_type": "markdown",
      "metadata": {
        "id": "8f0YWr6PnI62"
      },
      "source": [
        "В основном, переплаты до 1500 рублей. Посмотрим поближе"
      ]
    },
    {
      "cell_type": "code",
      "metadata": {
        "colab": {
          "base_uri": "https://localhost:8080/",
          "height": 297
        },
        "id": "pZSrFnJpnI63",
        "outputId": "c415ad9d-8ab7-47c0-842b-86b27e23381d"
      },
      "source": [
        "title = 'Гистограмма переплат, тариф \"Ультра\"'\n",
        "df_filtered_less1000 = df[(df['Тариф'] == 'ultra') & \n",
        "                                        (df['Плата сверх лимита, руб.'] > 0) &\n",
        "                                        (df['Плата сверх лимита, руб.'] < 1500)]['Плата сверх лимита, руб.']\n",
        "df_filtered_less1000.plot(kind='hist', title=title, ec='black', bins=50)"
      ],
      "execution_count": 49,
      "outputs": [
        {
          "output_type": "execute_result",
          "data": {
            "text/plain": [
              "<matplotlib.axes._subplots.AxesSubplot at 0x7f17f6e8db50>"
            ]
          },
          "metadata": {},
          "execution_count": 49
        },
        {
          "output_type": "display_data",
          "data": {
            "image/png": "[encoded data removed]",
            "text/plain": [
              "<Figure size 432x288 with 1 Axes>"
            ]
          },
          "metadata": {
            "needs_background": "light"
          }
        }
      ]
    },
    {
      "cell_type": "markdown",
      "metadata": {
        "id": "DrLkBkBjnI63"
      },
      "source": [
        "Переплачивают по 150р. за дополнительный 1 Гб интернет-трафика различное количество раз."
      ]
    },
    {
      "cell_type": "markdown",
      "metadata": {
        "id": "RH8p1n3vnI63"
      },
      "source": [
        "#### Какие услуги чаще дозаказывают пользователи каждого из тарифов\n"
      ]
    },
    {
      "cell_type": "code",
      "metadata": {
        "colab": {
          "base_uri": "https://localhost:8080/",
          "height": 110
        },
        "id": "tjd2JYnYnI63",
        "outputId": "29c2ae31-9f3d-4083-cd14-405af25bd55a"
      },
      "source": [
        "(df.groupby('Тариф').sum()[['Минуты сверх', 'СМС сверх', 'Мб сверх']]).reset_index()"
      ],
      "execution_count": 50,
      "outputs": [
        {
          "output_type": "execute_result",
          "data": {
            "text/html": [
              "<div>\n",
              "<style scoped>\n",
              "    .dataframe tbody tr th:only-of-type {\n",
              "        vertical-align: middle;\n",
              "    }\n",
              "\n",
              "    .dataframe tbody tr th {\n",
              "        vertical-align: top;\n",
              "    }\n",
              "\n",
              "    .dataframe thead th {\n",
              "        text-align: right;\n",
              "    }\n",
              "</style>\n",
              "<table border=\"1\" class=\"dataframe\">\n",
              "  <thead>\n",
              "    <tr style=\"text-align: right;\">\n",
              "      <th></th>\n",
              "      <th>Тариф</th>\n",
              "      <th>Минуты сверх</th>\n",
              "      <th>СМС сверх</th>\n",
              "      <th>Мб сверх</th>\n",
              "    </tr>\n",
              "  </thead>\n",
              "  <tbody>\n",
              "    <tr>\n",
              "      <th>0</th>\n",
              "      <td>smart</td>\n",
              "      <td>92739.0</td>\n",
              "      <td>12928</td>\n",
              "      <td>6175667.0</td>\n",
              "    </tr>\n",
              "    <tr>\n",
              "      <th>1</th>\n",
              "      <td>ultra</td>\n",
              "      <td>0.0</td>\n",
              "      <td>0</td>\n",
              "      <td>743233.0</td>\n",
              "    </tr>\n",
              "  </tbody>\n",
              "</table>\n",
              "</div>"
            ],
            "text/plain": [
              "   Тариф  Минуты сверх  СМС сверх   Мб сверх\n",
              "0  smart       92739.0      12928  6175667.0\n",
              "1  ultra           0.0          0   743233.0"
            ]
          },
          "metadata": {},
          "execution_count": 50
        }
      ]
    },
    {
      "cell_type": "markdown",
      "metadata": {
        "id": "8rJGjO2MnI63"
      },
      "source": [
        "Пользователи тарифа Смарт доказывают услуги каждого типа связи. Пользователи тарифа Ультра - только интернет."
      ]
    },
    {
      "cell_type": "markdown",
      "metadata": {
        "id": "nlv0M6JKnI64"
      },
      "source": [
        "#### Сравнение суммарную выручку за год по каждому из тарифов\n"
      ]
    },
    {
      "cell_type": "code",
      "metadata": {
        "colab": {
          "base_uri": "https://localhost:8080/",
          "height": 339
        },
        "id": "VTHGh5N3nI64",
        "outputId": "d84dec4d-e9ab-41ee-9c19-798c90cc59ba"
      },
      "source": [
        "all_revenue = df['Сумма за месяц, руб.'].sum()\n",
        "\n",
        "\n",
        "def func_pct(pct):\n",
        "    value = float(pct/100.*all_revenue)\n",
        "    return \"{:.2f}%\\n({:,.0f} руб.)\".format(pct, value)\n",
        "\n",
        "explode = (0.05, 0)  # сектор 'ultra' немного выдвинем\n",
        "\n",
        "axes = df.groupby('Тариф')['Сумма за месяц, руб.'].sum().plot(kind='pie', subplots=True, fontsize=15,\n",
        "                                                                     use_index=False, shadow=True, explode=explode,\n",
        "                                                                     title = 'Выручка', pctdistance=0.45,\n",
        "                                                                     startangle=20, figsize=(20,5),\n",
        "                                                                     autopct=lambda pct: func_pct(pct))\n",
        "\n",
        "for ax in axes:\n",
        "    ax.legend(['Смарт', 'Ультра'], bbox_to_anchor=(0.87,0.87), framealpha=0.2, prop={'size':12})\n",
        "    ax.set_ylabel('')"
      ],
      "execution_count": 51,
      "outputs": [
        {
          "output_type": "display_data",
          "data": {
            "image/png": "[encoded data removed]",
            "text/plain": [
              "<Figure size 1440x360 with 1 Axes>"
            ]
          },
          "metadata": {}
        }
      ]
    },
    {
      "cell_type": "markdown",
      "metadata": {
        "id": "jIBS2ATynI64"
      },
      "source": [
        "58% выручки приносят клиенты, пользующиеся тарифом Смарт.\n",
        "Взяли количеством."
      ]
    },
    {
      "cell_type": "markdown",
      "metadata": {
        "id": "DfdFyiP5nI64"
      },
      "source": [
        "Сводная таблица по полученным о тарифах данным:\n",
        "\n",
        "<html>\n",
        "<body>\n",
        "<table border=\"1\" cellspacing=\"0\" cellpadding=\"0\">\n",
        "<tr>\n",
        "<td> &nbsp; </td>\n",
        "<td colspan=2 style=\"text-align:center;\"><b>Кол-во абонентов</b></td>\n",
        "<td colspan=2 style=\"text-align:center;\"><b>Звонки</b></td>\n",
        "<td colspan=2 style=\"text-align:center;\"><b>СМС</b></td>\n",
        "<td colspan=2 style=\"text-align:center;\"><b>Интернет</b></td>\n",
        "<td colspan=2 style=\"text-align:center;\"><b>Выручка</b></td>    \n",
        "</tr>\n",
        "<tr>\n",
        "<td style=\"background-color:#92c6ff; font-size: 12px;\"> <b>Тариф \"Смарт\" </b></td>\n",
        "<td style=\"color:#16B4DC; font-size: 15px;\" ><b>69,3 % </b></td>\n",
        "<td>2229 чел.</td>\n",
        "<td style=\"color:#16B4DC; font-size: 15px;\" ><b>64,2 % </b></td>\n",
        "<td>931 577 мин</td>\n",
        "<td style=\"color:#16B4DC; font-size: 15px;\" ><b>60,5 % </b></td>\n",
        "<td>74413 шт.</td>\n",
        "<td style=\"color:#16B4DC; font-size: 15px;\" ><b>65,3 % </b></td>\n",
        "<td>35 327 Гб</td>\n",
        "<td style=\"color:#16B4DC; font-size: 15px;\" ><b>58,6 % </b></td>\n",
        "<td>2,89 млн руб.</td>\n",
        "</tr>\n",
        "<tr>\n",
        "    <td style=\"background-color:#97F0AA; font-size: 12px;\"> <b>Тариф \"Ультра\"</b></td>\n",
        "<td>30,7 %</td>\n",
        "<td>985 чел. </td>\n",
        "<td>35,8 %  </td>\n",
        "<td>518 724 мин</td>\n",
        "<td>39,5 %  </td>\n",
        "<td>48623 шт.</td>\n",
        "<td>34,7 %  </td>\n",
        "<td>18 745 Гб</td>\n",
        "<td>41,4 % </td>\n",
        "<td>2,04 млн руб.</td>\n",
        "</tr>\n",
        "</table>\n",
        "</body>\n",
        "</html>"
      ]
    },
    {
      "cell_type": "markdown",
      "metadata": {
        "id": "VbgsDMhBnI65"
      },
      "source": [
        "Больше людей пользуются тарифом Смарт, больше трафика проходит через тариф Смарт, больше отправляется смс и больше совершается звонков, и, как следствие, большую часть выручки приносит тариф Смарт, даже несмотря на что, что абонентская плата по тарифу Ультра в 3 раза выше."
      ]
    },
    {
      "cell_type": "markdown",
      "metadata": {
        "id": "ji5_CyBZnI65"
      },
      "source": [
        "\n",
        "# Анализ поведения клиента\n"
      ]
    },
    {
      "cell_type": "markdown",
      "metadata": {
        "id": "YJ4Kk5tGnI65"
      },
      "source": [
        "Опишем поведение клиентов оператора, исходя из выборки. Сколько минут разговора, сколько сообщений и какой объём интернет-трафика требуется пользователям каждого тарифа в месяц? Посчитаем среднее количество, дисперсию и стандартное отклонение. Построим гистограммы. Опишем распределения."
      ]
    },
    {
      "cell_type": "markdown",
      "metadata": {
        "id": "1dPJB3PgnI65"
      },
      "source": [
        "Получаем информацию о выбросах по каждому из набора данных.\n",
        "Сначала построим boxplot'ы по всем рассматриваемым данным (длительность звонка, количество отправленных СМС, объем использованного интернет-трафика), чтобы зафиксировать выбросы и отфильтровать их при дальнейшем анализе. Сначала зададим нижнее и верхнее значения усов через 2 и 98 квантили и построим один boxplot, потом построим boxplot со стандартным межквартильным размахом, равным 1,5"
      ]
    },
    {
      "cell_type": "markdown",
      "metadata": {
        "id": "jaVaX5JrnI66"
      },
      "source": [
        "Напишем под это функцию"
      ]
    },
    {
      "cell_type": "code",
      "metadata": {
        "id": "W0ECAxeQnI66"
      },
      "source": [
        "def plot_box(whis):\n",
        "    column_list = ['Звонки, мин.', 'СМС, шт.', 'Интернет, Мб']\n",
        "    rows = 1\n",
        "    cols = 3\n",
        "    column_list_counter = 0\n",
        "\n",
        "    fig, axes = plt.subplots(rows, cols, figsize=(40,15))\n",
        "\n",
        "    for r in range(rows):\n",
        "        for c in range(cols):\n",
        "            ax = df.boxplot(column=column_list[column_list_counter], by='Тариф', fontsize=40, ax=axes[c],\n",
        "                                         boxprops=dict(linestyle='-', linewidth=5),\n",
        "                                         medianprops=dict(linestyle='-', linewidth=5),\n",
        "                                         whiskerprops=dict(linestyle='-', linewidth=5),\n",
        "                                         capprops=dict(linestyle='-', linewidth=5),\n",
        "                                         notch=True, whis=whis)\n",
        "            ax.set_title(column_list[column_list_counter])\n",
        "            ax.title.set_size(40)\n",
        "            ax.set_xlabel('')\n",
        "            plt.suptitle('Boxplot с whis = {}'.format(whis), y=1, fontsize=45, fontweight='bold')\n",
        "            column_list_counter += 1"
      ],
      "execution_count": 52,
      "outputs": []
    },
    {
      "cell_type": "markdown",
      "metadata": {
        "id": "hNufyrM4nI66"
      },
      "source": [
        "whis = [2,98]:"
      ]
    },
    {
      "cell_type": "code",
      "metadata": {
        "colab": {
          "base_uri": "https://localhost:8080/",
          "height": 999
        },
        "id": "4hoKEJ6rnI66",
        "outputId": "4b0324a1-35fe-47c8-9bd6-ec28ce5cc063"
      },
      "source": [
        "plot_box([2,98])"
      ],
      "execution_count": 53,
      "outputs": [
        {
          "output_type": "stream",
          "name": "stderr",
          "text": [
            "/usr/local/lib/python3.7/dist-packages/numpy/core/_asarray.py:83: VisibleDeprecationWarning:\n",
            "\n",
            "Creating an ndarray from ragged nested sequences (which is a list-or-tuple of lists-or-tuples-or ndarrays with different lengths or shapes) is deprecated. If you meant to do this, you must specify 'dtype=object' when creating the ndarray\n",
            "\n",
            "/usr/local/lib/python3.7/dist-packages/numpy/core/_asarray.py:83: VisibleDeprecationWarning:\n",
            "\n",
            "Creating an ndarray from ragged nested sequences (which is a list-or-tuple of lists-or-tuples-or ndarrays with different lengths or shapes) is deprecated. If you meant to do this, you must specify 'dtype=object' when creating the ndarray\n",
            "\n",
            "/usr/local/lib/python3.7/dist-packages/numpy/core/_asarray.py:83: VisibleDeprecationWarning:\n",
            "\n",
            "Creating an ndarray from ragged nested sequences (which is a list-or-tuple of lists-or-tuples-or ndarrays with different lengths or shapes) is deprecated. If you meant to do this, you must specify 'dtype=object' when creating the ndarray\n",
            "\n"
          ]
        },
        {
          "output_type": "display_data",
          "data": {
            "image/png": "[encoded data removed]",
            "text/plain": [
              "<Figure size 2880x1080 with 3 Axes>"
            ]
          },
          "metadata": {
            "needs_background": "light"
          }
        }
      ]
    },
    {
      "cell_type": "markdown",
      "metadata": {
        "id": "NClyFV72nI66"
      },
      "source": [
        "whis = 1,5:"
      ]
    },
    {
      "cell_type": "code",
      "metadata": {
        "colab": {
          "base_uri": "https://localhost:8080/",
          "height": 999
        },
        "id": "LA8y-zUpnI67",
        "outputId": "24f902cd-fbe6-4d15-ae99-e794f258c83a"
      },
      "source": [
        "plot_box(1.5)"
      ],
      "execution_count": 54,
      "outputs": [
        {
          "output_type": "stream",
          "name": "stderr",
          "text": [
            "/usr/local/lib/python3.7/dist-packages/numpy/core/_asarray.py:83: VisibleDeprecationWarning:\n",
            "\n",
            "Creating an ndarray from ragged nested sequences (which is a list-or-tuple of lists-or-tuples-or ndarrays with different lengths or shapes) is deprecated. If you meant to do this, you must specify 'dtype=object' when creating the ndarray\n",
            "\n",
            "/usr/local/lib/python3.7/dist-packages/numpy/core/_asarray.py:83: VisibleDeprecationWarning:\n",
            "\n",
            "Creating an ndarray from ragged nested sequences (which is a list-or-tuple of lists-or-tuples-or ndarrays with different lengths or shapes) is deprecated. If you meant to do this, you must specify 'dtype=object' when creating the ndarray\n",
            "\n",
            "/usr/local/lib/python3.7/dist-packages/numpy/core/_asarray.py:83: VisibleDeprecationWarning:\n",
            "\n",
            "Creating an ndarray from ragged nested sequences (which is a list-or-tuple of lists-or-tuples-or ndarrays with different lengths or shapes) is deprecated. If you meant to do this, you must specify 'dtype=object' when creating the ndarray\n",
            "\n"
          ]
        },
        {
          "output_type": "display_data",
          "data": {
            "image/png": "[encoded data removed]",
            "text/plain": [
              "<Figure size 2880x1080 with 3 Axes>"
            ]
          },
          "metadata": {
            "needs_background": "light"
          }
        }
      ]
    },
    {
      "cell_type": "markdown",
      "metadata": {
        "id": "5fV6u7C_nI67"
      },
      "source": [
        "При параметре whis = 1,5 аномалий отбрасывается меньше, другими словами, мы бережней фильтруем данные, чем при [2,98].\n",
        "В связи с этим, определим интервалы данных по boxplot'ам с whis = 1,5."
      ]
    },
    {
      "cell_type": "markdown",
      "metadata": {
        "id": "q6WneLyEnI67"
      },
      "source": [
        "#### Определение интервалов данных для последующей их фильтрации"
      ]
    },
    {
      "cell_type": "markdown",
      "metadata": {
        "id": "JAp-7JWTnI67"
      },
      "source": [
        "Для этого напишем функцию"
      ]
    },
    {
      "cell_type": "code",
      "metadata": {
        "id": "R6CsMSN6nI67"
      },
      "source": [
        "def get_intervals(column, data_filter):\n",
        "    \n",
        "    if data_filter == 'Тариф':\n",
        "        format_name = column\n",
        "        data1, data2 = 'smart', 'ultra'\n",
        "        format_end1 = 'тарифа \"Смарт\"'\n",
        "        format_end2 = 'тарифа \"Ультра\"'\n",
        "    elif data_filter == 'is_Moscow':\n",
        "        format_name = 'is_Moscow'\n",
        "        data1, data2 = 0, 1\n",
        "        format_end1 = 'для регионов'\n",
        "        format_end2 = 'для Москвы'\n",
        "    \n",
        "    q1_1 = df[df[data_filter] == data1][column].quantile(0.25)\n",
        "    q3_1 = df[df[data_filter] == data1][column].quantile(0.75)\n",
        "    diff_1 = q3_1 - q1_1\n",
        "    \n",
        "    if data_filter == 'is_Moscow':\n",
        "        left_int_1 = np.where( (q1_1 - 1.5 * diff_1) > 550, q1_1 - 1.5 * diff_1, 550)\n",
        "    else:\n",
        "        left_int_1 = np.where( (q1_1 - 1.5 * diff_1) > 0, q1_1 - 1.5 * diff_1, 0)\n",
        "    \n",
        "    right_int_1 = np.where( (q3_1 + 1.5 * diff_1) > 0, q3_1 + 1.5 * diff_1, 0)\n",
        "    \n",
        "    q1_2 = df[df[data_filter] == data2][column].quantile(0.25)\n",
        "    q3_2 = df[df[data_filter] == data2][column].quantile(0.75)\n",
        "    diff_2 = q3_2 - q1_2\n",
        "    \n",
        "    if data_filter == 'is_Moscow':\n",
        "        left_int_2 = np.where( (q1_2 - 1.5 * diff_2) > 550, q1_2 - 1.5 * diff_2, 550)\n",
        "    else:\n",
        "        left_int_2 = np.where( (q1_2 - 1.5 * diff_2) > 0, q1_2 - 1.5 * diff_2, 0)\n",
        "        \n",
        "    right_int_2 = np.where( (q3_2 + 1.5 * diff_2) > 0, q3_2 + 1.5 * diff_2, 0)\n",
        "    \n",
        "    print('Границы интервала для столбца \"{}\" {}: {} - {}'.format(column, format_end1, left_int_1, right_int_1))\n",
        "    print('Границы интервала для столбца \"{}\" {}: {} - {}'.format(column, format_end2, left_int_2, right_int_2))\n",
        "    \n",
        "    return (left_int_1, right_int_1), (left_int_2, right_int_2)"
      ],
      "execution_count": 55,
      "outputs": []
    },
    {
      "cell_type": "markdown",
      "metadata": {
        "id": "un8fTQtOnI68"
      },
      "source": [
        "#### Найдем границы интервала по длительности звонков"
      ]
    },
    {
      "cell_type": "code",
      "metadata": {
        "colab": {
          "base_uri": "https://localhost:8080/"
        },
        "id": "jsW3uyc-nI68",
        "outputId": "67fceee4-b44d-4bb0-e097-5e6e2e7ed866"
      },
      "source": [
        "calls_int_smart, calls_int_ultra = get_intervals('Звонки, мин.', 'Тариф')"
      ],
      "execution_count": 56,
      "outputs": [
        {
          "output_type": "stream",
          "name": "stdout",
          "text": [
            "Границы интервала для столбца \"Звонки, мин.\" тарифа \"Смарт\": 0.0 - 939.5\n",
            "Границы интервала для столбца \"Звонки, мин.\" тарифа \"Ультра\": 0.0 - 1454.0\n"
          ]
        }
      ]
    },
    {
      "cell_type": "markdown",
      "metadata": {
        "id": "X0RWacLCnI68"
      },
      "source": [
        "#### Найдем границы интервала по количеству отправленных СМС"
      ]
    },
    {
      "cell_type": "code",
      "metadata": {
        "colab": {
          "base_uri": "https://localhost:8080/"
        },
        "id": "i8CrUZOgnI68",
        "outputId": "26bbb93d-1d55-4c9e-9c5d-55799f1fface"
      },
      "source": [
        "sms_int_smart, sms_int_ultra = get_intervals('СМС, шт.', 'Тариф')"
      ],
      "execution_count": 57,
      "outputs": [
        {
          "output_type": "stream",
          "name": "stdout",
          "text": [
            "Границы интервала для столбца \"СМС, шт.\" тарифа \"Смарт\": 0.0 - 112.5\n",
            "Границы интервала для столбца \"СМС, шт.\" тарифа \"Ультра\": 0.0 - 188.5\n"
          ]
        }
      ]
    },
    {
      "cell_type": "markdown",
      "metadata": {
        "id": "gXpLd5WdnI69"
      },
      "source": [
        "#### Найдем границы интервала по количеству использованного трафика"
      ]
    },
    {
      "cell_type": "code",
      "metadata": {
        "colab": {
          "base_uri": "https://localhost:8080/"
        },
        "id": "d23GLcpenI69",
        "outputId": "e57bb0cf-4adc-4b81-c29c-ad6afd3d8ee6"
      },
      "source": [
        "internet_int_smart, internet_int_ultra = get_intervals('Интернет, Мб', 'Тариф')"
      ],
      "execution_count": 58,
      "outputs": [
        {
          "output_type": "stream",
          "name": "stdout",
          "text": [
            "Границы интервала для столбца \"Интернет, Мб\" тарифа \"Смарт\": 1543.0 - 31183.0\n",
            "Границы интервала для столбца \"Интернет, Мб\" тарифа \"Ультра\": 0.0 - 49480.0\n"
          ]
        }
      ]
    },
    {
      "cell_type": "markdown",
      "metadata": {
        "id": "vmSZcsWonI69"
      },
      "source": [
        "#### Построим гистограммы по тарифам по длительности звонков, по количеству отправленных смс, по количеству потраченного интернет-трафика. Помимо этого, выведем на расчетные данные по среднему, дисперсии и стандартному отклонению"
      ]
    },
    {
      "cell_type": "markdown",
      "metadata": {
        "id": "OdFDy9qCnI69"
      },
      "source": [
        "Напишем для этого функцию"
      ]
    },
    {
      "cell_type": "code",
      "metadata": {
        "id": "E0JfN5rHnI69"
      },
      "source": [
        "def plot_hist_comparison(data):\n",
        "    \n",
        "    ax = plt.gca()\n",
        "    func_dict = {'Звонки': 'Звонки, мин.', 'СМС': 'СМС, шт.', 'Интернет': 'Интернет, Мб'}\n",
        "    xlims = [(calls_int_smart[0], calls_int_smart[1]), (calls_int_ultra[0], calls_int_ultra[1]),\n",
        "             (sms_int_smart[0], sms_int_smart[1]), (sms_int_ultra[0], sms_int_ultra[1]),\n",
        "             (internet_int_smart[0], internet_int_smart[1]), (internet_int_ultra[0], internet_int_ultra[1])]\n",
        "    \n",
        "    filt_column = func_dict[data]\n",
        "\n",
        "    if data == 'Звонки':\n",
        "        title = 'Гистограмма длительности звонков, мин.'\n",
        "        xlim1 = xlims[0]\n",
        "        xlim2 = xlims[1]\n",
        "        text_x = (58, 8)\n",
        "        text_y = 118\n",
        "        count_text_x = 1150\n",
        "        count_text_y = 75\n",
        "        alpha = 0.8\n",
        "\n",
        "    elif data == 'СМС':\n",
        "        title = 'Гистограмма количества отправленных СМС, шт.'\n",
        "        xlim1 = xlims[2]\n",
        "        xlim2 = xlims[3]\n",
        "        text_x = (5.5, 1)\n",
        "        text_y = 200\n",
        "        count_text_x = 148\n",
        "        count_text_y = 230\n",
        "        alpha = 1\n",
        "\n",
        "    else:\n",
        "        title = 'Гистограмма количества использованного интернет-трафика, Мб'\n",
        "        xlim1 = xlims[4]\n",
        "        xlim2 = xlims[5]\n",
        "        text_x = (3300, 200)\n",
        "        text_y = 130\n",
        "        count_text_x = 38000\n",
        "        count_text_y = 82\n",
        "        alpha = 0.8\n",
        "\n",
        "    \n",
        "    # получаем отфильтрованные от выбросов датафреймы\n",
        "    filtered_smart_data = df[(df['Тариф'] == 'smart') &\n",
        "                                           (df[filt_column] >= xlim1[0]) &\n",
        "                                           (df[filt_column] <= xlim1[1])][filt_column]\n",
        "    filtered_ultra_data = df[(df['Тариф'] == 'ultra') &\n",
        "                                           (df[filt_column] >= xlim2[0]) &\n",
        "                                           (df[filt_column] <= xlim2[1])][filt_column]\n",
        "    # рисуем\n",
        "    filtered_smart_data.plot(kind='hist', bins=40, figsize=(12,6), ec='black', ax=ax, color='#92c6ff', \n",
        "                             title=title, xlim=xlim1)\n",
        "    filtered_ultra_data.plot(kind='hist', bins=70, figsize=(12,6), ec='black', ax=ax, color='#97F0AA', \n",
        "                             title=title, xlim=xlim2, alpha=alpha)\n",
        "    \n",
        "    # расчетные данные\n",
        "    mean_smart = filtered_smart_data.mean()\n",
        "    mean_ultra = filtered_ultra_data.mean()\n",
        "    dispersion_smart = filtered_smart_data.var()\n",
        "    dispersion_ultra = filtered_ultra_data.var()\n",
        "    std_smart = filtered_smart_data.std()\n",
        "    std_ultra = filtered_ultra_data.std()\n",
        "    \n",
        "    if data == 'СМС':\n",
        "        smart_data = 'Среднее - {:.2f}\\nДисперсия - {:.2f}\\nstd - {:.2f}'.format(mean_smart, dispersion_smart, std_smart)\n",
        "        ultra_data = 'Среднее - {:.2f}\\nДисперсия - {:.2f}\\nstd - {:.2f}'.format(mean_ultra, dispersion_ultra, std_ultra)\n",
        "    else:\n",
        "        smart_data = 'Среднее - {:.0f}\\nДисперсия - {:.0f}\\nstd - {:.0f}'.format(mean_smart, dispersion_smart, std_smart)\n",
        "        ultra_data = 'Среднее - {:.0f}\\nДисперсия - {:.0f}\\nstd - {:.0f}'.format(mean_ultra, dispersion_ultra, std_ultra)\n",
        "    \n",
        "    legend_second = plt.legend([smart_data, ultra_data], prop={'size':10.5}, \n",
        "                                framealpha=0, bbox_to_anchor=(1.0,0.32), loc=4)\n",
        "    \n",
        "    \n",
        "    plt.gca().add_artist(legend_second)\n",
        "    \n",
        "    # рисуем медианы\n",
        "    plt.axvline(x=filtered_smart_data.median(),linewidth=3, color='#16B4DC', linestyle='--')\n",
        "    ax.text(filtered_smart_data.median()-text_x[0], text_y, '{0:.0f}'.format(filtered_smart_data.median()), \n",
        "            fontweight='bold', fontsize='large')\n",
        "    plt.axvline(x=filtered_ultra_data.median(),linewidth=3, color='#35B815', linestyle='--')\n",
        "    ax.text(filtered_ultra_data.median()+text_x[1], text_y, '{0:.0f}'.format(filtered_ultra_data.median()), \n",
        "            fontweight='bold', fontsize='large')\n",
        "    \n",
        "    plt.legend(['Медиана Смарт', 'Медиана Ультра', 'Смарт', 'Ультра'], prop={'size':12})\n",
        "    ax.text(count_text_x, count_text_y, 'Расчетные данные', fontweight='bold', fontsize='large')\n",
        "    \n"
      ],
      "execution_count": 59,
      "outputs": []
    },
    {
      "cell_type": "markdown",
      "metadata": {
        "id": "tsVy6V06nI6-"
      },
      "source": [
        "Гистограмма длительности звонков\n"
      ]
    },
    {
      "cell_type": "code",
      "metadata": {
        "colab": {
          "base_uri": "https://localhost:8080/",
          "height": 390
        },
        "id": "3fEo0w80nI6-",
        "outputId": "fe948308-fa6b-461c-c991-ee806efc2d10"
      },
      "source": [
        "plot_hist_comparison('Звонки')"
      ],
      "execution_count": 60,
      "outputs": [
        {
          "output_type": "display_data",
          "data": {
            "image/png": "[encoded data removed]",
            "text/plain": [
              "<Figure size 864x432 with 1 Axes>"
            ]
          },
          "metadata": {
            "needs_background": "light"
          }
        }
      ]
    },
    {
      "cell_type": "markdown",
      "metadata": {
        "id": "itAMgqb1nI6-"
      },
      "source": [
        "В основном, на тарифе Смарт люди разговаривают в месяц в течение 250-550 минут. Причем медиана равна 421 минуте, когда лимит общения по тарифу за абонентскую плату - 500 минут, т.е. пользователи регулярно выбирают почти полный лимит голосовой связи.\n",
        "С тарифом Ультра немного иная ситуация - большая часть пользователей вообще не разговаривает голосом. Из тех, кто разговаривает, в среднем наговаривают 518 минут.\n",
        "По итогу, медиана тарифа Ультра больше, чем медиана Смарт."
      ]
    },
    {
      "cell_type": "markdown",
      "metadata": {
        "id": "81Gign1SnI6-"
      },
      "source": [
        "Гистограмма количества отправленных СМС"
      ]
    },
    {
      "cell_type": "code",
      "metadata": {
        "colab": {
          "base_uri": "https://localhost:8080/",
          "height": 390
        },
        "id": "b2mJMDvanI6_",
        "outputId": "c15eb950-2c9d-4751-81aa-5fc2942c49f7"
      },
      "source": [
        "plot_hist_comparison('СМС')"
      ],
      "execution_count": 61,
      "outputs": [
        {
          "output_type": "display_data",
          "data": {
            "image/png": "[encoded data removed]",
            "text/plain": [
              "<Figure size 864x432 with 1 Axes>"
            ]
          },
          "metadata": {
            "needs_background": "light"
          }
        }
      ]
    },
    {
      "cell_type": "markdown",
      "metadata": {
        "id": "9KW8tUOOnI7A"
      },
      "source": [
        "По обоим тарифам ситуация схожая - большая часть пользователей не отправляет СМС сообщения.\n",
        "Однако, из тех, кто отправляет, большую активность проявляют пользователи тарифа Смарт - в среднем они отправляют до 30 СМС в месяц. Пользователи тарифа Смартотправляют до 50 СМС."
      ]
    },
    {
      "cell_type": "markdown",
      "metadata": {
        "id": "Pkeh2yg6nI7A"
      },
      "source": [
        "Гистограмма использованного интернет-трафику\n"
      ]
    },
    {
      "cell_type": "code",
      "metadata": {
        "colab": {
          "base_uri": "https://localhost:8080/",
          "height": 390
        },
        "id": "cM4mTx1KnI7A",
        "outputId": "c2d7b908-ed15-4f0b-d4ca-237de6f844a7"
      },
      "source": [
        "plot_hist_comparison('Интернет')"
      ],
      "execution_count": 62,
      "outputs": [
        {
          "output_type": "display_data",
          "data": {
            "image/png": "[encoded data removed]",
            "text/plain": [
              "<Figure size 864x432 with 1 Axes>"
            ]
          },
          "metadata": {
            "needs_background": "light"
          }
        }
      ]
    },
    {
      "cell_type": "markdown",
      "metadata": {
        "id": "wqZ_FLeEnI7A"
      },
      "source": [
        "Клиенты с тарифом Смарт в среднем в месяц используют от 14 до 20 Гб трафика. Причем медиана равна 16,5 Гб, что \"вылезает\" за пределы, установленные абонентской платой - в 15 Гб. Фактически, клиенты тарифа Смарт регулярно заказывают доп. пакеты с интернетом, когда основной пакет заканчивается.\n",
        "Клиенты с тарифом Ультра активней пользуются интернетом - медиана равна 19 Гб, но учитывая лимит в 30 Гб, у них есть ещё большой запас по количеству оставшегося для использования трафика."
      ]
    },
    {
      "cell_type": "markdown",
      "metadata": {
        "id": "X0XHGZGrnI7A"
      },
      "source": [
        "\n",
        "# Проверка гипотез\n"
      ]
    },
    {
      "cell_type": "markdown",
      "metadata": {
        "id": "z2A4P0jznI7B"
      },
      "source": [
        "\n",
        "#### Первая гипотеза о равенстве средних двух генеральных совокупностей\n",
        "средняя выручка пользователей тарифов Ультра и Смарт различается."
      ]
    },
    {
      "cell_type": "markdown",
      "metadata": {
        "id": "bywJKQvqnI7B"
      },
      "source": [
        "H0 (нулевая гипотеза)- предположение о том, что между данными у нас нет связи. В данном случае, что средняя выручка пользователей тарифа Смарт не отличаетсяот средней выручки пользователей тарифа Ультра. H1 (альтернативная гипотеза) - средняя выручка пользователей тарифа Смарт отличается от средней выручки пользователей тарифа Ультра."
      ]
    },
    {
      "cell_type": "markdown",
      "metadata": {
        "id": "P3e_PwNenI7B"
      },
      "source": [
        "Формирование выборок без аномалий\n"
      ]
    },
    {
      "cell_type": "markdown",
      "metadata": {
        "id": "zxmbrkGUnI7B"
      },
      "source": [
        "Посмотрим на выбросы"
      ]
    },
    {
      "cell_type": "code",
      "metadata": {
        "colab": {
          "base_uri": "https://localhost:8080/",
          "height": 529
        },
        "id": "KGck-r0-nI7B",
        "outputId": "d037d0fe-d53d-4c0f-b510-92db7ade5dc9"
      },
      "source": [
        "ax = df.boxplot(column='Сумма за месяц, руб.', by='Тариф', fontsize=12,\n",
        "                                         boxprops=dict(linestyle='-', linewidth=5),\n",
        "                                         medianprops=dict(linestyle='-', linewidth=5),\n",
        "                                         whiskerprops=dict(linestyle='-', linewidth=5),\n",
        "                                         capprops=dict(linestyle='-', linewidth=5),\n",
        "                                         notch=True, figsize=(8,7))\n",
        "ax.set_title('')\n",
        "ax.title.set_size(40)\n",
        "ax.set_xlabel('')\n",
        "plt.suptitle('Boxplot по выручке с whis = 1,5', y=0.93, fontsize=16, fontweight='bold')"
      ],
      "execution_count": 63,
      "outputs": [
        {
          "output_type": "stream",
          "name": "stderr",
          "text": [
            "/usr/local/lib/python3.7/dist-packages/numpy/core/_asarray.py:83: VisibleDeprecationWarning:\n",
            "\n",
            "Creating an ndarray from ragged nested sequences (which is a list-or-tuple of lists-or-tuples-or ndarrays with different lengths or shapes) is deprecated. If you meant to do this, you must specify 'dtype=object' when creating the ndarray\n",
            "\n"
          ]
        },
        {
          "output_type": "execute_result",
          "data": {
            "text/plain": [
              "Text(0.5, 0.93, 'Boxplot по выручке с whis = 1,5')"
            ]
          },
          "metadata": {},
          "execution_count": 63
        },
        {
          "output_type": "display_data",
          "data": {
            "image/png": "[encoded data removed]",
            "text/plain": [
              "<Figure size 576x504 with 1 Axes>"
            ]
          },
          "metadata": {
            "needs_background": "light"
          }
        }
      ]
    },
    {
      "cell_type": "markdown",
      "metadata": {
        "id": "5XJcMn25nI7C"
      },
      "source": [
        "Посчитаем границы интервалов"
      ]
    },
    {
      "cell_type": "code",
      "metadata": {
        "colab": {
          "base_uri": "https://localhost:8080/"
        },
        "id": "4gO8q2ovnI7C",
        "outputId": "f7b37940-ea9b-47bc-957a-69c05e307d0e"
      },
      "source": [
        "revenue_int_smart, revenue_int_ultra = get_intervals('Сумма за месяц, руб.', 'Тариф')"
      ],
      "execution_count": 64,
      "outputs": [
        {
          "output_type": "stream",
          "name": "stdout",
          "text": [
            "Границы интервала для столбца \"Сумма за месяц, руб.\" тарифа \"Смарт\": 0.0 - 3550.0\n",
            "Границы интервала для столбца \"Сумма за месяц, руб.\" тарифа \"Ультра\": 1950.0 - 1950.0\n"
          ]
        }
      ]
    },
    {
      "cell_type": "markdown",
      "metadata": {
        "id": "NbFEVu8AnI7C"
      },
      "source": [
        "Выберем нужные нам данные - среднюю месячную выручку по тарифам Смарт и Ультра"
      ]
    },
    {
      "cell_type": "code",
      "metadata": {
        "id": "N6mw11y4nI7C"
      },
      "source": [
        "smart_mean_revenue = df[(df['Тариф'] == 'smart') &\n",
        "                                      (df['Сумма за месяц, руб.'] >= revenue_int_smart[0]) &\n",
        "                                      (df['Сумма за месяц, руб.'] <= revenue_int_smart[1])]['Сумма за месяц, руб.']\n",
        "\n",
        "ultra_mean_revenue = df[(df['Тариф'] == 'ultra') &\n",
        "                                      (df['Сумма за месяц, руб.'] >= revenue_int_ultra[0]) &\n",
        "                                      (df['Сумма за месяц, руб.'] <= revenue_int_ultra[1])]['Сумма за месяц, руб.']"
      ],
      "execution_count": 65,
      "outputs": []
    },
    {
      "cell_type": "markdown",
      "metadata": {
        "id": "ml89_oWBnI7D"
      },
      "source": [
        "Расчет p-value:\n",
        "\n",
        "Т.к. выборки у нас независимые, воспользуемся функцией ttest_indиз модуля scipy.stats"
      ]
    },
    {
      "cell_type": "code",
      "metadata": {
        "id": "zwAA9x4LnI7D"
      },
      "source": [
        "from scipy.stats import ttest_ind"
      ],
      "execution_count": 66,
      "outputs": []
    },
    {
      "cell_type": "code",
      "metadata": {
        "colab": {
          "base_uri": "https://localhost:8080/"
        },
        "id": "8brfVH-7nI7D",
        "scrolled": true,
        "outputId": "be3aacf5-49ba-4b6f-f450-1227ba8b421e"
      },
      "source": [
        "stat, p = ttest_ind(smart_mean_revenue, ultra_mean_revenue)\n",
        "print('t = {}\\np-value = {:.10e}'.format(stat, p))\n",
        "print('\\nПороговое значение alpha = 0.05')"
      ],
      "execution_count": 67,
      "outputs": [
        {
          "output_type": "stream",
          "name": "stdout",
          "text": [
            "t = -27.932596508963062\n",
            "p-value = 4.6244593529e-153\n",
            "\n",
            "Пороговое значение alpha = 0.05\n"
          ]
        }
      ]
    },
    {
      "cell_type": "markdown",
      "metadata": {
        "id": "DZS2KDVMnI7D"
      },
      "source": [
        "**Вывод**\n",
        "\n",
        "Нулевую гипотезу отвергаем. Верно утверждение, что средняя выручка пользователей тарифов Смарт и Ультра различается.\n",
        "Посмотрим, в чью пользу"
      ]
    },
    {
      "cell_type": "code",
      "metadata": {
        "colab": {
          "base_uri": "https://localhost:8080/"
        },
        "id": "DPCXY4sqnI7E",
        "outputId": "8c48f2f7-f1a1-42b6-ed9d-7ce2a3cbdfc9"
      },
      "source": [
        "print('Средняя выручка по пользователям тарифа \"Смарт\" - {:.2f}'.format(smart_mean_revenue.mean()))\n",
        "print('Средняя выручка по пользователям тарифа \"Ультра\" - {}'.format(ultra_mean_revenue.mean()))"
      ],
      "execution_count": 68,
      "outputs": [
        {
          "output_type": "stream",
          "name": "stdout",
          "text": [
            "Средняя выручка по пользователям тарифа \"Смарт\" - 1249.74\n",
            "Средняя выручка по пользователям тарифа \"Ультра\" - 1950.0\n"
          ]
        }
      ]
    },
    {
      "cell_type": "markdown",
      "metadata": {
        "id": "_ZzL8aXYnI7E"
      },
      "source": [
        "Ожидаемо, что пользователи тарифа \"Ультра\" в среднем приносят больше денег, т.к. их абонентская плата в 3,5 раза выше, чем абонентская плата пользующихся тарифом Смарт (1950р. против 550р.). Клиенты с тарифом Смарт, конечно, довольно часто (в 75% случаев) \"вылезают\" за пределы своего тарифа и заказывают доп. услуги, но всё равно не догоняют по тратам на пользователя клиентов с тарифом Ультра.\n"
      ]
    },
    {
      "cell_type": "markdown",
      "metadata": {
        "id": "qPqjvLw0nI7E"
      },
      "source": [
        "#### Вторая гипотеза о равенстве средних двух генеральных совокупностей\n",
        "\n",
        "(средняя выручка пользователей из Москвы отличается от выручки пользователей из других регионов)"
      ]
    },
    {
      "cell_type": "markdown",
      "metadata": {
        "id": "jiG8JtXCnI7E"
      },
      "source": [
        "Выберем нужные нам данные - среднюю месячную выручку по Москве и по остальным регионам"
      ]
    },
    {
      "cell_type": "markdown",
      "metadata": {
        "id": "uuMpeS2BnI7E"
      },
      "source": [
        "Проставим признак по каждой строке - Москва или регион"
      ]
    },
    {
      "cell_type": "code",
      "metadata": {
        "id": "cxwBkroinI7F"
      },
      "source": [
        "df['is_Moscow'] = np.where(df['Город'] == 'Москва', 1, 0)"
      ],
      "execution_count": 69,
      "outputs": []
    },
    {
      "cell_type": "markdown",
      "metadata": {
        "id": "NzL6VVCdnI7F"
      },
      "source": [
        "Построим boxplot'ы для вычисления выбросов"
      ]
    },
    {
      "cell_type": "code",
      "metadata": {
        "colab": {
          "base_uri": "https://localhost:8080/",
          "height": 522
        },
        "id": "oq59mqBYnI7F",
        "outputId": "69f66383-a05a-4be8-d010-d53e790c0600"
      },
      "source": [
        "ax = df.boxplot(column='Сумма за месяц, руб.', by='is_Moscow', fontsize=12,\n",
        "                                         boxprops=dict(linestyle='-', linewidth=5),\n",
        "                                         medianprops=dict(linestyle='-', linewidth=5),\n",
        "                                         whiskerprops=dict(linestyle='-', linewidth=5),\n",
        "                                         capprops=dict(linestyle='-', linewidth=5),\n",
        "                                         notch=True, figsize=(8,7))\n",
        "\n",
        "\n",
        "\n",
        "labels = [item.get_text() for item in ax.get_xticklabels()]\n",
        "\n",
        "labels[0] = 'Регионы'\n",
        "labels[1] = 'Москва'\n",
        "\n",
        "ax.set_xticklabels(labels)\n",
        "\n",
        "plt.suptitle('Boxplot по выручке в Москве и регионах с whis = 1,5', y=0.95, fontsize=16, fontweight='bold')\n",
        "\n",
        "ax.set_xlabel('')\n",
        "ax.set_title('')\n",
        "ax.title.set_size(40)"
      ],
      "execution_count": 70,
      "outputs": [
        {
          "output_type": "stream",
          "name": "stderr",
          "text": [
            "/usr/local/lib/python3.7/dist-packages/numpy/core/_asarray.py:83: VisibleDeprecationWarning:\n",
            "\n",
            "Creating an ndarray from ragged nested sequences (which is a list-or-tuple of lists-or-tuples-or ndarrays with different lengths or shapes) is deprecated. If you meant to do this, you must specify 'dtype=object' when creating the ndarray\n",
            "\n"
          ]
        },
        {
          "output_type": "display_data",
          "data": {
            "image/png": "[encoded data removed]",
            "text/plain": [
              "<Figure size 576x504 with 1 Axes>"
            ]
          },
          "metadata": {
            "needs_background": "light"
          }
        }
      ]
    },
    {
      "cell_type": "markdown",
      "metadata": {
        "id": "RjMzzd8qnI7F"
      },
      "source": [
        "Рассчитаем границы интервалов"
      ]
    },
    {
      "cell_type": "code",
      "metadata": {
        "colab": {
          "base_uri": "https://localhost:8080/"
        },
        "id": "awQbQiuHnI7G",
        "outputId": "0b0e8040-b113-44b0-da45-065b881bae80"
      },
      "source": [
        "revenue_int_smart, revenue_int_ultra = get_intervals('Сумма за месяц, руб.', 'is_Moscow')"
      ],
      "execution_count": 71,
      "outputs": [
        {
          "output_type": "stream",
          "name": "stdout",
          "text": [
            "Границы интервала для столбца \"Сумма за месяц, руб.\" для регионов: 550.0 - 3750.0\n",
            "Границы интервала для столбца \"Сумма за месяц, руб.\" для Москвы: 550.0 - 3678.0\n"
          ]
        }
      ]
    },
    {
      "cell_type": "markdown",
      "metadata": {
        "id": "LoxO6hDlnI7G"
      },
      "source": [
        "Выберем нужные данные - выручку по Москве и по регионам - и произведем расчеты."
      ]
    },
    {
      "cell_type": "code",
      "metadata": {
        "id": "Z-9U7X6LnI7G"
      },
      "source": [
        "moscow_revenue = df[(df['Город'] == 'Москва') &\n",
        "                                  (df['Сумма за месяц, руб.'] >= revenue_int_smart[0]) &\n",
        "                                  (df['Сумма за месяц, руб.'] <= revenue_int_smart[1])]['Сумма за месяц, руб.']\n",
        "\n",
        "regions_revenue = df[(df['Город'] != 'Москва') &\n",
        "                                  (df['Сумма за месяц, руб.'] >= revenue_int_ultra[0]) &\n",
        "                                  (df['Сумма за месяц, руб.'] <= revenue_int_ultra[1])]['Сумма за месяц, руб.']"
      ],
      "execution_count": 72,
      "outputs": []
    },
    {
      "cell_type": "markdown",
      "metadata": {
        "id": "zrCAZLCYnI7G"
      },
      "source": [
        "Расчет p-value\n",
        "\n",
        "Т.к. выборки у нас независимые, воспользуемся функцией ttest_ind из модуля scipy.stats."
      ]
    },
    {
      "cell_type": "code",
      "metadata": {
        "colab": {
          "base_uri": "https://localhost:8080/"
        },
        "id": "lVjr4UM-nI7G",
        "outputId": "a93d573e-52bd-4f52-d550-12736660df34"
      },
      "source": [
        "stat, p = ttest_ind(moscow_revenue, regions_revenue)\n",
        "print('t = {}\\np-value = {:.2}'.format(stat, p))\n",
        "print('\\nПороговое значение alpha = 0.05')"
      ],
      "execution_count": 73,
      "outputs": [
        {
          "output_type": "stream",
          "name": "stdout",
          "text": [
            "t = 1.49291699198228\n",
            "p-value = 0.14\n",
            "\n",
            "Пороговое значение alpha = 0.05\n"
          ]
        }
      ]
    },
    {
      "cell_type": "markdown",
      "metadata": {
        "id": "T4befS13nI7H"
      },
      "source": [
        "**Вывод**\n",
        "\n",
        "Нулевую гипотезу отвергнуть не получается. Таким образом, верно утверждение, что средняя выручка пользователей из Москвы не отличается от выручки пользователей из других регионов.\n",
        "\n",
        "Ради интереса посмотрим на выручку по Москве и по регионам:"
      ]
    },
    {
      "cell_type": "code",
      "metadata": {
        "colab": {
          "base_uri": "https://localhost:8080/"
        },
        "id": "27tlHrlwnI7H",
        "outputId": "b86bf9ab-d341-40f8-e256-46e5d22c5555"
      },
      "source": [
        "print('Средняя выручка по пользователю в месяц в Москве: {:.2f}'.format(moscow_revenue.mean()))\n",
        "print('Средняя выручка по пользователю в месяц в регионах: {:.2f}'.format(regions_revenue.mean()))"
      ],
      "execution_count": 74,
      "outputs": [
        {
          "output_type": "stream",
          "name": "stdout",
          "text": [
            "Средняя выручка по пользователю в месяц в Москве: 1532.38\n",
            "Средняя выручка по пользователю в месяц в регионах: 1483.28\n"
          ]
        }
      ]
    },
    {
      "cell_type": "markdown",
      "metadata": {
        "id": "JguF8NtEnI7H"
      },
      "source": [
        "В Москве в среднем платят на 50р. больше, чем в регионах. И правда, было бы странно, если бы эта разница оказалась статистически значимой."
      ]
    },
    {
      "cell_type": "markdown",
      "metadata": {
        "id": "yc1HXQq-nI7H"
      },
      "source": [
        "\n",
        "# Результаты анализа\n"
      ]
    },
    {
      "cell_type": "markdown",
      "metadata": {
        "id": "1MzlOxGZnI7I"
      },
      "source": [
        "Cоберем общие данные по тарифам по части использования включенных в абонентскую плату лимитов и по части дозаказываемых (пакетов) услуг:"
      ]
    },
    {
      "cell_type": "code",
      "metadata": {
        "colab": {
          "base_uri": "https://localhost:8080/"
        },
        "id": "b60pgoMnnI7I",
        "outputId": "b2219200-01ea-49a5-b5bf-0d03f402c191"
      },
      "source": [
        "smart_mean_internet = (df[(df['Тариф'] == 'smart')]['Интернет, Мб']/(1024 * 15)).mean()\n",
        "print('Средний процент использования пакета интернет-трафика по тарифу \"Смарт\" - {:.2%} = {:,.0f} Гб'.\n",
        "      format(smart_mean_internet, smart_mean_internet * 1024 * 15))\n",
        "smart_mean_calls = (df[(df['Тариф'] == 'smart')]['Звонки, мин.']/(500)).mean()\n",
        "print('Средний процент использования пакета минут по тарифу \"Смарт\" - {:.2%} = {:.2f} мин'.\n",
        "      format(smart_mean_calls, smart_mean_calls * 500))\n",
        "smart_mean_sms = (df[(df['Тариф'] == 'smart')]['СМС, шт.']/(50)).mean()\n",
        "print('Средний процент использования пакета СМС по тарифу \"Смарт\" - {:.2%} = {:.0f} шт.'.\n",
        "      format(smart_mean_sms, smart_mean_sms * 50))\n",
        "print('---------------------------------------------------------------------------------')\n",
        "ultra_mean_internet = (df[(df['Тариф'] == 'ultra')]['Интернет, Мб']/(1024 * 30)).mean()\n",
        "print('Средний процент использования пакета интернет-трафика по тарифу \"Ультра\" - {:.2%} = {:,.0f} Гб'.\n",
        "      format(ultra_mean_internet, ultra_mean_internet * 1024 * 30))\n",
        "ultra_mean_calls = (df[(df['Тариф'] == 'ultra')]['Звонки, мин.']/(3000)).mean()\n",
        "print('Средний процент использования пакета минут по тарифу \"Ультра\" - {:.2%} = {:.2f} мин'.\n",
        "      format(ultra_mean_calls, ultra_mean_calls * 3000))\n",
        "ultra_mean_sms = (df[(df['Тариф'] == 'ultra')]['СМС, шт.']/(1000)).mean()\n",
        "print('Средний процент использования пакета СМС по тарифу \"Ультра\" - {:.2%} = {:.0f} шт.'.\n",
        "      format(ultra_mean_sms, ultra_mean_sms * 1000))"
      ],
      "execution_count": 75,
      "outputs": [
        {
          "output_type": "stream",
          "name": "stdout",
          "text": [
            "Средний процент использования пакета интернет-трафика по тарифу \"Смарт\" - 105.66% = 16,229 Гб\n",
            "Средний процент использования пакета минут по тарифу \"Смарт\" - 83.59% = 417.93 мин\n",
            "Средний процент использования пакета СМС по тарифу \"Смарт\" - 66.77% = 33 шт.\n",
            "---------------------------------------------------------------------------------\n",
            "Средний процент использования пакета интернет-трафика по тарифу \"Ультра\" - 63.43% = 19,487 Гб\n",
            "Средний процент использования пакета минут по тарифу \"Ультра\" - 17.55% = 526.62 мин\n",
            "Средний процент использования пакета СМС по тарифу \"Ультра\" - 4.94% = 49 шт.\n"
          ]
        }
      ]
    },
    {
      "cell_type": "markdown",
      "metadata": {
        "id": "G6cPMOwfnI7I"
      },
      "source": [
        "<br/>\n",
        "<html>\n",
        "<body>\n",
        "<table border=\"1\" cellspacing=\"0\" cellpadding=\"0\">\n",
        "<tr>\n",
        "<td> &nbsp; </td>\n",
        "<td colspan=3 style=\"text-align:center;\"><b>Средний % использования пакета интернет</b></td>\n",
        "<td colspan=3 style=\"text-align:center;\"><b>Средний % использования пакета минут</b></td>\n",
        "<td colspan=3 style=\"text-align:center;\"><b>Средний % использования пакета СМС</b></td>  \n",
        "</tr>\n",
        "<tr>\n",
        "<td style=\"background-color:#92c6ff; font-size: 12px;\"> <b>Тариф \"Смарт\" </b></td>\n",
        "<td> Лимит по тарифу - 15 Гб </td>\n",
        "<td style=\"color:#F1160F; font-size: 15px;\" ><b>105,7 % </b></td>\n",
        "<td style=\"color:#F1160F; font-size: 15px;\" ><b>16,3 Гб</b></td>\n",
        "<td> Лимит по тарифу - 500 мин </td>\n",
        "<td style=\"color:#ff5050; font-size: 15px;\" ><b>83,6 % </b></td>\n",
        "<td style=\"color:#ff5050; font-size: 15px;\" ><b>418 мин</b></td>\n",
        "<td> Лимит по тарифу - 50 шт. </td>\n",
        "<td>66,8 %</td>\n",
        "<td>33 шт.</td>\n",
        "<td> &nbsp; </td>\n",
        "</tr>\n",
        "<tr>\n",
        "<td style=\"background-color:#97F0AA; font-size: 12px;\"> <b>Тариф \"Ультра\"</b></td>\n",
        "<td> Лимит по тарифу - 30 Гб </td>\n",
        "<td>63,4 %</td>\n",
        "<td>19,5 Гб</td>\n",
        "<td> Лимит по тарифу - 3000 мин </td>\n",
        "<td style=\"color:#3F8DEE; font-size: 15px;\" ><b>17,6 %</b></td>\n",
        "<td style=\"color:#3F8DEE; font-size: 15px;\" ><b>526 мин</b></td>\n",
        "<td> Лимит по тарифу - 1000 шт. </td>\n",
        "<td style=\"color:#0F74F1; font-size: 15px;\" ><b>4,9 %</b></td>\n",
        "<td style=\"color:#0F74F1; font-size: 15px;\" ><b>49 шт.</b></td>\n",
        "</tr>\n",
        "</table>\n",
        "</body>\n",
        "</html>"
      ]
    },
    {
      "cell_type": "markdown",
      "metadata": {
        "id": "Wk2bin06nI7J"
      },
      "source": [
        "\n",
        "Информация по самим переплатам:"
      ]
    },
    {
      "cell_type": "code",
      "metadata": {
        "colab": {
          "base_uri": "https://localhost:8080/"
        },
        "id": "u6SVePbznI7J",
        "outputId": "63d9edf4-a9d4-4715-e2cb-bcb9c352efb7"
      },
      "source": [
        "smart_over_mean_internet = df[(df['Тариф'] == 'smart')]['Мб сверх'].mean()\n",
        "smart_over_mean_internet_rub = np.round(smart_over_mean_internet, -3)/1000 * 200\n",
        "print('Среднее превышение пакета интернет по тарифу \"Смарт\" - {:.0f} Мб на сумму - {:.0f} руб.'.\n",
        "      format(smart_over_mean_internet, smart_over_mean_internet_rub))\n",
        "\n",
        "smart_over_mean_calls = np.ceil(df[(df['Тариф'] == 'smart')]['Минуты сверх'].mean())\n",
        "smart_over_mean_calls_rub = smart_over_mean_calls * 3\n",
        "print('Среднее превышение пакета минут по тарифу \"Смарт\" - {:.0f} мин на сумму - {:.0f} руб.'.\n",
        "      format(smart_over_mean_calls, smart_over_mean_calls_rub))\n",
        "\n",
        "smart_over_mean_sms = np.ceil(df[(df['Тариф'] == 'smart')]['СМС сверх'].mean())\n",
        "smart_over_mean_sms_rub = smart_over_mean_sms * 3\n",
        "print('Среднее превышение пакета СМС по тарифу \"Смарт\" - {:.0f} шт. на сумму - {:.0f} руб.'.\n",
        "      format(smart_over_mean_sms, smart_over_mean_sms_rub))\n",
        "\n",
        "print('----------------------------------------------------------------')\n",
        "\n",
        "ultra_over_mean_internet = df[(df['Тариф'] == 'ultra')]['Мб сверх'].mean()\n",
        "ultra_over_mean_internet_rub = np.round(ultra_over_mean_internet, -3)/1000 * 150\n",
        "print('Среднее превышение пакета интернет по тарифу \"Ультра\" - {:.0f} Мб на сумму - {:.0f} руб.'.\n",
        "      format(ultra_over_mean_internet, ultra_over_mean_internet_rub))\n",
        "\n",
        "ultra_over_mean_calls = np.ceil(df[(df['Тариф'] == 'ultra')]['Минуты сверх'].mean())\n",
        "ultra_over_mean_calls_rub = ultra_over_mean_calls * 3\n",
        "print('Среднее превышение пакета минут по тарифу \"Ультра\" - {:.0f} мин на сумму - {:.0f} руб.'.\n",
        "      format(ultra_over_mean_calls, ultra_over_mean_calls_rub))\n",
        "\n",
        "ultra_over_mean_sms = np.ceil(df[(df['Тариф'] == 'ultra')]['СМС сверх'].mean())\n",
        "ultra_over_mean_sms_rub = ultra_over_mean_sms * 3\n",
        "print('Среднее превышение пакета СМС по тарифу \"Ультра\" - {:.0f} шт. на сумму - {:.0f} руб.'.\n",
        "      format(ultra_over_mean_sms, ultra_over_mean_sms_rub))"
      ],
      "execution_count": 76,
      "outputs": [
        {
          "output_type": "stream",
          "name": "stdout",
          "text": [
            "Среднее превышение пакета интернет по тарифу \"Смарт\" - 2771 Мб на сумму - 600 руб.\n",
            "Среднее превышение пакета минут по тарифу \"Смарт\" - 42 мин на сумму - 126 руб.\n",
            "Среднее превышение пакета СМС по тарифу \"Смарт\" - 6 шт. на сумму - 18 руб.\n",
            "----------------------------------------------------------------\n",
            "Среднее превышение пакета интернет по тарифу \"Ультра\" - 755 Мб на сумму - 150 руб.\n",
            "Среднее превышение пакета минут по тарифу \"Ультра\" - 0 мин на сумму - 0 руб.\n",
            "Среднее превышение пакета СМС по тарифу \"Ультра\" - 0 шт. на сумму - 0 руб.\n"
          ]
        }
      ]
    },
    {
      "cell_type": "markdown",
      "metadata": {
        "id": "hF6wChvfnI7J"
      },
      "source": [
        "<br/>\n",
        "<html>\n",
        "<body>\n",
        "<table border=\"1\">\n",
        "<tr>\n",
        "<td> &nbsp; </td>\n",
        "<td colspan=2 style=\"text-align:center;\"><strong style=\"font-size:11px;\"><b>Среднее превышение пакета интернет и переплата</b></strong></td>\n",
        "<td colspan=2 style=\"text-align:center;\"><strong style=\"font-size:11px;\"><b>Среднее превышение пакета минут и переплата</b></strong></td>\n",
        "<td colspan=2 style=\"text-align:center;\"><strong style=\"font-size:11px;\"><b>Среднее превышение пакета минут пакета СМС и переплата</b></strong></td>  \n",
        "</tr>\n",
        "<tr>\n",
        "<td style=\"background-color:#92c6ff; font-size: 12px;\"> <b>Тариф \"Смарт\" </b></td>\n",
        "<td>2771 Мб</td>\n",
        "<td>600 руб.</td>\n",
        "<td>42 мин</td>\n",
        "<td>126 руб.</td>\n",
        "<td>6 шт.</td>\n",
        "<td>18 руб.</td>\n",
        "</tr>\n",
        "<tr>\n",
        "<td style=\"background-color:#97F0AA; font-size: 11px;\"> <b>Тариф \"Ультра\"</b></td>\n",
        "<td>755 Мб</td>\n",
        "<td>150 руб.</td>\n",
        "<td>0</td>\n",
        "<td>0</td>\n",
        "<td>0</td>\n",
        "<td>0</td>\n",
        "</tr>\n",
        "</table>\n",
        "</body>\n",
        "</html>"
      ]
    },
    {
      "cell_type": "markdown",
      "metadata": {
        "id": "YPFhrTyRnI7J"
      },
      "source": [
        "И ещё раз выведем информацию по выручке:"
      ]
    },
    {
      "cell_type": "code",
      "metadata": {
        "colab": {
          "base_uri": "https://localhost:8080/",
          "height": 391
        },
        "id": "Lt6GONt1nI7K",
        "outputId": "412bc2a4-cc3b-4567-fc5b-efb647657d38"
      },
      "source": [
        "all_revenue = df['Сумма за месяц, руб.'].sum()\n",
        "\n",
        "\n",
        "def func_pct(pct):\n",
        "    value = float(pct/100.*all_revenue)\n",
        "    return \"{:.2f}%\\n({:,.0f} руб.)\".format(pct, value)\n",
        "\n",
        "explode = (0.05, 0) \n",
        "\n",
        "axes = df.groupby('Тариф')['Сумма за месяц, руб.'].sum().plot(kind='pie', subplots=True, fontsize=15,\n",
        "                                                                     use_index=False, shadow=True, explode=explode,\n",
        "                                                                     title = 'Выручка', pctdistance=0.45,\n",
        "                                                                     startangle=20, figsize=(20,5),\n",
        "                                                                     autopct=lambda pct: func_pct(pct))\n",
        "\n",
        "for ax in axes:\n",
        "    ax.legend(['Смарт', 'Ультра'], bbox_to_anchor=(0.87,0.87), framealpha=0.2, prop={'size':12})\n",
        "    ax.set_ylabel('')\n",
        "    \n",
        "ax.title.set_size(40)\n",
        "plt.tight_layout(pad=0)"
      ],
      "execution_count": 77,
      "outputs": [
        {
          "output_type": "display_data",
          "data": {
            "image/png": "[encoded data removed]",
            "text/plain": [
              "<Figure size 1440x360 with 1 Axes>"
            ]
          },
          "metadata": {}
        }
      ]
    },
    {
      "cell_type": "markdown",
      "metadata": {
        "id": "vUHe6K6WnI7K"
      },
      "source": [
        "**Вывод**\n"
      ]
    },
    {
      "cell_type": "markdown",
      "metadata": {
        "id": "Qz4fAljznI7K"
      },
      "source": [
        "Тариф Смарт приносит около 58.6% всей выручки, но при этом на него приходится 2200 пользователей. Тариф Ультра дает остальные 41.4%, но эту выручку генерируют всего 1000 пользователей.\n",
        "Среднему пользователю тарифа Смарт не хватает 2 Гб интернета к заложенными в абонентскую плату 15 Гб и ему приходится дозаказывать эти 2 Гб и доплачивать за них 400 рублей.\n",
        "Если рассматривать только тех пользователей Смарт, кто вылезает за лимиты по интернет-трафику, то средний размер доп. заказа интернет-трафика равен 3 Гб, за которые они платят 600 рублей.\n",
        "Таким образом, в тарифной сетке есть дешевый тариф Смарт за 550 рублей, где пользователю не хватает интернета и количество использованных минут разговора на грани лимита (418 мин из 500), и есть тариф Ультра, стоимостью 1950 рублей, которым пользуется уже другой класс граждан, где лимитов по всем типам связи предостаточно (иногда дозаказывают в среднем 1 Гб интернета).\n",
        "\n",
        "\"Мегалайну\" надо подумать и выработать промежуточное решение, которое позволяло бы клиенту более комфортно, без доп. заказов, пользоваться услугами связи (особенно мобильным интернетом), при этом по цене являлось бы промежуточным вариантом между текущими Смарт и Ультра. Учитывая то, что средний пользователь тарифа Смарт дозаказывает 2 Гб на 400 рублей, т.е. платит в итоге 550 + 400 = 950 рублей за месяц, это значит, что эти деньги клиент готов тратить в месяц в качестве абонентской платы. Например, можно рассмотреть вариант создания тарифа, в дополнение к текущим, под названием \" Смарт Ультра\", который был бы создан на основе тарифа Смарт, но с пакетом интернет-трафика в 20 Гб и стоимостью 950 рублей. Для большего привлечения внимания к тарифу можно расширить пакет минут и пакет СМС с 500-50 до 750 и 100 соответственно. Компания в плане выручки не потеряет, т.к. средний пользователь не дозаказывает эти услуги, но при этом заставит выглядеть предложение выгодней."
      ]
    }
  ]
}