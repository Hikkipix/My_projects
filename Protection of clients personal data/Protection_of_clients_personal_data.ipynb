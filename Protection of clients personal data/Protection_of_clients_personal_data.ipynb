{
  "nbformat": 4,
  "nbformat_minor": 0,
  "metadata": {
    "ExecuteTimeLog": [
      {
        "duration": 999,
        "start_time": "2021-09-19T12:05:34.319Z"
      },
      {
        "duration": 53,
        "start_time": "2021-09-19T12:05:35.970Z"
      },
      {
        "duration": 4,
        "start_time": "2021-09-19T12:05:36.836Z"
      },
      {
        "duration": 53,
        "start_time": "2021-09-19T12:05:37.383Z"
      },
      {
        "duration": 3,
        "start_time": "2021-09-19T12:05:37.744Z"
      },
      {
        "duration": 15,
        "start_time": "2021-09-19T12:05:37.903Z"
      },
      {
        "duration": 7,
        "start_time": "2021-09-19T12:05:41.468Z"
      },
      {
        "duration": 3,
        "start_time": "2021-09-19T12:05:41.816Z"
      },
      {
        "duration": 3,
        "start_time": "2021-09-19T12:05:42.148Z"
      },
      {
        "duration": 4,
        "start_time": "2021-09-19T12:05:42.483Z"
      },
      {
        "duration": 3,
        "start_time": "2021-09-19T12:05:42.826Z"
      },
      {
        "duration": 7,
        "start_time": "2021-09-19T12:05:44.210Z"
      },
      {
        "duration": 6,
        "start_time": "2021-09-19T12:05:45.406Z"
      },
      {
        "duration": 5,
        "start_time": "2021-09-19T12:05:45.768Z"
      },
      {
        "duration": 11,
        "start_time": "2021-09-19T12:05:45.968Z"
      },
      {
        "duration": 13,
        "start_time": "2021-09-19T12:05:46.153Z"
      }
    ],
    "colab": {
      "name": "Protection of clients personal data.ipynb",
      "provenance": [],
      "collapsed_sections": []
    },
    "kernelspec": {
      "display_name": "Python 3",
      "language": "python",
      "name": "python3"
    },
    "language_info": {
      "codemirror_mode": {
        "name": "ipython",
        "version": 3
      },
      "file_extension": ".py",
      "mimetype": "text/x-python",
      "name": "python",
      "nbconvert_exporter": "python",
      "pygments_lexer": "ipython3",
      "version": "3.7.8"
    },
    "toc": {
      "base_numbering": 1,
      "nav_menu": {},
      "number_sections": true,
      "sideBar": true,
      "skip_h1_title": true,
      "title_cell": "Содержание",
      "title_sidebar": "Contents",
      "toc_cell": true,
      "toc_position": {},
      "toc_section_display": true,
      "toc_window_display": false
    }
  },
  "cells": [
    {
      "cell_type": "markdown",
      "metadata": {
        "id": "oqChBOPQ8OFC"
      },
      "source": [
        "## Загрузка данных"
      ]
    },
    {
      "cell_type": "code",
      "metadata": {
        "id": "BN0AN62V8OFD"
      },
      "source": [
        "import pandas as pd\n",
        "import numpy as np\n",
        "from sklearn.model_selection import train_test_split\n",
        "from sklearn.linear_model import LinearRegression\n",
        "from sklearn.metrics import r2_score, mean_squared_error"
      ],
      "execution_count": null,
      "outputs": []
    },
    {
      "cell_type": "code",
      "metadata": {
        "id": "f7Z5eMJvDcsO"
      },
      "source": [
        "data = pd.read_csv('insurance.csv')"
      ],
      "execution_count": null,
      "outputs": []
    },
    {
      "cell_type": "code",
      "metadata": {
        "id": "-WIkKl-xEKy3"
      },
      "source": [
        "def gigo(data):\n",
        "      for column in data.columns:\n",
        "        print('Уникальные значения столбца', column)\n",
        "        print(data[column].value_counts())\n",
        "      print('Количество пропусков')    \n",
        "      print(data.isna().sum())\n",
        "      print('Количество дубликатов')    \n",
        "      print(data.duplicated().sum())\n",
        "def info(data):\n",
        "    display(data.describe())\n",
        "    data.info()\n",
        "    display(data)"
      ],
      "execution_count": null,
      "outputs": []
    },
    {
      "cell_type": "code",
      "metadata": {
        "colab": {
          "base_uri": "https://localhost:8080/",
          "height": 1000
        },
        "id": "F5wvMENCFV0h",
        "outputId": "ec367c3e-09d7-45c2-da7f-4c7cd13fd073"
      },
      "source": [
        "gigo(data)\n",
        "info(data)"
      ],
      "execution_count": null,
      "outputs": [
        {
          "name": "stdout",
          "output_type": "stream",
          "text": [
            "Уникальные значения столбца Пол\n",
            "0    2505\n",
            "1    2495\n",
            "Name: Пол, dtype: int64\n",
            "Уникальные значения столбца Возраст\n",
            "19.0    223\n",
            "25.0    214\n",
            "31.0    212\n",
            "26.0    211\n",
            "22.0    209\n",
            "27.0    209\n",
            "32.0    206\n",
            "28.0    204\n",
            "29.0    203\n",
            "30.0    202\n",
            "23.0    202\n",
            "21.0    200\n",
            "20.0    195\n",
            "36.0    193\n",
            "33.0    191\n",
            "24.0    182\n",
            "35.0    179\n",
            "34.0    177\n",
            "37.0    147\n",
            "39.0    141\n",
            "38.0    139\n",
            "41.0    129\n",
            "18.0    117\n",
            "40.0    114\n",
            "42.0     93\n",
            "43.0     77\n",
            "44.0     74\n",
            "45.0     73\n",
            "46.0     60\n",
            "47.0     47\n",
            "49.0     37\n",
            "50.0     27\n",
            "48.0     26\n",
            "52.0     22\n",
            "51.0     21\n",
            "53.0     11\n",
            "55.0      9\n",
            "54.0      7\n",
            "56.0      5\n",
            "59.0      3\n",
            "60.0      2\n",
            "58.0      2\n",
            "57.0      2\n",
            "62.0      1\n",
            "65.0      1\n",
            "61.0      1\n",
            "Name: Возраст, dtype: int64\n",
            "Уникальные значения столбца Зарплата\n",
            "45800.0    29\n",
            "37100.0    28\n",
            "43200.0    27\n",
            "41500.0    27\n",
            "46800.0    26\n",
            "           ..\n",
            "68900.0     1\n",
            "59700.0     1\n",
            "59000.0     1\n",
            "68000.0     1\n",
            "64400.0     1\n",
            "Name: Зарплата, Length: 524, dtype: int64\n",
            "Уникальные значения столбца Члены семьи\n",
            "1    1814\n",
            "0    1513\n",
            "2    1071\n",
            "3     439\n",
            "4     124\n",
            "5      32\n",
            "6       7\n",
            "Name: Члены семьи, dtype: int64\n",
            "Уникальные значения столбца Страховые выплаты\n",
            "0    4436\n",
            "1     423\n",
            "2     115\n",
            "3      18\n",
            "4       7\n",
            "5       1\n",
            "Name: Страховые выплаты, dtype: int64\n",
            "Количество пропусков\n",
            "Пол                  0\n",
            "Возраст              0\n",
            "Зарплата             0\n",
            "Члены семьи          0\n",
            "Страховые выплаты    0\n",
            "dtype: int64\n",
            "Количество дубликатов\n",
            "153\n"
          ]
        },
        {
          "data": {
            "text/html": [
              "<div>\n",
              "<style scoped>\n",
              "    .dataframe tbody tr th:only-of-type {\n",
              "        vertical-align: middle;\n",
              "    }\n",
              "\n",
              "    .dataframe tbody tr th {\n",
              "        vertical-align: top;\n",
              "    }\n",
              "\n",
              "    .dataframe thead th {\n",
              "        text-align: right;\n",
              "    }\n",
              "</style>\n",
              "<table border=\"1\" class=\"dataframe\">\n",
              "  <thead>\n",
              "    <tr style=\"text-align: right;\">\n",
              "      <th></th>\n",
              "      <th>Пол</th>\n",
              "      <th>Возраст</th>\n",
              "      <th>Зарплата</th>\n",
              "      <th>Члены семьи</th>\n",
              "      <th>Страховые выплаты</th>\n",
              "    </tr>\n",
              "  </thead>\n",
              "  <tbody>\n",
              "    <tr>\n",
              "      <td>count</td>\n",
              "      <td>5000.000000</td>\n",
              "      <td>5000.000000</td>\n",
              "      <td>5000.000000</td>\n",
              "      <td>5000.000000</td>\n",
              "      <td>5000.000000</td>\n",
              "    </tr>\n",
              "    <tr>\n",
              "      <td>mean</td>\n",
              "      <td>0.499000</td>\n",
              "      <td>30.952800</td>\n",
              "      <td>39916.360000</td>\n",
              "      <td>1.194200</td>\n",
              "      <td>0.148000</td>\n",
              "    </tr>\n",
              "    <tr>\n",
              "      <td>std</td>\n",
              "      <td>0.500049</td>\n",
              "      <td>8.440807</td>\n",
              "      <td>9900.083569</td>\n",
              "      <td>1.091387</td>\n",
              "      <td>0.463183</td>\n",
              "    </tr>\n",
              "    <tr>\n",
              "      <td>min</td>\n",
              "      <td>0.000000</td>\n",
              "      <td>18.000000</td>\n",
              "      <td>5300.000000</td>\n",
              "      <td>0.000000</td>\n",
              "      <td>0.000000</td>\n",
              "    </tr>\n",
              "    <tr>\n",
              "      <td>25%</td>\n",
              "      <td>0.000000</td>\n",
              "      <td>24.000000</td>\n",
              "      <td>33300.000000</td>\n",
              "      <td>0.000000</td>\n",
              "      <td>0.000000</td>\n",
              "    </tr>\n",
              "    <tr>\n",
              "      <td>50%</td>\n",
              "      <td>0.000000</td>\n",
              "      <td>30.000000</td>\n",
              "      <td>40200.000000</td>\n",
              "      <td>1.000000</td>\n",
              "      <td>0.000000</td>\n",
              "    </tr>\n",
              "    <tr>\n",
              "      <td>75%</td>\n",
              "      <td>1.000000</td>\n",
              "      <td>37.000000</td>\n",
              "      <td>46600.000000</td>\n",
              "      <td>2.000000</td>\n",
              "      <td>0.000000</td>\n",
              "    </tr>\n",
              "    <tr>\n",
              "      <td>max</td>\n",
              "      <td>1.000000</td>\n",
              "      <td>65.000000</td>\n",
              "      <td>79000.000000</td>\n",
              "      <td>6.000000</td>\n",
              "      <td>5.000000</td>\n",
              "    </tr>\n",
              "  </tbody>\n",
              "</table>\n",
              "</div>"
            ],
            "text/plain": [
              "               Пол      Возраст      Зарплата  Члены семьи  Страховые выплаты\n",
              "count  5000.000000  5000.000000   5000.000000  5000.000000        5000.000000\n",
              "mean      0.499000    30.952800  39916.360000     1.194200           0.148000\n",
              "std       0.500049     8.440807   9900.083569     1.091387           0.463183\n",
              "min       0.000000    18.000000   5300.000000     0.000000           0.000000\n",
              "25%       0.000000    24.000000  33300.000000     0.000000           0.000000\n",
              "50%       0.000000    30.000000  40200.000000     1.000000           0.000000\n",
              "75%       1.000000    37.000000  46600.000000     2.000000           0.000000\n",
              "max       1.000000    65.000000  79000.000000     6.000000           5.000000"
            ]
          },
          "metadata": {},
          "output_type": "display_data"
        },
        {
          "name": "stdout",
          "output_type": "stream",
          "text": [
            "<class 'pandas.core.frame.DataFrame'>\n",
            "RangeIndex: 5000 entries, 0 to 4999\n",
            "Data columns (total 5 columns):\n",
            "Пол                  5000 non-null int64\n",
            "Возраст              5000 non-null float64\n",
            "Зарплата             5000 non-null float64\n",
            "Члены семьи          5000 non-null int64\n",
            "Страховые выплаты    5000 non-null int64\n",
            "dtypes: float64(2), int64(3)\n",
            "memory usage: 195.4 KB\n"
          ]
        },
        {
          "data": {
            "text/html": [
              "<div>\n",
              "<style scoped>\n",
              "    .dataframe tbody tr th:only-of-type {\n",
              "        vertical-align: middle;\n",
              "    }\n",
              "\n",
              "    .dataframe tbody tr th {\n",
              "        vertical-align: top;\n",
              "    }\n",
              "\n",
              "    .dataframe thead th {\n",
              "        text-align: right;\n",
              "    }\n",
              "</style>\n",
              "<table border=\"1\" class=\"dataframe\">\n",
              "  <thead>\n",
              "    <tr style=\"text-align: right;\">\n",
              "      <th></th>\n",
              "      <th>Пол</th>\n",
              "      <th>Возраст</th>\n",
              "      <th>Зарплата</th>\n",
              "      <th>Члены семьи</th>\n",
              "      <th>Страховые выплаты</th>\n",
              "    </tr>\n",
              "  </thead>\n",
              "  <tbody>\n",
              "    <tr>\n",
              "      <td>0</td>\n",
              "      <td>1</td>\n",
              "      <td>41.0</td>\n",
              "      <td>49600.0</td>\n",
              "      <td>1</td>\n",
              "      <td>0</td>\n",
              "    </tr>\n",
              "    <tr>\n",
              "      <td>1</td>\n",
              "      <td>0</td>\n",
              "      <td>46.0</td>\n",
              "      <td>38000.0</td>\n",
              "      <td>1</td>\n",
              "      <td>1</td>\n",
              "    </tr>\n",
              "    <tr>\n",
              "      <td>2</td>\n",
              "      <td>0</td>\n",
              "      <td>29.0</td>\n",
              "      <td>21000.0</td>\n",
              "      <td>0</td>\n",
              "      <td>0</td>\n",
              "    </tr>\n",
              "    <tr>\n",
              "      <td>3</td>\n",
              "      <td>0</td>\n",
              "      <td>21.0</td>\n",
              "      <td>41700.0</td>\n",
              "      <td>2</td>\n",
              "      <td>0</td>\n",
              "    </tr>\n",
              "    <tr>\n",
              "      <td>4</td>\n",
              "      <td>1</td>\n",
              "      <td>28.0</td>\n",
              "      <td>26100.0</td>\n",
              "      <td>0</td>\n",
              "      <td>0</td>\n",
              "    </tr>\n",
              "    <tr>\n",
              "      <td>...</td>\n",
              "      <td>...</td>\n",
              "      <td>...</td>\n",
              "      <td>...</td>\n",
              "      <td>...</td>\n",
              "      <td>...</td>\n",
              "    </tr>\n",
              "    <tr>\n",
              "      <td>4995</td>\n",
              "      <td>0</td>\n",
              "      <td>28.0</td>\n",
              "      <td>35700.0</td>\n",
              "      <td>2</td>\n",
              "      <td>0</td>\n",
              "    </tr>\n",
              "    <tr>\n",
              "      <td>4996</td>\n",
              "      <td>0</td>\n",
              "      <td>34.0</td>\n",
              "      <td>52400.0</td>\n",
              "      <td>1</td>\n",
              "      <td>0</td>\n",
              "    </tr>\n",
              "    <tr>\n",
              "      <td>4997</td>\n",
              "      <td>0</td>\n",
              "      <td>20.0</td>\n",
              "      <td>33900.0</td>\n",
              "      <td>2</td>\n",
              "      <td>0</td>\n",
              "    </tr>\n",
              "    <tr>\n",
              "      <td>4998</td>\n",
              "      <td>1</td>\n",
              "      <td>22.0</td>\n",
              "      <td>32700.0</td>\n",
              "      <td>3</td>\n",
              "      <td>0</td>\n",
              "    </tr>\n",
              "    <tr>\n",
              "      <td>4999</td>\n",
              "      <td>1</td>\n",
              "      <td>28.0</td>\n",
              "      <td>40600.0</td>\n",
              "      <td>1</td>\n",
              "      <td>0</td>\n",
              "    </tr>\n",
              "  </tbody>\n",
              "</table>\n",
              "<p>5000 rows × 5 columns</p>\n",
              "</div>"
            ],
            "text/plain": [
              "      Пол  Возраст  Зарплата  Члены семьи  Страховые выплаты\n",
              "0       1     41.0   49600.0            1                  0\n",
              "1       0     46.0   38000.0            1                  1\n",
              "2       0     29.0   21000.0            0                  0\n",
              "3       0     21.0   41700.0            2                  0\n",
              "4       1     28.0   26100.0            0                  0\n",
              "...   ...      ...       ...          ...                ...\n",
              "4995    0     28.0   35700.0            2                  0\n",
              "4996    0     34.0   52400.0            1                  0\n",
              "4997    0     20.0   33900.0            2                  0\n",
              "4998    1     22.0   32700.0            3                  0\n",
              "4999    1     28.0   40600.0            1                  0\n",
              "\n",
              "[5000 rows x 5 columns]"
            ]
          },
          "metadata": {},
          "output_type": "display_data"
        }
      ]
    },
    {
      "cell_type": "markdown",
      "metadata": {
        "id": "sZ-e6sNyFc2o"
      },
      "source": [
        "Нет пропущенных значений, так же распределение и отклонения в норме, хотя в столбце страховых выплат видно, что большая часть не имела выплат. Нет других аномалий.\n",
        "\n",
        "Единственное что хочется сделать - это удалить дубликаты и для удобства привести значения столбцов в целочисленный вид.\n"
      ]
    },
    {
      "cell_type": "code",
      "metadata": {
        "id": "9mrHJOaBKiKk"
      },
      "source": [
        "def clean_n_(data):\n",
        "      for column in data.columns:\n",
        "        data[column] = pd.to_numeric(data[column], downcast='integer')\n",
        "      data = data.drop_duplicates()\n",
        "      print('Инфо') \n",
        "      data.info()\n",
        "      print('Количество пропусков', data.duplicated().sum()) \n",
        "      "
      ],
      "execution_count": null,
      "outputs": []
    },
    {
      "cell_type": "code",
      "metadata": {
        "colab": {
          "base_uri": "https://localhost:8080/"
        },
        "id": "raxD77c4KiZS",
        "outputId": "148e1273-4380-4ed3-a332-a0b98b97df57"
      },
      "source": [
        "clean_n_(data)"
      ],
      "execution_count": null,
      "outputs": [
        {
          "name": "stdout",
          "output_type": "stream",
          "text": [
            "Инфо\n",
            "<class 'pandas.core.frame.DataFrame'>\n",
            "Int64Index: 4847 entries, 0 to 4999\n",
            "Data columns (total 5 columns):\n",
            "Пол                  4847 non-null int8\n",
            "Возраст              4847 non-null int8\n",
            "Зарплата             4847 non-null float64\n",
            "Члены семьи          4847 non-null int8\n",
            "Страховые выплаты    4847 non-null int8\n",
            "dtypes: float64(1), int8(4)\n",
            "memory usage: 94.7 KB\n",
            "Количество пропусков 0\n"
          ]
        }
      ]
    },
    {
      "cell_type": "markdown",
      "metadata": {
        "id": "ZJ7qR3T-Fk3u"
      },
      "source": [
        "## Вывод "
      ]
    },
    {
      "cell_type": "markdown",
      "metadata": {
        "id": "V1dimRU8F_D_"
      },
      "source": [
        "Всё чисто, можем двигаться дальше.\n"
      ]
    },
    {
      "cell_type": "markdown",
      "metadata": {
        "id": "5ypJobkR8OFE"
      },
      "source": [
        "## Умножение матриц"
      ]
    },
    {
      "cell_type": "markdown",
      "metadata": {
        "id": "oYRRO1sDN8Kx"
      },
      "source": [
        "**Вопрос:** Признаки умножают на обратимую матрицу. Изменится ли качество линейной регрессии?"
      ]
    },
    {
      "cell_type": "markdown",
      "metadata": {
        "id": "bqPCwVzr8OFI"
      },
      "source": [
        "**Ответ:** нет, качество не изменится.\n"
      ]
    },
    {
      "cell_type": "markdown",
      "metadata": {
        "id": "l0yToaEKO0BO"
      },
      "source": [
        "\n",
        "**Обоснование:**"
      ]
    },
    {
      "cell_type": "markdown",
      "metadata": {
        "id": "945izOYY8OFG"
      },
      "source": [
        "Обозначения:\n",
        "\n",
        "- $X$ — матрица признаков (нулевой столбец состоит из единиц)\n",
        "\n",
        "- $y$ — вектор целевого признака\n",
        "\n",
        "- $Z$ — матрица, на которую умножаются признаки\n",
        "\n",
        "- $w$ — вектор весов линейной регрессии (нулевой элемент равен сдвигу)"
      ]
    },
    {
      "cell_type": "markdown",
      "metadata": {
        "id": "q2K_T0Qq8OFH"
      },
      "source": [
        "Предсказания:\n",
        "\n",
        "$$\n",
        "a = Xw\n",
        "$$\n",
        "\n",
        "Задача обучения:\n",
        "\n",
        "$$\n",
        "w = \\arg\\min_w MSE(Xw, y)\n",
        "$$\n",
        "\n",
        "Формула обучения:\n",
        "\n",
        "$$\n",
        "w = (X^T X)^{-1} X^T y\n",
        "$$"
      ]
    },
    {
      "cell_type": "markdown",
      "metadata": {
        "id": "Q9OoCy2QOQMq"
      },
      "source": [
        "Пусть $Z$ обратимая, квадратная матрица, размер которой равен ширине Х\n",
        "\n",
        "Тогда новая матрица признаков будет равна:\n",
        "\n",
        "$$\n",
        "X' = XZ\n",
        "$$\n",
        "\n",
        "И формула вектора:\n",
        "\n",
        "$$\n",
        "w' = \\arg\\min_w MSE(XZ, y)\n",
        "$$\n",
        " \n",
        "\n",
        "Тогда новая формула обучения выглядит так:\n",
        "\n",
        "$$\n",
        "w' = ((XZ)^T XZ)^{-1} (XZ)^T y\n",
        "$$\n",
        " \n",
        " \n",
        "Значит можем раскрыть скобки в согласии со свойством обратных матриц:\n",
        "\n",
        "$$\n",
        "w' = Z^{-1}((XZ)^T X)^{-1} (XZ)^T y\n",
        "$$\n",
        "\n",
        "Далее раскроем скобки с транспонированием:\n",
        "\n",
        "$$\n",
        "w' = Z^{-1}(X^TZ^T X)^{-1} X^TZ^T y\n",
        "$$\n",
        "\n",
        "Из свойства обратных матриц знаем что можем вынести за скобки $(Z^T..)^{-1}$:\n",
        "\n",
        "$$\n",
        "w' = Z^{-1}(X^T X)^{-1} (Z^T)^{-1}X^TZ^T y\n",
        "$$\n",
        "\n",
        "Сократим $(Z^{T})^{-1} Z^T$:\n",
        "\n",
        "$$\n",
        "w' = Z^{-1}(X^T X)^{-1} X^T y \n",
        "$$\n",
        "\n",
        "Подставим вместо выражения $ (X^T X)^{-1} X^T y $ — тождественное ему $ w $ по формуле обучения, получаем:\n",
        "\n",
        "$$\n",
        "w' = Z^{-1}w \n",
        "$$\n",
        "\n",
        "Теперь подставим это в формулу для нахождения $ a' = X'w'$ и получим:\n",
        "\n",
        "$$\n",
        "a' = X'Z^{-1}w\n",
        "$$\n",
        "\n",
        "Также можем заменить значение новой матрицы на выражение из формулы $ X' = XZ$:\n",
        "\n",
        "$$\n",
        "a' = XZZ^{-1}w \n",
        "$$\n",
        "\n",
        "$ ZZ^{-1} $ взаимно устраняются:\n",
        "\n",
        "$$\n",
        "a' = Xw\n",
        "$$\n",
        "\n",
        "А значит:\n",
        "\n",
        "$$\n",
        "a' = a\n",
        "$$\n",
        "\n"
      ]
    },
    {
      "cell_type": "markdown",
      "metadata": {
        "id": "jJ3QGZLFFtl3"
      },
      "source": [
        "## Вывод "
      ]
    },
    {
      "cell_type": "markdown",
      "metadata": {
        "id": "4amXjrKNGACg"
      },
      "source": [
        "По итогу мы уверенно доказали,что качество линейной регрессии при умножении матрицы на обратимую, квадратную матрицу не изменится.\n",
        "\n",
        "Чтобы защитить данные и не потерять качество модели, далее применим этот алгоритм в преобразовании."
      ]
    },
    {
      "cell_type": "markdown",
      "metadata": {
        "id": "fO4ryfqY8OFJ"
      },
      "source": [
        "## Алгоритм преобразования"
      ]
    },
    {
      "cell_type": "markdown",
      "metadata": {
        "id": "MV_E1MFXGdEF"
      },
      "source": [
        "Нужно умножить признаки на обратимую матрицу. Для этого алгоритм преобразования данных должен содержать процесс создания подобной матрицы и ее умножения на матрицу признаков.\n",
        "\n",
        "Рандомная матрица должна иметь необходимую размерность $(nxn)$, где n - количество признаков для регрессии. Таким образом рандомная матрица будет иметь туже размерность, что и изначальная.\n",
        "\n",
        "Разделяя на этапы, алгоритм можно выразить так:\n",
        "\n",
        "- Разделим датафрейм на тренировочную и тестовую выборки\n",
        "- Перенесём признаки в матрицу\n",
        "- Создадим такую же по размерам рандомную матрицу\n",
        "- Проверим на обратимость\n",
        "- Создадим новые выборки через умножение признаков на обратимую матрицу\n",
        "- Расчитаем веса $w$ для исходных признаков\n",
        "- Вводим данные в линейную регрессию\n",
        "- Выводим предсказания\n",
        "- Определяем метрики R2 для двух моделей и сравниваем"
      ]
    },
    {
      "cell_type": "markdown",
      "metadata": {
        "id": "D4Zu8PhMFvMy"
      },
      "source": [
        "## Вывод обоснование"
      ]
    },
    {
      "cell_type": "markdown",
      "metadata": {
        "id": "jdf950eZGA32"
      },
      "source": [
        "Как уже отметили ранее – умножение матрицы на обратимую, квадратную матрицу не меняет качество модели, значит нам осталось настроить нашу модель так, чтобы она создавала рандомную матрицу, далее инвертировала для проверки на ошибку и после высчитывала весы и предсказания с поправкой,что данные зашифрованы."
      ]
    },
    {
      "cell_type": "markdown",
      "metadata": {
        "id": "OvBAG1Du8OFK"
      },
      "source": [
        "## Проверка алгоритма"
      ]
    },
    {
      "cell_type": "markdown",
      "metadata": {
        "id": "OxAZufCqO7gO"
      },
      "source": [
        "Разделим сперва датафрейм на тренировочную и тестовую выборки"
      ]
    },
    {
      "cell_type": "code",
      "metadata": {
        "id": "ERG8SZSaOc40"
      },
      "source": [
        "train, test = train_test_split(data, test_size = 0.4, random_state = 1234)\n",
        "test_target = test['Страховые выплаты']\n",
        "test_features = test.drop('Страховые выплаты', axis = 1)\n",
        "train_target = train['Страховые выплаты']\n",
        "train_features = train.drop('Страховые выплаты', axis = 1)"
      ],
      "execution_count": null,
      "outputs": []
    },
    {
      "cell_type": "markdown",
      "metadata": {
        "id": "Axf4zD-6P1M1"
      },
      "source": [
        "Перенесём признаки в матрицу"
      ]
    },
    {
      "cell_type": "code",
      "metadata": {
        "id": "wiMScF4XOdJc"
      },
      "source": [
        "train_mat = train_features.values\n",
        "test_mat = test_features.values"
      ],
      "execution_count": null,
      "outputs": []
    },
    {
      "cell_type": "markdown",
      "metadata": {
        "id": "-UiiPkrkP2M-"
      },
      "source": [
        "Создадим такую же по размерам рандомную матрицу"
      ]
    },
    {
      "cell_type": "code",
      "metadata": {
        "id": "_vwcU5U2OdlN"
      },
      "source": [
        "rand_mat = np.random.rand(4,4)"
      ],
      "execution_count": null,
      "outputs": []
    },
    {
      "cell_type": "markdown",
      "metadata": {
        "id": "bDcFGEZyRUbT"
      },
      "source": [
        "Проверим на обратимость"
      ]
    },
    {
      "cell_type": "code",
      "metadata": {
        "id": "ztCSpNsmRaVV"
      },
      "source": [
        "ver_mat = np.linalg.inv(rand_mat)"
      ],
      "execution_count": null,
      "outputs": []
    },
    {
      "cell_type": "markdown",
      "metadata": {
        "id": "4Q1vdk2nP303"
      },
      "source": [
        "Создадим новые выборки через умножение признаков на обратимую матрицу"
      ]
    },
    {
      "cell_type": "code",
      "metadata": {
        "id": "dcpZCMR8OeB7"
      },
      "source": [
        "test_features_2 = test_mat @ ver_mat\n",
        "train_features_2 = train_mat @ ver_mat"
      ],
      "execution_count": null,
      "outputs": []
    },
    {
      "cell_type": "markdown",
      "metadata": {
        "id": "hKqdBCOcP454"
      },
      "source": [
        "Обучение на обычных данных"
      ]
    },
    {
      "cell_type": "code",
      "metadata": {
        "colab": {
          "base_uri": "https://localhost:8080/"
        },
        "id": "Xi3hS8utOpAd",
        "outputId": "e163f509-0853-40c9-9449-6b4e9c3d14c4"
      },
      "source": [
        "model = LinearRegression()\n",
        "model.fit(train_features, train_target)\n",
        "prediction = model.predict(test_features)\n",
        "r2_score(test_target, prediction)"
      ],
      "execution_count": null,
      "outputs": [
        {
          "data": {
            "text/plain": [
              "0.42210110961501923"
            ]
          },
          "execution_count": 12,
          "metadata": {},
          "output_type": "execute_result"
        }
      ]
    },
    {
      "cell_type": "markdown",
      "metadata": {
        "id": "9G0ZKZ0qP5fy"
      },
      "source": [
        "Обучение на новой выборке"
      ]
    },
    {
      "cell_type": "code",
      "metadata": {
        "colab": {
          "base_uri": "https://localhost:8080/"
        },
        "id": "pJBmkOKsOpP3",
        "outputId": "ad80dddc-00a0-40be-a326-94f5e9e1f8d4"
      },
      "source": [
        "model_2 = LinearRegression()\n",
        "model_2.fit(train_features_2, train_target)\n",
        "predictions = model_2.predict(test_features_2)\n",
        "r2_score(test_target, predictions)"
      ],
      "execution_count": null,
      "outputs": [
        {
          "data": {
            "text/plain": [
              "0.42210110961493774"
            ]
          },
          "execution_count": 13,
          "metadata": {},
          "output_type": "execute_result"
        }
      ]
    },
    {
      "cell_type": "markdown",
      "metadata": {
        "id": "orJwHMRGGdEI"
      },
      "source": [
        "Видим, что качество не изменилось. Через создание специального класса для алгоритма, выведем так же R2 и сравним"
      ]
    },
    {
      "cell_type": "code",
      "metadata": {
        "id": "zNO-ynnub26k"
      },
      "source": [
        "class ModelX:\n",
        "    def fit(self, train_features, train_target):\n",
        "        self.P = np.linalg.inv(np.random.rand(4,4))\n",
        "        self.Z = train_features @ self.P\n",
        "        X = np.concatenate((np.ones((self.Z.shape[0], 1)), self.Z), axis=1)\n",
        "        y = train_target\n",
        "        w = ((np.linalg.inv(X.T.dot(X))) @ X.T) @ y\n",
        "        self.w = w[1:]\n",
        "        self.w0 = w[0]\n",
        "    def predict(self, test_features):\n",
        "        return (test_features @ self.P) @ self.w + self.w0"
      ],
      "execution_count": null,
      "outputs": []
    },
    {
      "cell_type": "code",
      "metadata": {
        "colab": {
          "base_uri": "https://localhost:8080/"
        },
        "id": "c5Lhv608b5X9",
        "outputId": "dd2e05cf-7d2e-46d2-8768-252ce9462201"
      },
      "source": [
        "model = ModelX()\n",
        "model.fit(train_features, train_target)\n",
        "predictions = model.predict(test_features)\n",
        "print('R2 score', r2_score(test_target, predictions))"
      ],
      "execution_count": null,
      "outputs": [
        {
          "name": "stdout",
          "output_type": "stream",
          "text": [
            "R2 score 0.4221011130314618\n"
          ]
        }
      ]
    },
    {
      "cell_type": "code",
      "metadata": {
        "colab": {
          "base_uri": "https://localhost:8080/"
        },
        "id": "0nXCkV4k8OFL",
        "outputId": "fdcd85fa-763c-4594-d1aa-bb1a36c8f04f"
      },
      "source": [
        "model_l = LinearRegression()\n",
        "model_l.fit(train_features, train_target)\n",
        "prediction_l = model_l.predict(test_features)\n",
        "print('R2 score on LinearRegression:', r2_score(test_target, prediction_l))\n",
        "\n",
        "model_o = ModelX()\n",
        "model_o.fit(train_features, train_target)\n",
        "prediction_o = model_o.predict(test_features)\n",
        "print('R2 score on our model:', r2_score(test_target, prediction_o))"
      ],
      "execution_count": null,
      "outputs": [
        {
          "name": "stdout",
          "output_type": "stream",
          "text": [
            "R2 score on LinearRegression: 0.42210110961501923\n",
            "R2 score on our model: 0.4221011080153322\n"
          ]
        }
      ]
    },
    {
      "cell_type": "markdown",
      "metadata": {
        "id": "-FQitGDwk0df"
      },
      "source": [
        "Модель справилась и результат R2 в случае с проебразованием, так и без преобразования будет схожим."
      ]
    },
    {
      "cell_type": "markdown",
      "metadata": {
        "id": "8by5scRAFwfj"
      },
      "source": [
        "## Вывод "
      ]
    },
    {
      "cell_type": "markdown",
      "metadata": {
        "id": "jdlMsUchGBdr"
      },
      "source": [
        "Видим, что преобразованные данные схожи с результатами исходных данных. Можно сказать, что таким образом мы достаточно защитим чувствительную информацию о пользователях страховой фирмы в это же время сохраняя качество модели."
      ]
    },
    {
      "cell_type": "markdown",
      "metadata": {
        "id": "JNZPEyHciU9p"
      },
      "source": [
        "# Итоговый вывод"
      ]
    },
    {
      "cell_type": "markdown",
      "metadata": {
        "id": "VY0QX82ZiM7D"
      },
      "source": [
        "\n",
        "Что мы сделали:\n",
        "\n",
        "- Загрузили данные, изучили их, проверили на аномалии, скорректировали тип и избавились от дубликатов.\n",
        "- Разобрались в том, что качество линейной регресии не зависит от умножения матрицы на обратную.\n",
        "- На основе выводов об умножении матриц построили алгоритм защиты данных.\n",
        "- Проведено сравнение метрики R2 у моделей с преобразованием и без.\n",
        "\n",
        "По итогу проведённого исследования у нас получилось зашифровать данные таким образом, что это реализуется достаточно просто, в то же время тяжело распознаётся со стороны может достигаться на исходной матрице и без потери качества."
      ]
    }
  ]
}